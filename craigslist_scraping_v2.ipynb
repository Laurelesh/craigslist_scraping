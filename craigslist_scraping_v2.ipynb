{
 "cells": [
  {
   "cell_type": "markdown",
   "metadata": {},
   "source": [
    "# import"
   ]
  },
  {
   "cell_type": "code",
   "execution_count": 1,
   "metadata": {},
   "outputs": [],
   "source": [
    "import numpy as np\n",
    "import pandas as pd\n",
    "import matplotlib.pyplot as plt\n",
    "import re\n",
    "import time\n",
    "from datetime import datetime\n",
    "from urllib.request import urlopen\n",
    "\n",
    "\n",
    "from bs4 import BeautifulSoup\n",
    "from requests import get\n"
   ]
  },
  {
   "cell_type": "code",
   "execution_count": null,
   "metadata": {},
   "outputs": [],
   "source": []
  },
  {
   "cell_type": "markdown",
   "metadata": {},
   "source": [
    "# scrape all pages"
   ]
  },
  {
   "cell_type": "code",
   "execution_count": 29,
   "metadata": {},
   "outputs": [],
   "source": [
    "def scrape_housing_data(url = \"https://sfbay.craigslist.org/search/apa?availabilityMode=0\", studiobedrooms = 1.0):\n",
    "    \n",
    "    \"\"\"\n",
    "    Args:\n",
    "        url: url of the webpage to scrape. Defaults to bay area craigslist.\n",
    "        \n",
    "    Returns:\n",
    "        dataframe with (almost) raw scraped data (with minor cleaning)\n",
    "    \n",
    "    \"\"\"\n",
    "    \n",
    "    html = urlopen(url)\n",
    "    soup = BeautifulSoup(html,'html')\n",
    "    \n",
    "\n",
    "    # define ranges\n",
    "    rangefrom=int(soup.find(class_=\"rangeFrom\").text)  # starting index for listings\n",
    "    rangeto=int(soup.find(class_=\"rangeTo\").text)  # ending index for listings\n",
    "    perpage = rangeto-rangefrom+1  # listings per page\n",
    "    totalcount = int(soup.find(class_=\"totalcount\").text)  # total number of listings\n",
    "    \n",
    "    \n",
    "    \n",
    "    #initialize lists of info:\n",
    "    links=[]  # url links for each listing\n",
    "    descs=[]  # description for each listing\n",
    "    prices=[]  # price for each listing\n",
    "    sqfeets=[]  # square feet for each listing\n",
    "    bedrooms = []  # number of bedrooms for each listing\n",
    "    hood=[]  # neighborhood for each listing\n",
    "\n",
    "    \n",
    "    #for each page, make a soup, and for each listing in that soup, append to each info list. \n",
    "    for i in range(0,totalcount,perpage):\n",
    "        url = \"https://sfbay.craigslist.org/search/apa?availabilityMode=0&s=\"+str(i)\n",
    "\n",
    "\n",
    "        response = get(url)\n",
    "        soup = BeautifulSoup(response.text,'html')\n",
    "        resultrows = soup.find_all(class_=\"result-row\");\n",
    "\n",
    "        ###\n",
    "        for row in resultrows:\n",
    "\n",
    "            #hyperlink:\n",
    "            linki = row.find(class_='result-title hdrlnk')['href']\n",
    "            links.append(linki)\n",
    "\n",
    "            #description (or title) of listing:\n",
    "            description = row.find(class_='result-title').text\n",
    "            descs.append(description)\n",
    "\n",
    "            #price:\n",
    "            try:\n",
    "                price=float(  re.compile('[\\d]+').search( row.find(class_='result-price').text   ).group()   )\n",
    "                prices.append(price)\n",
    "            except:\n",
    "                prices.append(np.NaN)\n",
    "\n",
    "            #number of bedrooms and square footage:\n",
    "            try:\n",
    "                housinginfo = row.find(class_='housing').text\n",
    "                #bedrooms:\n",
    "                try: #check whether # of bedrooms is given in the \"housing\" class:\n",
    "                    br = float(re.compile('\\d').search(  re.compile('\\dbr').search(housinginfo).group()  ).group()  ) #this mess pulls out number of bedrooms\n",
    "                except AttributeError: #if not, try to find bedroom number in description:\n",
    "                    try: \n",
    "                        br=re.compile('\\d').search(re.compile('(\\dbr|\\d-br|\\d\\sbr|\\dbdr|\\d-bdr|\\d\\sbedroom|\\d-bedroom)').search(description.lower()).group()).group()\n",
    "\n",
    "                    except: #or maybe the description says it's a studio:\n",
    "                        stud=re.compile('studio').search(description.lower())\n",
    "                        if stud is not None:\n",
    "                            br = studiobedrooms\n",
    "                        else:\n",
    "                            br=np.NaN\n",
    "                #square footage:\n",
    "                try: #check whether square footage is given in \"housing\" class:\n",
    "                    sqfeet = float(re.compile('[\\d]+').search( re.compile('[\\d]+ft2').search(housinginfo).group() ).group()   )\n",
    "                    sqfeets.append(sqfeet)\n",
    "                except AttributeError: #if not, mark \"nan\" and move on.\n",
    "                    sqfeets.append(np.NaN)\n",
    "            except AttributeError: #in case 'housing' class doesn't exist for the listing:\n",
    "                sqfeets.append(np.NaN) #give up on square footage\n",
    "                #\n",
    "                try: #try to find number of bedrooms in description:\n",
    "                    br=re.compile('\\d').search(re.compile('(\\dbr|\\d-br|\\d\\sbr|\\dbdr|\\d-bdr|\\d\\sbedroom|\\d-bedroom)').search(description.lower()).group()).group()\n",
    "                except: #if no appearance of \"br\" in description, look for \"studio\":\n",
    "                    stud=re.compile('studio').search(description.lower())\n",
    "                    if stud is not None:\n",
    "                        br = studiobedrooms\n",
    "                    else:\n",
    "                        br=np.NaN\n",
    "            finally: #br has now been defined, even if as \"nan\"\n",
    "                bedrooms.append(float(br))\n",
    "\n",
    "\n",
    "            #neighborhood\n",
    "            try:\n",
    "                nh = re.compile('[^)^(]+').search(  row.find(class_='result-hood').text.strip().lower()  ).group()        \n",
    "                hood.append(nh)\n",
    "            except:\n",
    "                hood.append(np.NaN)\n",
    "\n",
    "\n",
    "\n",
    "        time.sleep(3) #take a break before scraping the next page\n",
    "        \n",
    "    raw_scraped_data = pd.DataFrame({'url': links, 'description': descs, 'price': prices, 'square_feet': sqfeets, 'bedrooms': bedrooms, 'neighborhood': hood})\n",
    "    return raw_scraped_data\n"
   ]
  },
  {
   "cell_type": "code",
   "execution_count": 30,
   "metadata": {},
   "outputs": [],
   "source": [
    "raw_scraped_data = scrape_housing_data()"
   ]
  },
  {
   "cell_type": "code",
   "execution_count": null,
   "metadata": {},
   "outputs": [],
   "source": []
  },
  {
   "cell_type": "code",
   "execution_count": 59,
   "metadata": {},
   "outputs": [],
   "source": [
    "# # i think i'm not using this??\n",
    "\n",
    "# # when \"neighborhood\" is an address, extract just the city\n",
    "# def address_to_neighborhood(nh):\n",
    "\n",
    "#     \"\"\"\n",
    "#     Convert an input 'neighborhood' that may be a combination of neighborhoods, and may contain street address, into only neighborhoods.\n",
    "    \n",
    "#     Args:\n",
    "#         nh: a string, which may contain '/' and digits.\n",
    "        \n",
    "#     Returns:\n",
    "#         Only the pieces that contain no digits, separated by slashes if they were before:\n",
    "    \n",
    "#         e.g. \"2000 Market St., San Francisco/ Nob Hill\" would become 'Nob Hill', and \"San Francisco/ Nob Hill\" would become 'San Francisco/Nob Hill'    \n",
    "#     \"\"\"\n",
    "\n",
    "#     combohood = re.compile('/').search(nh)\n",
    "#     if combohood is not None: # i.e. if a slash appears in the neighborhood\n",
    "#         pieces= (re.compile(\"[^/]+\").findall(nh)) # list constituent neighborhoods\n",
    "#         pieces = [p.strip() for p in pieces if re.compile('[\\d]+').search(p)==None] # strip each entry, and include only if it contains no digits\n",
    "#         if 'downtown' in pieces:\n",
    "#             pieces.remove('downtown')  # remove if one of the \"neighborhoods\" is \"downtown\"\n",
    "\n",
    "#     return '/'.join(pieces)\n",
    "\n"
   ]
  },
  {
   "cell_type": "markdown",
   "metadata": {},
   "source": [
    "# cleaning"
   ]
  },
  {
   "cell_type": "markdown",
   "metadata": {},
   "source": [
    "## some test stuff (move later)"
   ]
  },
  {
   "cell_type": "code",
   "execution_count": 70,
   "metadata": {},
   "outputs": [],
   "source": [
    "import unittest\n",
    "\n",
    "class test_helpers(unittest.TestCase):\n",
    "    \n",
    "    \n",
    "    def test_address_to_neighborhood(self):\n",
    "\n",
    "        self.assertEqual( address_to_neighborhood('134 Mandela/Oakland / Berkeley/ San Francisco'), 'Oakland/Berkeley/San Francisco')\n",
    "    \n",
    "    "
   ]
  },
  {
   "cell_type": "code",
   "execution_count": null,
   "metadata": {},
   "outputs": [],
   "source": []
  },
  {
   "cell_type": "markdown",
   "metadata": {},
   "source": [
    "## given the dataframe, produce a cleaned list of the represented neighborhoods "
   ]
  },
  {
   "cell_type": "code",
   "execution_count": 343,
   "metadata": {},
   "outputs": [],
   "source": [
    "def get_cleaned_neighborhoods(scraped_data):\n",
    "    \n",
    "    \"\"\"\n",
    "    Produce a list from scraped_data['neighborhood'] with no null values, no street addresses, and no slashes, e.g. separate \"richmond/antioch\" to \"richmond\", \"antioch\"\n",
    "    \n",
    "    Args:\n",
    "        scraped_data: dataframe with a column 'neighborhood' containing strings and np.nan\n",
    "        \n",
    "    Returns:\n",
    "        list of strings\n",
    "    \n",
    "    \"\"\"\n",
    "    \n",
    "    raw_nh_list = [nh for nh in list(set(scraped_data['neighborhood'].dropna())) if re.compile('[\\d]').search(nh) is None]\n",
    "    \n",
    "    nested_nh_list = [nh.split('/') for nh in raw_nh_list]  # split on '/'\n",
    "    ## also split on ',' ?\n",
    "    nh_list = [x.strip().lower() for nh in nested_nh_list for x in nh]  # flatten the list\n",
    "    nh_list = [x for x in nh_list if re.compile('[\\d]').search(x) is None]  # lose the elements containing digits\n",
    "    nh_list = [x for x in nh_list if x != 'downtown'] # remove 'downtown'\n",
    "    return nh_list\n",
    "    \n",
    "    \n",
    "\n",
    "def extract_neighborhood(description, neighborhoods_list):\n",
    "    \n",
    "    \"\"\"\n",
    "    Search for any of the elements of neighborhoods_list in description.\n",
    "    \n",
    "    Args:\n",
    "        description: text string\n",
    "        neighborhoods_list: list of strings\n",
    "        \n",
    "    Returns:\n",
    "        the first element of neighborhoods_list that appears in desctription.\n",
    "    \n",
    "    \"\"\"\n",
    "    \n",
    "    description = description.lower()\n",
    "    neighborhoods_list = [x.lower() for x in neighborhoods_list]\n",
    "    \n",
    "    orhoods = r'(\\b'+(r'\\b|\\b'.join(neighborhoods_list))+r'\\b)'\n",
    "    \n",
    "    nh_in_description = re.compile(orhoods).search(description)\n",
    "    \n",
    "    if nh_in_description is not None:\n",
    "        nh = nh_in_description.group()\n",
    "#         print(f\"found {nh} in description {description}\")\n",
    "    else:\n",
    "        nh = np.nan\n",
    "        \n",
    "    return nh\n",
    "    \n",
    "\n",
    "def fill_neighborhood_from_description(scraped_data):\n",
    "    \n",
    "    \"\"\"\n",
    "    Operates on the full dataframe.\n",
    "    If missing data in 'neighborhood' column of scraped_data, check for 'neighborhood' from any row in 'description' column.\n",
    "    \n",
    "    Args:\n",
    "        scraped_data: dataframe, must have columns ['description', 'neighborhood']\n",
    "        \n",
    "    Returns:\n",
    "        copy of scraped_data with missing 'neighborhood' values filled using description, when possible.\n",
    "    \n",
    "    functional dependencies:\n",
    "        get_cleaned_neighborhoods\n",
    "        extract_neighborhood\n",
    "    \"\"\"\n",
    "    \n",
    "    df = scraped_data.copy()\n",
    "    \n",
    "    neighborhoods_list = get_cleaned_neighborhoods(scraped_data)\n",
    "#     neighborhoods_list = list(set(scraped_data['neighborhood'].dropna()))\n",
    "\n",
    "    \n",
    "    df['neighborhood'] = df.apply(lambda row: extract_neighborhood(row['description'], neighborhoods_list) if str(row['neighborhood'])=='nan' else row['neighborhood'], axis = 1)\n",
    "\n",
    "        \n",
    "    return df"
   ]
  },
  {
   "cell_type": "code",
   "execution_count": 295,
   "metadata": {},
   "outputs": [],
   "source": [
    "# filled_nh = fill_neighborhood(raw_scraped_data)"
   ]
  },
  {
   "cell_type": "code",
   "execution_count": 296,
   "metadata": {},
   "outputs": [],
   "source": [
    "# neighborhoods_list = list(set(raw_scraped_data['neighborhood'].dropna()))\n",
    "# description = raw_scraped_data.loc[62,'description']\n",
    "# extract_neighborhood(description, neighborhoods_list)\n"
   ]
  },
  {
   "cell_type": "code",
   "execution_count": 339,
   "metadata": {},
   "outputs": [],
   "source": [
    "# # inspect the rows of filled_nh that were missing neighborhood info in raw_scraped data, and note some are now filled:\n",
    "# filled_nh.loc[raw_scraped_data['neighborhood'].isna()]"
   ]
  },
  {
   "cell_type": "code",
   "execution_count": 286,
   "metadata": {},
   "outputs": [],
   "source": []
  },
  {
   "cell_type": "code",
   "execution_count": 344,
   "metadata": {},
   "outputs": [],
   "source": [
    "# nh_list = get_cleaned_neighborhoods(raw_scraped_data)"
   ]
  },
  {
   "cell_type": "code",
   "execution_count": 361,
   "metadata": {},
   "outputs": [],
   "source": [
    "def street_address_to_neighborhood(possible_street_address, neighborhoods_list):\n",
    "    \"\"\"\n",
    "    If possible_street_address is not contained in neighborhoods_list, return whichever part of it is (if any).\n",
    "    Args:\n",
    "        possble_street_address: string, possibly containing digits\n",
    "        neighborhoods_list\n",
    "    Returns:\n",
    "        string\n",
    "        \n",
    "    \"\"\"\n",
    "#     possible_street_address = possible_street_address.lower()\n",
    "    neighborhoods_list = [x.lower() for x in neighborhoods_list]\n",
    "    \n",
    "    orhoods = r'(\\b'+(r'\\b|\\b'.join(neighborhoods_list))+r'\\b)'\n",
    "\n",
    "    \n",
    "    if (possible_street_address not in neighborhoods_list) and (str(possible_street_address) != 'nan'):\n",
    "        \n",
    "        neighborhood_within_address = re.compile(orhoods).findall(possible_street_address.lower())\n",
    "        if neighborhood_within_address != []:\n",
    "            \n",
    "            return('/'.join(neighborhood_within_address))\n",
    "        \n",
    "        else:\n",
    "            return np.nan\n",
    "        \n",
    "    else:\n",
    "        return possible_street_address\n",
    "        \n"
   ]
  },
  {
   "cell_type": "code",
   "execution_count": 362,
   "metadata": {},
   "outputs": [],
   "source": [
    "# # test\n",
    "# street_address_to_neighborhood('132 Mandela Pkwy, Oakland hills', nh_list)\n",
    "# street_address_to_neighborhood('oakland hills', nh_list)"
   ]
  },
  {
   "cell_type": "code",
   "execution_count": 363,
   "metadata": {},
   "outputs": [],
   "source": [
    "def convert_street_addresses(scraped_data):\n",
    "    \n",
    "    \"\"\"\n",
    "    Operates on the full dataframe.\n",
    "    \n",
    "    If scraped_data['neighborhood'] is not in the cleaned list of neighborhoods (e.g. because it has digits in it),\n",
    "    check whether it contains any of the cleaned neighborhoods. If so, replace with that. If not, replace with np.nan.\n",
    "    \n",
    "    Args:\n",
    "        scraped_data: dataframe with column ['neighborhood']\n",
    "        \n",
    "    Returns:\n",
    "        copy of scraped_data with 'neighborhood' replaced by np.nan if it contained digits\n",
    "    \n",
    "    \"\"\"\n",
    "    clean_nh_list = get_cleaned_neighborhoods(scraped_data)\n",
    "    \n",
    "    df = scraped_data.copy()\n",
    "    \n",
    "    df['neighborhood'] = df['neighborhood'].apply(lambda nh: street_address_to_neighborhood(nh, clean_nh_list))\n",
    "    \n",
    "    return df"
   ]
  },
  {
   "cell_type": "code",
   "execution_count": 386,
   "metadata": {},
   "outputs": [],
   "source": [
    "# cleaner_data = convert_street_addresses(raw_scraped_data)\n",
    "\n",
    "# # raw_scraped_data[raw_scraped_data != cleaner_data]"
   ]
  },
  {
   "cell_type": "code",
   "execution_count": 387,
   "metadata": {},
   "outputs": [],
   "source": [
    "# list(set(cleaner_data['neighborhood']))"
   ]
  },
  {
   "cell_type": "code",
   "execution_count": 334,
   "metadata": {},
   "outputs": [],
   "source": [
    "# raw_scraped_data.loc[15]"
   ]
  },
  {
   "cell_type": "code",
   "execution_count": 335,
   "metadata": {},
   "outputs": [],
   "source": [
    "# cleaner_data.loc[15]"
   ]
  },
  {
   "cell_type": "code",
   "execution_count": null,
   "metadata": {},
   "outputs": [],
   "source": []
  },
  {
   "cell_type": "code",
   "execution_count": null,
   "metadata": {},
   "outputs": [],
   "source": []
  },
  {
   "cell_type": "code",
   "execution_count": null,
   "metadata": {},
   "outputs": [],
   "source": []
  },
  {
   "cell_type": "code",
   "execution_count": null,
   "metadata": {},
   "outputs": [],
   "source": []
  },
  {
   "cell_type": "markdown",
   "metadata": {},
   "source": [
    "# use scraped info about sf and oakland neighborhoods to lump:"
   ]
  },
  {
   "cell_type": "code",
   "execution_count": null,
   "metadata": {},
   "outputs": [],
   "source": []
  },
  {
   "cell_type": "markdown",
   "metadata": {},
   "source": [
    "As pulled from Craigslist, \"San Francisco\" is broken down into many neighborhoods. I would like to lump these all into \"san francisco\", so I can have enough samples per neighborhood to do statistics.\n",
    "\n",
    "I'll try scraping neighborhood names from Wikipedia:"
   ]
  },
  {
   "cell_type": "code",
   "execution_count": 371,
   "metadata": {},
   "outputs": [],
   "source": [
    "urlsfnh=\"https://en.wikipedia.org/wiki/List_of_neighborhoods_in_San_Francisco\"\n",
    "\n",
    "htmlsfnh=urlopen(urlsfnh)\n",
    "\n",
    "soupsfnh = BeautifulSoup(htmlsfnh,'html')\n",
    "\n",
    "allsections=soupsfnh.select('.toclevel-1')\n",
    "\n",
    "sfhoods=[];\n",
    "for sec in allsections:\n",
    "    sfhoods.append(re.compile(\"[a-z\\s/'-]+\").search(sec.text.lower()).group().strip())\n",
    "    \n",
    "sfhoods = [nh for nh in sfhoods if nh.lower() not in ['see also','references', 'external links']]"
   ]
  },
  {
   "cell_type": "code",
   "execution_count": 372,
   "metadata": {},
   "outputs": [],
   "source": [
    "urloak=\"https://en.wikipedia.org/wiki/List_of_neighborhoods_in_Oakland,_California\"\n",
    "\n",
    "htmloak=urlopen(urloak)\n",
    "\n",
    "soupoak = BeautifulSoup(htmloak,'html')\n",
    "\n",
    "allsections=soupoak.select('.toclevel-1')\n",
    "\n",
    "oakhoods=[];\n",
    "for sec in allsections:\n",
    "    oakhoods.append(re.compile(\"[a-z\\s/'-]+\").search(sec.text.lower()).group().strip())\n",
    "    \n",
    "oakhoods=[nh for nh in oakhoods if nh.lower() not in ['see also','references', 'external links']]"
   ]
  },
  {
   "cell_type": "code",
   "execution_count": 373,
   "metadata": {},
   "outputs": [
    {
     "data": {
      "text/plain": [
       "['alamo square',\n",
       " 'anza vista',\n",
       " 'ashbury heights',\n",
       " 'balboa park',\n",
       " 'balboa terrace',\n",
       " 'bayview',\n",
       " 'belden place',\n",
       " 'bernal heights',\n",
       " 'buena vista',\n",
       " 'butchertown',\n",
       " 'castro',\n",
       " 'cathedral hill',\n",
       " 'cayuga terrace',\n",
       " 'china basin',\n",
       " 'chinatown',\n",
       " 'civic center',\n",
       " 'clarendon heights',\n",
       " 'cole valley',\n",
       " 'corona heights',\n",
       " 'cow hollow',\n",
       " 'crocker-amazon',\n",
       " 'design district',\n",
       " 'diamond heights',\n",
       " 'dogpatch',\n",
       " 'dolores heights',\n",
       " 'duboce triangle',\n",
       " 'embarcadero',\n",
       " 'eureka valley',\n",
       " 'excelsior',\n",
       " 'fillmore',\n",
       " 'financial district',\n",
       " 'financial district south',\n",
       " \"fisherman's wharf\",\n",
       " 'forest hill',\n",
       " 'forest knolls',\n",
       " 'glen park',\n",
       " 'golden gate heights',\n",
       " 'haight-ashbury',\n",
       " 'hayes valley',\n",
       " 'hunters point',\n",
       " 'india basin',\n",
       " 'ingleside',\n",
       " 'ingleside terraces',\n",
       " 'inner sunset',\n",
       " 'irish hill',\n",
       " 'islais creek',\n",
       " 'jackson square',\n",
       " 'japantown',\n",
       " 'jordan park',\n",
       " 'laguna honda',\n",
       " 'lake street',\n",
       " 'lakeside',\n",
       " 'lakeshore',\n",
       " 'laurel heights',\n",
       " 'lincoln manor',\n",
       " 'little hollywood',\n",
       " 'little russia',\n",
       " 'little saigon',\n",
       " 'lone mountain',\n",
       " 'lower haight',\n",
       " 'lower pacific heights',\n",
       " 'lower nob hill',\n",
       " 'marina district',\n",
       " 'merced heights',\n",
       " 'merced manor',\n",
       " 'midtown terrace',\n",
       " 'mid-market',\n",
       " 'miraloma park',\n",
       " 'mission bay',\n",
       " 'mission district',\n",
       " 'mission dolores',\n",
       " 'mission terrace',\n",
       " 'monterey heights',\n",
       " 'mount davidson',\n",
       " 'nob hill',\n",
       " 'noe valley',\n",
       " 'north beach',\n",
       " 'north of panhandle',\n",
       " 'oceanview',\n",
       " 'outer mission',\n",
       " 'outer sunset',\n",
       " 'pacific heights',\n",
       " 'parkmerced',\n",
       " 'parkside',\n",
       " 'parnassus',\n",
       " 'polk gulch',\n",
       " 'portola',\n",
       " 'portola place',\n",
       " 'potrero hill',\n",
       " 'presidio',\n",
       " 'presidio heights',\n",
       " 'richmond district',\n",
       " 'rincon hill',\n",
       " 'russian hill',\n",
       " 'saint francis wood',\n",
       " 'sea cliff',\n",
       " 'sherwood forest',\n",
       " 'silver terrace',\n",
       " 'south beach',\n",
       " 'south end',\n",
       " 'south of market',\n",
       " 'south park',\n",
       " 'sunnydale',\n",
       " 'sunnyside',\n",
       " 'sunset district',\n",
       " 'telegraph hill',\n",
       " 'tenderloin',\n",
       " 'treasure island',\n",
       " 'twin peaks',\n",
       " 'union square',\n",
       " 'university mound',\n",
       " 'upper market',\n",
       " 'visitacion valley',\n",
       " 'vista del mar',\n",
       " 'west portal',\n",
       " 'western addition',\n",
       " 'westwood highlands',\n",
       " 'westwood park',\n",
       " 'yerba buena']"
      ]
     },
     "execution_count": 373,
     "metadata": {},
     "output_type": "execute_result"
    }
   ],
   "source": [
    "sfhoods"
   ]
  },
  {
   "cell_type": "code",
   "execution_count": 374,
   "metadata": {},
   "outputs": [
    {
     "data": {
      "text/plain": [
       "['central business district',\n",
       " 'east oakland',\n",
       " 'lake merritt',\n",
       " 'north oakland',\n",
       " 'west oakland',\n",
       " 'oakland hills']"
      ]
     },
     "execution_count": 374,
     "metadata": {},
     "output_type": "execute_result"
    }
   ],
   "source": [
    "oakhoods"
   ]
  },
  {
   "cell_type": "code",
   "execution_count": null,
   "metadata": {},
   "outputs": [],
   "source": []
  },
  {
   "cell_type": "code",
   "execution_count": null,
   "metadata": {},
   "outputs": [],
   "source": [
    "## loop through dataframe neighborhoods, and check whether "
   ]
  },
  {
   "cell_type": "code",
   "execution_count": 463,
   "metadata": {},
   "outputs": [],
   "source": [
    "def lump_neighborhoods_function(nh):\n",
    "    \n",
    "    \"\"\"\n",
    "    Args:\n",
    "        nh: string or np.nan representing the name of a neighborhood.\n",
    "    Returns: 'san francisco' or 'oakland' as appropriate if \n",
    "    \n",
    "    sfhoods and oakhoods must be externally defined.\n",
    "    \n",
    "    \"\"\"\n",
    "    if nh in sfhoods:\n",
    "        new_nh = 'san francisco'\n",
    "    \n",
    "    elif nh in oakhoods:\n",
    "        new_nh = 'oakland'\n",
    "    \n",
    "    elif str(nh)!='nan':\n",
    "        if re.compile('san jose').search(nh) is not None:\n",
    "            new_nh = 'san jose'\n",
    "        else:\n",
    "            new_nh = nh\n",
    "    \n",
    "    else:\n",
    "        new_nh = nh\n",
    "        \n",
    "    return new_nh\n",
    "    \n",
    "    \n",
    "## other cleaning? e.g. remove \", ca\" from ends of neighborhoods\n",
    "\n",
    "\n",
    "def chop_endings_function(thestring, list_of_endings):\n",
    "    \"\"\"\n",
    "    Args:\n",
    "        thestring: string to chop\n",
    "        list_of_endings: list of endings to chop off of thestring\n",
    "    Returns:\n",
    "        thestring with ending chopped off, if it was there to begin with.\n",
    "    \"\"\"\n",
    "    if type(thestring)==str:\n",
    "        for ending in list_of_endings[::-1]:\n",
    "            if thestring.endswith(ending):\n",
    "                thestring = thestring[:-len(ending)].strip()\n",
    "\n",
    "    return thestring\n",
    "\n",
    "\n",
    "raw_scraped_data['neighborhood'].apply(lambda nh: rchop(nh, [', ca',',ca', 'ca']))\n",
    "    \n",
    "def lump_and_chop_neighborhoods(data):\n",
    "    \"\"\"\n",
    "    Args:\n",
    "        data: dataframe with columns \n",
    "    Returns:\n",
    "        \n",
    "    \"\"\"\n",
    "    \n",
    "    data_copy = data.copy()\n",
    "    \n",
    "    data_copy['neighborhood'] = data_copy['neighborhood'].apply(lump_neighborhoods_function)\n",
    "    data_copy['neighborhood'] = data_copy['neighborhood'].apply(lambda nh: chop_endings_function(nh, ['ca', ', ca', ',ca']))\n",
    "    \n",
    "    return data_copy"
   ]
  },
  {
   "cell_type": "code",
   "execution_count": null,
   "metadata": {},
   "outputs": [],
   "source": []
  },
  {
   "cell_type": "code",
   "execution_count": null,
   "metadata": {},
   "outputs": [],
   "source": []
  },
  {
   "cell_type": "code",
   "execution_count": null,
   "metadata": {},
   "outputs": [],
   "source": []
  },
  {
   "cell_type": "code",
   "execution_count": null,
   "metadata": {},
   "outputs": [],
   "source": []
  },
  {
   "cell_type": "markdown",
   "metadata": {},
   "source": [
    "# put it together to clean the data"
   ]
  },
  {
   "cell_type": "code",
   "execution_count": 434,
   "metadata": {},
   "outputs": [
    {
     "name": "stdout",
     "output_type": "stream",
     "text": [
      "<class 'pandas.core.frame.DataFrame'>\n",
      "RangeIndex: 3000 entries, 0 to 2999\n",
      "Data columns (total 6 columns):\n",
      "url             3000 non-null object\n",
      "description     3000 non-null object\n",
      "price           3000 non-null float64\n",
      "square_feet     2266 non-null float64\n",
      "bedrooms        2831 non-null float64\n",
      "neighborhood    2946 non-null object\n",
      "dtypes: float64(3), object(3)\n",
      "memory usage: 140.7+ KB\n"
     ]
    }
   ],
   "source": [
    "raw_scraped_data.info()"
   ]
  },
  {
   "cell_type": "code",
   "execution_count": 436,
   "metadata": {},
   "outputs": [
    {
     "name": "stdout",
     "output_type": "stream",
     "text": [
      "<class 'pandas.core.frame.DataFrame'>\n",
      "RangeIndex: 3000 entries, 0 to 2999\n",
      "Data columns (total 6 columns):\n",
      "url             3000 non-null object\n",
      "description     3000 non-null object\n",
      "price           3000 non-null float64\n",
      "square_feet     2266 non-null float64\n",
      "bedrooms        2831 non-null float64\n",
      "neighborhood    2943 non-null object\n",
      "dtypes: float64(3), object(3)\n",
      "memory usage: 140.7+ KB\n"
     ]
    }
   ],
   "source": [
    "cln1 = raw_scraped_data.pipe(convert_street_addresses)\n",
    "cln1.info()"
   ]
  },
  {
   "cell_type": "code",
   "execution_count": 451,
   "metadata": {},
   "outputs": [
    {
     "data": {
      "text/html": [
       "<div>\n",
       "<style scoped>\n",
       "    .dataframe tbody tr th:only-of-type {\n",
       "        vertical-align: middle;\n",
       "    }\n",
       "\n",
       "    .dataframe tbody tr th {\n",
       "        vertical-align: top;\n",
       "    }\n",
       "\n",
       "    .dataframe thead th {\n",
       "        text-align: right;\n",
       "    }\n",
       "</style>\n",
       "<table border=\"1\" class=\"dataframe\">\n",
       "  <thead>\n",
       "    <tr style=\"text-align: right;\">\n",
       "      <th></th>\n",
       "      <th>neighborhood</th>\n",
       "      <th>neighborhood</th>\n",
       "    </tr>\n",
       "  </thead>\n",
       "  <tbody>\n",
       "    <tr>\n",
       "      <th>5</th>\n",
       "      <td>oakland lake merritt/grand</td>\n",
       "      <td>oakland lake merritt / grand</td>\n",
       "    </tr>\n",
       "    <tr>\n",
       "      <th>6</th>\n",
       "      <td>oakland lake merritt/grand</td>\n",
       "      <td>oakland lake merritt / grand</td>\n",
       "    </tr>\n",
       "    <tr>\n",
       "      <th>7</th>\n",
       "      <td>fremont/union city/newark</td>\n",
       "      <td>fremont / union city / newark</td>\n",
       "    </tr>\n",
       "    <tr>\n",
       "      <th>9</th>\n",
       "      <td>concord/pleasant hill/martinez</td>\n",
       "      <td>concord / pleasant hill / martinez</td>\n",
       "    </tr>\n",
       "    <tr>\n",
       "      <th>10</th>\n",
       "      <td>concord/pleasant hill/martinez</td>\n",
       "      <td>concord / pleasant hill / martinez</td>\n",
       "    </tr>\n",
       "  </tbody>\n",
       "</table>\n",
       "</div>"
      ],
      "text/plain": [
       "                      neighborhood                        neighborhood\n",
       "5       oakland lake merritt/grand        oakland lake merritt / grand\n",
       "6       oakland lake merritt/grand        oakland lake merritt / grand\n",
       "7        fremont/union city/newark       fremont / union city / newark\n",
       "9   concord/pleasant hill/martinez  concord / pleasant hill / martinez\n",
       "10  concord/pleasant hill/martinez  concord / pleasant hill / martinez"
      ]
     },
     "execution_count": 451,
     "metadata": {},
     "output_type": "execute_result"
    }
   ],
   "source": [
    "pd.concat([cln1.loc[cln1['neighborhood'] != raw_scraped_data['neighborhood']]['neighborhood'],\n",
    "raw_scraped_data.loc[cln1['neighborhood'] != raw_scraped_data['neighborhood']]['neighborhood']],axis=1).head()"
   ]
  },
  {
   "cell_type": "code",
   "execution_count": 446,
   "metadata": {},
   "outputs": [
    {
     "data": {
      "text/html": [
       "<div>\n",
       "<style scoped>\n",
       "    .dataframe tbody tr th:only-of-type {\n",
       "        vertical-align: middle;\n",
       "    }\n",
       "\n",
       "    .dataframe tbody tr th {\n",
       "        vertical-align: top;\n",
       "    }\n",
       "\n",
       "    .dataframe thead th {\n",
       "        text-align: right;\n",
       "    }\n",
       "</style>\n",
       "<table border=\"1\" class=\"dataframe\">\n",
       "  <thead>\n",
       "    <tr style=\"text-align: right;\">\n",
       "      <th></th>\n",
       "      <th>url</th>\n",
       "      <th>description</th>\n",
       "      <th>price</th>\n",
       "      <th>square_feet</th>\n",
       "      <th>bedrooms</th>\n",
       "      <th>neighborhood</th>\n",
       "    </tr>\n",
       "  </thead>\n",
       "  <tbody>\n",
       "    <tr>\n",
       "      <th>410</th>\n",
       "      <td>https://sfbay.craigslist.org/sby/apa/d/san-fra...</td>\n",
       "      <td>FURNISHED ROOM AVAILABLE IN INNER SUNSET HOME</td>\n",
       "      <td>1390.0</td>\n",
       "      <td>NaN</td>\n",
       "      <td>6.0</td>\n",
       "      <td>NaN</td>\n",
       "    </tr>\n",
       "    <tr>\n",
       "      <th>914</th>\n",
       "      <td>https://sfbay.craigslist.org/eby/apa/d/oakland...</td>\n",
       "      <td>2 bed / 2 bath in unit washer &amp; dryer! Ameniti...</td>\n",
       "      <td>3961.0</td>\n",
       "      <td>893.0</td>\n",
       "      <td>2.0</td>\n",
       "      <td>NaN</td>\n",
       "    </tr>\n",
       "    <tr>\n",
       "      <th>2822</th>\n",
       "      <td>https://sfbay.craigslist.org/sfc/apa/d/oakland...</td>\n",
       "      <td>OAKLAND/PIEDMONT AVE- Great Location</td>\n",
       "      <td>2300.0</td>\n",
       "      <td>NaN</td>\n",
       "      <td>1.0</td>\n",
       "      <td>NaN</td>\n",
       "    </tr>\n",
       "  </tbody>\n",
       "</table>\n",
       "</div>"
      ],
      "text/plain": [
       "                                                    url  \\\n",
       "410   https://sfbay.craigslist.org/sby/apa/d/san-fra...   \n",
       "914   https://sfbay.craigslist.org/eby/apa/d/oakland...   \n",
       "2822  https://sfbay.craigslist.org/sfc/apa/d/oakland...   \n",
       "\n",
       "                                            description   price  square_feet  \\\n",
       "410       FURNISHED ROOM AVAILABLE IN INNER SUNSET HOME  1390.0          NaN   \n",
       "914   2 bed / 2 bath in unit washer & dryer! Ameniti...  3961.0        893.0   \n",
       "2822               OAKLAND/PIEDMONT AVE- Great Location  2300.0          NaN   \n",
       "\n",
       "      bedrooms neighborhood  \n",
       "410        6.0          NaN  \n",
       "914        2.0          NaN  \n",
       "2822       1.0          NaN  "
      ]
     },
     "execution_count": 446,
     "metadata": {},
     "output_type": "execute_result"
    }
   ],
   "source": [
    "cln1.loc[cln1['neighborhood'].isna()].loc[~raw_scraped_data['neighborhood'].isna()]"
   ]
  },
  {
   "cell_type": "code",
   "execution_count": 447,
   "metadata": {},
   "outputs": [
    {
     "data": {
      "text/plain": [
       "url             https://sfbay.craigslist.org/sby/apa/d/san-fra...\n",
       "description         FURNISHED ROOM AVAILABLE IN INNER SUNSET HOME\n",
       "price                                                        1390\n",
       "square_feet                                                   NaN\n",
       "bedrooms                                                        6\n",
       "neighborhood                                       1771a 11th ave\n",
       "Name: 410, dtype: object"
      ]
     },
     "execution_count": 447,
     "metadata": {},
     "output_type": "execute_result"
    }
   ],
   "source": [
    "raw_scraped_data.loc[410]"
   ]
  },
  {
   "cell_type": "code",
   "execution_count": 448,
   "metadata": {},
   "outputs": [
    {
     "data": {
      "text/plain": [
       "url             https://sfbay.craigslist.org/eby/apa/d/oakland...\n",
       "description     2 bed / 2 bath in unit washer & dryer! Ameniti...\n",
       "price                                                        3961\n",
       "square_feet                                                   893\n",
       "bedrooms                                                        2\n",
       "neighborhood                             459 23rd st. oakland, ca\n",
       "Name: 914, dtype: object"
      ]
     },
     "execution_count": 448,
     "metadata": {},
     "output_type": "execute_result"
    }
   ],
   "source": [
    "raw_scraped_data.loc[914]"
   ]
  },
  {
   "cell_type": "code",
   "execution_count": 450,
   "metadata": {},
   "outputs": [
    {
     "data": {
      "text/plain": [
       "url             https://sfbay.craigslist.org/sfc/apa/d/oakland...\n",
       "description                  OAKLAND/PIEDMONT AVE- Great Location\n",
       "price                                                        2300\n",
       "square_feet                                                   NaN\n",
       "bedrooms                                                        1\n",
       "neighborhood                                     771 kingston ave\n",
       "Name: 2822, dtype: object"
      ]
     },
     "execution_count": 450,
     "metadata": {},
     "output_type": "execute_result"
    }
   ],
   "source": [
    "raw_scraped_data.loc[2822]"
   ]
  },
  {
   "cell_type": "code",
   "execution_count": null,
   "metadata": {},
   "outputs": [],
   "source": [
    "# 'oakland' is missing from cleaned list of neighborhoods. (though e.g. 'oakland west' is present)\n",
    "# may want to add manually."
   ]
  },
  {
   "cell_type": "code",
   "execution_count": 459,
   "metadata": {},
   "outputs": [
    {
     "name": "stdout",
     "output_type": "stream",
     "text": [
      "<class 'pandas.core.frame.DataFrame'>\n",
      "RangeIndex: 3000 entries, 0 to 2999\n",
      "Data columns (total 6 columns):\n",
      "url             3000 non-null object\n",
      "description     3000 non-null object\n",
      "price           3000 non-null float64\n",
      "square_feet     2266 non-null float64\n",
      "bedrooms        2831 non-null float64\n",
      "neighborhood    2958 non-null object\n",
      "dtypes: float64(3), object(3)\n",
      "memory usage: 140.7+ KB\n"
     ]
    }
   ],
   "source": [
    "cln2 = cln1.pipe(fill_neighborhood_from_description)\n",
    "cln2.info()\n",
    "# now more non-null neighborhoods. this is good."
   ]
  },
  {
   "cell_type": "code",
   "execution_count": 464,
   "metadata": {},
   "outputs": [
    {
     "name": "stdout",
     "output_type": "stream",
     "text": [
      "<class 'pandas.core.frame.DataFrame'>\n",
      "RangeIndex: 3000 entries, 0 to 2999\n",
      "Data columns (total 6 columns):\n",
      "url             3000 non-null object\n",
      "description     3000 non-null object\n",
      "price           3000 non-null float64\n",
      "square_feet     2266 non-null float64\n",
      "bedrooms        2831 non-null float64\n",
      "neighborhood    2958 non-null object\n",
      "dtypes: float64(3), object(3)\n",
      "memory usage: 140.7+ KB\n"
     ]
    }
   ],
   "source": [
    "cln3 = cln2.pipe(lump_and_chop_neighborhoods)\n",
    "cln3.info()\n",
    "# k so yeah this is where i'm killing neighborhoods for some reason"
   ]
  },
  {
   "cell_type": "code",
   "execution_count": 465,
   "metadata": {},
   "outputs": [
    {
     "data": {
      "text/html": [
       "<div>\n",
       "<style scoped>\n",
       "    .dataframe tbody tr th:only-of-type {\n",
       "        vertical-align: middle;\n",
       "    }\n",
       "\n",
       "    .dataframe tbody tr th {\n",
       "        vertical-align: top;\n",
       "    }\n",
       "\n",
       "    .dataframe thead th {\n",
       "        text-align: right;\n",
       "    }\n",
       "</style>\n",
       "<table border=\"1\" class=\"dataframe\">\n",
       "  <thead>\n",
       "    <tr style=\"text-align: right;\">\n",
       "      <th></th>\n",
       "      <th>url</th>\n",
       "      <th>description</th>\n",
       "      <th>price</th>\n",
       "      <th>square_feet</th>\n",
       "      <th>bedrooms</th>\n",
       "      <th>neighborhood</th>\n",
       "    </tr>\n",
       "  </thead>\n",
       "  <tbody>\n",
       "    <tr>\n",
       "      <th>0</th>\n",
       "      <td>https://sfbay.craigslist.org/sby/apa/d/san-jos...</td>\n",
       "      <td>1 Bedroom Upstairs</td>\n",
       "      <td>1650.0</td>\n",
       "      <td>350.0</td>\n",
       "      <td>1.0</td>\n",
       "      <td>san jose</td>\n",
       "    </tr>\n",
       "    <tr>\n",
       "      <th>1</th>\n",
       "      <td>https://sfbay.craigslist.org/pen/apa/d/redwood...</td>\n",
       "      <td>Furnished Bedroom with attached private bathro...</td>\n",
       "      <td>1400.0</td>\n",
       "      <td>NaN</td>\n",
       "      <td>1.0</td>\n",
       "      <td>redwood city</td>\n",
       "    </tr>\n",
       "    <tr>\n",
       "      <th>2</th>\n",
       "      <td>https://sfbay.craigslist.org/sfc/apa/d/san-fra...</td>\n",
       "      <td>2BR Sunnyside Home in Great Location!</td>\n",
       "      <td>3950.0</td>\n",
       "      <td>955.0</td>\n",
       "      <td>2.0</td>\n",
       "      <td>san francisco</td>\n",
       "    </tr>\n",
       "    <tr>\n",
       "      <th>3</th>\n",
       "      <td>https://sfbay.craigslist.org/sby/apa/d/san-jos...</td>\n",
       "      <td>WOW kitchen, Open concept 1BR  apt, Very spaci...</td>\n",
       "      <td>2600.0</td>\n",
       "      <td>939.0</td>\n",
       "      <td>1.0</td>\n",
       "      <td>san jose</td>\n",
       "    </tr>\n",
       "    <tr>\n",
       "      <th>4</th>\n",
       "      <td>https://sfbay.craigslist.org/eby/apa/d/berkele...</td>\n",
       "      <td>3bedroom/1 bathroom blocks for UCB, shopping &amp;...</td>\n",
       "      <td>4495.0</td>\n",
       "      <td>803.0</td>\n",
       "      <td>3.0</td>\n",
       "      <td>berkeley</td>\n",
       "    </tr>\n",
       "  </tbody>\n",
       "</table>\n",
       "</div>"
      ],
      "text/plain": [
       "                                                 url  \\\n",
       "0  https://sfbay.craigslist.org/sby/apa/d/san-jos...   \n",
       "1  https://sfbay.craigslist.org/pen/apa/d/redwood...   \n",
       "2  https://sfbay.craigslist.org/sfc/apa/d/san-fra...   \n",
       "3  https://sfbay.craigslist.org/sby/apa/d/san-jos...   \n",
       "4  https://sfbay.craigslist.org/eby/apa/d/berkele...   \n",
       "\n",
       "                                         description   price  square_feet  \\\n",
       "0                                 1 Bedroom Upstairs  1650.0        350.0   \n",
       "1  Furnished Bedroom with attached private bathro...  1400.0          NaN   \n",
       "2              2BR Sunnyside Home in Great Location!  3950.0        955.0   \n",
       "3  WOW kitchen, Open concept 1BR  apt, Very spaci...  2600.0        939.0   \n",
       "4  3bedroom/1 bathroom blocks for UCB, shopping &...  4495.0        803.0   \n",
       "\n",
       "   bedrooms   neighborhood  \n",
       "0       1.0       san jose  \n",
       "1       1.0   redwood city  \n",
       "2       2.0  san francisco  \n",
       "3       1.0       san jose  \n",
       "4       3.0       berkeley  "
      ]
     },
     "execution_count": 465,
     "metadata": {},
     "output_type": "execute_result"
    }
   ],
   "source": [
    "cleaned_data = raw_scraped_data.pipe(convert_street_addresses).pipe(fill_neighborhood_from_description).pipe(lump_neighborhoods)\n",
    "cleaned_data.head()"
   ]
  },
  {
   "cell_type": "code",
   "execution_count": 466,
   "metadata": {},
   "outputs": [
    {
     "data": {
      "text/plain": [
       "url             https://sfbay.craigslist.org/pen/apa/d/redwood...\n",
       "description     Furnished Bedroom with attached private bathro...\n",
       "price                                                        1400\n",
       "square_feet                                                   NaN\n",
       "bedrooms                                                        1\n",
       "neighborhood                                         redwood city\n",
       "Name: 1, dtype: object"
      ]
     },
     "execution_count": 466,
     "metadata": {},
     "output_type": "execute_result"
    }
   ],
   "source": [
    "raw_scraped_data.loc[1]"
   ]
  },
  {
   "cell_type": "code",
   "execution_count": 467,
   "metadata": {},
   "outputs": [
    {
     "data": {
      "text/html": [
       "<div>\n",
       "<style scoped>\n",
       "    .dataframe tbody tr th:only-of-type {\n",
       "        vertical-align: middle;\n",
       "    }\n",
       "\n",
       "    .dataframe tbody tr th {\n",
       "        vertical-align: top;\n",
       "    }\n",
       "\n",
       "    .dataframe thead th {\n",
       "        text-align: right;\n",
       "    }\n",
       "</style>\n",
       "<table border=\"1\" class=\"dataframe\">\n",
       "  <thead>\n",
       "    <tr style=\"text-align: right;\">\n",
       "      <th></th>\n",
       "      <th>url</th>\n",
       "      <th>description</th>\n",
       "      <th>price</th>\n",
       "      <th>square_feet</th>\n",
       "      <th>bedrooms</th>\n",
       "      <th>neighborhood</th>\n",
       "    </tr>\n",
       "  </thead>\n",
       "  <tbody>\n",
       "    <tr>\n",
       "      <th>0</th>\n",
       "      <td>https://sfbay.craigslist.org/sby/apa/d/san-jos...</td>\n",
       "      <td>1 Bedroom Upstairs</td>\n",
       "      <td>1650.0</td>\n",
       "      <td>350.0</td>\n",
       "      <td>1.0</td>\n",
       "      <td>san jose</td>\n",
       "    </tr>\n",
       "    <tr>\n",
       "      <th>1</th>\n",
       "      <td>https://sfbay.craigslist.org/pen/apa/d/redwood...</td>\n",
       "      <td>Furnished Bedroom with attached private bathro...</td>\n",
       "      <td>1400.0</td>\n",
       "      <td>NaN</td>\n",
       "      <td>1.0</td>\n",
       "      <td>redwood city</td>\n",
       "    </tr>\n",
       "    <tr>\n",
       "      <th>2</th>\n",
       "      <td>https://sfbay.craigslist.org/sfc/apa/d/san-fra...</td>\n",
       "      <td>2BR Sunnyside Home in Great Location!</td>\n",
       "      <td>3950.0</td>\n",
       "      <td>955.0</td>\n",
       "      <td>2.0</td>\n",
       "      <td>san francisco</td>\n",
       "    </tr>\n",
       "    <tr>\n",
       "      <th>3</th>\n",
       "      <td>https://sfbay.craigslist.org/sby/apa/d/san-jos...</td>\n",
       "      <td>WOW kitchen, Open concept 1BR  apt, Very spaci...</td>\n",
       "      <td>2600.0</td>\n",
       "      <td>939.0</td>\n",
       "      <td>1.0</td>\n",
       "      <td>san jose</td>\n",
       "    </tr>\n",
       "    <tr>\n",
       "      <th>4</th>\n",
       "      <td>https://sfbay.craigslist.org/eby/apa/d/berkele...</td>\n",
       "      <td>3bedroom/1 bathroom blocks for UCB, shopping &amp;...</td>\n",
       "      <td>4495.0</td>\n",
       "      <td>803.0</td>\n",
       "      <td>3.0</td>\n",
       "      <td>berkeley</td>\n",
       "    </tr>\n",
       "    <tr>\n",
       "      <th>5</th>\n",
       "      <td>https://sfbay.craigslist.org/eby/apa/d/oakland...</td>\n",
       "      <td>Remodeled Studio Apartment W/ Balcony- 6A 107</td>\n",
       "      <td>1825.0</td>\n",
       "      <td>375.0</td>\n",
       "      <td>1.0</td>\n",
       "      <td>oakland lake merritt/grand</td>\n",
       "    </tr>\n",
       "    <tr>\n",
       "      <th>6</th>\n",
       "      <td>https://sfbay.craigslist.org/eby/apa/d/oakland...</td>\n",
       "      <td>Lovely 1bdr/ba in Ivy Hill Blocks from Lake Me...</td>\n",
       "      <td>2200.0</td>\n",
       "      <td>NaN</td>\n",
       "      <td>1.0</td>\n",
       "      <td>oakland lake merritt/grand</td>\n",
       "    </tr>\n",
       "    <tr>\n",
       "      <th>7</th>\n",
       "      <td>https://sfbay.craigslist.org/eby/apa/d/fremont...</td>\n",
       "      <td>Beautiful Home in Fremont Mission San Jose Dis...</td>\n",
       "      <td>4500.0</td>\n",
       "      <td>2450.0</td>\n",
       "      <td>5.0</td>\n",
       "      <td>fremont/union city/newark</td>\n",
       "    </tr>\n",
       "    <tr>\n",
       "      <th>8</th>\n",
       "      <td>https://sfbay.craigslist.org/eby/apa/d/berkele...</td>\n",
       "      <td>Elegant, Remodeled Studio Apartment w. Private...</td>\n",
       "      <td>2250.0</td>\n",
       "      <td>NaN</td>\n",
       "      <td>1.0</td>\n",
       "      <td>berkeley</td>\n",
       "    </tr>\n",
       "    <tr>\n",
       "      <th>9</th>\n",
       "      <td>https://sfbay.craigslist.org/eby/apa/d/concord...</td>\n",
       "      <td>Cozy Studio Apartment next to Downtown Concord...</td>\n",
       "      <td>1595.0</td>\n",
       "      <td>NaN</td>\n",
       "      <td>1.0</td>\n",
       "      <td>concord/pleasant hill/martinez</td>\n",
       "    </tr>\n",
       "    <tr>\n",
       "      <th>10</th>\n",
       "      <td>https://sfbay.craigslist.org/eby/apa/d/concord...</td>\n",
       "      <td>Studio Apartment next to Todos Santos Park, Wa...</td>\n",
       "      <td>1595.0</td>\n",
       "      <td>NaN</td>\n",
       "      <td>1.0</td>\n",
       "      <td>concord/pleasant hill/martinez</td>\n",
       "    </tr>\n",
       "    <tr>\n",
       "      <th>11</th>\n",
       "      <td>https://sfbay.craigslist.org/eby/apa/d/oakland...</td>\n",
       "      <td>Incredible Studio Apartment Blocks from Lake M...</td>\n",
       "      <td>1850.0</td>\n",
       "      <td>NaN</td>\n",
       "      <td>1.0</td>\n",
       "      <td>oakland lake merritt/grand</td>\n",
       "    </tr>\n",
       "    <tr>\n",
       "      <th>12</th>\n",
       "      <td>https://sfbay.craigslist.org/eby/apa/d/oakland...</td>\n",
       "      <td>2 bedroom  1bath</td>\n",
       "      <td>2400.0</td>\n",
       "      <td>1000.0</td>\n",
       "      <td>2.0</td>\n",
       "      <td>oakland west</td>\n",
       "    </tr>\n",
       "    <tr>\n",
       "      <th>13</th>\n",
       "      <td>https://sfbay.craigslist.org/eby/apa/d/oakland...</td>\n",
       "      <td>Ivy Hill Bright Renovated Studio - Move-In Spe...</td>\n",
       "      <td>1795.0</td>\n",
       "      <td>NaN</td>\n",
       "      <td>1.0</td>\n",
       "      <td>oakland lake merritt/grand</td>\n",
       "    </tr>\n",
       "    <tr>\n",
       "      <th>14</th>\n",
       "      <td>https://sfbay.craigslist.org/eby/apa/d/berkele...</td>\n",
       "      <td>Naturally Lit 2Bdr/ 1ba Close to Campus- V4*</td>\n",
       "      <td>2750.0</td>\n",
       "      <td>600.0</td>\n",
       "      <td>1.0</td>\n",
       "      <td>berkeley</td>\n",
       "    </tr>\n",
       "    <tr>\n",
       "      <th>15</th>\n",
       "      <td>https://sfbay.craigslist.org/eby/apa/d/fremont...</td>\n",
       "      <td>Fremont Condo, 2 br/2 full baths, Walk to Bart</td>\n",
       "      <td>2550.0</td>\n",
       "      <td>997.0</td>\n",
       "      <td>2.0</td>\n",
       "      <td>fremont/union city/newark</td>\n",
       "    </tr>\n",
       "    <tr>\n",
       "      <th>16</th>\n",
       "      <td>https://sfbay.craigslist.org/sby/apa/d/san-jos...</td>\n",
       "      <td>Open living + kitchen! Your 1BR Loft, Downtown...</td>\n",
       "      <td>2600.0</td>\n",
       "      <td>607.0</td>\n",
       "      <td>1.0</td>\n",
       "      <td>san jose</td>\n",
       "    </tr>\n",
       "    <tr>\n",
       "      <th>17</th>\n",
       "      <td>https://sfbay.craigslist.org/sfc/apa/d/san-fra...</td>\n",
       "      <td>Conveniently Located 2bed+den/2bath Condo at 1...</td>\n",
       "      <td>4300.0</td>\n",
       "      <td>1300.0</td>\n",
       "      <td>2.0</td>\n",
       "      <td>soma/south beach</td>\n",
       "    </tr>\n",
       "    <tr>\n",
       "      <th>18</th>\n",
       "      <td>https://sfbay.craigslist.org/eby/apa/d/oakland...</td>\n",
       "      <td>Freshly Painted 2 Bedroom Apartment in Clevela...</td>\n",
       "      <td>2895.0</td>\n",
       "      <td>NaN</td>\n",
       "      <td>2.0</td>\n",
       "      <td>oakland lake merritt/grand</td>\n",
       "    </tr>\n",
       "    <tr>\n",
       "      <th>19</th>\n",
       "      <td>https://sfbay.craigslist.org/sfc/apa/d/san-fra...</td>\n",
       "      <td>Beautiful 2 bdrm in Marina/Cow Hollow -1 block...</td>\n",
       "      <td>3995.0</td>\n",
       "      <td>NaN</td>\n",
       "      <td>2.0</td>\n",
       "      <td>marina/cow hollow</td>\n",
       "    </tr>\n",
       "    <tr>\n",
       "      <th>20</th>\n",
       "      <td>https://sfbay.craigslist.org/sfc/apa/d/san-fra...</td>\n",
       "      <td>Beautiful 2 bdrm in Marina/Cow Hollow -1 block...</td>\n",
       "      <td>3995.0</td>\n",
       "      <td>NaN</td>\n",
       "      <td>2.0</td>\n",
       "      <td>marina/cow hollow</td>\n",
       "    </tr>\n",
       "    <tr>\n",
       "      <th>21</th>\n",
       "      <td>https://sfbay.craigslist.org/sfc/apa/d/san-fra...</td>\n",
       "      <td>Beautiful 2 bdrm in Marina/Cow Hollow -1 block...</td>\n",
       "      <td>3995.0</td>\n",
       "      <td>NaN</td>\n",
       "      <td>2.0</td>\n",
       "      <td>marina/cow hollow</td>\n",
       "    </tr>\n",
       "    <tr>\n",
       "      <th>22</th>\n",
       "      <td>https://sfbay.craigslist.org/sfc/apa/d/san-fra...</td>\n",
       "      <td>Beautiful 2 bdrm in Marina/Cow Hollow -1 block...</td>\n",
       "      <td>3995.0</td>\n",
       "      <td>NaN</td>\n",
       "      <td>2.0</td>\n",
       "      <td>marina/cow hollow</td>\n",
       "    </tr>\n",
       "    <tr>\n",
       "      <th>23</th>\n",
       "      <td>https://sfbay.craigslist.org/sfc/apa/d/san-fra...</td>\n",
       "      <td>Beautiful 2 bdrm in Marina/Cow Hollow -1 block...</td>\n",
       "      <td>3995.0</td>\n",
       "      <td>NaN</td>\n",
       "      <td>2.0</td>\n",
       "      <td>marina/cow hollow</td>\n",
       "    </tr>\n",
       "    <tr>\n",
       "      <th>24</th>\n",
       "      <td>https://sfbay.craigslist.org/sfc/apa/d/san-fra...</td>\n",
       "      <td>Beautiful 2 bdrm in Marina/Cow Hollow -1 block...</td>\n",
       "      <td>3995.0</td>\n",
       "      <td>NaN</td>\n",
       "      <td>2.0</td>\n",
       "      <td>marina/cow hollow</td>\n",
       "    </tr>\n",
       "    <tr>\n",
       "      <th>25</th>\n",
       "      <td>https://sfbay.craigslist.org/sfc/apa/d/san-fra...</td>\n",
       "      <td>Beautiful 2 bdrm in Marina/Cow Hollow -1 block...</td>\n",
       "      <td>3995.0</td>\n",
       "      <td>NaN</td>\n",
       "      <td>2.0</td>\n",
       "      <td>marina/cow hollow</td>\n",
       "    </tr>\n",
       "    <tr>\n",
       "      <th>26</th>\n",
       "      <td>https://sfbay.craigslist.org/sfc/apa/d/san-fra...</td>\n",
       "      <td>Beautiful 2 bedroom Top Floor Marina Flat - MU...</td>\n",
       "      <td>5495.0</td>\n",
       "      <td>NaN</td>\n",
       "      <td>2.0</td>\n",
       "      <td>marina/cow hollow</td>\n",
       "    </tr>\n",
       "    <tr>\n",
       "      <th>27</th>\n",
       "      <td>https://sfbay.craigslist.org/sfc/apa/d/san-fra...</td>\n",
       "      <td>Beautiful 3 bedroom Top Floor Marina Flat - MU...</td>\n",
       "      <td>6495.0</td>\n",
       "      <td>NaN</td>\n",
       "      <td>3.0</td>\n",
       "      <td>marina/cow hollow</td>\n",
       "    </tr>\n",
       "    <tr>\n",
       "      <th>28</th>\n",
       "      <td>https://sfbay.craigslist.org/pen/apa/d/burling...</td>\n",
       "      <td>1BR detached ADU w/private washer &amp; dryer near...</td>\n",
       "      <td>2895.0</td>\n",
       "      <td>504.0</td>\n",
       "      <td>1.0</td>\n",
       "      <td>burlingame</td>\n",
       "    </tr>\n",
       "    <tr>\n",
       "      <th>29</th>\n",
       "      <td>https://sfbay.craigslist.org/sfc/apa/d/san-fra...</td>\n",
       "      <td>Beautiful 3 bedroom Top Floor Marina Flat - MU...</td>\n",
       "      <td>6495.0</td>\n",
       "      <td>NaN</td>\n",
       "      <td>3.0</td>\n",
       "      <td>marina/cow hollow</td>\n",
       "    </tr>\n",
       "    <tr>\n",
       "      <th>...</th>\n",
       "      <td>...</td>\n",
       "      <td>...</td>\n",
       "      <td>...</td>\n",
       "      <td>...</td>\n",
       "      <td>...</td>\n",
       "      <td>...</td>\n",
       "    </tr>\n",
       "    <tr>\n",
       "      <th>2970</th>\n",
       "      <td>https://sfbay.craigslist.org/sfc/apa/d/san-fra...</td>\n",
       "      <td>Furnished Mod Castro 1BR w/ W/D, Parking, Shar...</td>\n",
       "      <td>3690.0</td>\n",
       "      <td>600.0</td>\n",
       "      <td>1.0</td>\n",
       "      <td>castro/upper market</td>\n",
       "    </tr>\n",
       "    <tr>\n",
       "      <th>2971</th>\n",
       "      <td>https://sfbay.craigslist.org/sfc/apa/d/san-fra...</td>\n",
       "      <td>Furnished Lux Dogpatch 1BR w/ Gym, by UCSF Med...</td>\n",
       "      <td>4190.0</td>\n",
       "      <td>630.0</td>\n",
       "      <td>1.0</td>\n",
       "      <td>san francisco</td>\n",
       "    </tr>\n",
       "    <tr>\n",
       "      <th>2972</th>\n",
       "      <td>https://sfbay.craigslist.org/sfc/apa/d/san-fra...</td>\n",
       "      <td>Furnished Lux Rincon Hill 2BR w/ Gym, Roofdeck...</td>\n",
       "      <td>5390.0</td>\n",
       "      <td>1053.0</td>\n",
       "      <td>2.0</td>\n",
       "      <td>rincon hill, san francisco</td>\n",
       "    </tr>\n",
       "    <tr>\n",
       "      <th>2973</th>\n",
       "      <td>https://sfbay.craigslist.org/sfc/apa/d/san-fra...</td>\n",
       "      <td>NEW YEAR, NEW NEIGHBORHOOD! Just Renovated Cor...</td>\n",
       "      <td>6995.0</td>\n",
       "      <td>NaN</td>\n",
       "      <td>3.0</td>\n",
       "      <td>north beach/telegraph hill</td>\n",
       "    </tr>\n",
       "    <tr>\n",
       "      <th>2974</th>\n",
       "      <td>https://sfbay.craigslist.org/sfc/apa/d/san-fra...</td>\n",
       "      <td>Furnished Bright Castro 2BR w/ Bike Storage, W...</td>\n",
       "      <td>4390.0</td>\n",
       "      <td>848.0</td>\n",
       "      <td>2.0</td>\n",
       "      <td>castro/upper market</td>\n",
       "    </tr>\n",
       "    <tr>\n",
       "      <th>2975</th>\n",
       "      <td>https://sfbay.craigslist.org/sfc/apa/d/san-fra...</td>\n",
       "      <td>Furnished Airy Dogpatch 1BR w/ Gym, Rooftop, w...</td>\n",
       "      <td>4190.0</td>\n",
       "      <td>667.0</td>\n",
       "      <td>1.0</td>\n",
       "      <td>dogpatch, san francisco</td>\n",
       "    </tr>\n",
       "    <tr>\n",
       "      <th>2976</th>\n",
       "      <td>https://sfbay.craigslist.org/sfc/apa/d/excepti...</td>\n",
       "      <td>Exceptional 2 Bedroom Apartment in Russian Hill</td>\n",
       "      <td>4500.0</td>\n",
       "      <td>NaN</td>\n",
       "      <td>2.0</td>\n",
       "      <td>san francisco</td>\n",
       "    </tr>\n",
       "    <tr>\n",
       "      <th>2977</th>\n",
       "      <td>https://sfbay.craigslist.org/eby/apa/d/fairfie...</td>\n",
       "      <td>INDOOR POOL, HUGE FLOOR PLANS, FIRESIDE LOUNGE</td>\n",
       "      <td>2029.0</td>\n",
       "      <td>875.0</td>\n",
       "      <td>NaN</td>\n",
       "      <td>fairfield/vacaville</td>\n",
       "    </tr>\n",
       "    <tr>\n",
       "      <th>2978</th>\n",
       "      <td>https://sfbay.craigslist.org/sfc/apa/d/san-fra...</td>\n",
       "      <td>Furnished Smart Dogpatch Studio w/ Gym, Firepi...</td>\n",
       "      <td>3590.0</td>\n",
       "      <td>420.0</td>\n",
       "      <td>1.0</td>\n",
       "      <td>dogpatch, san francisco</td>\n",
       "    </tr>\n",
       "    <tr>\n",
       "      <th>2979</th>\n",
       "      <td>https://sfbay.craigslist.org/sfc/apa/d/beautif...</td>\n",
       "      <td>Beautiful HUGE Two Bedroom Apartment close to ...</td>\n",
       "      <td>4200.0</td>\n",
       "      <td>NaN</td>\n",
       "      <td>2.0</td>\n",
       "      <td>san francisco</td>\n",
       "    </tr>\n",
       "    <tr>\n",
       "      <th>2980</th>\n",
       "      <td>https://sfbay.craigslist.org/sfc/apa/d/san-fra...</td>\n",
       "      <td>Furnished Ideal SoMa 1BR w/ Rooftop, W/D, BBQ,...</td>\n",
       "      <td>3790.0</td>\n",
       "      <td>600.0</td>\n",
       "      <td>1.0</td>\n",
       "      <td>soma/south beach</td>\n",
       "    </tr>\n",
       "    <tr>\n",
       "      <th>2981</th>\n",
       "      <td>https://sfbay.craigslist.org/pen/apa/d/palo-al...</td>\n",
       "      <td>Walk to New Shopping Center or Caltrain, Gated...</td>\n",
       "      <td>2745.0</td>\n",
       "      <td>530.0</td>\n",
       "      <td>NaN</td>\n",
       "      <td>mountain view</td>\n",
       "    </tr>\n",
       "    <tr>\n",
       "      <th>2982</th>\n",
       "      <td>https://sfbay.craigslist.org/sfc/apa/d/san-fra...</td>\n",
       "      <td>Furnished Bright 2BR w/ Gym, Rooftop, near Ins...</td>\n",
       "      <td>5790.0</td>\n",
       "      <td>931.0</td>\n",
       "      <td>2.0</td>\n",
       "      <td>rincon hill, san francisco</td>\n",
       "    </tr>\n",
       "    <tr>\n",
       "      <th>2983</th>\n",
       "      <td>https://sfbay.craigslist.org/sfc/apa/d/san-fra...</td>\n",
       "      <td>Furnished Mod Lower Nob Hill Studio w/ City Vi...</td>\n",
       "      <td>3990.0</td>\n",
       "      <td>553.0</td>\n",
       "      <td>1.0</td>\n",
       "      <td>san francisco</td>\n",
       "    </tr>\n",
       "    <tr>\n",
       "      <th>2984</th>\n",
       "      <td>https://sfbay.craigslist.org/sfc/apa/d/excepti...</td>\n",
       "      <td>Exceptional 2 Bedroom Apartment in Russian Hill</td>\n",
       "      <td>4500.0</td>\n",
       "      <td>NaN</td>\n",
       "      <td>2.0</td>\n",
       "      <td>san francisco</td>\n",
       "    </tr>\n",
       "    <tr>\n",
       "      <th>2985</th>\n",
       "      <td>https://sfbay.craigslist.org/sfc/apa/d/san-fra...</td>\n",
       "      <td>Furnished Airy Russian Hill 2BR w/ City View, ...</td>\n",
       "      <td>4390.0</td>\n",
       "      <td>850.0</td>\n",
       "      <td>2.0</td>\n",
       "      <td>san francisco</td>\n",
       "    </tr>\n",
       "    <tr>\n",
       "      <th>2986</th>\n",
       "      <td>https://sfbay.craigslist.org/sfc/apa/d/san-fra...</td>\n",
       "      <td>Furnished Ideal SoMa 1BR w/ Gym, Roofdeck, Doo...</td>\n",
       "      <td>3790.0</td>\n",
       "      <td>700.0</td>\n",
       "      <td>1.0</td>\n",
       "      <td>soma/south beach</td>\n",
       "    </tr>\n",
       "    <tr>\n",
       "      <th>2987</th>\n",
       "      <td>https://sfbay.craigslist.org/sfc/apa/d/san-fra...</td>\n",
       "      <td>Furnished Smart SOMA 2BR w/ Yoga Room, BBQ, ne...</td>\n",
       "      <td>4690.0</td>\n",
       "      <td>860.0</td>\n",
       "      <td>2.0</td>\n",
       "      <td>soma/south beach</td>\n",
       "    </tr>\n",
       "    <tr>\n",
       "      <th>2988</th>\n",
       "      <td>https://sfbay.craigslist.org/sby/apa/d/santa-c...</td>\n",
       "      <td>Bright, quiet, cozy private garden cottage clo...</td>\n",
       "      <td>2400.0</td>\n",
       "      <td>455.0</td>\n",
       "      <td>NaN</td>\n",
       "      <td>san jose</td>\n",
       "    </tr>\n",
       "    <tr>\n",
       "      <th>2989</th>\n",
       "      <td>https://sfbay.craigslist.org/sfc/apa/d/san-fra...</td>\n",
       "      <td>Furnished Lux Rincon Hill 1BR w/ Gym, Sauna, b...</td>\n",
       "      <td>4290.0</td>\n",
       "      <td>500.0</td>\n",
       "      <td>1.0</td>\n",
       "      <td>rincon hill, san francisco</td>\n",
       "    </tr>\n",
       "    <tr>\n",
       "      <th>2990</th>\n",
       "      <td>https://sfbay.craigslist.org/sfc/apa/d/san-fra...</td>\n",
       "      <td>Furnished Smart Rincon Hill 1BR w/ Gym, Roofto...</td>\n",
       "      <td>4590.0</td>\n",
       "      <td>623.0</td>\n",
       "      <td>1.0</td>\n",
       "      <td>rincon hill, san francisco</td>\n",
       "    </tr>\n",
       "    <tr>\n",
       "      <th>2991</th>\n",
       "      <td>https://sfbay.craigslist.org/sby/apa/d/san-jos...</td>\n",
       "      <td>Bright WOW kitchen! Los Gatos 2BR apt, Spaciou...</td>\n",
       "      <td>2395.0</td>\n",
       "      <td>798.0</td>\n",
       "      <td>2.0</td>\n",
       "      <td>los gatos</td>\n",
       "    </tr>\n",
       "    <tr>\n",
       "      <th>2992</th>\n",
       "      <td>https://sfbay.craigslist.org/pen/apa/d/palo-al...</td>\n",
       "      <td>Spacious studio available now</td>\n",
       "      <td>2416.0</td>\n",
       "      <td>595.0</td>\n",
       "      <td>1.0</td>\n",
       "      <td>palo alto</td>\n",
       "    </tr>\n",
       "    <tr>\n",
       "      <th>2993</th>\n",
       "      <td>https://sfbay.craigslist.org/sfc/apa/d/san-fra...</td>\n",
       "      <td>Furnished Mod Lower Nob Hill 2BR w/ W/D, Court...</td>\n",
       "      <td>3990.0</td>\n",
       "      <td>1051.0</td>\n",
       "      <td>2.0</td>\n",
       "      <td>san francisco</td>\n",
       "    </tr>\n",
       "    <tr>\n",
       "      <th>2994</th>\n",
       "      <td>https://sfbay.craigslist.org/sby/apa/d/san-jos...</td>\n",
       "      <td>Remodeled 2 bed 1.5 bath Apartment in Downtown!!</td>\n",
       "      <td>2750.0</td>\n",
       "      <td>NaN</td>\n",
       "      <td>2.0</td>\n",
       "      <td>san jose</td>\n",
       "    </tr>\n",
       "    <tr>\n",
       "      <th>2995</th>\n",
       "      <td>https://sfbay.craigslist.org/pen/apa/d/san-mat...</td>\n",
       "      <td>SPACIOUS FLOOR PLANS WITH LAGOON VIEWS</td>\n",
       "      <td>3324.0</td>\n",
       "      <td>NaN</td>\n",
       "      <td>1.0</td>\n",
       "      <td>foster city</td>\n",
       "    </tr>\n",
       "    <tr>\n",
       "      <th>2996</th>\n",
       "      <td>https://sfbay.craigslist.org/eby/apa/d/hercule...</td>\n",
       "      <td>Beautiful and Bright Corner Apartment Home, Re...</td>\n",
       "      <td>2670.0</td>\n",
       "      <td>1116.0</td>\n",
       "      <td>2.0</td>\n",
       "      <td>hercules, pinole, san pablo, el sob</td>\n",
       "    </tr>\n",
       "    <tr>\n",
       "      <th>2997</th>\n",
       "      <td>https://sfbay.craigslist.org/sby/apa/d/sunnyva...</td>\n",
       "      <td>Furnished Lux Sunnyvale 1BR w/ Pool, Spa, BBQ,...</td>\n",
       "      <td>3890.0</td>\n",
       "      <td>811.0</td>\n",
       "      <td>1.0</td>\n",
       "      <td>sunnyvale</td>\n",
       "    </tr>\n",
       "    <tr>\n",
       "      <th>2998</th>\n",
       "      <td>https://sfbay.craigslist.org/sby/apa/d/sunnyva...</td>\n",
       "      <td>Furnished Smart Sunnyvale 1BR w/ Pool, Spa, BB...</td>\n",
       "      <td>3790.0</td>\n",
       "      <td>816.0</td>\n",
       "      <td>1.0</td>\n",
       "      <td>sunnyvale</td>\n",
       "    </tr>\n",
       "    <tr>\n",
       "      <th>2999</th>\n",
       "      <td>https://sfbay.craigslist.org/sby/apa/d/los-gat...</td>\n",
       "      <td>2 Bed - 2 Bath, Minutes to Shopping and Dining...</td>\n",
       "      <td>3600.0</td>\n",
       "      <td>1011.0</td>\n",
       "      <td>2.0</td>\n",
       "      <td>NaN</td>\n",
       "    </tr>\n",
       "  </tbody>\n",
       "</table>\n",
       "<p>3000 rows × 6 columns</p>\n",
       "</div>"
      ],
      "text/plain": [
       "                                                    url  \\\n",
       "0     https://sfbay.craigslist.org/sby/apa/d/san-jos...   \n",
       "1     https://sfbay.craigslist.org/pen/apa/d/redwood...   \n",
       "2     https://sfbay.craigslist.org/sfc/apa/d/san-fra...   \n",
       "3     https://sfbay.craigslist.org/sby/apa/d/san-jos...   \n",
       "4     https://sfbay.craigslist.org/eby/apa/d/berkele...   \n",
       "5     https://sfbay.craigslist.org/eby/apa/d/oakland...   \n",
       "6     https://sfbay.craigslist.org/eby/apa/d/oakland...   \n",
       "7     https://sfbay.craigslist.org/eby/apa/d/fremont...   \n",
       "8     https://sfbay.craigslist.org/eby/apa/d/berkele...   \n",
       "9     https://sfbay.craigslist.org/eby/apa/d/concord...   \n",
       "10    https://sfbay.craigslist.org/eby/apa/d/concord...   \n",
       "11    https://sfbay.craigslist.org/eby/apa/d/oakland...   \n",
       "12    https://sfbay.craigslist.org/eby/apa/d/oakland...   \n",
       "13    https://sfbay.craigslist.org/eby/apa/d/oakland...   \n",
       "14    https://sfbay.craigslist.org/eby/apa/d/berkele...   \n",
       "15    https://sfbay.craigslist.org/eby/apa/d/fremont...   \n",
       "16    https://sfbay.craigslist.org/sby/apa/d/san-jos...   \n",
       "17    https://sfbay.craigslist.org/sfc/apa/d/san-fra...   \n",
       "18    https://sfbay.craigslist.org/eby/apa/d/oakland...   \n",
       "19    https://sfbay.craigslist.org/sfc/apa/d/san-fra...   \n",
       "20    https://sfbay.craigslist.org/sfc/apa/d/san-fra...   \n",
       "21    https://sfbay.craigslist.org/sfc/apa/d/san-fra...   \n",
       "22    https://sfbay.craigslist.org/sfc/apa/d/san-fra...   \n",
       "23    https://sfbay.craigslist.org/sfc/apa/d/san-fra...   \n",
       "24    https://sfbay.craigslist.org/sfc/apa/d/san-fra...   \n",
       "25    https://sfbay.craigslist.org/sfc/apa/d/san-fra...   \n",
       "26    https://sfbay.craigslist.org/sfc/apa/d/san-fra...   \n",
       "27    https://sfbay.craigslist.org/sfc/apa/d/san-fra...   \n",
       "28    https://sfbay.craigslist.org/pen/apa/d/burling...   \n",
       "29    https://sfbay.craigslist.org/sfc/apa/d/san-fra...   \n",
       "...                                                 ...   \n",
       "2970  https://sfbay.craigslist.org/sfc/apa/d/san-fra...   \n",
       "2971  https://sfbay.craigslist.org/sfc/apa/d/san-fra...   \n",
       "2972  https://sfbay.craigslist.org/sfc/apa/d/san-fra...   \n",
       "2973  https://sfbay.craigslist.org/sfc/apa/d/san-fra...   \n",
       "2974  https://sfbay.craigslist.org/sfc/apa/d/san-fra...   \n",
       "2975  https://sfbay.craigslist.org/sfc/apa/d/san-fra...   \n",
       "2976  https://sfbay.craigslist.org/sfc/apa/d/excepti...   \n",
       "2977  https://sfbay.craigslist.org/eby/apa/d/fairfie...   \n",
       "2978  https://sfbay.craigslist.org/sfc/apa/d/san-fra...   \n",
       "2979  https://sfbay.craigslist.org/sfc/apa/d/beautif...   \n",
       "2980  https://sfbay.craigslist.org/sfc/apa/d/san-fra...   \n",
       "2981  https://sfbay.craigslist.org/pen/apa/d/palo-al...   \n",
       "2982  https://sfbay.craigslist.org/sfc/apa/d/san-fra...   \n",
       "2983  https://sfbay.craigslist.org/sfc/apa/d/san-fra...   \n",
       "2984  https://sfbay.craigslist.org/sfc/apa/d/excepti...   \n",
       "2985  https://sfbay.craigslist.org/sfc/apa/d/san-fra...   \n",
       "2986  https://sfbay.craigslist.org/sfc/apa/d/san-fra...   \n",
       "2987  https://sfbay.craigslist.org/sfc/apa/d/san-fra...   \n",
       "2988  https://sfbay.craigslist.org/sby/apa/d/santa-c...   \n",
       "2989  https://sfbay.craigslist.org/sfc/apa/d/san-fra...   \n",
       "2990  https://sfbay.craigslist.org/sfc/apa/d/san-fra...   \n",
       "2991  https://sfbay.craigslist.org/sby/apa/d/san-jos...   \n",
       "2992  https://sfbay.craigslist.org/pen/apa/d/palo-al...   \n",
       "2993  https://sfbay.craigslist.org/sfc/apa/d/san-fra...   \n",
       "2994  https://sfbay.craigslist.org/sby/apa/d/san-jos...   \n",
       "2995  https://sfbay.craigslist.org/pen/apa/d/san-mat...   \n",
       "2996  https://sfbay.craigslist.org/eby/apa/d/hercule...   \n",
       "2997  https://sfbay.craigslist.org/sby/apa/d/sunnyva...   \n",
       "2998  https://sfbay.craigslist.org/sby/apa/d/sunnyva...   \n",
       "2999  https://sfbay.craigslist.org/sby/apa/d/los-gat...   \n",
       "\n",
       "                                            description   price  square_feet  \\\n",
       "0                                    1 Bedroom Upstairs  1650.0        350.0   \n",
       "1     Furnished Bedroom with attached private bathro...  1400.0          NaN   \n",
       "2                 2BR Sunnyside Home in Great Location!  3950.0        955.0   \n",
       "3     WOW kitchen, Open concept 1BR  apt, Very spaci...  2600.0        939.0   \n",
       "4     3bedroom/1 bathroom blocks for UCB, shopping &...  4495.0        803.0   \n",
       "5         Remodeled Studio Apartment W/ Balcony- 6A 107  1825.0        375.0   \n",
       "6     Lovely 1bdr/ba in Ivy Hill Blocks from Lake Me...  2200.0          NaN   \n",
       "7     Beautiful Home in Fremont Mission San Jose Dis...  4500.0       2450.0   \n",
       "8     Elegant, Remodeled Studio Apartment w. Private...  2250.0          NaN   \n",
       "9     Cozy Studio Apartment next to Downtown Concord...  1595.0          NaN   \n",
       "10    Studio Apartment next to Todos Santos Park, Wa...  1595.0          NaN   \n",
       "11    Incredible Studio Apartment Blocks from Lake M...  1850.0          NaN   \n",
       "12                                     2 bedroom  1bath  2400.0       1000.0   \n",
       "13    Ivy Hill Bright Renovated Studio - Move-In Spe...  1795.0          NaN   \n",
       "14         Naturally Lit 2Bdr/ 1ba Close to Campus- V4*  2750.0        600.0   \n",
       "15       Fremont Condo, 2 br/2 full baths, Walk to Bart  2550.0        997.0   \n",
       "16    Open living + kitchen! Your 1BR Loft, Downtown...  2600.0        607.0   \n",
       "17    Conveniently Located 2bed+den/2bath Condo at 1...  4300.0       1300.0   \n",
       "18    Freshly Painted 2 Bedroom Apartment in Clevela...  2895.0          NaN   \n",
       "19    Beautiful 2 bdrm in Marina/Cow Hollow -1 block...  3995.0          NaN   \n",
       "20    Beautiful 2 bdrm in Marina/Cow Hollow -1 block...  3995.0          NaN   \n",
       "21    Beautiful 2 bdrm in Marina/Cow Hollow -1 block...  3995.0          NaN   \n",
       "22    Beautiful 2 bdrm in Marina/Cow Hollow -1 block...  3995.0          NaN   \n",
       "23    Beautiful 2 bdrm in Marina/Cow Hollow -1 block...  3995.0          NaN   \n",
       "24    Beautiful 2 bdrm in Marina/Cow Hollow -1 block...  3995.0          NaN   \n",
       "25    Beautiful 2 bdrm in Marina/Cow Hollow -1 block...  3995.0          NaN   \n",
       "26    Beautiful 2 bedroom Top Floor Marina Flat - MU...  5495.0          NaN   \n",
       "27    Beautiful 3 bedroom Top Floor Marina Flat - MU...  6495.0          NaN   \n",
       "28    1BR detached ADU w/private washer & dryer near...  2895.0        504.0   \n",
       "29    Beautiful 3 bedroom Top Floor Marina Flat - MU...  6495.0          NaN   \n",
       "...                                                 ...     ...          ...   \n",
       "2970  Furnished Mod Castro 1BR w/ W/D, Parking, Shar...  3690.0        600.0   \n",
       "2971  Furnished Lux Dogpatch 1BR w/ Gym, by UCSF Med...  4190.0        630.0   \n",
       "2972  Furnished Lux Rincon Hill 2BR w/ Gym, Roofdeck...  5390.0       1053.0   \n",
       "2973  NEW YEAR, NEW NEIGHBORHOOD! Just Renovated Cor...  6995.0          NaN   \n",
       "2974  Furnished Bright Castro 2BR w/ Bike Storage, W...  4390.0        848.0   \n",
       "2975  Furnished Airy Dogpatch 1BR w/ Gym, Rooftop, w...  4190.0        667.0   \n",
       "2976    Exceptional 2 Bedroom Apartment in Russian Hill  4500.0          NaN   \n",
       "2977     INDOOR POOL, HUGE FLOOR PLANS, FIRESIDE LOUNGE  2029.0        875.0   \n",
       "2978  Furnished Smart Dogpatch Studio w/ Gym, Firepi...  3590.0        420.0   \n",
       "2979  Beautiful HUGE Two Bedroom Apartment close to ...  4200.0          NaN   \n",
       "2980  Furnished Ideal SoMa 1BR w/ Rooftop, W/D, BBQ,...  3790.0        600.0   \n",
       "2981  Walk to New Shopping Center or Caltrain, Gated...  2745.0        530.0   \n",
       "2982  Furnished Bright 2BR w/ Gym, Rooftop, near Ins...  5790.0        931.0   \n",
       "2983  Furnished Mod Lower Nob Hill Studio w/ City Vi...  3990.0        553.0   \n",
       "2984    Exceptional 2 Bedroom Apartment in Russian Hill  4500.0          NaN   \n",
       "2985  Furnished Airy Russian Hill 2BR w/ City View, ...  4390.0        850.0   \n",
       "2986  Furnished Ideal SoMa 1BR w/ Gym, Roofdeck, Doo...  3790.0        700.0   \n",
       "2987  Furnished Smart SOMA 2BR w/ Yoga Room, BBQ, ne...  4690.0        860.0   \n",
       "2988  Bright, quiet, cozy private garden cottage clo...  2400.0        455.0   \n",
       "2989  Furnished Lux Rincon Hill 1BR w/ Gym, Sauna, b...  4290.0        500.0   \n",
       "2990  Furnished Smart Rincon Hill 1BR w/ Gym, Roofto...  4590.0        623.0   \n",
       "2991  Bright WOW kitchen! Los Gatos 2BR apt, Spaciou...  2395.0        798.0   \n",
       "2992                      Spacious studio available now  2416.0        595.0   \n",
       "2993  Furnished Mod Lower Nob Hill 2BR w/ W/D, Court...  3990.0       1051.0   \n",
       "2994   Remodeled 2 bed 1.5 bath Apartment in Downtown!!  2750.0          NaN   \n",
       "2995             SPACIOUS FLOOR PLANS WITH LAGOON VIEWS  3324.0          NaN   \n",
       "2996  Beautiful and Bright Corner Apartment Home, Re...  2670.0       1116.0   \n",
       "2997  Furnished Lux Sunnyvale 1BR w/ Pool, Spa, BBQ,...  3890.0        811.0   \n",
       "2998  Furnished Smart Sunnyvale 1BR w/ Pool, Spa, BB...  3790.0        816.0   \n",
       "2999  2 Bed - 2 Bath, Minutes to Shopping and Dining...  3600.0       1011.0   \n",
       "\n",
       "      bedrooms                         neighborhood  \n",
       "0          1.0                             san jose  \n",
       "1          1.0                         redwood city  \n",
       "2          2.0                        san francisco  \n",
       "3          1.0                             san jose  \n",
       "4          3.0                             berkeley  \n",
       "5          1.0           oakland lake merritt/grand  \n",
       "6          1.0           oakland lake merritt/grand  \n",
       "7          5.0            fremont/union city/newark  \n",
       "8          1.0                             berkeley  \n",
       "9          1.0       concord/pleasant hill/martinez  \n",
       "10         1.0       concord/pleasant hill/martinez  \n",
       "11         1.0           oakland lake merritt/grand  \n",
       "12         2.0                         oakland west  \n",
       "13         1.0           oakland lake merritt/grand  \n",
       "14         1.0                             berkeley  \n",
       "15         2.0            fremont/union city/newark  \n",
       "16         1.0                             san jose  \n",
       "17         2.0                     soma/south beach  \n",
       "18         2.0           oakland lake merritt/grand  \n",
       "19         2.0                    marina/cow hollow  \n",
       "20         2.0                    marina/cow hollow  \n",
       "21         2.0                    marina/cow hollow  \n",
       "22         2.0                    marina/cow hollow  \n",
       "23         2.0                    marina/cow hollow  \n",
       "24         2.0                    marina/cow hollow  \n",
       "25         2.0                    marina/cow hollow  \n",
       "26         2.0                    marina/cow hollow  \n",
       "27         3.0                    marina/cow hollow  \n",
       "28         1.0                           burlingame  \n",
       "29         3.0                    marina/cow hollow  \n",
       "...        ...                                  ...  \n",
       "2970       1.0                  castro/upper market  \n",
       "2971       1.0                        san francisco  \n",
       "2972       2.0           rincon hill, san francisco  \n",
       "2973       3.0           north beach/telegraph hill  \n",
       "2974       2.0                  castro/upper market  \n",
       "2975       1.0              dogpatch, san francisco  \n",
       "2976       2.0                        san francisco  \n",
       "2977       NaN                  fairfield/vacaville  \n",
       "2978       1.0              dogpatch, san francisco  \n",
       "2979       2.0                        san francisco  \n",
       "2980       1.0                     soma/south beach  \n",
       "2981       NaN                        mountain view  \n",
       "2982       2.0           rincon hill, san francisco  \n",
       "2983       1.0                        san francisco  \n",
       "2984       2.0                        san francisco  \n",
       "2985       2.0                        san francisco  \n",
       "2986       1.0                     soma/south beach  \n",
       "2987       2.0                     soma/south beach  \n",
       "2988       NaN                             san jose  \n",
       "2989       1.0           rincon hill, san francisco  \n",
       "2990       1.0           rincon hill, san francisco  \n",
       "2991       2.0                            los gatos  \n",
       "2992       1.0                            palo alto  \n",
       "2993       2.0                        san francisco  \n",
       "2994       2.0                             san jose  \n",
       "2995       1.0                          foster city  \n",
       "2996       2.0  hercules, pinole, san pablo, el sob  \n",
       "2997       1.0                            sunnyvale  \n",
       "2998       1.0                            sunnyvale  \n",
       "2999       2.0                                  NaN  \n",
       "\n",
       "[3000 rows x 6 columns]"
      ]
     },
     "execution_count": 467,
     "metadata": {},
     "output_type": "execute_result"
    }
   ],
   "source": [
    "cleaned_data.loc[cleaned_data['neighborhood'].isna()]\n",
    "\n",
    "## sometimes None, sometimes NaN; standardize\n",
    "\n",
    "cleaned_data"
   ]
  },
  {
   "cell_type": "code",
   "execution_count": null,
   "metadata": {},
   "outputs": [],
   "source": []
  },
  {
   "cell_type": "code",
   "execution_count": null,
   "metadata": {},
   "outputs": [],
   "source": []
  },
  {
   "cell_type": "code",
   "execution_count": 25,
   "metadata": {},
   "outputs": [],
   "source": []
  },
  {
   "cell_type": "code",
   "execution_count": null,
   "metadata": {},
   "outputs": [],
   "source": []
  },
  {
   "cell_type": "code",
   "execution_count": null,
   "metadata": {},
   "outputs": [],
   "source": []
  },
  {
   "cell_type": "code",
   "execution_count": 26,
   "metadata": {},
   "outputs": [],
   "source": [
    "#make a data frame (and save to csv)\n",
    "cdata = {'description':descs,\n",
    "         'link':links,\n",
    "         'bedrooms':bedrooms,\n",
    "         'sq. feet':sqfeets,\n",
    "         'neighborhood':hood4, #note: using the (partially) cleaned hood4\n",
    "         'price':prices}\n",
    "df = pd.DataFrame(cdata)\n",
    "\n",
    "\n",
    "\n",
    "df.to_csv('craigslist_bay_area_rentals.csv')\n",
    "#df = pd.read_csv('craigslist_bay_area_rentals.csv',index_col=0)"
   ]
  },
  {
   "cell_type": "code",
   "execution_count": null,
   "metadata": {},
   "outputs": [],
   "source": []
  },
  {
   "cell_type": "code",
   "execution_count": 27,
   "metadata": {},
   "outputs": [
    {
     "name": "stdout",
     "output_type": "stream",
     "text": [
      "There are 41 listings with missing neighborhood information.\n"
     ]
    }
   ],
   "source": [
    "#still missing neighborhoods?\n",
    "print(f\"There are {  len(df[df['neighborhood'].isna()])  } listings with missing neighborhood information.\")\n",
    "      \n",
    "      "
   ]
  },
  {
   "cell_type": "markdown",
   "metadata": {},
   "source": [
    "Drop duplicate postings, remove rows with missing data (and sometimes rescale so all features have similar range)."
   ]
  },
  {
   "cell_type": "code",
   "execution_count": 28,
   "metadata": {},
   "outputs": [],
   "source": [
    "\n",
    "df_no_duplicates=df.drop_duplicates(subset=['description','price'])\n",
    "\n",
    "\n",
    "dfclean=df_no_duplicates.dropna()[:] #remove rows with missing data\n",
    "\n",
    "#not using area as a feature now\n",
    "#dfclean['1000sqfeet']=dfclean['sq. feet']/1000  #normalize so all features are order 1 (no area is in 1000s of square feet)\n",
    "#no need to rescale price when only using one feature per neighborhood\n",
    "#dfclean['pricek']=dfclean['price']/1000 #normalize so all features are order 1 (price is in thousands of dollars)\n",
    "\n",
    "#discard listings with truly enormous rent (probably actually for sale)\n",
    "dfclean=dfclean.loc[dfclean['price']<1e4]\n"
   ]
  },
  {
   "cell_type": "code",
   "execution_count": 29,
   "metadata": {},
   "outputs": [],
   "source": [
    "#narrow down neighborhoods considered. there are too many, with not enough samples for most.\n",
    "byhood=dfclean.groupby(by='neighborhood').count()['description'].sort_values(ascending=False)\n",
    "maxhoods=list(byhood[byhood>50].index) #pick off only neighborhoods with >50 listings"
   ]
  },
  {
   "cell_type": "code",
   "execution_count": 30,
   "metadata": {},
   "outputs": [],
   "source": [
    "#not using these now\n",
    "# #neighborhood dummy variables\n",
    "\n",
    "# for nh in maxhoods:\n",
    "#     if type(nh) is not float:\n",
    "#         dfclean[nh]=np.zeros(len(dfclean))\n",
    "#         dfclean.loc[dfclean['neighborhood']==nh,nh]=1"
   ]
  },
  {
   "cell_type": "code",
   "execution_count": 31,
   "metadata": {},
   "outputs": [
    {
     "data": {
      "text/plain": [
       "['san francisco',\n",
       " 'san jose',\n",
       " 'mountain view',\n",
       " 'sunnyvale',\n",
       " 'fremont / union city / newark',\n",
       " 'santa clara',\n",
       " 'dublin / pleasanton / livermore',\n",
       " 'cupertino']"
      ]
     },
     "execution_count": 31,
     "metadata": {},
     "output_type": "execute_result"
    }
   ],
   "source": [
    "maxhoods"
   ]
  },
  {
   "cell_type": "code",
   "execution_count": null,
   "metadata": {},
   "outputs": [],
   "source": []
  },
  {
   "cell_type": "markdown",
   "metadata": {},
   "source": [
    "## build a data frame with only the neighborhoods from maxhoods"
   ]
  },
  {
   "cell_type": "code",
   "execution_count": 32,
   "metadata": {},
   "outputs": [],
   "source": [
    "#let's just consider neighborhood and price per room as features.\n",
    "\n",
    "#make a new dataframe with only listings in these neighborhoods\n",
    "listofframes=[];\n",
    "for i,nh in enumerate(maxhoods):\n",
    "    dfnh=dfclean.loc[dfclean['neighborhood']==nh]\n",
    "    listofframes.append(dfnh)\n",
    "\n",
    "dflim=pd.concat(listofframes)\n",
    "\n",
    "#add a feature: rent per room\n",
    "dflim['rent per room'] = dflim['price']/dflim['bedrooms'];"
   ]
  },
  {
   "cell_type": "markdown",
   "metadata": {},
   "source": [
    "## visualize"
   ]
  },
  {
   "cell_type": "code",
   "execution_count": 33,
   "metadata": {},
   "outputs": [
    {
     "data": {
      "image/png": "[encoded data removed]",
      "text/plain": [
       "<Figure size 360x1080 with 8 Axes>"
      ]
     },
     "metadata": {
      "needs_background": "light"
     },
     "output_type": "display_data"
    }
   ],
   "source": [
    "#plot price distributions for each neighborhood\n",
    "fig,ax = plt.subplots(len(maxhoods),figsize=(5,15),sharex=True)\n",
    "plt.subplots_adjust(hspace=1)\n",
    "for i,nh in enumerate(maxhoods):\n",
    "    ax[i].hist(dflim.loc[dflim['neighborhood']==nh]['rent per room'],bins=10)\n",
    "    ax[i].set_title(nh)\n",
    "    ax[i].set_xlabel('rent per room ($)')"
   ]
  },
  {
   "cell_type": "code",
   "execution_count": 34,
   "metadata": {},
   "outputs": [],
   "source": [
    "# cm = plt.cm.get_cmap('tab10')\n",
    "# colors = [cm(1.*i/10) for i in range(len(maxhoods))];\n",
    "# cdict = dict(zip(maxhoods,colors))\n",
    "# clist = [cdict[nh] for nh in maxhoods]\n",
    "\n",
    "\n",
    "# fig,ax=plt.subplots(figsize=(12,12))\n",
    "\n",
    "# nhcount=[]\n",
    "# legendlist=[];\n",
    "# for i,nh in enumerate(maxhoods):\n",
    "#     dfnh=dfclean.loc[dfclean['neighborhood']==nh].sample(frac=1)\n",
    "#     ax.scatter(dfnh['sq. feet'],dfnh['price'],c=clist[i])\n",
    "#     legendlist.append(nh)\n",
    "#     nhcount.append([nh,len(dfnh)])\n",
    "# ax.legend(legendlist);#,bbox_to_anchor = (1,1));\n",
    "# ax.set_xlabel('sq. feet');\n",
    "# ax.set_ylabel('price ($)');"
   ]
  },
  {
   "cell_type": "markdown",
   "metadata": {},
   "source": [
    "## fit a gaussian to rent per room data, for each neighborhood"
   ]
  },
  {
   "cell_type": "code",
   "execution_count": 35,
   "metadata": {},
   "outputs": [],
   "source": [
    "#for each neighborhood, just fit price to a (1-dimensional) gaussian.\n",
    "\n",
    "\n",
    "#dfsimple = dfclean[['rent per room']+maxhoods]\n",
    "#dfsimple.head()\n",
    "\n",
    "##split off some test data\n",
    "#actually, no need, since i have no labels anyway.\n",
    "dftrain=dflim[:]\n",
    "#dftrain=dflim.sample(frac=.7)\n",
    "#dftest = dflim.drop(dftrain.index)\n",
    "\n",
    "\n",
    "\n",
    "Xnhs=[];\n",
    "munh=[];\n",
    "signh=[];\n",
    "for nh in maxhoods:\n",
    "    Xnh = dftrain.loc[dftrain['neighborhood']==nh]['rent per room'].values\n",
    "    Xnhs.append(Xnh)\n",
    "    munh.append(np.mean(Xnh));\n",
    "    signh.append(np.std(Xnh));\n",
    "    \n"
   ]
  },
  {
   "cell_type": "code",
   "execution_count": 36,
   "metadata": {},
   "outputs": [
    {
     "name": "stdout",
     "output_type": "stream",
     "text": [
      "The mean rent per room in San Francisco is $2945.31.\n"
     ]
    }
   ],
   "source": [
    "print(f\"The mean rent per room in San Francisco is ${np.round(munh[maxhoods.index('san francisco')],2)}.\")"
   ]
  },
  {
   "cell_type": "markdown",
   "metadata": {},
   "source": [
    "But the price distributions tend to have long tails in the higher price ranges, which pulls the mean up. The most common prices are usually a bit below the mean. In a future iteration of this project, I'll try to account for this by using a skewed distribution."
   ]
  },
  {
   "cell_type": "code",
   "execution_count": 37,
   "metadata": {},
   "outputs": [],
   "source": [
    "#define gaussian in case i ever need it..\n",
    "def gauss(x,mu,sig):\n",
    "    pi=np.pi\n",
    "    norm = ((2*pi)**.5)*sig\n",
    "    exponent = (x-mu)**2/(2*sig**2)\n",
    "    return np.exp(-exponent)/norm"
   ]
  },
  {
   "cell_type": "code",
   "execution_count": null,
   "metadata": {},
   "outputs": [],
   "source": []
  },
  {
   "cell_type": "code",
   "execution_count": null,
   "metadata": {},
   "outputs": [],
   "source": []
  },
  {
   "cell_type": "code",
   "execution_count": null,
   "metadata": {},
   "outputs": [],
   "source": []
  },
  {
   "cell_type": "markdown",
   "metadata": {},
   "source": [
    "## Flag listings with rent per room sufficiently below the neighborhood mean:"
   ]
  },
  {
   "cell_type": "code",
   "execution_count": 38,
   "metadata": {},
   "outputs": [],
   "source": [
    "sigmas=1 #number of standard deviations from mean to be called an anomaly\n",
    "def isitadeal(rent_per_room,nh): \n",
    "    mu = munh[ maxhoods.index(nh) ];\n",
    "    sig = signh[ maxhoods.index(nh) ];\n",
    "    if rent_per_room < mu - sigmas*sig:\n",
    "        return(1)\n",
    "    else:\n",
    "        return(0)\n",
    "    \n",
    "#     if len(rent_per_room) != len(nh):\n",
    "#         print('Oh no! Input arrays must be the same length.')\n",
    "#     else:\n",
    "#         prediction=np.zeros(len(rent_per_room))\n",
    "#         prediction[rent_per_room < mu - sigmas*sig]  = 1\n"
   ]
  },
  {
   "cell_type": "code",
   "execution_count": 39,
   "metadata": {},
   "outputs": [
    {
     "name": "stdout",
     "output_type": "stream",
     "text": [
      "Here are the (possible) deals or scams:\n"
     ]
    },
    {
     "data": {
      "text/html": [
       "<div>\n",
       "<style scoped>\n",
       "    .dataframe tbody tr th:only-of-type {\n",
       "        vertical-align: middle;\n",
       "    }\n",
       "\n",
       "    .dataframe tbody tr th {\n",
       "        vertical-align: top;\n",
       "    }\n",
       "\n",
       "    .dataframe thead th {\n",
       "        text-align: right;\n",
       "    }\n",
       "</style>\n",
       "<table border=\"1\" class=\"dataframe\">\n",
       "  <thead>\n",
       "    <tr style=\"text-align: right;\">\n",
       "      <th></th>\n",
       "      <th>description</th>\n",
       "      <th>link</th>\n",
       "      <th>bedrooms</th>\n",
       "      <th>neighborhood</th>\n",
       "      <th>price</th>\n",
       "      <th>rent per room</th>\n",
       "    </tr>\n",
       "  </thead>\n",
       "  <tbody>\n",
       "    <tr>\n",
       "      <th>1184</th>\n",
       "      <td>Brand new 1/1 furnished apt</td>\n",
       "      <td>https://sfbay.craigslist.org/sby/apa/d/santa-c...</td>\n",
       "      <td>1.0</td>\n",
       "      <td>santa clara</td>\n",
       "      <td>120.0</td>\n",
       "      <td>120.000000</td>\n",
       "    </tr>\n",
       "    <tr>\n",
       "      <th>1439</th>\n",
       "      <td>Find Your Perfect Apartment Home Here</td>\n",
       "      <td>https://sfbay.craigslist.org/sby/apa/d/mountai...</td>\n",
       "      <td>2.0</td>\n",
       "      <td>sunnyvale</td>\n",
       "      <td>1000.0</td>\n",
       "      <td>500.000000</td>\n",
       "    </tr>\n",
       "    <tr>\n",
       "      <th>2416</th>\n",
       "      <td>ELEGANT  HOME FOR RENT IN THE LAWRENCE RANCH</td>\n",
       "      <td>https://sfbay.craigslist.org/eby/apa/d/tracy-e...</td>\n",
       "      <td>4.0</td>\n",
       "      <td>dublin / pleasanton / livermore</td>\n",
       "      <td>2850.0</td>\n",
       "      <td>712.500000</td>\n",
       "    </tr>\n",
       "    <tr>\n",
       "      <th>376</th>\n",
       "      <td>5  BEDROOM FLAT REMODELED BEST PRICE &amp; LOCATION</td>\n",
       "      <td>https://sfbay.craigslist.org/sfc/apa/d/san-fra...</td>\n",
       "      <td>5.0</td>\n",
       "      <td>san francisco</td>\n",
       "      <td>3950.0</td>\n",
       "      <td>790.000000</td>\n",
       "    </tr>\n",
       "    <tr>\n",
       "      <th>786</th>\n",
       "      <td>Head-turning Style, Extraordinary Location.</td>\n",
       "      <td>https://sfbay.craigslist.org/eby/apa/d/tracy-h...</td>\n",
       "      <td>3.0</td>\n",
       "      <td>dublin / pleasanton / livermore</td>\n",
       "      <td>2395.0</td>\n",
       "      <td>798.333333</td>\n",
       "    </tr>\n",
       "  </tbody>\n",
       "</table>\n",
       "</div>"
      ],
      "text/plain": [
       "                                          description  \\\n",
       "1184                      Brand new 1/1 furnished apt   \n",
       "1439            Find Your Perfect Apartment Home Here   \n",
       "2416     ELEGANT  HOME FOR RENT IN THE LAWRENCE RANCH   \n",
       "376   5  BEDROOM FLAT REMODELED BEST PRICE & LOCATION   \n",
       "786       Head-turning Style, Extraordinary Location.   \n",
       "\n",
       "                                                   link  bedrooms  \\\n",
       "1184  https://sfbay.craigslist.org/sby/apa/d/santa-c...       1.0   \n",
       "1439  https://sfbay.craigslist.org/sby/apa/d/mountai...       2.0   \n",
       "2416  https://sfbay.craigslist.org/eby/apa/d/tracy-e...       4.0   \n",
       "376   https://sfbay.craigslist.org/sfc/apa/d/san-fra...       5.0   \n",
       "786   https://sfbay.craigslist.org/eby/apa/d/tracy-h...       3.0   \n",
       "\n",
       "                         neighborhood   price  rent per room  \n",
       "1184                      santa clara   120.0     120.000000  \n",
       "1439                        sunnyvale  1000.0     500.000000  \n",
       "2416  dublin / pleasanton / livermore  2850.0     712.500000  \n",
       "376                     san francisco  3950.0     790.000000  \n",
       "786   dublin / pleasanton / livermore  2395.0     798.333333  "
      ]
     },
     "execution_count": 39,
     "metadata": {},
     "output_type": "execute_result"
    }
   ],
   "source": [
    "pp=dflim['rent per room'].values\n",
    "nh = dflim['neighborhood'].values\n",
    "\n",
    "predictions=np.zeros(len(dflim))\n",
    "for i in range(len(pp)):\n",
    "    predictions[i] = isitadeal(pp[i],nh[i])\n",
    "    \n",
    "dflim['deal?'] = predictions\n",
    "\n",
    "print('Here are the (possible) deals or scams:')\n",
    "dfdeals=dflim.loc[dflim['deal?']==1][['description','link','bedrooms','neighborhood','price','rent per room']].sort_values(by='rent per room')\n",
    "\n",
    "dfdeals.head()"
   ]
  },
  {
   "cell_type": "markdown",
   "metadata": {},
   "source": [
    "sanity check: Indeed, it seems homes with more rooms are cheaper per room."
   ]
  },
  {
   "cell_type": "code",
   "execution_count": 40,
   "metadata": {},
   "outputs": [
    {
     "name": "stdout",
     "output_type": "stream",
     "text": [
      "with links:\n"
     ]
    },
    {
     "data": {
      "text/html": [
       "<a href=https://sfbay.craigslist.org/sby/apa/d/santa-clara-brand-new-1-1-furnished-apt/7076634164.html target='_blank'> $120.0 per room in a Santa clara 1-bedroom. </a>"
      ],
      "text/plain": [
       "<IPython.core.display.HTML object>"
      ]
     },
     "metadata": {},
     "output_type": "display_data"
    },
    {
     "data": {
      "text/html": [
       "<a href=https://sfbay.craigslist.org/sby/apa/d/mountain-view-find-your-perfect/7076604233.html target='_blank'> $500.0 per room in a Sunnyvale 2-bedroom. </a>"
      ],
      "text/plain": [
       "<IPython.core.display.HTML object>"
      ]
     },
     "metadata": {},
     "output_type": "display_data"
    },
    {
     "data": {
      "text/html": [
       "<a href=https://sfbay.craigslist.org/eby/apa/d/tracy-elegant-home-for-rent-in-the/7076497316.html target='_blank'> $712.0 per room in a Dublin / pleasanton / livermore 4-bedroom. </a>"
      ],
      "text/plain": [
       "<IPython.core.display.HTML object>"
      ]
     },
     "metadata": {},
     "output_type": "display_data"
    },
    {
     "data": {
      "text/html": [
       "<a href=https://sfbay.craigslist.org/sfc/apa/d/san-francisco-5-bedroom-flat-remodeled/7073762231.html target='_blank'> $790.0 per room in a San francisco 5-bedroom. </a>"
      ],
      "text/plain": [
       "<IPython.core.display.HTML object>"
      ]
     },
     "metadata": {},
     "output_type": "display_data"
    },
    {
     "data": {
      "text/html": [
       "<a href=https://sfbay.craigslist.org/eby/apa/d/tracy-head-turning-style-extraordinary/7076669359.html target='_blank'> $798.0 per room in a Dublin / pleasanton / livermore 3-bedroom. </a>"
      ],
      "text/plain": [
       "<IPython.core.display.HTML object>"
      ]
     },
     "metadata": {},
     "output_type": "display_data"
    },
    {
     "data": {
      "text/html": [
       "<a href=https://sfbay.craigslist.org/eby/apa/d/tracy-best-location-inside-laundry-call/7076669664.html target='_blank'> $798.0 per room in a Dublin / pleasanton / livermore 3-bedroom. </a>"
      ],
      "text/plain": [
       "<IPython.core.display.HTML object>"
      ]
     },
     "metadata": {},
     "output_type": "display_data"
    },
    {
     "data": {
      "text/html": [
       "<a href=https://sfbay.craigslist.org/eby/apa/d/tracy-right-next-to-costco-what-could/7076670131.html target='_blank'> $798.0 per room in a Dublin / pleasanton / livermore 3-bedroom. </a>"
      ],
      "text/plain": [
       "<IPython.core.display.HTML object>"
      ]
     },
     "metadata": {},
     "output_type": "display_data"
    },
    {
     "data": {
      "text/html": [
       "<a href=https://sfbay.craigslist.org/eby/apa/d/tracy-looking-for-convenience-well-look/7076625645.html target='_blank'> $798.0 per room in a Dublin / pleasanton / livermore 3-bedroom. </a>"
      ],
      "text/plain": [
       "<IPython.core.display.HTML object>"
      ]
     },
     "metadata": {},
     "output_type": "display_data"
    },
    {
     "data": {
      "text/html": [
       "<a href=https://sfbay.craigslist.org/sby/apa/d/san-jose-beautiful-5-bedroom-4-bath-home/7076742785.html target='_blank'> $855.0 per room in a San jose 5-bedroom. </a>"
      ],
      "text/plain": [
       "<IPython.core.display.HTML object>"
      ]
     },
     "metadata": {},
     "output_type": "display_data"
    },
    {
     "data": {
      "text/html": [
       "<a href=https://sfbay.craigslist.org/sby/apa/d/santa-clara-amazingly-remodeled-2/7076505910.html target='_blank'> $875.0 per room in a Santa clara 2-bedroom. </a>"
      ],
      "text/plain": [
       "<IPython.core.display.HTML object>"
      ]
     },
     "metadata": {},
     "output_type": "display_data"
    },
    {
     "data": {
      "text/html": [
       "<a href=https://sfbay.craigslist.org/sby/apa/d/san-jose-remodeled-4-bed-25-baths/7070702305.html target='_blank'> $875.0 per room in a San jose 4-bedroom. </a>"
      ],
      "text/plain": [
       "<IPython.core.display.HTML object>"
      ]
     },
     "metadata": {},
     "output_type": "display_data"
    },
    {
     "data": {
      "text/html": [
       "<a href=https://sfbay.craigslist.org/sby/apa/d/san-jose-beautiful-home-near-almaden/7059261186.html target='_blank'> $879.0 per room in a San jose 5-bedroom. </a>"
      ],
      "text/plain": [
       "<IPython.core.display.HTML object>"
      ]
     },
     "metadata": {},
     "output_type": "display_data"
    },
    {
     "data": {
      "text/html": [
       "<a href=https://sfbay.craigslist.org/eby/apa/d/pleasanton-3-bed-1-bath-newly-renovated/7076578014.html target='_blank'> $900.0 per room in a Dublin / pleasanton / livermore 3-bedroom. </a>"
      ],
      "text/plain": [
       "<IPython.core.display.HTML object>"
      ]
     },
     "metadata": {},
     "output_type": "display_data"
    },
    {
     "data": {
      "text/html": [
       "<a href=https://sfbay.craigslist.org/eby/apa/d/dublin-near-bart-single-family-home-4/7068929917.html target='_blank'> $900.0 per room in a Dublin / pleasanton / livermore 4-bedroom. </a>"
      ],
      "text/plain": [
       "<IPython.core.display.HTML object>"
      ]
     },
     "metadata": {},
     "output_type": "display_data"
    },
    {
     "data": {
      "text/html": [
       "<a href=https://sfbay.craigslist.org/sby/apa/d/san-jose-4-bd-1-bath-house-1140-sqft/7068664570.html target='_blank'> $925.0 per room in a San jose 4-bedroom. </a>"
      ],
      "text/plain": [
       "<IPython.core.display.HTML object>"
      ]
     },
     "metadata": {},
     "output_type": "display_data"
    },
    {
     "data": {
      "text/html": [
       "<a href=https://sfbay.craigslist.org/sby/apa/d/san-jose-come-see-why-were-absolutely/7074920975.html target='_blank'> $965.0 per room in a San jose 3-bedroom. </a>"
      ],
      "text/plain": [
       "<IPython.core.display.HTML object>"
      ]
     },
     "metadata": {},
     "output_type": "display_data"
    },
    {
     "data": {
      "text/html": [
       "<a href=https://sfbay.craigslist.org/sby/apa/d/san-jose-fabulous-three-bed-2-baths/7076583487.html target='_blank'> $965.0 per room in a San jose 3-bedroom. </a>"
      ],
      "text/plain": [
       "<IPython.core.display.HTML object>"
      ]
     },
     "metadata": {},
     "output_type": "display_data"
    },
    {
     "data": {
      "text/html": [
       "<a href=https://sfbay.craigslist.org/eby/apa/d/fremont-3-bedroom-2-bath-condo-for-rent/7067757633.html target='_blank'> $967.0 per room in a Fremont / union city / newark 3-bedroom. </a>"
      ],
      "text/plain": [
       "<IPython.core.display.HTML object>"
      ]
     },
     "metadata": {},
     "output_type": "display_data"
    },
    {
     "data": {
      "text/html": [
       "<a href=https://sfbay.craigslist.org/sby/apa/d/san-jose-beautiful-spacious-3-bed-15-ba/7076571146.html target='_blank'> $967.0 per room in a San jose 3-bedroom. </a>"
      ],
      "text/plain": [
       "<IPython.core.display.HTML object>"
      ]
     },
     "metadata": {},
     "output_type": "display_data"
    },
    {
     "data": {
      "text/html": [
       "<a href=https://sfbay.craigslist.org/sby/apa/d/san-jose-new-4bed-3bath-condo-with/7071145790.html target='_blank'> $970.0 per room in a San jose 4-bedroom. </a>"
      ],
      "text/plain": [
       "<IPython.core.display.HTML object>"
      ]
     },
     "metadata": {},
     "output_type": "display_data"
    },
    {
     "data": {
      "text/html": [
       "<a href=https://sfbay.craigslist.org/sfc/apa/d/san-francisco-37fsmall-studiocleanno/7076604072.html target='_blank'> $995.0 per room in a San francisco 1-bedroom. </a>"
      ],
      "text/plain": [
       "<IPython.core.display.HTML object>"
      ]
     },
     "metadata": {},
     "output_type": "display_data"
    },
    {
     "data": {
      "text/html": [
       "<a href=https://sfbay.craigslist.org/sby/apa/d/san-jose-san-jose-2-bedroom-unit-for/7076518469.html target='_blank'> $998.0 per room in a San jose 2-bedroom. </a>"
      ],
      "text/plain": [
       "<IPython.core.display.HTML object>"
      ]
     },
     "metadata": {},
     "output_type": "display_data"
    },
    {
     "data": {
      "text/html": [
       "<a href=https://sfbay.craigslist.org/sby/apa/d/san-jose-san-jose-2-bedroom-unit-for/7076518097.html target='_blank'> $998.0 per room in a San jose 2-bedroom. </a>"
      ],
      "text/plain": [
       "<IPython.core.display.HTML object>"
      ]
     },
     "metadata": {},
     "output_type": "display_data"
    },
    {
     "data": {
      "text/html": [
       "<a href=https://sfbay.craigslist.org/sby/apa/d/san-jose-san-jose-2-bedroom-unitnice/7074929483.html target='_blank'> $998.0 per room in a San jose 2-bedroom. </a>"
      ],
      "text/plain": [
       "<IPython.core.display.HTML object>"
      ]
     },
     "metadata": {},
     "output_type": "display_data"
    },
    {
     "data": {
      "text/html": [
       "<a href=https://sfbay.craigslist.org/sby/apa/d/san-jose-san-jose-2-bedroom-unit-for/7074918488.html target='_blank'> $998.0 per room in a San jose 2-bedroom. </a>"
      ],
      "text/plain": [
       "<IPython.core.display.HTML object>"
      ]
     },
     "metadata": {},
     "output_type": "display_data"
    },
    {
     "data": {
      "text/html": [
       "<a href=https://sfbay.craigslist.org/eby/apa/d/pleasanton-pleasanton-townhouse-downtown/7064308497.html target='_blank'> $998.0 per room in a Dublin / pleasanton / livermore 3-bedroom. </a>"
      ],
      "text/plain": [
       "<IPython.core.display.HTML object>"
      ]
     },
     "metadata": {},
     "output_type": "display_data"
    },
    {
     "data": {
      "text/html": [
       "<a href=https://sfbay.craigslist.org/sby/apa/d/promo-furnished-house-all-inclusive/7065826777.html target='_blank'> $1000.0 per room in a San jose 4-bedroom. </a>"
      ],
      "text/plain": [
       "<IPython.core.display.HTML object>"
      ]
     },
     "metadata": {},
     "output_type": "display_data"
    },
    {
     "data": {
      "text/html": [
       "<a href=https://sfbay.craigslist.org/sby/apa/d/promo-furnished-house-all-inclusive/7065671897.html target='_blank'> $1000.0 per room in a San jose 4-bedroom. </a>"
      ],
      "text/plain": [
       "<IPython.core.display.HTML object>"
      ]
     },
     "metadata": {},
     "output_type": "display_data"
    },
    {
     "data": {
      "text/html": [
       "<a href=https://sfbay.craigslist.org/sby/apa/d/san-jose-large-4-br-3-ba-2-car-garage/7076650484.html target='_blank'> $1000.0 per room in a San jose 4-bedroom. </a>"
      ],
      "text/plain": [
       "<IPython.core.display.HTML object>"
      ]
     },
     "metadata": {},
     "output_type": "display_data"
    },
    {
     "data": {
      "text/html": [
       "<a href=https://sfbay.craigslist.org/sby/apa/d/cupertino-cupertino-1-rm-1000-de-anza/7073124695.html target='_blank'> $1000.0 per room in a Cupertino 1-bedroom. </a>"
      ],
      "text/plain": [
       "<IPython.core.display.HTML object>"
      ]
     },
     "metadata": {},
     "output_type": "display_data"
    },
    {
     "data": {
      "text/html": [
       "<a href=https://sfbay.craigslist.org/eby/apa/d/fremont-br-lovely-mission-san-jose-home/7076707254.html target='_blank'> $1000.0 per room in a Fremont / union city / newark 4-bedroom. </a>"
      ],
      "text/plain": [
       "<IPython.core.display.HTML object>"
      ]
     },
     "metadata": {},
     "output_type": "display_data"
    },
    {
     "data": {
      "text/html": [
       "<a href=https://sfbay.craigslist.org/eby/apa/d/union-city-amazing-2bed-1bath-apartment/7076693480.html target='_blank'> $1000.0 per room in a Fremont / union city / newark 2-bedroom. </a>"
      ],
      "text/plain": [
       "<IPython.core.display.HTML object>"
      ]
     },
     "metadata": {},
     "output_type": "display_data"
    },
    {
     "data": {
      "text/html": [
       "<a href=https://sfbay.craigslist.org/eby/apa/d/fremont-fremont-msj-3-bed-15-bath/7075293847.html target='_blank'> $1000.0 per room in a Fremont / union city / newark 3-bedroom. </a>"
      ],
      "text/plain": [
       "<IPython.core.display.HTML object>"
      ]
     },
     "metadata": {},
     "output_type": "display_data"
    },
    {
     "data": {
      "text/html": [
       "<a href=https://sfbay.craigslist.org/sfc/apa/d/ft-in-law-studio-room-no-kitchenette/7076684679.html target='_blank'> $1000.0 per room in a San francisco 1-bedroom. </a>"
      ],
      "text/plain": [
       "<IPython.core.display.HTML object>"
      ]
     },
     "metadata": {},
     "output_type": "display_data"
    },
    {
     "data": {
      "text/html": [
       "<a href=https://sfbay.craigslist.org/sby/apa/d/cupertino-cupertino-3br-2ba-apt/7070283512.html target='_blank'> $1032.0 per room in a Cupertino 3-bedroom. </a>"
      ],
      "text/plain": [
       "<IPython.core.display.HTML object>"
      ]
     },
     "metadata": {},
     "output_type": "display_data"
    },
    {
     "data": {
      "text/html": [
       "<a href=https://sfbay.craigslist.org/eby/apa/d/tracy-deposit-moves-you-in-no-rent/7076489502.html target='_blank'> $1048.0 per room in a Dublin / pleasanton / livermore 2-bedroom. </a>"
      ],
      "text/plain": [
       "<IPython.core.display.HTML object>"
      ]
     },
     "metadata": {},
     "output_type": "display_data"
    },
    {
     "data": {
      "text/html": [
       "<a href=https://sfbay.craigslist.org/sby/apa/d/san-jose-move-in-ready-stainless-steel/7075396107.html target='_blank'> $1048.0 per room in a San jose 3-bedroom. </a>"
      ],
      "text/plain": [
       "<IPython.core.display.HTML object>"
      ]
     },
     "metadata": {},
     "output_type": "display_data"
    },
    {
     "data": {
      "text/html": [
       "<a href=https://sfbay.craigslist.org/eby/apa/d/livermore-2x1-in-home-washer-and-dryer/7076547749.html target='_blank'> $1052.0 per room in a Dublin / pleasanton / livermore 2-bedroom. </a>"
      ],
      "text/plain": [
       "<IPython.core.display.HTML object>"
      ]
     },
     "metadata": {},
     "output_type": "display_data"
    },
    {
     "data": {
      "text/html": [
       "<a href=https://sfbay.craigslist.org/eby/apa/d/pleasanton-single-family-home/7074245619.html target='_blank'> $1067.0 per room in a Dublin / pleasanton / livermore 3-bedroom. </a>"
      ],
      "text/plain": [
       "<IPython.core.display.HTML object>"
      ]
     },
     "metadata": {},
     "output_type": "display_data"
    },
    {
     "data": {
      "text/html": [
       "<a href=https://sfbay.craigslist.org/sby/apa/d/sunnyvale-sunnyvale-3-15bath-plex-good/7073124142.html target='_blank'> $1067.0 per room in a Sunnyvale 3-bedroom. </a>"
      ],
      "text/plain": [
       "<IPython.core.display.HTML object>"
      ]
     },
     "metadata": {},
     "output_type": "display_data"
    },
    {
     "data": {
      "text/html": [
       "<a href=https://sfbay.craigslist.org/eby/apa/d/tracy-lease-your-brand-new-apartment-at/7076653421.html target='_blank'> $1072.0 per room in a Dublin / pleasanton / livermore 2-bedroom. </a>"
      ],
      "text/plain": [
       "<IPython.core.display.HTML object>"
      ]
     },
     "metadata": {},
     "output_type": "display_data"
    },
    {
     "data": {
      "text/html": [
       "<a href=https://sfbay.craigslist.org/sby/apa/d/san-jose-3x2-large-patio-d-in-unit/7076657007.html target='_blank'> $1080.0 per room in a San jose 3-bedroom. </a>"
      ],
      "text/plain": [
       "<IPython.core.display.HTML object>"
      ]
     },
     "metadata": {},
     "output_type": "display_data"
    },
    {
     "data": {
      "text/html": [
       "<a href=https://sfbay.craigslist.org/sby/apa/d/san-jose-gorgeous-bright-remodeled/7076568333.html target='_blank'> $1083.0 per room in a San jose 3-bedroom. </a>"
      ],
      "text/plain": [
       "<IPython.core.display.HTML object>"
      ]
     },
     "metadata": {},
     "output_type": "display_data"
    },
    {
     "data": {
      "text/html": [
       "<a href=https://sfbay.craigslist.org/sby/apa/d/nice-2-1-front-unit-condo-for-rent-95123/7063608727.html target='_blank'> $1098.0 per room in a San jose 2-bedroom. </a>"
      ],
      "text/plain": [
       "<IPython.core.display.HTML object>"
      ]
     },
     "metadata": {},
     "output_type": "display_data"
    },
    {
     "data": {
      "text/html": [
       "<a href=https://sfbay.craigslist.org/sby/apa/d/san-jose-nice-front-unit-2beds-1bath/7063613420.html target='_blank'> $1098.0 per room in a San jose 2-bedroom. </a>"
      ],
      "text/plain": [
       "<IPython.core.display.HTML object>"
      ]
     },
     "metadata": {},
     "output_type": "display_data"
    },
    {
     "data": {
      "text/html": [
       "<a href=https://sfbay.craigslist.org/sby/apa/d/san-jose-san-jose-nice-room-with/7076626880.html target='_blank'> $1100.0 per room in a San jose 1-bedroom. </a>"
      ],
      "text/plain": [
       "<IPython.core.display.HTML object>"
      ]
     },
     "metadata": {},
     "output_type": "display_data"
    },
    {
     "data": {
      "text/html": [
       "<a href=https://sfbay.craigslist.org/sby/apa/d/santa-clara-3-bed-15-bath-house/7068079145.html target='_blank'> $1100.0 per room in a Santa clara 3-bedroom. </a>"
      ],
      "text/plain": [
       "<IPython.core.display.HTML object>"
      ]
     },
     "metadata": {},
     "output_type": "display_data"
    },
    {
     "data": {
      "text/html": [
       "<a href=https://sfbay.craigslist.org/sby/apa/d/san-jose-3x2-large-patio-d-in-unit/7076685965.html target='_blank'> $1106.0 per room in a San jose 3-bedroom. </a>"
      ],
      "text/plain": [
       "<IPython.core.display.HTML object>"
      ]
     },
     "metadata": {},
     "output_type": "display_data"
    },
    {
     "data": {
      "text/html": [
       "<a href=https://sfbay.craigslist.org/sby/apa/d/san-jose-beautiful-3b-25b-rental-house/7076488673.html target='_blank'> $1116.0 per room in a San jose 3-bedroom. </a>"
      ],
      "text/plain": [
       "<IPython.core.display.HTML object>"
      ]
     },
     "metadata": {},
     "output_type": "display_data"
    },
    {
     "data": {
      "text/html": [
       "<a href=https://sfbay.craigslist.org/sby/apa/d/sunnyvale-3-2-home-near-to-lawrence/7076691342.html target='_blank'> $1117.0 per room in a Sunnyvale 3-bedroom. </a>"
      ],
      "text/plain": [
       "<IPython.core.display.HTML object>"
      ]
     },
     "metadata": {},
     "output_type": "display_data"
    },
    {
     "data": {
      "text/html": [
       "<a href=https://sfbay.craigslist.org/eby/apa/d/fremont-rare-3-bedroom-with-view-great/7076705219.html target='_blank'> $1123.0 per room in a Fremont / union city / newark 3-bedroom. </a>"
      ],
      "text/plain": [
       "<IPython.core.display.HTML object>"
      ]
     },
     "metadata": {},
     "output_type": "display_data"
    },
    {
     "data": {
      "text/html": [
       "<a href=https://sfbay.craigslist.org/sby/apa/d/san-jose-executive-4-bedroom-house-in/7076701020.html target='_blank'> $1125.0 per room in a San jose 4-bedroom. </a>"
      ],
      "text/plain": [
       "<IPython.core.display.HTML object>"
      ]
     },
     "metadata": {},
     "output_type": "display_data"
    },
    {
     "data": {
      "text/html": [
       "<a href=https://sfbay.craigslist.org/sby/apa/d/san-jose-3-beds-25-baths-well/7070727667.html target='_blank'> $1133.0 per room in a San jose 3-bedroom. </a>"
      ],
      "text/plain": [
       "<IPython.core.display.HTML object>"
      ]
     },
     "metadata": {},
     "output_type": "display_data"
    },
    {
     "data": {
      "text/html": [
       "<a href=https://sfbay.craigslist.org/sby/apa/d/san-jose-two-bedroom-extremely-spacious/7075391563.html target='_blank'> $1138.0 per room in a San jose 2-bedroom. </a>"
      ],
      "text/plain": [
       "<IPython.core.display.HTML object>"
      ]
     },
     "metadata": {},
     "output_type": "display_data"
    },
    {
     "data": {
      "text/html": [
       "<a href=https://sfbay.craigslist.org/sby/apa/d/san-jose-3br-2-br-garage-spectacular/7072636550.html target='_blank'> $1140.0 per room in a San jose 3-bedroom. </a>"
      ],
      "text/plain": [
       "<IPython.core.display.HTML object>"
      ]
     },
     "metadata": {},
     "output_type": "display_data"
    },
    {
     "data": {
      "text/html": [
       "<a href=https://sfbay.craigslist.org/eby/apa/d/union-city-cable-ready-disposal-move-in/7058014667.html target='_blank'> $1148.0 per room in a Fremont / union city / newark 2-bedroom. </a>"
      ],
      "text/plain": [
       "<IPython.core.display.HTML object>"
      ]
     },
     "metadata": {},
     "output_type": "display_data"
    },
    {
     "data": {
      "text/html": [
       "<a href=https://sfbay.craigslist.org/eby/apa/d/fremont-2bed-1bath-special-on-approved/7076671703.html target='_blank'> $1169.0 per room in a Fremont / union city / newark 2-bedroom. </a>"
      ],
      "text/plain": [
       "<IPython.core.display.HTML object>"
      ]
     },
     "metadata": {},
     "output_type": "display_data"
    },
    {
     "data": {
      "text/html": [
       "<a href=https://sfbay.craigslist.org/eby/apa/d/union-city-outdoor-spa-refrigerator/7072921155.html target='_blank'> $1172.0 per room in a Fremont / union city / newark 2-bedroom. </a>"
      ],
      "text/plain": [
       "<IPython.core.display.HTML object>"
      ]
     },
     "metadata": {},
     "output_type": "display_data"
    },
    {
     "data": {
      "text/html": [
       "<a href=https://sfbay.craigslist.org/sby/apa/d/san-jose-very-spacious-and-full-of/7074920672.html target='_blank'> $1175.0 per room in a San jose 2-bedroom. </a>"
      ],
      "text/plain": [
       "<IPython.core.display.HTML object>"
      ]
     },
     "metadata": {},
     "output_type": "display_data"
    },
    {
     "data": {
      "text/html": [
       "<a href=https://sfbay.craigslist.org/eby/apa/d/fremont-1180-share-1b1b-in-an-high-end/7075560458.html target='_blank'> $1180.0 per room in a Fremont / union city / newark 1-bedroom. </a>"
      ],
      "text/plain": [
       "<IPython.core.display.HTML object>"
      ]
     },
     "metadata": {},
     "output_type": "display_data"
    },
    {
     "data": {
      "text/html": [
       "<a href=https://sfbay.craigslist.org/sfc/apa/d/san-francisco-4-bedroom-2-bathroom/7075370281.html target='_blank'> $1200.0 per room in a San francisco 4-bedroom. </a>"
      ],
      "text/plain": [
       "<IPython.core.display.HTML object>"
      ]
     },
     "metadata": {},
     "output_type": "display_data"
    },
    {
     "data": {
      "text/html": [
       "<a href=https://sfbay.craigslist.org/sby/apa/d/san-jose-blossom-valley-townhouse-like/7074763888.html target='_blank'> $1200.0 per room in a San jose 2-bedroom. </a>"
      ],
      "text/plain": [
       "<IPython.core.display.HTML object>"
      ]
     },
     "metadata": {},
     "output_type": "display_data"
    },
    {
     "data": {
      "text/html": [
       "<a href=https://sfbay.craigslist.org/sby/apa/d/san-jose-cupertino-single-family-for/7076759026.html target='_blank'> $1200.0 per room in a Cupertino 4-bedroom. </a>"
      ],
      "text/plain": [
       "<IPython.core.display.HTML object>"
      ]
     },
     "metadata": {},
     "output_type": "display_data"
    },
    {
     "data": {
      "text/html": [
       "<a href=https://sfbay.craigslist.org/sby/apa/d/san-jose-newly-built-studio-in-san-jose/7076734081.html target='_blank'> $1200.0 per room in a San jose 1-bedroom. </a>"
      ],
      "text/plain": [
       "<IPython.core.display.HTML object>"
      ]
     },
     "metadata": {},
     "output_type": "display_data"
    },
    {
     "data": {
      "text/html": [
       "<a href=https://sfbay.craigslist.org/eby/apa/d/fremont-large-3x2-available-now-save/7076568521.html target='_blank'> $1212.0 per room in a Fremont / union city / newark 3-bedroom. </a>"
      ],
      "text/plain": [
       "<IPython.core.display.HTML object>"
      ]
     },
     "metadata": {},
     "output_type": "display_data"
    },
    {
     "data": {
      "text/html": [
       "<a href=https://sfbay.craigslist.org/eby/apa/d/fremont-hurry-beautiful-2-bedroom-with/7076505936.html target='_blank'> $1222.0 per room in a Fremont / union city / newark 2-bedroom. </a>"
      ],
      "text/plain": [
       "<IPython.core.display.HTML object>"
      ]
     },
     "metadata": {},
     "output_type": "display_data"
    },
    {
     "data": {
      "text/html": [
       "<a href=https://sfbay.craigslist.org/sby/apa/d/los-altos-fully-equipped-3br-apt-bright/7075472319.html target='_blank'> $1232.0 per room in a Mountain view 3-bedroom. </a>"
      ],
      "text/plain": [
       "<IPython.core.display.HTML object>"
      ]
     },
     "metadata": {},
     "output_type": "display_data"
    },
    {
     "data": {
      "text/html": [
       "<a href=https://sfbay.craigslist.org/sby/apa/d/sunnyvale-excellent-3bed-2bath/7076461325.html target='_blank'> $1233.0 per room in a Sunnyvale 3-bedroom. </a>"
      ],
      "text/plain": [
       "<IPython.core.display.HTML object>"
      ]
     },
     "metadata": {},
     "output_type": "display_data"
    },
    {
     "data": {
      "text/html": [
       "<a href=https://sfbay.craigslist.org/eby/apa/d/fremont-2-bed-2-bath-condo-for-rent/7065084529.html target='_blank'> $1242.0 per room in a Fremont / union city / newark 2-bedroom. </a>"
      ],
      "text/plain": [
       "<IPython.core.display.HTML object>"
      ]
     },
     "metadata": {},
     "output_type": "display_data"
    },
    {
     "data": {
      "text/html": [
       "<a href=https://sfbay.craigslist.org/sby/apa/d/cupertino-fresh-white-finished-kitchen/7070321382.html target='_blank'> $1248.0 per room in a Sunnyvale 2-bedroom. </a>"
      ],
      "text/plain": [
       "<IPython.core.display.HTML object>"
      ]
     },
     "metadata": {},
     "output_type": "display_data"
    },
    {
     "data": {
      "text/html": [
       "<a href=https://sfbay.craigslist.org/sby/apa/d/cupertino-ideal-sunnyvale-location/7075455252.html target='_blank'> $1248.0 per room in a Sunnyvale 2-bedroom. </a>"
      ],
      "text/plain": [
       "<IPython.core.display.HTML object>"
      ]
     },
     "metadata": {},
     "output_type": "display_data"
    },
    {
     "data": {
      "text/html": [
       "<a href=https://sfbay.craigslist.org/sby/apa/d/cupertino-near-shopping-ideal-sunnyvale/7070939629.html target='_blank'> $1248.0 per room in a Sunnyvale 2-bedroom. </a>"
      ],
      "text/plain": [
       "<IPython.core.display.HTML object>"
      ]
     },
     "metadata": {},
     "output_type": "display_data"
    },
    {
     "data": {
      "text/html": [
       "<a href=https://sfbay.craigslist.org/sby/apa/d/cupertino-huge-closet-new-countertops/7069662680.html target='_blank'> $1248.0 per room in a Sunnyvale 2-bedroom. </a>"
      ],
      "text/plain": [
       "<IPython.core.display.HTML object>"
      ]
     },
     "metadata": {},
     "output_type": "display_data"
    },
    {
     "data": {
      "text/html": [
       "<a href=https://sfbay.craigslist.org/sby/apa/d/cupertino-wow-remodeled-2br-apt-new/7060401713.html target='_blank'> $1248.0 per room in a Sunnyvale 2-bedroom. </a>"
      ],
      "text/plain": [
       "<IPython.core.display.HTML object>"
      ]
     },
     "metadata": {},
     "output_type": "display_data"
    },
    {
     "data": {
      "text/html": [
       "<a href=https://sfbay.craigslist.org/sby/apa/d/cupertino-near-dining-shopping-ideal/7069028083.html target='_blank'> $1248.0 per room in a Sunnyvale 2-bedroom. </a>"
      ],
      "text/plain": [
       "<IPython.core.display.HTML object>"
      ]
     },
     "metadata": {},
     "output_type": "display_data"
    },
    {
     "data": {
      "text/html": [
       "<a href=https://sfbay.craigslist.org/sby/apa/d/cupertino-quality-details-ideal/7060261279.html target='_blank'> $1248.0 per room in a Sunnyvale 2-bedroom. </a>"
      ],
      "text/plain": [
       "<IPython.core.display.HTML object>"
      ]
     },
     "metadata": {},
     "output_type": "display_data"
    },
    {
     "data": {
      "text/html": [
       "<a href=https://sfbay.craigslist.org/eby/apa/d/fremont-home-sweet-home-beautiful-2br/7076697755.html target='_blank'> $1248.0 per room in a Fremont / union city / newark 2-bedroom. </a>"
      ],
      "text/plain": [
       "<IPython.core.display.HTML object>"
      ]
     },
     "metadata": {},
     "output_type": "display_data"
    },
    {
     "data": {
      "text/html": [
       "<a href=https://sfbay.craigslist.org/sby/apa/d/cupertino-luxurious-bath-new-appliances/7070423492.html target='_blank'> $1248.0 per room in a Sunnyvale 2-bedroom. </a>"
      ],
      "text/plain": [
       "<IPython.core.display.HTML object>"
      ]
     },
     "metadata": {},
     "output_type": "display_data"
    },
    {
     "data": {
      "text/html": [
       "<a href=https://sfbay.craigslist.org/eby/apa/d/fremont-spacious-2-bedrooms-2-bathrooms/7076548526.html target='_blank'> $1248.0 per room in a Fremont / union city / newark 2-bedroom. </a>"
      ],
      "text/plain": [
       "<IPython.core.display.HTML object>"
      ]
     },
     "metadata": {},
     "output_type": "display_data"
    },
    {
     "data": {
      "text/html": [
       "<a href=https://sfbay.craigslist.org/eby/apa/d/fremont-specialgreat-location-2-bedroom/7076598967.html target='_blank'> $1248.0 per room in a Fremont / union city / newark 2-bedroom. </a>"
      ],
      "text/plain": [
       "<IPython.core.display.HTML object>"
      ]
     },
     "metadata": {},
     "output_type": "display_data"
    },
    {
     "data": {
      "text/html": [
       "<a href=https://sfbay.craigslist.org/eby/apa/d/fremont-private-balcony-microwave-on/7069007451.html target='_blank'> $1250.0 per room in a Fremont / union city / newark 2-bedroom. </a>"
      ],
      "text/plain": [
       "<IPython.core.display.HTML object>"
      ]
     },
     "metadata": {},
     "output_type": "display_data"
    },
    {
     "data": {
      "text/html": [
       "<a href=https://sfbay.craigslist.org/sby/apa/d/los-altos-luxury-bath-gorgeous-3br-apt/7062266532.html target='_blank'> $1265.0 per room in a Mountain view 3-bedroom. </a>"
      ],
      "text/plain": [
       "<IPython.core.display.HTML object>"
      ]
     },
     "metadata": {},
     "output_type": "display_data"
    },
    {
     "data": {
      "text/html": [
       "<a href=https://sfbay.craigslist.org/eby/apa/d/fremont-putting-the-finishing-touches/7076627144.html target='_blank'> $1266.0 per room in a Fremont / union city / newark 2-bedroom. </a>"
      ],
      "text/plain": [
       "<IPython.core.display.HTML object>"
      ]
     },
     "metadata": {},
     "output_type": "display_data"
    },
    {
     "data": {
      "text/html": [
       "<a href=https://sfbay.craigslist.org/eby/apa/d/union-city-2-bed-1-bathpet-friendly/7076556761.html target='_blank'> $1272.0 per room in a Fremont / union city / newark 2-bedroom. </a>"
      ],
      "text/plain": [
       "<IPython.core.display.HTML object>"
      ]
     },
     "metadata": {},
     "output_type": "display_data"
    },
    {
     "data": {
      "text/html": [
       "<a href=https://sfbay.craigslist.org/sby/apa/d/mountain-view-price-reduced-downstairs/7070860185.html target='_blank'> $1275.0 per room in a Mountain view 2-bedroom. </a>"
      ],
      "text/plain": [
       "<IPython.core.display.HTML object>"
      ]
     },
     "metadata": {},
     "output_type": "display_data"
    },
    {
     "data": {
      "text/html": [
       "<a href=https://sfbay.craigslist.org/sfc/apa/d/san-francisco-new-2-bedroom-apt/7076555746.html target='_blank'> $1298.0 per room in a San francisco 2-bedroom. </a>"
      ],
      "text/plain": [
       "<IPython.core.display.HTML object>"
      ]
     },
     "metadata": {},
     "output_type": "display_data"
    },
    {
     "data": {
      "text/html": [
       "<a href=https://sfbay.craigslist.org/sby/apa/d/cupertino-experience-the-foothill/7062218853.html target='_blank'> $1332.0 per room in a Cupertino 3-bedroom. </a>"
      ],
      "text/plain": [
       "<IPython.core.display.HTML object>"
      ]
     },
     "metadata": {},
     "output_type": "display_data"
    },
    {
     "data": {
      "text/html": [
       "<a href=https://sfbay.craigslist.org/sby/apa/d/mountain-view-quiet-garden-apartment/7076494695.html target='_blank'> $1342.0 per room in a Mountain view 2-bedroom. </a>"
      ],
      "text/plain": [
       "<IPython.core.display.HTML object>"
      ]
     },
     "metadata": {},
     "output_type": "display_data"
    },
    {
     "data": {
      "text/html": [
       "<a href=https://sfbay.craigslist.org/sby/apa/d/santa-clara-welcome-washer-dryercall-us/7076518945.html target='_blank'> $1348.0 per room in a Santa clara 2-bedroom. </a>"
      ],
      "text/plain": [
       "<IPython.core.display.HTML object>"
      ]
     },
     "metadata": {},
     "output_type": "display_data"
    },
    {
     "data": {
      "text/html": [
       "<a href=https://sfbay.craigslist.org/sfc/apa/d/san-francisco-sunny-top-floor-bernal/7068674082.html target='_blank'> $1350.0 per room in a San francisco 2-bedroom. </a>"
      ],
      "text/plain": [
       "<IPython.core.display.HTML object>"
      ]
     },
     "metadata": {},
     "output_type": "display_data"
    },
    {
     "data": {
      "text/html": [
       "<a href=https://sfbay.craigslist.org/sby/apa/d/santa-clara-iconic-laguna-clara-living/7076542240.html target='_blank'> $1354.0 per room in a Santa clara 2-bedroom. </a>"
      ],
      "text/plain": [
       "<IPython.core.display.HTML object>"
      ]
     },
     "metadata": {},
     "output_type": "display_data"
    },
    {
     "data": {
      "text/html": [
       "<a href=https://sfbay.craigslist.org/pen/apa/d/mountain-view-google-facebook-intel-adj/7059137899.html target='_blank'> $1358.0 per room in a Mountain view 2-bedroom. </a>"
      ],
      "text/plain": [
       "<IPython.core.display.HTML object>"
      ]
     },
     "metadata": {},
     "output_type": "display_data"
    },
    {
     "data": {
      "text/html": [
       "<a href=https://sfbay.craigslist.org/sby/apa/d/santa-clara-lux-espresso-cabinets-2/7074128605.html target='_blank'> $1362.0 per room in a Santa clara 2-bedroom. </a>"
      ],
      "text/plain": [
       "<IPython.core.display.HTML object>"
      ]
     },
     "metadata": {},
     "output_type": "display_data"
    },
    {
     "data": {
      "text/html": [
       "<a href=https://sfbay.craigslist.org/sby/apa/d/santa-clara-bright-3rd-floor-2br-apt/7072831565.html target='_blank'> $1362.0 per room in a Santa clara 2-bedroom. </a>"
      ],
      "text/plain": [
       "<IPython.core.display.HTML object>"
      ]
     },
     "metadata": {},
     "output_type": "display_data"
    },
    {
     "data": {
      "text/html": [
       "<a href=https://sfbay.craigslist.org/sby/apa/d/sunnyvale-sunnyvales-best-award-winning/7076707815.html target='_blank'> $1368.0 per room in a Sunnyvale 2-bedroom. </a>"
      ],
      "text/plain": [
       "<IPython.core.display.HTML object>"
      ]
     },
     "metadata": {},
     "output_type": "display_data"
    },
    {
     "data": {
      "text/html": [
       "<a href=https://sfbay.craigslist.org/sby/apa/d/sunnyvale-2-bed-2-bath/7076542873.html target='_blank'> $1372.0 per room in a Sunnyvale 2-bedroom. </a>"
      ],
      "text/plain": [
       "<IPython.core.display.HTML object>"
      ]
     },
     "metadata": {},
     "output_type": "display_data"
    },
    {
     "data": {
      "text/html": [
       "<a href=https://sfbay.craigslist.org/sby/apa/d/mountain-view-price-reduced-upstairs-2/7075441693.html target='_blank'> $1375.0 per room in a Mountain view 2-bedroom. </a>"
      ],
      "text/plain": [
       "<IPython.core.display.HTML object>"
      ]
     },
     "metadata": {},
     "output_type": "display_data"
    },
    {
     "data": {
      "text/html": [
       "<a href=https://sfbay.craigslist.org/sby/apa/d/santa-clara-2-bedroom-15-bath-townhouse/7076479755.html target='_blank'> $1375.0 per room in a Santa clara 2-bedroom. </a>"
      ],
      "text/plain": [
       "<IPython.core.display.HTML object>"
      ]
     },
     "metadata": {},
     "output_type": "display_data"
    },
    {
     "data": {
      "text/html": [
       "<a href=https://sfbay.craigslist.org/sby/apa/d/sunnyvale-2-bed-2-bath/7076553709.html target='_blank'> $1378.0 per room in a Sunnyvale 2-bedroom. </a>"
      ],
      "text/plain": [
       "<IPython.core.display.HTML object>"
      ]
     },
     "metadata": {},
     "output_type": "display_data"
    },
    {
     "data": {
      "text/html": [
       "<a href=https://sfbay.craigslist.org/sby/apa/d/santa-clara-available-now-welcome-2x1/7076522842.html target='_blank'> $1378.0 per room in a Santa clara 2-bedroom. </a>"
      ],
      "text/plain": [
       "<IPython.core.display.HTML object>"
      ]
     },
     "metadata": {},
     "output_type": "display_data"
    },
    {
     "data": {
      "text/html": [
       "<a href=https://sfbay.craigslist.org/sby/apa/d/santa-clara-lease-today-pet-friendly/7076632998.html target='_blank'> $1378.0 per room in a Santa clara 2-bedroom. </a>"
      ],
      "text/plain": [
       "<IPython.core.display.HTML object>"
      ]
     },
     "metadata": {},
     "output_type": "display_data"
    },
    {
     "data": {
      "text/html": [
       "<a href=https://sfbay.craigslist.org/sfc/apa/d/san-francisco-3bd-2ba-sunset-ome/7068362876.html target='_blank'> $1392.0 per room in a San francisco 3-bedroom. </a>"
      ],
      "text/plain": [
       "<IPython.core.display.HTML object>"
      ]
     },
     "metadata": {},
     "output_type": "display_data"
    },
    {
     "data": {
      "text/html": [
       "<a href=https://sfbay.craigslist.org/sfc/apa/d/san-francisco-newly-remodeled-3bd-2ba/7076540148.html target='_blank'> $1392.0 per room in a San francisco 3-bedroom. </a>"
      ],
      "text/plain": [
       "<IPython.core.display.HTML object>"
      ]
     },
     "metadata": {},
     "output_type": "display_data"
    },
    {
     "data": {
      "text/html": [
       "<a href=https://sfbay.craigslist.org/sfc/apa/d/san-francisco-newly-remodeled-3bd-2ba/7076539109.html target='_blank'> $1397.0 per room in a San francisco 3-bedroom. </a>"
      ],
      "text/plain": [
       "<IPython.core.display.HTML object>"
      ]
     },
     "metadata": {},
     "output_type": "display_data"
    },
    {
     "data": {
      "text/html": [
       "<a href=https://sfbay.craigslist.org/sby/apa/d/san-jose-cozy-2-bedroom-with-fireplace/7076495834.html target='_blank'> $1398.0 per room in a Santa clara 2-bedroom. </a>"
      ],
      "text/plain": [
       "<IPython.core.display.HTML object>"
      ]
     },
     "metadata": {},
     "output_type": "display_data"
    },
    {
     "data": {
      "text/html": [
       "<a href=https://sfbay.craigslist.org/sby/apa/d/cupertino-2-bd-1ba-1-mi-to-apple/7075590535.html target='_blank'> $1400.0 per room in a Sunnyvale 2-bedroom. </a>"
      ],
      "text/plain": [
       "<IPython.core.display.HTML object>"
      ]
     },
     "metadata": {},
     "output_type": "display_data"
    },
    {
     "data": {
      "text/html": [
       "<a href=https://sfbay.craigslist.org/sfc/apa/d/san-francisco-newly-updated-2-bedroom/7061339156.html target='_blank'> $1400.0 per room in a San francisco 2-bedroom. </a>"
      ],
      "text/plain": [
       "<IPython.core.display.HTML object>"
      ]
     },
     "metadata": {},
     "output_type": "display_data"
    },
    {
     "data": {
      "text/html": [
       "<a href=https://sfbay.craigslist.org/sfc/apa/d/san-francisco-2-bedroom-1-bath-in/7076460026.html target='_blank'> $1400.0 per room in a San francisco 2-bedroom. </a>"
      ],
      "text/plain": [
       "<IPython.core.display.HTML object>"
      ]
     },
     "metadata": {},
     "output_type": "display_data"
    },
    {
     "data": {
      "text/html": [
       "<a href=https://sfbay.craigslist.org/sby/apa/d/santa-clara-head-turning-style/7076483396.html target='_blank'> $1404.0 per room in a Santa clara 2-bedroom. </a>"
      ],
      "text/plain": [
       "<IPython.core.display.HTML object>"
      ]
     },
     "metadata": {},
     "output_type": "display_data"
    },
    {
     "data": {
      "text/html": [
       "<a href=https://sfbay.craigslist.org/sby/apa/d/san-jose-spacious-2b-2b-condo-for-rent/7076709392.html target='_blank'> $1425.0 per room in a Santa clara 2-bedroom. </a>"
      ],
      "text/plain": [
       "<IPython.core.display.HTML object>"
      ]
     },
     "metadata": {},
     "output_type": "display_data"
    },
    {
     "data": {
      "text/html": [
       "<a href=https://sfbay.craigslist.org/sfc/apa/d/san-francisco-remodeled-4-15/7075312187.html target='_blank'> $1425.0 per room in a San francisco 4-bedroom. </a>"
      ],
      "text/plain": [
       "<IPython.core.display.HTML object>"
      ]
     },
     "metadata": {},
     "output_type": "display_data"
    },
    {
     "data": {
      "text/html": [
       "<a href=https://sfbay.craigslist.org/sby/apa/d/cupertino-lux-bath-bright-remodeled-2br/7072882519.html target='_blank'> $1448.0 per room in a Cupertino 2-bedroom. </a>"
      ],
      "text/plain": [
       "<IPython.core.display.HTML object>"
      ]
     },
     "metadata": {},
     "output_type": "display_data"
    },
    {
     "data": {
      "text/html": [
       "<a href=https://sfbay.craigslist.org/sby/apa/d/cupertino-bright-rooms-plenty-of/7074028976.html target='_blank'> $1448.0 per room in a Cupertino 2-bedroom. </a>"
      ],
      "text/plain": [
       "<IPython.core.display.HTML object>"
      ]
     },
     "metadata": {},
     "output_type": "display_data"
    },
    {
     "data": {
      "text/html": [
       "<a href=https://sfbay.craigslist.org/sby/apa/d/san-jose-this-2x2-apartment-features-in/7076671134.html target='_blank'> $1474.0 per room in a Santa clara 2-bedroom. </a>"
      ],
      "text/plain": [
       "<IPython.core.display.HTML object>"
      ]
     },
     "metadata": {},
     "output_type": "display_data"
    },
    {
     "data": {
      "text/html": [
       "<a href=https://sfbay.craigslist.org/pen/apa/d/mountain-view-2-bedroom-apartment-for/7076671086.html target='_blank'> $1475.0 per room in a Mountain view 2-bedroom. </a>"
      ],
      "text/plain": [
       "<IPython.core.display.HTML object>"
      ]
     },
     "metadata": {},
     "output_type": "display_data"
    },
    {
     "data": {
      "text/html": [
       "<a href=https://sfbay.craigslist.org/sfc/apa/d/san-francisco-8section-8-friendly/7076556535.html target='_blank'> $1493.0 per room in a San francisco 3-bedroom. </a>"
      ],
      "text/plain": [
       "<IPython.core.display.HTML object>"
      ]
     },
     "metadata": {},
     "output_type": "display_data"
    },
    {
     "data": {
      "text/html": [
       "<a href=https://sfbay.craigslist.org/sby/apa/d/mountain-view-super-large-2-bedroom/7076448573.html target='_blank'> $1495.0 per room in a Mountain view 2-bedroom. </a>"
      ],
      "text/plain": [
       "<IPython.core.display.HTML object>"
      ]
     },
     "metadata": {},
     "output_type": "display_data"
    },
    {
     "data": {
      "text/html": [
       "<a href=https://sfbay.craigslist.org/sby/apa/d/beautiful-completely-remodeled-welcome/7076496557.html target='_blank'> $1498.0 per room in a Mountain view 2-bedroom. </a>"
      ],
      "text/plain": [
       "<IPython.core.display.HTML object>"
      ]
     },
     "metadata": {},
     "output_type": "display_data"
    },
    {
     "data": {
      "text/html": [
       "<a href=https://sfbay.craigslist.org/sby/apa/d/los-altos-deluxe-kitchen-ideal-mountain/7074078950.html target='_blank'> $1498.0 per room in a Mountain view 2-bedroom. </a>"
      ],
      "text/plain": [
       "<IPython.core.display.HTML object>"
      ]
     },
     "metadata": {},
     "output_type": "display_data"
    },
    {
     "data": {
      "text/html": [
       "<a href=https://sfbay.craigslist.org/pen/apa/d/palo-alto-google-nasa-los-altos-schools/7076571396.html target='_blank'> $1498.0 per room in a Mountain view 2-bedroom. </a>"
      ],
      "text/plain": [
       "<IPython.core.display.HTML object>"
      ]
     },
     "metadata": {},
     "output_type": "display_data"
    },
    {
     "data": {
      "text/html": [
       "<a href=https://sfbay.craigslist.org/sby/apa/d/santa-clara-spacious-2x1-desirable/7076502909.html target='_blank'> $1498.0 per room in a Sunnyvale 2-bedroom. </a>"
      ],
      "text/plain": [
       "<IPython.core.display.HTML object>"
      ]
     },
     "metadata": {},
     "output_type": "display_data"
    },
    {
     "data": {
      "text/html": [
       "<a href=https://sfbay.craigslist.org/sfc/apa/d/san-francisco-large-victorian-flat/7076509913.html target='_blank'> $1498.0 per room in a San francisco 3-bedroom. </a>"
      ],
      "text/plain": [
       "<IPython.core.display.HTML object>"
      ]
     },
     "metadata": {},
     "output_type": "display_data"
    },
    {
     "data": {
      "text/html": [
       "<a href=https://sfbay.craigslist.org/sfc/apa/d/san-francisco-large-room-inner-sunset/7076474464.html target='_blank'> $1500.0 per room in a San francisco 1-bedroom. </a>"
      ],
      "text/plain": [
       "<IPython.core.display.HTML object>"
      ]
     },
     "metadata": {},
     "output_type": "display_data"
    },
    {
     "data": {
      "text/html": [
       "<a href=https://sfbay.craigslist.org/sby/apa/d/mountain-view-quiet-2br1ba-in-mountain/7076760003.html target='_blank'> $1500.0 per room in a Mountain view 2-bedroom. </a>"
      ],
      "text/plain": [
       "<IPython.core.display.HTML object>"
      ]
     },
     "metadata": {},
     "output_type": "display_data"
    },
    {
     "data": {
      "text/html": [
       "<a href=https://sfbay.craigslist.org/sfc/apa/d/san-francisco-open-sunday-bernal/7072186970.html target='_blank'> $1500.0 per room in a San francisco 3-bedroom. </a>"
      ],
      "text/plain": [
       "<IPython.core.display.HTML object>"
      ]
     },
     "metadata": {},
     "output_type": "display_data"
    },
    {
     "data": {
      "text/html": [
       "<a href=https://sfbay.craigslist.org/sfc/apa/d/san-francisco-room-for-rent/7076772601.html target='_blank'> $1500.0 per room in a San francisco 1-bedroom. </a>"
      ],
      "text/plain": [
       "<IPython.core.display.HTML object>"
      ]
     },
     "metadata": {},
     "output_type": "display_data"
    },
    {
     "data": {
      "text/html": [
       "<a href=https://sfbay.craigslist.org/sby/apa/d/mountain-view-new-2-bdrm-apartment/7076455094.html target='_blank'> $1525.0 per room in a Mountain view 2-bedroom. </a>"
      ],
      "text/plain": [
       "<IPython.core.display.HTML object>"
      ]
     },
     "metadata": {},
     "output_type": "display_data"
    },
    {
     "data": {
      "text/html": [
       "<a href=https://sfbay.craigslist.org/pen/apa/d/mountain-view-gorgeous-2br-1ba/7076489746.html target='_blank'> $1530.0 per room in a Mountain view 2-bedroom. </a>"
      ],
      "text/plain": [
       "<IPython.core.display.HTML object>"
      ]
     },
     "metadata": {},
     "output_type": "display_data"
    },
    {
     "data": {
      "text/html": [
       "<a href=https://sfbay.craigslist.org/sfc/apa/d/san-francisco-large-updated-flat-great/7074911025.html target='_blank'> $1556.0 per room in a San francisco 4-bedroom. </a>"
      ],
      "text/plain": [
       "<IPython.core.display.HTML object>"
      ]
     },
     "metadata": {},
     "output_type": "display_data"
    },
    {
     "data": {
      "text/html": [
       "<a href=https://sfbay.craigslist.org/pen/apa/d/mountain-view-3-bedx2-bath-town-home/7076536315.html target='_blank'> $1563.0 per room in a Mountain view 3-bedroom. </a>"
      ],
      "text/plain": [
       "<IPython.core.display.HTML object>"
      ]
     },
     "metadata": {},
     "output_type": "display_data"
    },
    {
     "data": {
      "text/html": [
       "<a href=https://sfbay.craigslist.org/pen/apa/d/mountain-view-spacious-town-home-3bed/7076684330.html target='_blank'> $1563.0 per room in a Mountain view 3-bedroom. </a>"
      ],
      "text/plain": [
       "<IPython.core.display.HTML object>"
      ]
     },
     "metadata": {},
     "output_type": "display_data"
    },
    {
     "data": {
      "text/html": [
       "<a href=https://sfbay.craigslist.org/sfc/apa/d/san-francisco-apartment-for-rent/7076569406.html target='_blank'> $1567.0 per room in a San francisco 3-bedroom. </a>"
      ],
      "text/plain": [
       "<IPython.core.display.HTML object>"
      ]
     },
     "metadata": {},
     "output_type": "display_data"
    },
    {
     "data": {
      "text/html": [
       "<a href=https://sfbay.craigslist.org/sfc/apa/d/san-francisco-spacious-convenient-2br/7076556677.html target='_blank'> $1590.0 per room in a San francisco 2-bedroom. </a>"
      ],
      "text/plain": [
       "<IPython.core.display.HTML object>"
      ]
     },
     "metadata": {},
     "output_type": "display_data"
    },
    {
     "data": {
      "text/html": [
       "<a href=https://sfbay.craigslist.org/pen/apa/d/mountain-view-ac-wood-floors-pools-near/7076454120.html target='_blank'> $1595.0 per room in a Mountain view 3-bedroom. </a>"
      ],
      "text/plain": [
       "<IPython.core.display.HTML object>"
      ]
     },
     "metadata": {},
     "output_type": "display_data"
    },
    {
     "data": {
      "text/html": [
       "<a href=https://sfbay.craigslist.org/pen/apa/d/mountain-view-ac-wood-floors-pools-near/7076544422.html target='_blank'> $1595.0 per room in a Mountain view 3-bedroom. </a>"
      ],
      "text/plain": [
       "<IPython.core.display.HTML object>"
      ]
     },
     "metadata": {},
     "output_type": "display_data"
    },
    {
     "data": {
      "text/html": [
       "<a href=https://sfbay.craigslist.org/sfc/apa/d/san-francisco-spacious-2-or-3-bedroom/7076493412.html target='_blank'> $1600.0 per room in a San francisco 3-bedroom. </a>"
      ],
      "text/plain": [
       "<IPython.core.display.HTML object>"
      ]
     },
     "metadata": {},
     "output_type": "display_data"
    },
    {
     "data": {
      "text/html": [
       "<a href=https://sfbay.craigslist.org/sby/apa/d/mountain-view-2b-25b-townhouse-near-mv/7076756405.html target='_blank'> $1600.0 per room in a Mountain view 2-bedroom. </a>"
      ],
      "text/plain": [
       "<IPython.core.display.HTML object>"
      ]
     },
     "metadata": {},
     "output_type": "display_data"
    },
    {
     "data": {
      "text/html": [
       "<a href=https://sfbay.craigslist.org/sfc/apa/d/san-francisco-place-in-sun-on-24th/7076680432.html target='_blank'> $1600.0 per room in a San francisco 2-bedroom. </a>"
      ],
      "text/plain": [
       "<IPython.core.display.HTML object>"
      ]
     },
     "metadata": {},
     "output_type": "display_data"
    },
    {
     "data": {
      "text/html": [
       "<a href=https://sfbay.craigslist.org/sfc/apa/d/san-francisco-detached-family-home/7076702262.html target='_blank'> $1600.0 per room in a San francisco 5-bedroom. </a>"
      ],
      "text/plain": [
       "<IPython.core.display.HTML object>"
      ]
     },
     "metadata": {},
     "output_type": "display_data"
    },
    {
     "data": {
      "text/html": [
       "<a href=https://sfbay.craigslist.org/sfc/apa/d/san-francisco-elegant-3-bedroom-1-bath/7073773218.html target='_blank'> $1633.0 per room in a San francisco 3-bedroom. </a>"
      ],
      "text/plain": [
       "<IPython.core.display.HTML object>"
      ]
     },
     "metadata": {},
     "output_type": "display_data"
    },
    {
     "data": {
      "text/html": [
       "<a href=https://sfbay.craigslist.org/sfc/apa/d/san-francisco-residence-603-condo-bush/7076582108.html target='_blank'> $1650.0 per room in a San francisco 2-bedroom. </a>"
      ],
      "text/plain": [
       "<IPython.core.display.HTML object>"
      ]
     },
     "metadata": {},
     "output_type": "display_data"
    },
    {
     "data": {
      "text/html": [
       "<a href=https://sfbay.craigslist.org/sfc/apa/d/san-francisco-beautifully-remodeled/7076625770.html target='_blank'> $1667.0 per room in a San francisco 3-bedroom. </a>"
      ],
      "text/plain": [
       "<IPython.core.display.HTML object>"
      ]
     },
     "metadata": {},
     "output_type": "display_data"
    },
    {
     "data": {
      "text/html": [
       "<a href=https://sfbay.craigslist.org/sfc/apa/d/san-francisco-gated-community-condo/7061774067.html target='_blank'> $1675.0 per room in a San francisco 2-bedroom. </a>"
      ],
      "text/plain": [
       "<IPython.core.display.HTML object>"
      ]
     },
     "metadata": {},
     "output_type": "display_data"
    },
    {
     "data": {
      "text/html": [
       "<a href=https://sfbay.craigslist.org/sfc/apa/d/san-francisco-available-now-condo-2beds/7076583066.html target='_blank'> $1700.0 per room in a San francisco 2-bedroom. </a>"
      ],
      "text/plain": [
       "<IPython.core.display.HTML object>"
      ]
     },
     "metadata": {},
     "output_type": "display_data"
    },
    {
     "data": {
      "text/html": [
       "<a href=https://sfbay.craigslist.org/sfc/apa/d/san-francisco-north-beach-4-bedroom/7076556250.html target='_blank'> $1700.0 per room in a San francisco 4-bedroom. </a>"
      ],
      "text/plain": [
       "<IPython.core.display.HTML object>"
      ]
     },
     "metadata": {},
     "output_type": "display_data"
    },
    {
     "data": {
      "text/html": [
       "<a href=https://sfbay.craigslist.org/sfc/apa/d/san-francisco-brand-new-completely/7069201493.html target='_blank'> $1700.0 per room in a San francisco 2-bedroom. </a>"
      ],
      "text/plain": [
       "<IPython.core.display.HTML object>"
      ]
     },
     "metadata": {},
     "output_type": "display_data"
    },
    {
     "data": {
      "text/html": [
       "<a href=https://sfbay.craigslist.org/sfc/apa/d/san-francisco-sunny-bright-comfortable/7076716482.html target='_blank'> $1725.0 per room in a San francisco 2-bedroom. </a>"
      ],
      "text/plain": [
       "<IPython.core.display.HTML object>"
      ]
     },
     "metadata": {},
     "output_type": "display_data"
    },
    {
     "data": {
      "text/html": [
       "<a href=https://sfbay.craigslist.org/sfc/apa/d/san-francisco-gorgeous-remodeled-unit/7076625543.html target='_blank'> $1750.0 per room in a San francisco 4-bedroom. </a>"
      ],
      "text/plain": [
       "<IPython.core.display.HTML object>"
      ]
     },
     "metadata": {},
     "output_type": "display_data"
    },
    {
     "data": {
      "text/html": [
       "<a href=https://sfbay.craigslist.org/sfc/apa/d/san-francisco-edwardian-flat/7076691373.html target='_blank'> $1750.0 per room in a San francisco 2-bedroom. </a>"
      ],
      "text/plain": [
       "<IPython.core.display.HTML object>"
      ]
     },
     "metadata": {},
     "output_type": "display_data"
    },
    {
     "data": {
      "text/html": [
       "<a href=https://sfbay.craigslist.org/sfc/apa/d/san-francisco-charming-2-1-bernal/7076771336.html target='_blank'> $1762.0 per room in a San francisco 2-bedroom. </a>"
      ],
      "text/plain": [
       "<IPython.core.display.HTML object>"
      ]
     },
     "metadata": {},
     "output_type": "display_data"
    },
    {
     "data": {
      "text/html": [
       "<a href=https://sfbay.craigslist.org/sfc/apa/d/san-francisco-2x2-high-rise-apt-all-to/7076572538.html target='_blank'> $1766.0 per room in a San francisco 2-bedroom. </a>"
      ],
      "text/plain": [
       "<IPython.core.display.HTML object>"
      ]
     },
     "metadata": {},
     "output_type": "display_data"
    },
    {
     "data": {
      "text/html": [
       "<a href=https://sfbay.craigslist.org/sfc/apa/d/san-francisco-classic-2-bedrooms-1/7073362854.html target='_blank'> $1800.0 per room in a San francisco 2-bedroom. </a>"
      ],
      "text/plain": [
       "<IPython.core.display.HTML object>"
      ]
     },
     "metadata": {},
     "output_type": "display_data"
    },
    {
     "data": {
      "text/html": [
       "<a href=https://sfbay.craigslist.org/sfc/apa/d/san-francisco-3br-2ba-spacious-urban/7076558580.html target='_blank'> $1833.0 per room in a San francisco 3-bedroom. </a>"
      ],
      "text/plain": [
       "<IPython.core.display.HTML object>"
      ]
     },
     "metadata": {},
     "output_type": "display_data"
    },
    {
     "data": {
      "text/html": [
       "<a href=https://sfbay.craigslist.org/sfc/apa/d/san-francisco-great-value-remodeled/7063774992.html target='_blank'> $1845.0 per room in a San francisco 2-bedroom. </a>"
      ],
      "text/plain": [
       "<IPython.core.display.HTML object>"
      ]
     },
     "metadata": {},
     "output_type": "display_data"
    },
    {
     "data": {
      "text/html": [
       "<a href=https://sfbay.craigslist.org/sfc/apa/d/san-francisco-beautiful-1b-1ba-apt-with/7063649637.html target='_blank'> $1850.0 per room in a San francisco 1-bedroom. </a>"
      ],
      "text/plain": [
       "<IPython.core.display.HTML object>"
      ]
     },
     "metadata": {},
     "output_type": "display_data"
    },
    {
     "data": {
      "text/html": [
       "<a href=https://sfbay.craigslist.org/sfc/apa/d/san-francisco-studio-lovely-in-law/7076449353.html target='_blank'> $1900.0 per room in a San francisco 1-bedroom. </a>"
      ],
      "text/plain": [
       "<IPython.core.display.HTML object>"
      ]
     },
     "metadata": {},
     "output_type": "display_data"
    },
    {
     "data": {
      "text/html": [
       "<a href=https://sfbay.craigslist.org/sfc/apa/d/san-francisco-charming-top-fl-edwardian/7076623391.html target='_blank'> $1900.0 per room in a San francisco 3-bedroom. </a>"
      ],
      "text/plain": [
       "<IPython.core.display.HTML object>"
      ]
     },
     "metadata": {},
     "output_type": "display_data"
    },
    {
     "data": {
      "text/html": [
       "<a href=https://sfbay.craigslist.org/sfc/apa/d/daly-city-spacious-1-bed-1-bath-kitchen/7069147155.html target='_blank'> $1900.0 per room in a San francisco 1-bedroom. </a>"
      ],
      "text/plain": [
       "<IPython.core.display.HTML object>"
      ]
     },
     "metadata": {},
     "output_type": "display_data"
    },
    {
     "data": {
      "text/html": [
       "<a href=https://sfbay.craigslist.org/sfc/apa/d/san-francisco-two-bedroom-one-bath-apt/7073305634.html target='_blank'> $1925.0 per room in a San francisco 2-bedroom. </a>"
      ],
      "text/plain": [
       "<IPython.core.display.HTML object>"
      ]
     },
     "metadata": {},
     "output_type": "display_data"
    },
    {
     "data": {
      "text/html": [
       "<a href=https://sfbay.craigslist.org/sfc/apa/d/san-francisco-sacramento-polk-95-move/7076567922.html target='_blank'> $1948.0 per room in a San francisco 2-bedroom. </a>"
      ],
      "text/plain": [
       "<IPython.core.display.HTML object>"
      ]
     },
     "metadata": {},
     "output_type": "display_data"
    },
    {
     "data": {
      "text/html": [
       "<a href=https://sfbay.craigslist.org/sfc/apa/d/san-francisco-2467-sutter-street/7074260392.html target='_blank'> $1948.0 per room in a San francisco 2-bedroom. </a>"
      ],
      "text/plain": [
       "<IPython.core.display.HTML object>"
      ]
     },
     "metadata": {},
     "output_type": "display_data"
    },
    {
     "data": {
      "text/html": [
       "<a href=https://sfbay.craigslist.org/sfc/apa/d/modern-top-floor-apt-parking-incl/7075028782.html target='_blank'> $1950.0 per room in a San francisco 2-bedroom. </a>"
      ],
      "text/plain": [
       "<IPython.core.display.HTML object>"
      ]
     },
     "metadata": {},
     "output_type": "display_data"
    },
    {
     "data": {
      "text/html": [
       "<a href=https://sfbay.craigslist.org/sfc/apa/d/2-br-2-bath-den-at-the-grove-prkg/7076572828.html target='_blank'> $1975.0 per room in a San francisco 2-bedroom. </a>"
      ],
      "text/plain": [
       "<IPython.core.display.HTML object>"
      ]
     },
     "metadata": {},
     "output_type": "display_data"
    },
    {
     "data": {
      "text/html": [
       "<a href=https://sfbay.craigslist.org/sfc/apa/d/san-francisco-cow-hollow-cottage/7076559741.html target='_blank'> $1975.0 per room in a San francisco 2-bedroom. </a>"
      ],
      "text/plain": [
       "<IPython.core.display.HTML object>"
      ]
     },
     "metadata": {},
     "output_type": "display_data"
    },
    {
     "data": {
      "text/html": [
       "<a href=https://sfbay.craigslist.org/sfc/apa/d/san-francisco-2br-1ba-spacious-home-in/7076740370.html target='_blank'> $1975.0 per room in a San francisco 2-bedroom. </a>"
      ],
      "text/plain": [
       "<IPython.core.display.HTML object>"
      ]
     },
     "metadata": {},
     "output_type": "display_data"
    },
    {
     "data": {
      "text/html": [
       "<a href=https://sfbay.craigslist.org/sfc/apa/d/san-francisco-spacious-and-clean-ground/7076702126.html target='_blank'> $1995.0 per room in a San francisco 1-bedroom. </a>"
      ],
      "text/plain": [
       "<IPython.core.display.HTML object>"
      ]
     },
     "metadata": {},
     "output_type": "display_data"
    },
    {
     "data": {
      "text/html": [
       "<a href=https://sfbay.craigslist.org/sfc/apa/d/san-francisco-furnished-mod-lower-nob/7074449260.html target='_blank'> $1995.0 per room in a San francisco 2-bedroom. </a>"
      ],
      "text/plain": [
       "<IPython.core.display.HTML object>"
      ]
     },
     "metadata": {},
     "output_type": "display_data"
    },
    {
     "data": {
      "text/html": [
       "<a href=https://sfbay.craigslist.org/sfc/apa/d/san-francisco-renovated-potrero-hill-2/7075556902.html target='_blank'> $1998.0 per room in a San francisco 2-bedroom. </a>"
      ],
      "text/plain": [
       "<IPython.core.display.HTML object>"
      ]
     },
     "metadata": {},
     "output_type": "display_data"
    },
    {
     "data": {
      "text/html": [
       "<a href=https://sfbay.craigslist.org/sfc/apa/d/san-francisco-modern-pacific-heights/7076469823.html target='_blank'> $1998.0 per room in a San francisco 3-bedroom. </a>"
      ],
      "text/plain": [
       "<IPython.core.display.HTML object>"
      ]
     },
     "metadata": {},
     "output_type": "display_data"
    },
    {
     "data": {
      "text/html": [
       "<a href=https://sfbay.craigslist.org/sfc/apa/d/san-francisco-great-2bd-loft-with/7064149767.html target='_blank'> $2000.0 per room in a San francisco 2-bedroom. </a>"
      ],
      "text/plain": [
       "<IPython.core.display.HTML object>"
      ]
     },
     "metadata": {},
     "output_type": "display_data"
    },
    {
     "data": {
      "text/html": [
       "<a href=https://sfbay.craigslist.org/sfc/apa/d/san-francisco-quiet-and-peaceful-studio/7076728301.html target='_blank'> $2000.0 per room in a San francisco 1-bedroom. </a>"
      ],
      "text/plain": [
       "<IPython.core.display.HTML object>"
      ]
     },
     "metadata": {},
     "output_type": "display_data"
    },
    {
     "data": {
      "text/html": [
       "<a href=https://sfbay.craigslist.org/sfc/apa/d/san-francisco-awesome-views-spacious-3/7072183872.html target='_blank'> $2000.0 per room in a San francisco 3-bedroom. </a>"
      ],
      "text/plain": [
       "<IPython.core.display.HTML object>"
      ]
     },
     "metadata": {},
     "output_type": "display_data"
    }
   ],
   "source": [
    "NH = 'Sunnyvale'\n",
    "NH = NH.lower().strip()\n",
    "\n",
    "\n",
    "from IPython.core.display import display, HTML\n",
    "\n",
    "#links= dfdeals.loc[dfdeals['neighborhood']==NH]['link'].values\n",
    "#X = np.array(dfdeals.loc[dfdeals['neighborhood']==NH][['rent per room','neighborhood','bedrooms']])\n",
    "links= dfdeals['link'].values\n",
    "X = np.array(dfdeals[['rent per room','neighborhood','bedrooms']])\n",
    "\n",
    "\n",
    "print('with links:')\n",
    "#count=0\n",
    "for i,x in enumerate(X):\n",
    "    rent=x[0];\n",
    "    nh=x[1];\n",
    "    bedrooms=x[2];\n",
    "    if isitadeal(rent,nh)==1:\n",
    "        #print(f\"A {x[1]} sq. foot {x[0]}-bedroom home for ${x[2]} is anomalous:\")\n",
    "        display(HTML(\"<a href=\"+links[i]+\" target='_blank'> $\"+str(np.round(rent))+\" per room in a \"+str(nh).capitalize()+\" \"+str(int(bedrooms))+\"-bedroom. </a>\"))\n",
    "#        count=count+1\n",
    "\n",
    "#print(count)\n"
   ]
  },
  {
   "cell_type": "markdown",
   "metadata": {},
   "source": [
    "## TO DO:"
   ]
  },
  {
   "cell_type": "markdown",
   "metadata": {},
   "source": [
    "Sometimes this misrepresents rent per room, e.g. if someone is renting out just 1 room in a 2-bedroom, and has listed rent for just the 1 room, but has posted the listing as a \"2-bedroom\". Can I find a way to correct this error by looking for particular words in the description/title?"
   ]
  },
  {
   "cell_type": "code",
   "execution_count": null,
   "metadata": {},
   "outputs": [],
   "source": []
  },
  {
   "cell_type": "code",
   "execution_count": null,
   "metadata": {},
   "outputs": [],
   "source": []
  },
  {
   "cell_type": "code",
   "execution_count": null,
   "metadata": {},
   "outputs": [],
   "source": []
  },
  {
   "cell_type": "code",
   "execution_count": null,
   "metadata": {},
   "outputs": [],
   "source": []
  },
  {
   "cell_type": "code",
   "execution_count": null,
   "metadata": {},
   "outputs": [],
   "source": []
  },
  {
   "cell_type": "code",
   "execution_count": null,
   "metadata": {},
   "outputs": [],
   "source": []
  },
  {
   "cell_type": "code",
   "execution_count": null,
   "metadata": {},
   "outputs": [],
   "source": []
  },
  {
   "cell_type": "code",
   "execution_count": null,
   "metadata": {},
   "outputs": [],
   "source": []
  },
  {
   "cell_type": "code",
   "execution_count": null,
   "metadata": {},
   "outputs": [],
   "source": []
  },
  {
   "cell_type": "code",
   "execution_count": null,
   "metadata": {},
   "outputs": [],
   "source": []
  },
  {
   "cell_type": "code",
   "execution_count": null,
   "metadata": {},
   "outputs": [],
   "source": []
  },
  {
   "cell_type": "code",
   "execution_count": null,
   "metadata": {},
   "outputs": [],
   "source": []
  },
  {
   "cell_type": "code",
   "execution_count": null,
   "metadata": {},
   "outputs": [],
   "source": []
  },
  {
   "cell_type": "code",
   "execution_count": null,
   "metadata": {},
   "outputs": [],
   "source": []
  },
  {
   "cell_type": "code",
   "execution_count": null,
   "metadata": {},
   "outputs": [],
   "source": [
    "\n",
    "\n",
    "\n"
   ]
  },
  {
   "cell_type": "code",
   "execution_count": null,
   "metadata": {},
   "outputs": [],
   "source": []
  },
  {
   "cell_type": "code",
   "execution_count": null,
   "metadata": {},
   "outputs": [],
   "source": []
  },
  {
   "cell_type": "code",
   "execution_count": null,
   "metadata": {},
   "outputs": [],
   "source": []
  },
  {
   "cell_type": "code",
   "execution_count": null,
   "metadata": {},
   "outputs": [],
   "source": []
  },
  {
   "cell_type": "code",
   "execution_count": null,
   "metadata": {},
   "outputs": [],
   "source": [
    "#plot the price distribution of 1-bedrooms from the training and test data\n",
    "\n",
    "fig,ax =plt.subplots(1,1, figsize=(8,10))\n",
    "ax.hist(dfclean.loc[dfclean['bedrooms']==1.0]['price']);\n",
    "ax.set_xlabel('Price ($)');\n",
    "ax.set_title('Price distribution for 1-bedrooms');\n",
    "\n"
   ]
  },
  {
   "cell_type": "code",
   "execution_count": null,
   "metadata": {},
   "outputs": [],
   "source": []
  },
  {
   "cell_type": "code",
   "execution_count": null,
   "metadata": {},
   "outputs": [],
   "source": []
  },
  {
   "cell_type": "code",
   "execution_count": null,
   "metadata": {},
   "outputs": [],
   "source": []
  },
  {
   "cell_type": "code",
   "execution_count": null,
   "metadata": {},
   "outputs": [],
   "source": []
  },
  {
   "cell_type": "code",
   "execution_count": null,
   "metadata": {},
   "outputs": [],
   "source": []
  },
  {
   "cell_type": "code",
   "execution_count": null,
   "metadata": {},
   "outputs": [],
   "source": []
  },
  {
   "cell_type": "code",
   "execution_count": null,
   "metadata": {},
   "outputs": [],
   "source": []
  },
  {
   "cell_type": "code",
   "execution_count": null,
   "metadata": {},
   "outputs": [],
   "source": [
    "dfclean.plot('bedrooms','sq. feet',kind = 'scatter')"
   ]
  },
  {
   "cell_type": "code",
   "execution_count": null,
   "metadata": {},
   "outputs": [],
   "source": [
    "groupedbybedrooms = dfclean.groupby(by='bedrooms').mean();\n",
    "plt.plot(groupedbybedrooms.index.values,groupedbybedrooms['sq. feet'],'o')\n",
    "plt.xlabel('number of bedrooms')\n",
    "plt.ylabel('mean area (ft$^2$)')"
   ]
  },
  {
   "cell_type": "code",
   "execution_count": null,
   "metadata": {},
   "outputs": [],
   "source": []
  },
  {
   "cell_type": "code",
   "execution_count": null,
   "metadata": {},
   "outputs": [],
   "source": []
  },
  {
   "cell_type": "code",
   "execution_count": null,
   "metadata": {},
   "outputs": [],
   "source": []
  },
  {
   "cell_type": "code",
   "execution_count": null,
   "metadata": {},
   "outputs": [],
   "source": [
    "#train for anomaly detection and make predictions\n",
    "\n",
    "\n",
    "# #compute the mean\n",
    "# mu = train[['bedrooms','1000sqfeet', 'pricek']].mean().values\n",
    "# #mu = np.array(np.mean(train)[['bedrooms','1000sqfeet','pricek']])\n",
    "# xminusmu = np.array(train[['bedrooms','1000sqfeet', 'pricek']]-mu)\n",
    "\n",
    "# #compute covariance matrix\n",
    "# m=xminusmu.shape[0]\n",
    "# Sigi=0;\n",
    "# for i in range(0,m):\n",
    "#     Sigi=Sigi+np.outer(xminusmu[i], (xminusmu[i]).T)\n",
    "# Sig=(1/m)*Sigi\n",
    "# detSig = np.linalg.det(Sig)\n",
    "\n",
    "# Siginv = np.linalg.inv(Sig)\n",
    "# n=len(mu)\n",
    "# def p(x):\n",
    "#     #p takes x in [bedrooms, square feet, dollars]\n",
    "#     y=np.array([x[0],x[1]/1000,x[2]/1000]) #convert to 1000s of sq feet, 1000s of dollars\n",
    "#     exp=np.e**(-.5*np.dot(y-mu,np.dot(Siginv,y-mu)))\n",
    "#     return(exp/( (2*np.pi)**(n/2)*(detSig**(1/2)) ))\n",
    "\n",
    "\n",
    "def multigauss(X,mu,Sig):  #input X is m by n (must be in the form of a 2-d array). inputs (X, mu, Sig) should be in 1000sqfeet, 1000$.\n",
    "        #if mu[1]>X[0,1]*10 or mu[1]<X[0,1]/10:\n",
    "        #    print('Make sure mu and X are in the same units.')\n",
    "        n = X.shape[1];\n",
    "        m = X.shape[0];\n",
    "        Xminusmu = X-mu\n",
    "        pi = np.pi\n",
    "        det = np.linalg.det(Sig)\n",
    "        inv = np.linalg.inv(Sig)\n",
    "        exponent=-.5*np.reshape([np.dot( (X[i,:]-mu),  np.dot(inv,(X[i,:]-mu).T)) for i in range(0,m)],(m,1))\n",
    "        return np.reshape(((2*pi)**(-.5*n))*(det**-.5)*np.exp(exponent),(m,))\n",
    "    \n",
    "    \n",
    "#CHANGE FEATURES HERE \n",
    "featureset = ['bedrooms','pricek'];\n",
    "n = len(featureset)\n",
    "\n",
    "\n",
    "#fit mu, Sig for each neighborhood separately\n",
    "nhmu = np.zeros((len(maxhoods),n))\n",
    "nhSig = np.zeros((len(maxhoods),n,n))\n",
    "for i,nh in enumerate(maxhoods):\n",
    "    if type(nh)==str:\n",
    "        #print(nh)\n",
    "        dfnh = train.loc[train['neighborhood']==nh]\n",
    "        if len(dfnh) is not 0:\n",
    "            Xtrain = np.array(dfnh[featureset])\n",
    "            m = Xtrain.shape[0]\n",
    "            mu = np.mean(Xtrain,0)\n",
    "            Xminusmu=Xtrain-mu\n",
    "            Sig=(1/m)*np.dot(Xminusmu.T,Xminusmu)\n",
    "            nhmu[i] = mu\n",
    "            nhSig[i] = Sig\n",
    "        else:\n",
    "            nhmu[i]=np.nan\n",
    "            nhSig[i]=np.nan\n",
    "    else:\n",
    "        nhmu[i]=np.nan\n",
    "        nhSig[i]=np.nan\n",
    "    \n",
    "\n",
    "    \n",
    "    \n",
    "    \n"
   ]
  },
  {
   "cell_type": "code",
   "execution_count": null,
   "metadata": {},
   "outputs": [],
   "source": []
  },
  {
   "cell_type": "code",
   "execution_count": null,
   "metadata": {},
   "outputs": [],
   "source": []
  },
  {
   "cell_type": "code",
   "execution_count": null,
   "metadata": {},
   "outputs": [],
   "source": [
    "#e.g. mu and sigma for sunnyvale:\n",
    "svmu=nhmu[maxhoods.index('sunnyvale')]\n",
    "svSig=nhSig[maxhoods.index('sunnyvale')]\n",
    "\n",
    "def svp(X):\n",
    "    return multigauss(X,svmu,svSig)\n",
    "\n",
    "svtest = test.loc[test['neighborhood']=='sunnyvale'][:]\n",
    "\n",
    "\n",
    "svXtest=svtest[featureset].values\n",
    "\n",
    "\n",
    "svtest['probability'] = svp(svXtest)\n",
    "svtest[['description']+featureset+['probability']].sort_values(by='probability')\n"
   ]
  },
  {
   "cell_type": "code",
   "execution_count": null,
   "metadata": {},
   "outputs": [],
   "source": [
    "\n",
    "\n"
   ]
  },
  {
   "cell_type": "code",
   "execution_count": null,
   "metadata": {},
   "outputs": [],
   "source": []
  },
  {
   "cell_type": "markdown",
   "metadata": {},
   "source": [
    "## dont' know why this is not normalized how I expect --- come back to this later"
   ]
  },
  {
   "cell_type": "code",
   "execution_count": null,
   "metadata": {},
   "outputs": [],
   "source": [
    "brrange = np.arange(min(dfsv['bedrooms']),max(dfsv['bedrooms']+1))\n",
    "pprange = np.arange(min(dfsv['pricek']),max(dfsv['pricek']+1),.1)\n",
    "\n",
    "plt.hist(dfsv['pricek'])\n",
    "plt.plot(pprange,[len(dfsv['pricek'])*np.sum([multigauss(np.array([[br,pp]]),svmu,svSig) for br in brrange]) for pp in pprange])\n"
   ]
  },
  {
   "cell_type": "code",
   "execution_count": null,
   "metadata": {},
   "outputs": [],
   "source": [
    "#this seems fine:\n",
    "\n",
    "plt.hist(dfsv.loc[dfsv['bedrooms']==1]['pricek'])\n",
    "plt.plot(pprange,[len(dfsv.loc[dfsv['bedrooms']==1])*multigauss(np.array([[1,pp]]),svmu,svSig) for pp in pprange])\n"
   ]
  },
  {
   "cell_type": "code",
   "execution_count": null,
   "metadata": {},
   "outputs": [],
   "source": []
  },
  {
   "cell_type": "code",
   "execution_count": null,
   "metadata": {},
   "outputs": [],
   "source": []
  },
  {
   "cell_type": "code",
   "execution_count": null,
   "metadata": {},
   "outputs": [],
   "source": [
    "dfsv = train.loc[train['neighborhood']=='sunnyvale']\n",
    "\n",
    "pprange = np.arange(0,6,.1);\n",
    "plt.hist(dfsv['price'])\n",
    "plt.plot(1000*pprange,np.array([np.sum([svp(np.array([[br,pp]])) for br in range(1,4)]) for pp in pprange]))\n",
    "plt.xlabel('rent ($)')\n",
    "plt.title('price distribution for all homes in sunnyvale (training set)');\n",
    "\n",
    "\n"
   ]
  },
  {
   "cell_type": "markdown",
   "metadata": {},
   "source": [
    "Expected price given bedrooms and square footage: (want to use this to pick only anomalies where price is lower than expected)"
   ]
  },
  {
   "cell_type": "code",
   "execution_count": null,
   "metadata": {},
   "outputs": [],
   "source": [
    "XY[:,0]"
   ]
  },
  {
   "cell_type": "code",
   "execution_count": null,
   "metadata": {},
   "outputs": [],
   "source": [
    "X = [0,0,0,1,1,1,1,2,3];\n",
    "Y = [0,1,1,0,2,2,2,3,10];\n",
    "\n",
    "XY = np.array([X,Y]).T\n",
    "\n",
    "\n",
    "\n",
    "def gauss(x):\n",
    "    xmu=np.mean(X);\n",
    "    xsig=np.std(X);\n",
    "    return((1/(((2*np.pi)**.5)*xsig))*np.exp(-(x-xmu)**2/(2*xsig**2)))\n",
    "\n",
    "muXY=np.mean(XY,axis=0)\n",
    "\n",
    "\n",
    "\n",
    "m=len(X);\n",
    "SigXY=(1/m)*np.dot((XY-muXY).T,XY-muXY)\n",
    "\n",
    "def multigaussXY(x,y):\n",
    "    return multigauss(np.array([[x,y]]),muXY,SigXY)\n",
    "\n",
    "xrange = np.arange(min(X),max(X)+1);\n",
    "yrange = np.arange(min(Y),max(Y)+1);\n",
    "\n",
    "plt.hist(Y)\n",
    "plt.plot(yrange, [len(XY)*np.sum([multigaussXY(x, y) for x in xrange]) for y in yrange] )"
   ]
  },
  {
   "cell_type": "code",
   "execution_count": null,
   "metadata": {},
   "outputs": [],
   "source": []
  },
  {
   "cell_type": "code",
   "execution_count": null,
   "metadata": {},
   "outputs": [],
   "source": []
  },
  {
   "cell_type": "code",
   "execution_count": null,
   "metadata": {},
   "outputs": [],
   "source": []
  },
  {
   "cell_type": "code",
   "execution_count": null,
   "metadata": {},
   "outputs": [],
   "source": [
    "brrange=list(set(dfsv['bedrooms']));\n",
    "print(brrange)\n",
    ".1*np.sum([np.sum([svp(np.array([[br,pp]])) for br in brrange]) for pp in pprange])"
   ]
  },
  {
   "cell_type": "markdown",
   "metadata": {},
   "source": [
    "(or see below for the quick and dirty method of finding expected price)"
   ]
  },
  {
   "cell_type": "code",
   "execution_count": null,
   "metadata": {},
   "outputs": [],
   "source": [
    "bdrs = 1;\n",
    "ksqfeet = 1;\n",
    "\n",
    "pricerange = np.arange(0,50,.1);\n",
    "probprice=[p(np.array([[bdrs, ksqfeet, kdollars]]), mu, Sig) for kdollars in pricerange]\n",
    "maxid = np.argmax(probprice)\n",
    "\n",
    "\n",
    "pricerange[maxid]*1000"
   ]
  },
  {
   "cell_type": "markdown",
   "metadata": {},
   "source": [
    "Now define function using this to say whether a given price is cheap:"
   ]
  },
  {
   "cell_type": "code",
   "execution_count": null,
   "metadata": {},
   "outputs": [],
   "source": [
    "def isitcheap(X,mu,Sig):\n",
    "    m=X.shape[0]\n",
    "    n=X.shape[1]\n",
    "    \n",
    "    br = X[:,0]\n",
    "    sqft = X[:,1]\n",
    "    price = X[:,2]\n",
    "    \n",
    "    dz = 1;\n",
    "    zmax = 100;\n",
    "    pricerange = np.arange(0,zmax,dz);\n",
    "    \n",
    "    norm = np.zeros(m)\n",
    "    exp_price = np.zeros(m)\n",
    "    \n",
    "    for i in range(0,m):\n",
    "        norm[i] = dz*np.sum([p(np.array([[br[i],sqft[i],z]]),mu,Sig) for z in pricerange]);\n",
    "        exp_price[i] = dz*np.sum([z*p(np.array([[br[i],sqft[i],z]]),mu,Sig) for z in pricerange])/norm[i];\n",
    "    \n",
    "    return price<exp_price\n",
    "#returns \"True\" if price is lower than expected given br and sqft"
   ]
  },
  {
   "cell_type": "code",
   "execution_count": null,
   "metadata": {},
   "outputs": [],
   "source": [
    "#define expected price seprately\n",
    "def exp_price(br,sqft,mu,Sig):\n",
    "    norm = dz*np.sum([p(np.array([[br,sqft,z]]),mu,Sig) for z in pricerange]);\n",
    "    exp_price = dz*np.sum([z*p(np.array([[br,sqft,z]]),mu,Sig) for z in pricerange])/norm;\n",
    "    return exp_price"
   ]
  },
  {
   "cell_type": "code",
   "execution_count": null,
   "metadata": {},
   "outputs": [],
   "source": [
    "exp_price(4,1.15,mu,Sig)*1000"
   ]
  },
  {
   "cell_type": "code",
   "execution_count": null,
   "metadata": {},
   "outputs": [],
   "source": []
  },
  {
   "cell_type": "code",
   "execution_count": null,
   "metadata": {},
   "outputs": [],
   "source": []
  },
  {
   "cell_type": "code",
   "execution_count": null,
   "metadata": {},
   "outputs": [],
   "source": []
  },
  {
   "cell_type": "markdown",
   "metadata": {},
   "source": [
    "### Define probability density for price, given fixed number of bedrooms and square footage."
   ]
  },
  {
   "cell_type": "code",
   "execution_count": null,
   "metadata": {},
   "outputs": [],
   "source": [
    "br = 1;\n",
    "sqft = 1;\n",
    "\n",
    "dz=.1;\n",
    "zmax = 8;\n",
    "    \n",
    "def pz(x0,y0,z):\n",
    "\n",
    "    norm=dz*np.sum([p(np.array([[1,1,z]]),mu,Sig) for z in np.arange(0,zmax,dz)]);\n",
    "    return p(np.array([[x0,y0,z]]),mu,Sig)/norm\n",
    "\n",
    "#plt.plot(pricerange,[pz(1,1,z) for z in pricerange])\n",
    "\n",
    "pricerange=np.arange(0,zmax,dz)\n",
    "pzrange=np.reshape([pz(1,1,z) for z in pricerange],(len(pricerange),));\n",
    "\n",
    "plt.plot(pricerange*1000,pzrange)\n",
    "plt.xlabel('Price ($)')\n",
    "plt.title(f'(Normalized) distribution for price, for {br}-bedroom, {sqft*1000} sq-foot homes')"
   ]
  },
  {
   "cell_type": "code",
   "execution_count": null,
   "metadata": {},
   "outputs": [],
   "source": [
    "start = time.time()\n",
    "dz*np.sum([pz(br,sqft,z)*z for z in pricerange])\n",
    "end = time.time()\n",
    "end-start"
   ]
  },
  {
   "cell_type": "markdown",
   "metadata": {},
   "source": [
    "This can the be used to get expected price given bedrooms and area."
   ]
  },
  {
   "cell_type": "code",
   "execution_count": null,
   "metadata": {},
   "outputs": [],
   "source": [
    "smallp=(p(Xval,mu,Sig)<.05)[:,0]\n",
    "\n",
    "Xvalsmallp=Xval[smallp]\n",
    "\n",
    "val['probability'] = p(Xval,mu,Sig)[:,0]\n",
    "\n",
    "val[ (val['probability']<0.01)][val['pricek']<mu[2] ]\n",
    "\n",
    "#need another filter, for /low/ price given other features.\n",
    "\n"
   ]
  },
  {
   "cell_type": "code",
   "execution_count": null,
   "metadata": {},
   "outputs": [],
   "source": []
  },
  {
   "cell_type": "code",
   "execution_count": null,
   "metadata": {},
   "outputs": [],
   "source": []
  },
  {
   "cell_type": "markdown",
   "metadata": {},
   "source": [
    "## predict"
   ]
  },
  {
   "cell_type": "code",
   "execution_count": null,
   "metadata": {},
   "outputs": [],
   "source": [
    "#first use validation to set epsilon\n",
    "eps = .02\n",
    "\n",
    "def predict(x,mu,Sig): #input x is m by n (must be in the form of a 2-d array)\n",
    "    m = x.shape[0]\n",
    "    prediction=np.ones(m)\n",
    "    prediction[p(x,mu,Sig)>eps] = 0\n",
    "    prediction[isitcheap(x,mu,Sig)==False]=0\n",
    "    return prediction\n",
    "\n",
    "#         if isitcheap(x,mu,Sig)==True:\n",
    "#             return True\n",
    "#         else:\n",
    "#             return False\n",
    "\n",
    "\n",
    "Xtest = np.array(test[['bedrooms','1000sqfeet','pricek']])\n",
    "testpred=predict(Xtest,mu,Sig)\n",
    "testpred = testpred.astype(bool)"
   ]
  },
  {
   "cell_type": "code",
   "execution_count": null,
   "metadata": {},
   "outputs": [],
   "source": [
    "test['probability']= p(Xtest,mu,Sig)"
   ]
  },
  {
   "cell_type": "code",
   "execution_count": null,
   "metadata": {},
   "outputs": [],
   "source": [
    "test[testpred].sort_values(by='probability')[['description','link','bedrooms','sq. feet', 'price', 'probability']]"
   ]
  },
  {
   "cell_type": "code",
   "execution_count": null,
   "metadata": {},
   "outputs": [],
   "source": [
    "x = np.array([[1,0],[1,1],[3,2]]);\n",
    "m=x.shape[0]\n",
    "n = x.shape[1]\n",
    "mu = np.reshape(np.mean(x,0),(1,n))\n",
    "\n",
    "xminusmu = x-mu\n",
    "\n",
    "Sig = (1/m)*np.dot(xminusmu.T,xminusmu) \n",
    "inv = np.linalg.inv(Sig)\n",
    "\n",
    "x0 = x[0,:]\n",
    "\n",
    "#np.exp(-.5*([np.dot( (x[i,:]-mu),  np.dot(inv,(x[i,:]-mu).T)) for i in range(0,m)]))\n",
    "\n",
    "exponent=-.5*np.reshape([np.dot( (x[i,:]-mu),  np.dot(inv,(x[i,:]-mu).T)) for i in range(0,m)],(m,1))\n",
    "np.exp(exponent)"
   ]
  },
  {
   "cell_type": "code",
   "execution_count": null,
   "metadata": {},
   "outputs": [],
   "source": []
  },
  {
   "cell_type": "code",
   "execution_count": null,
   "metadata": {},
   "outputs": [],
   "source": []
  },
  {
   "cell_type": "code",
   "execution_count": null,
   "metadata": {},
   "outputs": [],
   "source": [
    "#time to look for anomalies in the test data\n",
    "\n",
    "test.head()\n",
    "\n",
    "#put the test data into an array of x's:\n",
    "testarray_links= np.array(test['link'])\n",
    "testarray = np.array(test[['bedrooms','sq. feet', 'price']])\n",
    "\n",
    "y=np.zeros(len(testarray))\n",
    "for i,x in enumerate(testarray):\n",
    "    y[i] = predict(x,mu,Sig)\n",
    "    if predict(x)==1:\n",
    "        print(f\"A {x[1]} sq. foot {x[0]}-bedroom home for ${x[2]} is anomalous:\")\n",
    "        display(HTML(\"<a href=\"+testarray_links[i]+\" target='_blank'>see link</a>\"))\n",
    "        \n",
    "#at this stage, i think too many things are being flagged as anomalous, e.g. many-roomed homes, even if not particularly expensive per room."
   ]
  },
  {
   "cell_type": "code",
   "execution_count": null,
   "metadata": {},
   "outputs": [],
   "source": [
    "testnotforsale=test.drop(test[test['price']>50000].index)\n",
    "type(testnotforsale)"
   ]
  },
  {
   "cell_type": "code",
   "execution_count": null,
   "metadata": {},
   "outputs": [],
   "source": [
    "test[y==1].plot('sq. feet', 'price',kind='scatter',color='r')\n",
    "test[y==0].plot('sq. feet', 'price',kind='scatter',color='b')"
   ]
  },
  {
   "cell_type": "code",
   "execution_count": null,
   "metadata": {},
   "outputs": [],
   "source": []
  },
  {
   "cell_type": "code",
   "execution_count": null,
   "metadata": {},
   "outputs": [],
   "source": [
    "\n",
    "\n"
   ]
  },
  {
   "cell_type": "code",
   "execution_count": null,
   "metadata": {},
   "outputs": [],
   "source": [
    "#complex p?"
   ]
  },
  {
   "cell_type": "code",
   "execution_count": null,
   "metadata": {},
   "outputs": [],
   "source": [
    "\n",
    "\n",
    "\n",
    "#fix to 1 bedrooms and look at probability distribution in the two dimensions of square footage and price\n",
    "sqfeetrange = np.arange(0,5000,100);\n",
    "pricerange = np.arange(0,10000,100);\n",
    "X, Y = np.meshgrid( sqfeetrange, pricerange);\n",
    "\n",
    "Z = np.array([[p(np.array([1,x,y]),mu,Sig) for x in sqfeetrange] for y in pricerange])\n",
    "\n",
    "\n",
    "\n",
    "\n",
    "from mpl_toolkits.mplot3d import Axes3D\n",
    "from matplotlib import cm\n",
    "from matplotlib.ticker import LinearLocator, FormatStrFormatter\n",
    "\n",
    "\n",
    "fig = plt.figure()\n",
    "\n",
    "\n",
    "\n",
    "ax = fig.gca(projection='3d')\n",
    "\n",
    "ax.scatter([1000],[4000],p(np.array([1,1000,4000]),mu,Sig),color='k',marker = 'o')\n",
    "\n",
    "surf = ax.plot_surface(X, Y, Z)#, cmap=cm.coolwarm)#,\n",
    "                       #linewidth=0, antialiased=False)\n",
    "ax.set_xlabel('sq. feet')\n",
    "ax.set_ylabel('price')\n",
    "\n"
   ]
  },
  {
   "cell_type": "code",
   "execution_count": null,
   "metadata": {},
   "outputs": [],
   "source": [
    "np.sqrt(detSig)"
   ]
  },
  {
   "cell_type": "code",
   "execution_count": null,
   "metadata": {},
   "outputs": [],
   "source": [
    "#average price per room for 1 br, 2br, 3br\n",
    "#[np.mean(df.loc[df['bedrooms']==i]['price'])/i for i in range(1,6)]"
   ]
  },
  {
   "cell_type": "code",
   "execution_count": null,
   "metadata": {},
   "outputs": [],
   "source": [
    "#df.loc[df['price']>5000]"
   ]
  },
  {
   "cell_type": "code",
   "execution_count": null,
   "metadata": {},
   "outputs": [],
   "source": [
    "# old train and predict\n",
    "\n",
    "#remove rows with missing data\n",
    "# dfclean=df_no_duplicates.dropna()[:]\n",
    "\n",
    "# dfclean['1000sqfeet']=dfclean['sq. feet']/1000  #normalize so all features are order 1 (no area is in 1000s of square feet)\n",
    "# dfclean['pricek']=dfclean['price']/1000 #normalize so all features are order 1 (price is in thousands of dollars)\n",
    "\n",
    "# #compute the mean\n",
    "# mu = np.array(np.mean(dfclean)[['bedrooms','1000sqfeet','pricek']])\n",
    "# xminusmu = np.array(dfclean[['bedrooms','1000sqfeet', 'pricek']]-mu)\n",
    "\n",
    "# #compute covariance matrix\n",
    "# m=xminusmu.shape[0]\n",
    "# Sigi=0;\n",
    "# for i in range(0,m):\n",
    "#     Sigi=Sigi+np.outer(xminusmu[i], (xminusmu[i]).T)\n",
    "# Sig=(1/m)*Sigi\n",
    "# detSig = np.linalg.det(Sig)\n",
    "\n",
    "# Siginv = np.linalg.inv(Sig)\n",
    "# n=len(mu)\n",
    "# def p(x):\n",
    "#     #p takes x in [bedrooms, 1000s of square feet, 1000s of dollars]\n",
    "#     exp=np.e**(-.5*np.dot(x-mu,np.dot(Siginv,x-mu)))\n",
    "#     return(exp/( (2*np.pi)**(n/2)*(detSig**(1/2)) ))\n",
    "    \n",
    "# #set a 1-sigma cut-off?\n",
    "# def predict(x):\n",
    "#     #x = [bedrooms, square feet, price (in dollars)]\n",
    "#     eps = p(mu-[Sig[0,0],(Sig[1,1]),Sig[2,2]  ]);\n",
    "#     y = np.array([x[0], x[1]/1000, x[2]/1000])\n",
    "#     if p(y)>=eps:  #p takes x in [bedrooms, 1000s of square feet, 1000s of dollars]\n",
    "#         print(f\"A {np.round(x[1])} sq. foot {int(x[0])}-bedroom home for ${np.round(x[2],2)} is not anomalous.\")\n",
    "#     else:\n",
    "#         print(f\"A {x[1]} sq. foot {x[0]}-bedroom home for ${x[2]} is anomalous.\")    \n",
    "    "
   ]
  },
  {
   "cell_type": "code",
   "execution_count": null,
   "metadata": {},
   "outputs": [],
   "source": []
  },
  {
   "cell_type": "code",
   "execution_count": null,
   "metadata": {},
   "outputs": [],
   "source": []
  },
  {
   "cell_type": "code",
   "execution_count": null,
   "metadata": {},
   "outputs": [],
   "source": []
  },
  {
   "cell_type": "code",
   "execution_count": null,
   "metadata": {},
   "outputs": [],
   "source": []
  },
  {
   "cell_type": "code",
   "execution_count": null,
   "metadata": {},
   "outputs": [],
   "source": [
    "pricerange = np.arange(0,int(max(dfclean['pricek'])),.1);\n",
    "xs = [[1,.8,price] for price in pricerange]\n",
    "plt.plot([price for price in pricerange], [p(xs[i]) for i in range(0,len(xs))])\n",
    "plt.xlabel('Price (k$)')\n",
    "plt.title('Probability distribution for average bedrooms and area, as a functin of price')\n"
   ]
  },
  {
   "cell_type": "code",
   "execution_count": null,
   "metadata": {},
   "outputs": [],
   "source": []
  },
  {
   "cell_type": "code",
   "execution_count": null,
   "metadata": {},
   "outputs": [],
   "source": [
    "x=np.zeros(3);\n",
    "x[0]=1\n",
    "x[1]=np.mean(dfclean.loc[dfclean['bedrooms']==x[0]]['1000sqfeet'])\n",
    "x[2] = .5\n",
    "x=np.array(x)\n",
    "print(f\"Check probability of feature vector {x}\")\n",
    "print(f\"There's a {np.round(p(x)*100,2)}% chance that a {int(x[0])}-bedroom of average size \\nwould cost ${x[2]*1000}. This is somewhat anomalous.\")"
   ]
  },
  {
   "cell_type": "code",
   "execution_count": null,
   "metadata": {},
   "outputs": [],
   "source": []
  },
  {
   "cell_type": "code",
   "execution_count": null,
   "metadata": {},
   "outputs": [],
   "source": [
    "predict(np.array([3,1000,3500]))"
   ]
  },
  {
   "cell_type": "raw",
   "metadata": {},
   "source": []
  },
  {
   "cell_type": "code",
   "execution_count": null,
   "metadata": {},
   "outputs": [],
   "source": [
    "#now i need to get more data by scraping other pages,\n",
    "# and properly split my data into training/testing (don't think i need CV for anything?)"
   ]
  },
  {
   "cell_type": "code",
   "execution_count": null,
   "metadata": {},
   "outputs": [],
   "source": []
  },
  {
   "cell_type": "code",
   "execution_count": null,
   "metadata": {},
   "outputs": [],
   "source": [
    "re.compile('[a-z ]+').search(resultrow.find(class_=\"result-hood\").text.strip()).group() for resultrow in resultrows\n"
   ]
  },
  {
   "cell_type": "code",
   "execution_count": null,
   "metadata": {},
   "outputs": [],
   "source": [
    "lowerpachts=resultrows[3].find(class_=\"result-hood\").text.strip()\n",
    "\n",
    "re.compile('[a-z ]+').findall(lowerpachts)"
   ]
  },
  {
   "cell_type": "code",
   "execution_count": null,
   "metadata": {},
   "outputs": [],
   "source": [
    "resultrows.find_all(class_=\"result-hood\")"
   ]
  },
  {
   "cell_type": "markdown",
   "metadata": {},
   "source": [
    "# other cleaning considerations"
   ]
  },
  {
   "cell_type": "code",
   "execution_count": null,
   "metadata": {},
   "outputs": [],
   "source": [
    "\n",
    "#plenty list price zero. obviously this is false.\n",
    "df[df['price']==0]\n",
    "\n",
    "#extract the most expensive neighborhoods?\n",
    "\n",
    "nhp=[];\n",
    "for nh in hoods:\n",
    "    nhp.append([nh, np.mean(df[df['neighborhood']==nh]['price'])])\n",
    "    \n",
    "    \n",
    "pd.DataFrame(nhp,columns=['neighborhood','average price']).sort_values(by='average price',ascending=False)\n"
   ]
  },
  {
   "cell_type": "code",
   "execution_count": null,
   "metadata": {},
   "outputs": [],
   "source": []
  }
 ],
 "metadata": {
  "kernelspec": {
   "display_name": "Python 3",
   "language": "python",
   "name": "python3"
  },
  "language_info": {
   "codemirror_mode": {
    "name": "ipython",
    "version": 3
   },
   "file_extension": ".py",
   "mimetype": "text/x-python",
   "name": "python",
   "nbconvert_exporter": "python",
   "pygments_lexer": "ipython3",
   "version": "3.7.0"
  },
  "toc": {
   "base_numbering": 1,
   "nav_menu": {},
   "number_sections": true,
   "sideBar": true,
   "skip_h1_title": false,
   "title_cell": "Table of Contents",
   "title_sidebar": "Contents",
   "toc_cell": false,
   "toc_position": {},
   "toc_section_display": true,
   "toc_window_display": true
  }
 },
 "nbformat": 4,
 "nbformat_minor": 2
}
