{
 "cells": [
  {
   "cell_type": "code",
   "execution_count": 501,
   "metadata": {},
   "outputs": [],
   "source": [
    "import numpy as np\n",
    "import pandas as pd\n",
    "import matplotlib.pyplot as plt\n",
    "import re\n",
    "import time\n",
    "from datetime import datetime\n",
    "from urllib.request import urlopen\n",
    "\n",
    "from bs4 import BeautifulSoup\n",
    "from requests import get\n"
   ]
  },
  {
   "cell_type": "markdown",
   "metadata": {},
   "source": [
    "## one page scrape"
   ]
  },
  {
   "cell_type": "code",
   "execution_count": null,
   "metadata": {},
   "outputs": [],
   "source": []
  },
  {
   "cell_type": "code",
   "execution_count": 274,
   "metadata": {},
   "outputs": [],
   "source": [
    "#How do we want to count studios? As 1-bedrooms?\n",
    "studiobedrooms = 1.0\n",
    "#\n",
    "\n"
   ]
  },
  {
   "cell_type": "code",
   "execution_count": null,
   "metadata": {},
   "outputs": [],
   "source": [
    "#initialize lists of info:\n",
    "link=[]\n",
    "desc=[]\n",
    "prices=[]\n",
    "\n",
    "sqfeets=[]\n",
    "bedrooms = []\n",
    "\n",
    "hood=[]"
   ]
  },
  {
   "cell_type": "code",
   "execution_count": 279,
   "metadata": {},
   "outputs": [],
   "source": [
    "#headers = ({'UseIIr-Agent':\n",
    "#            'Mozilla/5.0 (Windows NT 6.1) AppleWebKit/537.36 (KHTML, like Gecko) Chrome/41.0.2228.0 Safari/537.36'})\n",
    "\n",
    "i = 0 #scrape the i^{th} page\n",
    "    \n",
    "url = \"https://sfbay.craigslist.org/search/apa?availabilityMode=0&s=\"+str(i)\n",
    "\n",
    "\n",
    "#response = get(url,headers=headers)\n",
    "response = get(url)\n",
    "\n",
    "soup = BeautifulSoup(response.text,'html')\n",
    "\n",
    "resultrows = soup.find_all(class_=\"result-row\"); #when we do multiple pages, there will be one soup per page.\n"
   ]
  },
  {
   "cell_type": "code",
   "execution_count": 280,
   "metadata": {},
   "outputs": [
    {
     "name": "stdout",
     "output_type": "stream",
     "text": [
      "time to run: 0.043s.\n"
     ]
    }
   ],
   "source": [
    "\n",
    "\n",
    "##\n",
    "#define lists of info using resultrows\n",
    "start = time.time()\n",
    "for row in resultrows:\n",
    "    \n",
    "    #hypberlink:\n",
    "    linki = row.find(class_='result-title hdrlnk')['href']\n",
    "    link.append(linki)\n",
    "    \n",
    "    #description (or title) of listing:\n",
    "    description = row.find(class_='result-title').text\n",
    "    desc.append(description)\n",
    "    \n",
    "    #price:\n",
    "    try:\n",
    "        price=float(  re.compile('[\\d]+').search( row.find(class_='result-price').text   ).group()   )\n",
    "        prices.append(price)\n",
    "    except:\n",
    "        prices.append(np.NaN)\n",
    "    \n",
    "    #number of bedrooms and square footage:\n",
    "    try:\n",
    "        housinginfo = row.find(class_='housing').text\n",
    "        #bedrooms:\n",
    "        try:\n",
    "            br = float(re.compile('\\d').search(  re.compile('\\dbr').search(housinginfo).group()  ).group()  ) #this mess pulls out number of bedrooms\n",
    "            #if br is given in housing section\n",
    "        except AttributeError:\n",
    "            try: \n",
    "                br=re.compile('\\d').search(re.compile('(\\dbr|\\d-br|\\d\\sbr|\\dbdr|\\d-bdr|\\d\\sbedroom|\\d-bedroom)').search(description.lower()).group()).group()\n",
    "                #print('found bedroom in description:'+description)\n",
    "                #if br is given in description\n",
    "            except:\n",
    "                stud=re.compile('studio').search(description.lower())\n",
    "                if stud is not None:\n",
    "                    br = studiobedrooms\n",
    "                else:\n",
    "                    br=np.NaN\n",
    "        #square footage:\n",
    "        try:\n",
    "            sqfeet = float(re.compile('[\\d]+').search( re.compile('[\\d]+ft2').search(housinginfo).group() ).group()   )\n",
    "            sqfeets.append(sqfeet)\n",
    "        except AttributeError:\n",
    "            sqfeets.append(np.NaN)\n",
    "    except AttributeError: #in case 'housing' class doesn't exist for the listing:\n",
    "        sqfeets.append(np.NaN) #give up on square footage\n",
    "        #\n",
    "        try: \n",
    "            br=re.compile('\\d').search(re.compile('(\\dbr|\\d-br|\\d\\sbr|\\dbdr|\\d-bdr|\\d\\sbedroom|\\d-bedroom)').search(description.lower()).group()).group()\n",
    "                #print('found bedroom in description:'+description)\n",
    "                #if br is given in description\n",
    "        except: #if no appearance of \"br\" in description, look for \"studio\":\n",
    "            stud=re.compile('studio').search(description.lower())\n",
    "            if stud is not None:\n",
    "                br = studiobedrooms\n",
    "            else:\n",
    "                br=np.NaN\n",
    "    finally:\n",
    "        bedrooms.append(br)\n",
    "        \n",
    "        \n",
    "    #neighborhood\n",
    "    try:\n",
    "        nh = re.compile('[^)^(]+').search(  row.find(class_='result-hood').text.strip().lower()  ).group()        \n",
    "        hood.append(nh)\n",
    "    except:\n",
    "        hood.append(np.NaN)\n",
    "\n",
    "end=time.time()\n",
    "\n",
    "print(f\"time to run: {round(end-start,3)}s.\")\n",
    "\n",
    "\n",
    "#    time.sleep(3)\n",
    "\n",
    "    \n",
    "#descriptionflat = [x for y in description for x in y] #flatten description list\n",
    "\n",
    "\n"
   ]
  },
  {
   "cell_type": "code",
   "execution_count": 281,
   "metadata": {},
   "outputs": [
    {
     "name": "stdout",
     "output_type": "stream",
     "text": [
      "6 listings still have no bedroom info.\n"
     ]
    }
   ],
   "source": [
    "count=0\n",
    "for i,br in enumerate(bedrooms):\n",
    "    if str(br) == 'nan':\n",
    "        count=count+1\n",
    "print(f\"{count} listings still have no bedroom info.\")"
   ]
  },
  {
   "cell_type": "code",
   "execution_count": 278,
   "metadata": {},
   "outputs": [
    {
     "name": "stdout",
     "output_type": "stream",
     "text": [
      "26 listings still have no square footage info.\n"
     ]
    }
   ],
   "source": [
    "#plenty have no square footage info:\n",
    "count=0\n",
    "for i,sq in enumerate(sqfeets):\n",
    "    if str(sq) == 'nan':\n",
    "        count=count+1\n",
    "print(f\"{count} listings still have no square footage info.\")"
   ]
  },
  {
   "cell_type": "code",
   "execution_count": null,
   "metadata": {},
   "outputs": [],
   "source": []
  },
  {
   "cell_type": "code",
   "execution_count": null,
   "metadata": {},
   "outputs": [],
   "source": []
  },
  {
   "cell_type": "code",
   "execution_count": null,
   "metadata": {},
   "outputs": [],
   "source": [
    "# #alternately, could search for tags within the whole soup, instead of within each listing.\n",
    "# #this is slower, and runs the risk of producing lists of mismatched lengths if info is missing for some listings\n",
    "# #(which it is)\n",
    "\n",
    "# start=time.time()\n",
    "# link1 = [a['href'] for a in soup.find_all('a',attrs={'class','result-title hdrlnk'})]\n",
    "\n",
    "# end = time.time()\n",
    "# end-start\n",
    "         "
   ]
  },
  {
   "cell_type": "code",
   "execution_count": null,
   "metadata": {},
   "outputs": [],
   "source": []
  },
  {
   "cell_type": "code",
   "execution_count": 198,
   "metadata": {},
   "outputs": [],
   "source": [
    "# #to experiment with defining 'hood' differently:\n",
    "# hoodx=[];\n",
    "# row = resultrows[0]\n",
    "# resulthood = row.find(class_=\"result-hood\")\n",
    "# try:\n",
    "#     if re.compile('[a-zA-Z/\\s]+').search(resulthood.text.strip()) is not None:\n",
    "#         neighborhood =  re.sub('[\\(\\)]','', resulthood.text.strip().lower() )  \n",
    "#         hoodx.append(neighborhood)\n",
    "#     else:\n",
    "#         hoodx.append(np.NaN)\n",
    "# except:\n",
    "#     hoodx.append(np.NaN)"
   ]
  },
  {
   "cell_type": "code",
   "execution_count": null,
   "metadata": {},
   "outputs": [],
   "source": [
    "##clean up nh data\n"
   ]
  },
  {
   "cell_type": "code",
   "execution_count": null,
   "metadata": {},
   "outputs": [],
   "source": []
  },
  {
   "cell_type": "code",
   "execution_count": null,
   "metadata": {},
   "outputs": [],
   "source": []
  },
  {
   "cell_type": "code",
   "execution_count": null,
   "metadata": {},
   "outputs": [],
   "source": []
  },
  {
   "cell_type": "code",
   "execution_count": null,
   "metadata": {},
   "outputs": [],
   "source": [
    "cdata = {'description':description,\n",
    "         'link':link,\n",
    "         'bedrooms':br,\n",
    "         'sq. feet':sqfeet,'price':prices}\n",
    "df = pd.DataFrame(cdata)"
   ]
  },
  {
   "cell_type": "code",
   "execution_count": null,
   "metadata": {},
   "outputs": [],
   "source": []
  },
  {
   "cell_type": "markdown",
   "metadata": {},
   "source": [
    "## scrape all pages"
   ]
  },
  {
   "cell_type": "code",
   "execution_count": 502,
   "metadata": {},
   "outputs": [],
   "source": [
    "url = \"https://sfbay.craigslist.org/search/apa?availabilityMode=0\"\n",
    "\n",
    "from urllib.request import urlopen\n",
    "html = urlopen(url)\n",
    "soup = BeautifulSoup(html,'html')"
   ]
  },
  {
   "cell_type": "code",
   "execution_count": 503,
   "metadata": {},
   "outputs": [
    {
     "name": "stdout",
     "output_type": "stream",
     "text": [
      "120 listings per page\n",
      "There are a total of 3000 listings.\n",
      "That makes for 25 pages.\n"
     ]
    }
   ],
   "source": [
    "rangefrom=int(soup.find(class_=\"rangeFrom\").text)\n",
    "rangeto=int(soup.find(class_=\"rangeTo\").text)\n",
    "perpage = rangeto-rangefrom+1\n",
    "print(f\"{perpage} listings per page\")\n",
    "\n",
    "totalcount = int(soup.find(class_=\"totalcount\").text)\n",
    "print(f\"There are a total of {totalcount} listings.\")\n",
    "\n",
    "print(f\"That makes for {int(totalcount/perpage)} pages.\")"
   ]
  },
  {
   "cell_type": "code",
   "execution_count": 611,
   "metadata": {},
   "outputs": [],
   "source": [
    "#initialize lists of info:\n",
    "links=[]\n",
    "descs=[]\n",
    "prices=[]\n",
    "\n",
    "sqfeets=[]\n",
    "bedrooms = []\n",
    "\n",
    "hood=[]\n",
    "\n",
    "\n",
    "#for each page, make a soup, and for each listing in that soup, append to each info list. \n",
    "for i in range(0,totalcount,perpage):\n",
    "    url = \"https://sfbay.craigslist.org/search/apa?availabilityMode=0&s=\"+str(i)\n",
    "    \n",
    "\n",
    "    response = get(url)\n",
    "    soup = BeautifulSoup(response.text,'html')\n",
    "    resultrows = soup.find_all(class_=\"result-row\");\n",
    "\n",
    "    ###\n",
    "    for row in resultrows:\n",
    "        \n",
    "        #hyperlink:\n",
    "        linki = row.find(class_='result-title hdrlnk')['href']\n",
    "        links.append(linki)\n",
    "\n",
    "        #description (or title) of listing:\n",
    "        description = row.find(class_='result-title').text\n",
    "        descs.append(description)\n",
    "\n",
    "        #price:\n",
    "        try:\n",
    "            price=float(  re.compile('[\\d]+').search( row.find(class_='result-price').text   ).group()   )\n",
    "            prices.append(price)\n",
    "        except:\n",
    "            prices.append(np.NaN)\n",
    "\n",
    "        #number of bedrooms and square footage:\n",
    "        try:\n",
    "            housinginfo = row.find(class_='housing').text\n",
    "            #bedrooms:\n",
    "            try: #check whether # of bedrooms is given in the \"housing\" class:\n",
    "                br = float(re.compile('\\d').search(  re.compile('\\dbr').search(housinginfo).group()  ).group()  ) #this mess pulls out number of bedrooms\n",
    "            except AttributeError: #if not, try to find bedroom number in description:\n",
    "                try: \n",
    "                    br=re.compile('\\d').search(re.compile('(\\dbr|\\d-br|\\d\\sbr|\\dbdr|\\d-bdr|\\d\\sbedroom|\\d-bedroom)').search(description.lower()).group()).group()\n",
    "\n",
    "                except: #or maybe the description says it's a studio:\n",
    "                    stud=re.compile('studio').search(description.lower())\n",
    "                    if stud is not None:\n",
    "                        br = studiobedrooms\n",
    "                    else:\n",
    "                        br=np.NaN\n",
    "            #square footage:\n",
    "            try: #check whether square footage is given in \"housing\" class:\n",
    "                sqfeet = float(re.compile('[\\d]+').search( re.compile('[\\d]+ft2').search(housinginfo).group() ).group()   )\n",
    "                sqfeets.append(sqfeet)\n",
    "            except AttributeError: #if not, mark \"nan\" and move on.\n",
    "                sqfeets.append(np.NaN)\n",
    "        except AttributeError: #in case 'housing' class doesn't exist for the listing:\n",
    "            sqfeets.append(np.NaN) #give up on square footage\n",
    "            #\n",
    "            try: #try to find number of bedrooms in description:\n",
    "                br=re.compile('\\d').search(re.compile('(\\dbr|\\d-br|\\d\\sbr|\\dbdr|\\d-bdr|\\d\\sbedroom|\\d-bedroom)').search(description.lower()).group()).group()\n",
    "            except: #if no appearance of \"br\" in description, look for \"studio\":\n",
    "                stud=re.compile('studio').search(description.lower())\n",
    "                if stud is not None:\n",
    "                    br = studiobedrooms\n",
    "                else:\n",
    "                    br=np.NaN\n",
    "        finally: #br has now been defined, even if as \"nan\"\n",
    "            bedrooms.append(float(br))\n",
    "\n",
    "\n",
    "        #neighborhood\n",
    "        try:\n",
    "            nh = re.compile('[^)^(]+').search(  row.find(class_='result-hood').text.strip().lower()  ).group()        \n",
    "            hood.append(nh)\n",
    "        except:\n",
    "            hood.append(np.NaN)\n",
    "\n",
    "        \n",
    "    \n",
    "    time.sleep(3) #take a break before scraping the next page"
   ]
  },
  {
   "cell_type": "code",
   "execution_count": 612,
   "metadata": {},
   "outputs": [],
   "source": [
    "hoods = list(set(hood)); #create a list with each neighborhood found appearing once\n",
    "hoods = [nh for nh in hoods if str(nh)!='nan']; #exclude \"nan\" from the list of neighborhoods\n",
    "         #list(set(hood))[1:] #(get rid of nan)"
   ]
  },
  {
   "cell_type": "markdown",
   "metadata": {},
   "source": [
    "Many of the neighborhoods are multiple neighborhoods separated by slashes, e.g. \"Pleasanton/Livermore\".\n",
    "In the \"hoods\" list, I want these to be separated.\n",
    "\n",
    "Also, some \"neighborhoods\" are just addresses. I want to reduce these to just neighborhood, if given, and get rid of these if not."
   ]
  },
  {
   "cell_type": "code",
   "execution_count": 613,
   "metadata": {},
   "outputs": [],
   "source": [
    "hoodssep = hoods[:]\n",
    "\n",
    "for i,nh in enumerate(hoods):\n",
    "    if str(nh)!='nan':\n",
    "        \n",
    "        #to separate slashed combo neighbrohoods:\n",
    "        combohood = re.compile('/').search(nh)\n",
    "        if combohood is not None: #i.e. if a slash appears in the neighborhood\n",
    "            pieces= (re.compile(\"[^/]+\").findall(nh)) #separate into constituent neighborhoods\n",
    "            pieces = [p.strip() for p in pieces]\n",
    "            hoodssep = hoodssep + pieces #append separate neighborhoods to the list\n",
    "            hoodssep.remove(nh) #remove the slashed combination from the list\n",
    "            \n",
    "#remove from hoodssep neighborhoods that have digits (probably addresses:)\n",
    "hoodssep = [nh for nh in hoodssep if re.compile('[\\d]+').search(nh)==None ]\n",
    "\n",
    "hoodssep = list(set(hoodssep)) #unique neighborhoods\n",
    "\n",
    "#remove \"downtown\" (not a useful neighborhood descriptor on its own)\n",
    "\n",
    "if 'downtown' in hoodssep:\n",
    "    hoodssep.remove('downtown')\n"
   ]
  },
  {
   "cell_type": "markdown",
   "metadata": {},
   "source": [
    "Many listings still have missing neighborhood info. Next try to find neighborhoods in descriptions."
   ]
  },
  {
   "cell_type": "code",
   "execution_count": 614,
   "metadata": {},
   "outputs": [
    {
     "name": "stdout",
     "output_type": "stream",
     "text": [
      "B: Fixed listing 131: hood was 2301 84th ave. oakland, ca 94605 and is now oakland.\n",
      "A: Fixed listing 292: hood was nan and is now los gatos.\n",
      "B: Fixed listing 355: hood was potrero 1010 and is now potrero.\n",
      "A: Fixed listing 408: hood was nan and is now petaluma.\n",
      "B: Fixed listing 409: hood was 146 ardith dr, orinda, ca 94563 and is now orinda.\n",
      "B: Fixed listing 413: hood was 146 ardith dr, orinda, ca 94563 and is now orinda.\n",
      "B: Fixed listing 415: hood was 146 ardith dr, orinda, ca 94563 and is now orinda.\n",
      "B: Fixed listing 419: hood was 146 ardith dr, orinda, ca 94563 and is now orinda.\n",
      "A: Fixed listing 475: hood was nan and is now petaluma.\n",
      "A: Fixed listing 481: hood was nan and is now petaluma.\n",
      "A: Fixed listing 483: hood was nan and is now petaluma.\n",
      "B: Fixed listing 604: hood was 2900 saint paul drive santa rosa, ca and is now santa rosa.\n",
      "B: Fixed listing 682: hood was 35 harkins slough rd watsonville ca and is now watsonville.\n",
      "B: Fixed listing 731: hood was 220 diablo ave, mountain view ca and is now mountain view.\n",
      "A: Fixed listing 779: hood was nan and is now mountain view.\n",
      "A: Fixed listing 908: hood was nan and is now pacifica.\n",
      "D: Fixed listing 977: hood was 571 33rd avenue, #3 and is now nan.\n",
      "B: Fixed listing 1044: hood was 175 baypointe parkway san jose ca 95134 and is now san jose.\n",
      "D: Fixed listing 1104: hood was 474 27th avenue, unit 6 and is now nan.\n",
      "B: Fixed listing 1145: hood was san francisco, ca 94122 and is now san francisco.\n"
     ]
    }
   ],
   "source": [
    "#put the neighborhoods into an \"or\" set to compile and search for in descriptions:\n",
    "orhoods=r'(\\b'+str(hoodssep[0]);\n",
    "for nh in hoodssep[1:]:\n",
    "    orhoods = orhoods + r'\\b|\\b' + str(nh)\n",
    "orhoods = orhoods + r'\\b)'\n",
    "\n",
    "printi=0\n",
    "imax=20\n",
    "\n",
    "hood2=hood[:]\n",
    "for i,h in enumerate(hood):\n",
    "    #if neighborhood is marked nan, check the description:\n",
    "    if str(h) == 'nan':\n",
    "        description = descs[i].lower()\n",
    "        deschood=re.compile(orhoods).search(description)\n",
    "        if deschood is not None:\n",
    "            hood2[i] = deschood.group()\n",
    "            if printi<imax:\n",
    "                print(f\"A: Fixed listing {i}: hood was {h} and is now {hood2[i]}.\")\n",
    "                printi=printi+1\n",
    "       \n",
    "    else:      \n",
    "        #deal with addresses (and zip codes):\n",
    "        numaddress = re.compile('[\\d]+').search(h) #digits in \"neighborhood\" usually indicate it's an exact address\n",
    "        #check whether any of the neighborhoods listed in \"hoodssep\" appear in the address itself:\n",
    "        if numaddress is not None:\n",
    "            nhinaddress=re.compile(orhoods).search(h)\n",
    "            if nhinaddress is not None:\n",
    "                hood2[i] = nhinaddress.group()\n",
    "                if printi<imax:\n",
    "                    print(f\"B: Fixed listing {i}: hood was {h} and is now {hood2[i]}.\")\n",
    "                    printi=printi+1\n",
    "            elif deschood is not None:\n",
    "                hood2[i] = deschood.group()\n",
    "                if printi<imax:\n",
    "                    print(f\"C: Fixed listing {i}: hood was {h} and is now {hood2[i]}.\")\n",
    "                    printi=printi+1\n",
    "            else:\n",
    "                hood2[i] = np.nan\n",
    "                if printi<imax:\n",
    "                    print(f\"D: Fixed listing {i}: hood was {h} and is now {hood2[i]}.\")\n",
    "                    printi=printi+1"
   ]
  },
  {
   "cell_type": "code",
   "execution_count": 615,
   "metadata": {},
   "outputs": [
    {
     "data": {
      "text/plain": [
       "False"
      ]
     },
     "execution_count": 615,
     "metadata": {},
     "output_type": "execute_result"
    }
   ],
   "source": [
    "#because hoodssep was used to construct hood2,\n",
    "#new neighborhoods may have been introduced,\n",
    "#that did not stand alone (only slashed with others) in \"hoods\":\n",
    "list(set(hood)) == list(set(hood2))"
   ]
  },
  {
   "cell_type": "code",
   "execution_count": 616,
   "metadata": {},
   "outputs": [],
   "source": [
    "#redefine hoods and hoodssep\n",
    "hoods = list(set(hood)); #create a list with each neighborhood found appearing once\n",
    "hoods = [nh for nh in hoods if str(nh)!='nan']; #exclude \"nan\" from the list of neighborhoods\n",
    "         #list(set(hood))[1:] #(get rid of nan)\n",
    "    \n",
    "hoodssep = hoods[:]\n",
    "\n",
    "for i,nh in enumerate(hoods):\n",
    "    if str(nh)!='nan':\n",
    "        \n",
    "        #to separate slashed combo neighbrohoods:\n",
    "        combohood = re.compile('/').search(nh)\n",
    "        if combohood is not None: #i.e. if a slash appears in the neighborhood\n",
    "            pieces= (re.compile(\"[^/]+\").findall(nh)) #separate into constituent neighborhoods\n",
    "            pieces = [p.strip() for p in pieces]\n",
    "            hoodssep = hoodssep + pieces #append separate neighborhoods to the list\n",
    "            hoodssep.remove(nh) #remove the slashed combination from the list\n",
    "            \n",
    "#remove from hoodssep neighborhoods that have digits (probably addresses:)\n",
    "hoodssep = [nh for nh in hoodssep if re.compile('[\\d]+').search(nh)==None ]\n",
    "\n",
    "hoodssep = list(set(hoodssep)) #unique neighborhoods\n",
    "\n",
    "#remove \"downtown\" (not a useful neighborhood descriptor on its own)\n",
    "\n",
    "if 'downtown' in hoodssep:\n",
    "    hoodssep.remove('downtown')"
   ]
  },
  {
   "cell_type": "markdown",
   "metadata": {},
   "source": [
    "As pulled from Craigslist, \"San Francisco\" is broken down into many neighborhoods. I would like to lump these all into \"san francisco\", so I can have enough samples per neighborhood to do statistics.\n",
    "\n",
    "I'll try scraping neighborhood names from Wikipedia:"
   ]
  },
  {
   "cell_type": "code",
   "execution_count": 617,
   "metadata": {},
   "outputs": [],
   "source": [
    "urlsfnh=\"https://en.wikipedia.org/wiki/List_of_neighborhoods_in_San_Francisco\"\n",
    "\n",
    "htmlsfnh=urlopen(urlsfnh)\n",
    "\n",
    "soupsfnh = BeautifulSoup(htmlsfnh,'html')\n",
    "\n",
    "allsections=soupsfnh.select('.toclevel-1')\n",
    "\n",
    "sfhoods=[];\n",
    "for sec in allsections:\n",
    "    sfhoods.append(re.compile(\"[a-z\\s/'-]+\").search(sec.text.lower()).group().strip())\n",
    "    \n",
    "sfhoods = [nh for nh in sfhoods if nh.lower() not in ['see also','references', 'external links']]"
   ]
  },
  {
   "cell_type": "code",
   "execution_count": 618,
   "metadata": {},
   "outputs": [],
   "source": [
    "urloak=\"https://en.wikipedia.org/wiki/List_of_neighborhoods_in_Oakland,_California\"\n",
    "\n",
    "htmloak=urlopen(urloak)\n",
    "\n",
    "soupoak = BeautifulSoup(htmloak,'html')\n",
    "\n",
    "allsections=soupoak.select('.toclevel-1')\n",
    "\n",
    "oakhoods=[];\n",
    "for sec in allsections:\n",
    "    oakhoods.append(re.compile(\"[a-z\\s/'-]+\").search(sec.text.lower()).group().strip())\n",
    "    \n",
    "oakhoods=[nh for nh in oakhoods if nh.lower() not in ['see also','references', 'external links']]"
   ]
  },
  {
   "cell_type": "code",
   "execution_count": null,
   "metadata": {},
   "outputs": [],
   "source": []
  },
  {
   "cell_type": "code",
   "execution_count": 619,
   "metadata": {},
   "outputs": [
    {
     "name": "stdout",
     "output_type": "stream",
     "text": [
      "Changed 'san jose north' to 'san jose'.\n",
      "Changed 'san jose south' to 'san jose'.\n",
      "Changed 'soma / south beach' to 'san francisco'.\n",
      "Changed 'san jose north' to 'san jose'.\n",
      "Changed 'west san jose / willow glen area' to 'san jose'.\n",
      "Changed 'san jose north' to 'san jose'.\n",
      "Changed 'oakland hills / mills' to 'oakland'.\n",
      "Changed 'san jose downtown' to 'san jose'.\n",
      "Changed 'san jose north' to 'san jose'.\n",
      "Changed 'soma / south beach' to 'san francisco'.\n",
      "Changed 'north beach / telegraph hill' to 'san francisco'.\n",
      "Changed 'north beach / telegraph hill' to 'san francisco'.\n",
      "Changed 'san jose south' to 'san jose'.\n",
      "Changed 'oakland hills / mills' to 'oakland'.\n",
      "Changed 'san jose west' to 'san jose'.\n",
      "Changed 'oakland hills / mills' to 'oakland'.\n",
      "Changed 'oakland hills / mills' to 'oakland'.\n",
      "Changed 'twin peaks / diamond hts' to 'san francisco'.\n",
      "Changed 'noe valley' to 'san francisco'.\n",
      "Changed 'noe valley' to 'san francisco'.\n",
      "Changed 'soma / south beach' to 'san francisco'.\n",
      "Changed 'pacific heights' to 'san francisco'.\n",
      "Changed 'mission district' to 'san francisco'.\n",
      "Changed 'san jose south' to 'san jose'.\n",
      "Changed 'merced manor/lakeshore' to 'san francisco'.\n",
      "Changed 'merced manor/lakeshore' to 'san francisco'.\n",
      "Changed 'san jose west' to 'san jose'.\n",
      "Changed 'alamo square / nopa' to 'san francisco'.\n",
      "Changed 'san jose south' to 'san jose'.\n",
      "Changed 'san jose south' to 'san jose'.\n",
      "Changed 'san jose south' to 'san jose'.\n",
      "Changed 'san jose downtown' to 'san jose'.\n",
      "Changed 'russian hill' to 'san francisco'.\n",
      "Changed 'west portal / forest hill' to 'san francisco'.\n",
      "Changed 'west portal / forest hill' to 'san francisco'.\n",
      "Changed 'san jose downtown' to 'san jose'.\n",
      "Changed 'san jose downtown' to 'san jose'.\n",
      "Changed 'pacific heights' to 'san francisco'.\n",
      "Changed 'twin peaks / diamond hts' to 'san francisco'.\n",
      "Changed 'san jose south' to 'san jose'.\n",
      "Changed 'castro / upper market' to 'san francisco'.\n",
      "Changed 'castro / upper market' to 'san francisco'.\n",
      "Changed 'nob hill' to 'san francisco'.\n",
      "Changed 'san jose downtown' to 'san jose'.\n",
      "Changed 'san jose downtown' to 'san jose'.\n",
      "Changed 'san jose downtown' to 'san jose'.\n",
      "Changed 'san jose downtown' to 'san jose'.\n",
      "Changed 'soma / south beach' to 'san francisco'.\n",
      "Changed 'san jose south' to 'san jose'.\n",
      "Changed 'soma / south beach' to 'san francisco'.\n",
      "Changed 'marina / cow hollow' to 'san francisco'.\n",
      "Changed 'merced manor/lakeshore' to 'san francisco'.\n",
      "Changed 'merced manor/lakeshore' to 'san francisco'.\n",
      "Changed 'san jose north' to 'san jose'.\n",
      "Changed 'sunset / parkside' to 'san francisco'.\n",
      "Changed 'castro / upper market' to 'san francisco'.\n",
      "Changed 'castro / upper market' to 'san francisco'.\n"
     ]
    }
   ],
   "source": [
    "\n",
    "\n",
    "#use scraped info about sf and oakland neighborhoods to lump:\n",
    "hood3=hood2[:];\n",
    "\n",
    "imax = 200#len(hood2)#set to limit print-outs\n",
    "for i,nh in enumerate(hood2):\n",
    "    if nh in sfhoods:\n",
    "        hood3[i] = 'san francisco'\n",
    "        if i<imax:\n",
    "            print(f\"Changed '{nh}' to '{hood3[i]}'.\")\n",
    "            \n",
    "    elif nh in oakhoods:\n",
    "        hood3[i] = 'oakland'\n",
    "        if i<imax:\n",
    "            print(f\"Changed '{nh}' to '{hood3[i]}'.\")\n",
    "    elif str(nh)!='nan':\n",
    "        if re.compile('san jose').search(nh) is not None:\n",
    "            hood3[i] = 'san jose'\n",
    "            if i<imax:\n",
    "                print(f\"Changed '{nh}' to '{hood3[i]}'.\")\n",
    "\n",
    "        \n",
    "        combo = re.compile('/').search(nh)\n",
    "        if combo is not None:\n",
    "            pieces = re.compile('[^/]+').findall(nh)\n",
    "            pieces = [p.strip() for p in pieces]\n",
    "            for pc in pieces:\n",
    "                if pc in sfhoods:\n",
    "                    hood3[i] = 'san francisco'\n",
    "                    if i<imax:\n",
    "                        print(f\"Changed '{nh}' to '{hood3[i]}'.\")\n",
    "                if pc in oakhoods:\n",
    "                    hood3[i] = 'oakland'\n",
    "                    if i<imax:\n",
    "                        print(f\"Changed '{nh}' to '{hood3[i]}'.\")\n"
   ]
  },
  {
   "cell_type": "code",
   "execution_count": 620,
   "metadata": {},
   "outputs": [],
   "source": [
    "#re-define hoods for hood3 (neighborhoods including those found in descriptions, and after lumping)\n",
    "hoods = list(set(hood3))\n",
    "hoods = [nh for nh in hoods if str(nh)!='nan']"
   ]
  },
  {
   "cell_type": "code",
   "execution_count": 621,
   "metadata": {},
   "outputs": [],
   "source": [
    "## other cleaning? e.g. remove \", ca\" from ends of neighborhoods\n",
    "\n",
    "\n",
    "def rchop(thestring, ending):\n",
    "    if thestring.endswith(ending):\n",
    "        return thestring[:-len(ending)]\n",
    "        print(f\"{thestring}-->{thestring[:-len(ending)]}\")\n",
    "    return thestring\n",
    "\n",
    "#somestring = rchop(somestring, ' rec')\n",
    "\n",
    "for i,nh in enumerate(hood3):\n",
    "    if str(nh)!='nan':\n",
    "        hood4[i] = rchop(nh, ', ca')\n",
    "        hood4[i] = rchop(nh, ',ca')\n",
    "            \n",
    "    ####FIX THIS: needs to only strip ending \"ca\"\n",
    "\n",
    "        \n",
    "#re-define hoods for hood4 (neighborhoods including those found in descriptions, and after lumping, and with \",ca\" removed.)\n",
    "hoods = list(set(hood4))\n",
    "hoods = [nh for nh in hoods if str(nh)!='nan']"
   ]
  },
  {
   "cell_type": "code",
   "execution_count": null,
   "metadata": {},
   "outputs": [],
   "source": []
  },
  {
   "cell_type": "code",
   "execution_count": null,
   "metadata": {},
   "outputs": [],
   "source": []
  },
  {
   "cell_type": "code",
   "execution_count": 622,
   "metadata": {},
   "outputs": [],
   "source": [
    "#make a data frame (and save to csv)\n",
    "cdata = {'description':descs,\n",
    "         'link':links,\n",
    "         'bedrooms':bedrooms,\n",
    "         'sq. feet':sqfeets,\n",
    "         'neighborhood':hood4, #note: using the (partially) cleaned hood4\n",
    "         'price':prices}\n",
    "df = pd.DataFrame(cdata)\n",
    "\n",
    "\n",
    "\n",
    "df.to_csv('craigslist_bay_area_rentals.csv')\n",
    "#df = pd.read_csv('craigslist_bay_area_rentals.csv',index_col=0)"
   ]
  },
  {
   "cell_type": "code",
   "execution_count": null,
   "metadata": {},
   "outputs": [],
   "source": []
  },
  {
   "cell_type": "code",
   "execution_count": 623,
   "metadata": {},
   "outputs": [
    {
     "name": "stdout",
     "output_type": "stream",
     "text": [
      "There are 0 listings with missing neighborhood information.\n"
     ]
    }
   ],
   "source": [
    "#still missing neighborhoods?\n",
    "print(f\"There are {  len(df[df['neighborhood'].isna()])  } listings with missing neighborhood information.\")\n",
    "      \n",
    "      "
   ]
  },
  {
   "cell_type": "markdown",
   "metadata": {},
   "source": [
    "Drop duplicate postings, remove rows with missing data (and sometimes rescale so all features have similar range)."
   ]
  },
  {
   "cell_type": "code",
   "execution_count": 624,
   "metadata": {},
   "outputs": [],
   "source": [
    "\n",
    "df_no_duplicates=df.drop_duplicates(subset=['description','price'])\n",
    "\n",
    "\n",
    "dfclean=df_no_duplicates.dropna()[:] #remove rows with missing data\n",
    "\n",
    "#not using area as a feature now\n",
    "#dfclean['1000sqfeet']=dfclean['sq. feet']/1000  #normalize so all features are order 1 (no area is in 1000s of square feet)\n",
    "#no need to rescale price when only using one feature per neighborhood\n",
    "#dfclean['pricek']=dfclean['price']/1000 #normalize so all features are order 1 (price is in thousands of dollars)\n",
    "\n",
    "#discard listings with truly enormous rent (probably actually for sale)\n",
    "dfclean=dfclean.loc[dfclean['price']<1e4]\n"
   ]
  },
  {
   "cell_type": "code",
   "execution_count": 625,
   "metadata": {},
   "outputs": [],
   "source": [
    "#narrow down neighborhoods considered. there are too many, with not enough samples for most.\n",
    "byhood=dfclean.groupby(by='neighborhood').count()['description'].sort_values(ascending=False)\n",
    "maxhoods=list(byhood[byhood>50].index) #pick off only neighborhoods with >50 listings"
   ]
  },
  {
   "cell_type": "code",
   "execution_count": 626,
   "metadata": {},
   "outputs": [],
   "source": [
    "#not using these now\n",
    "# #neighborhood dummy variables\n",
    "\n",
    "# for nh in maxhoods:\n",
    "#     if type(nh) is not float:\n",
    "#         dfclean[nh]=np.zeros(len(dfclean))\n",
    "#         dfclean.loc[dfclean['neighborhood']==nh,nh]=1"
   ]
  },
  {
   "cell_type": "code",
   "execution_count": 627,
   "metadata": {},
   "outputs": [
    {
     "data": {
      "text/plain": [
       "['san jose',\n",
       " 'san francisco',\n",
       " 'fremont / union city / newark',\n",
       " 'sunnyvale',\n",
       " 'santa clara',\n",
       " 'santa rosa',\n",
       " 'mountain view',\n",
       " 'dublin / pleasanton / livermore',\n",
       " 'danville / san ramon',\n",
       " 'berkeley',\n",
       " 'campbell',\n",
       " 'concord / pleasant hill / martinez']"
      ]
     },
     "execution_count": 627,
     "metadata": {},
     "output_type": "execute_result"
    }
   ],
   "source": [
    "maxhoods"
   ]
  },
  {
   "cell_type": "code",
   "execution_count": null,
   "metadata": {},
   "outputs": [],
   "source": []
  },
  {
   "cell_type": "markdown",
   "metadata": {},
   "source": [
    "## build a data frame with only the neighborhoods from maxhoods"
   ]
  },
  {
   "cell_type": "code",
   "execution_count": 629,
   "metadata": {},
   "outputs": [],
   "source": [
    "#let's just consider neighborhood and price per room as features.\n",
    "\n",
    "#make a new dataframe with only listings in these neighborhoods\n",
    "listofframes=[];\n",
    "for i,nh in enumerate(maxhoods):\n",
    "    dfnh=dfclean.loc[dfclean['neighborhood']==nh]\n",
    "    listofframes.append(dfnh)\n",
    "\n",
    "dflim=pd.concat(listofframes)\n",
    "\n",
    "#add a feature: rent per room\n",
    "dflim['rent per room'] = dflim['price']/dflim['bedrooms'];"
   ]
  },
  {
   "cell_type": "markdown",
   "metadata": {},
   "source": [
    "## visualize"
   ]
  },
  {
   "cell_type": "code",
   "execution_count": 630,
   "metadata": {},
   "outputs": [
    {
     "data": {
      "image/png": "[encoded data removed]",
      "text/plain": [
       "<Figure size 360x1080 with 12 Axes>"
      ]
     },
     "metadata": {
      "needs_background": "light"
     },
     "output_type": "display_data"
    }
   ],
   "source": [
    "#plot price distributions for each neighborhood\n",
    "fig,ax = plt.subplots(len(maxhoods),figsize=(5,15),sharex=True)\n",
    "plt.subplots_adjust(hspace=1)\n",
    "for i,nh in enumerate(maxhoods):\n",
    "    ax[i].hist(dflim.loc[dflim['neighborhood']==nh]['rent per room'],bins=10)\n",
    "    ax[i].set_title(nh)\n",
    "    ax[i].set_xlabel('rent per room ($)')"
   ]
  },
  {
   "cell_type": "code",
   "execution_count": 632,
   "metadata": {},
   "outputs": [],
   "source": [
    "# cm = plt.cm.get_cmap('tab10')\n",
    "# colors = [cm(1.*i/10) for i in range(len(maxhoods))];\n",
    "# cdict = dict(zip(maxhoods,colors))\n",
    "# clist = [cdict[nh] for nh in maxhoods]\n",
    "\n",
    "\n",
    "# fig,ax=plt.subplots(figsize=(12,12))\n",
    "\n",
    "# nhcount=[]\n",
    "# legendlist=[];\n",
    "# for i,nh in enumerate(maxhoods):\n",
    "#     dfnh=dfclean.loc[dfclean['neighborhood']==nh].sample(frac=1)\n",
    "#     ax.scatter(dfnh['sq. feet'],dfnh['price'],c=clist[i])\n",
    "#     legendlist.append(nh)\n",
    "#     nhcount.append([nh,len(dfnh)])\n",
    "# ax.legend(legendlist);#,bbox_to_anchor = (1,1));\n",
    "# ax.set_xlabel('sq. feet');\n",
    "# ax.set_ylabel('price ($)');"
   ]
  },
  {
   "cell_type": "markdown",
   "metadata": {},
   "source": [
    "## fit a gaussian to rent per room data, for each neighborhood"
   ]
  },
  {
   "cell_type": "code",
   "execution_count": 633,
   "metadata": {},
   "outputs": [],
   "source": [
    "#for each neighborhood, just fit price to a (1-dimensional) gaussian.\n",
    "\n",
    "\n",
    "#dfsimple = dfclean[['rent per room']+maxhoods]\n",
    "#dfsimple.head()\n",
    "\n",
    "##split off some test data\n",
    "#actually, no need, since i have no labels anyway.\n",
    "dftrain=dflim[:]\n",
    "#dftrain=dflim.sample(frac=.7)\n",
    "#dftest = dflim.drop(dftrain.index)\n",
    "\n",
    "\n",
    "\n",
    "Xnhs=[];\n",
    "munh=[];\n",
    "signh=[];\n",
    "for nh in maxhoods:\n",
    "    Xnh = dftrain.loc[dftrain['neighborhood']==nh]['rent per room'].values\n",
    "    Xnhs.append(Xnh)\n",
    "    munh.append(np.mean(Xnh));\n",
    "    signh.append(np.std(Xnh));\n",
    "    \n"
   ]
  },
  {
   "cell_type": "code",
   "execution_count": 634,
   "metadata": {},
   "outputs": [
    {
     "name": "stdout",
     "output_type": "stream",
     "text": [
      "The mean rent per room in San Francisco is $2692.0.\n"
     ]
    }
   ],
   "source": [
    "print(f\"The mean rent per room in San Francisco is ${np.round(munh[maxhoods.index('san francisco')],2)}.\")"
   ]
  },
  {
   "cell_type": "markdown",
   "metadata": {},
   "source": [
    "But the price distributions tend to have long tails in the higher price ranges, which pulls the mean up. The most common prices are usually a bit below the mean. In a future iteration of this project, I'll try to account for this by using a skewed distribution."
   ]
  },
  {
   "cell_type": "code",
   "execution_count": 635,
   "metadata": {},
   "outputs": [],
   "source": [
    "#define gaussian in case i ever need it..\n",
    "def gauss(x,mu,sig):\n",
    "    pi=np.pi\n",
    "    norm = ((2*pi)**.5)*sig\n",
    "    exponent = (x-mu)**2/(2*sig**2)\n",
    "    return np.exp(-exponent)/norm"
   ]
  },
  {
   "cell_type": "code",
   "execution_count": null,
   "metadata": {},
   "outputs": [],
   "source": []
  },
  {
   "cell_type": "code",
   "execution_count": null,
   "metadata": {},
   "outputs": [],
   "source": []
  },
  {
   "cell_type": "code",
   "execution_count": null,
   "metadata": {},
   "outputs": [],
   "source": []
  },
  {
   "cell_type": "markdown",
   "metadata": {},
   "source": [
    "## Flag listings with rent per room sufficiently below the neighborhood mean:"
   ]
  },
  {
   "cell_type": "code",
   "execution_count": 636,
   "metadata": {},
   "outputs": [],
   "source": [
    "sigmas=1 #number of standard deviations from mean to be called an anomaly\n",
    "def isitadeal(rent_per_room,nh): \n",
    "    mu = munh[ maxhoods.index(nh) ];\n",
    "    sig = signh[ maxhoods.index(nh) ];\n",
    "    if rent_per_room < mu - sigmas*sig:\n",
    "        return(1)\n",
    "    else:\n",
    "        return(0)\n",
    "    \n",
    "#     if len(rent_per_room) != len(nh):\n",
    "#         print('Oh no! Input arrays must be the same length.')\n",
    "#     else:\n",
    "#         prediction=np.zeros(len(rent_per_room))\n",
    "#         prediction[rent_per_room < mu - sigmas*sig]  = 1\n"
   ]
  },
  {
   "cell_type": "code",
   "execution_count": 640,
   "metadata": {},
   "outputs": [
    {
     "name": "stdout",
     "output_type": "stream",
     "text": [
      "Here are the (possible) deals or scams:\n"
     ]
    },
    {
     "data": {
      "text/html": [
       "<div>\n",
       "<style scoped>\n",
       "    .dataframe tbody tr th:only-of-type {\n",
       "        vertical-align: middle;\n",
       "    }\n",
       "\n",
       "    .dataframe tbody tr th {\n",
       "        vertical-align: top;\n",
       "    }\n",
       "\n",
       "    .dataframe thead th {\n",
       "        text-align: right;\n",
       "    }\n",
       "</style>\n",
       "<table border=\"1\" class=\"dataframe\">\n",
       "  <thead>\n",
       "    <tr style=\"text-align: right;\">\n",
       "      <th></th>\n",
       "      <th>description</th>\n",
       "      <th>link</th>\n",
       "      <th>bedrooms</th>\n",
       "      <th>neighborhood</th>\n",
       "      <th>price</th>\n",
       "      <th>rent per room</th>\n",
       "    </tr>\n",
       "  </thead>\n",
       "  <tbody>\n",
       "    <tr>\n",
       "      <th>122</th>\n",
       "      <td>One month free for two story house</td>\n",
       "      <td>https://sfbay.craigslist.org/sby/apa/d/san-jos...</td>\n",
       "      <td>2.0</td>\n",
       "      <td>san jose</td>\n",
       "      <td>1.0</td>\n",
       "      <td>0.500000</td>\n",
       "    </tr>\n",
       "    <tr>\n",
       "      <th>1543</th>\n",
       "      <td>BE CAUTIOUS OF LISTINGS THAT LOOK TOO GOOD TO ...</td>\n",
       "      <td>https://sfbay.craigslist.org/eby/apa/d/oakley-...</td>\n",
       "      <td>3.0</td>\n",
       "      <td>concord / pleasant hill / martinez</td>\n",
       "      <td>1300.0</td>\n",
       "      <td>433.333333</td>\n",
       "    </tr>\n",
       "    <tr>\n",
       "      <th>2470</th>\n",
       "      <td>AC, Wood floors, Sunlight, near Facebook and G...</td>\n",
       "      <td>https://sfbay.craigslist.org/pen/apa/d/mountai...</td>\n",
       "      <td>3.0</td>\n",
       "      <td>mountain view</td>\n",
       "      <td>1350.0</td>\n",
       "      <td>450.000000</td>\n",
       "    </tr>\n",
       "    <tr>\n",
       "      <th>2077</th>\n",
       "      <td>Room available in large Marina apartment</td>\n",
       "      <td>https://sfbay.craigslist.org/sfc/apa/d/san-fra...</td>\n",
       "      <td>3.0</td>\n",
       "      <td>san francisco</td>\n",
       "      <td>1900.0</td>\n",
       "      <td>633.333333</td>\n",
       "    </tr>\n",
       "    <tr>\n",
       "      <th>1985</th>\n",
       "      <td>178 Hazelnut Lane</td>\n",
       "      <td>https://sfbay.craigslist.org/nby/apa/d/santa-r...</td>\n",
       "      <td>4.0</td>\n",
       "      <td>santa rosa</td>\n",
       "      <td>2650.0</td>\n",
       "      <td>662.500000</td>\n",
       "    </tr>\n",
       "  </tbody>\n",
       "</table>\n",
       "</div>"
      ],
      "text/plain": [
       "                                            description  \\\n",
       "122                  One month free for two story house   \n",
       "1543  BE CAUTIOUS OF LISTINGS THAT LOOK TOO GOOD TO ...   \n",
       "2470  AC, Wood floors, Sunlight, near Facebook and G...   \n",
       "2077           Room available in large Marina apartment   \n",
       "1985                                  178 Hazelnut Lane   \n",
       "\n",
       "                                                   link  bedrooms  \\\n",
       "122   https://sfbay.craigslist.org/sby/apa/d/san-jos...       2.0   \n",
       "1543  https://sfbay.craigslist.org/eby/apa/d/oakley-...       3.0   \n",
       "2470  https://sfbay.craigslist.org/pen/apa/d/mountai...       3.0   \n",
       "2077  https://sfbay.craigslist.org/sfc/apa/d/san-fra...       3.0   \n",
       "1985  https://sfbay.craigslist.org/nby/apa/d/santa-r...       4.0   \n",
       "\n",
       "                            neighborhood   price  rent per room  \n",
       "122                             san jose     1.0       0.500000  \n",
       "1543  concord / pleasant hill / martinez  1300.0     433.333333  \n",
       "2470                       mountain view  1350.0     450.000000  \n",
       "2077                       san francisco  1900.0     633.333333  \n",
       "1985                          santa rosa  2650.0     662.500000  "
      ]
     },
     "execution_count": 640,
     "metadata": {},
     "output_type": "execute_result"
    }
   ],
   "source": [
    "pp=dflim['rent per room'].values\n",
    "nh = dflim['neighborhood'].values\n",
    "\n",
    "predictions=np.zeros(len(dflim))\n",
    "for i in range(len(pp)):\n",
    "    predictions[i] = isitadeal(pp[i],nh[i])\n",
    "    \n",
    "dflim['deal?'] = predictions\n",
    "\n",
    "print('Here are the (possible) deals or scams:')\n",
    "dfdeals=dflim.loc[dflim['deal?']==1][['description','link','bedrooms','neighborhood','price','rent per room']].sort_values(by='rent per room')\n",
    "\n",
    "dfdeals.head()"
   ]
  },
  {
   "cell_type": "markdown",
   "metadata": {},
   "source": [
    "sanity check: Indeed, it seems homes with more rooms are cheaper per room."
   ]
  },
  {
   "cell_type": "code",
   "execution_count": 639,
   "metadata": {},
   "outputs": [
    {
     "name": "stdout",
     "output_type": "stream",
     "text": [
      "with links:\n"
     ]
    },
    {
     "data": {
      "text/html": [
       "<a href=https://sfbay.craigslist.org/sby/apa/d/san-jose-one-month-free-for-two-story/6869568057.html target='_blank'> $0.0 per room in a San jose 2-bedroom. </a>"
      ],
      "text/plain": [
       "<IPython.core.display.HTML object>"
      ]
     },
     "metadata": {},
     "output_type": "display_data"
    },
    {
     "data": {
      "text/html": [
       "<a href=https://sfbay.craigslist.org/eby/apa/d/oakley-be-cautious-of-listings-that/6869423226.html target='_blank'> $433.0 per room in a Concord / pleasant hill / martinez 3-bedroom. </a>"
      ],
      "text/plain": [
       "<IPython.core.display.HTML object>"
      ]
     },
     "metadata": {},
     "output_type": "display_data"
    },
    {
     "data": {
      "text/html": [
       "<a href=https://sfbay.craigslist.org/pen/apa/d/mountain-view-ac-wood-floors-sunlight/6867736716.html target='_blank'> $450.0 per room in a Mountain view 3-bedroom. </a>"
      ],
      "text/plain": [
       "<IPython.core.display.HTML object>"
      ]
     },
     "metadata": {},
     "output_type": "display_data"
    },
    {
     "data": {
      "text/html": [
       "<a href=https://sfbay.craigslist.org/sfc/apa/d/san-francisco-room-available-in-large/6869379749.html target='_blank'> $633.0 per room in a San francisco 3-bedroom. </a>"
      ],
      "text/plain": [
       "<IPython.core.display.HTML object>"
      ]
     },
     "metadata": {},
     "output_type": "display_data"
    },
    {
     "data": {
      "text/html": [
       "<a href=https://sfbay.craigslist.org/nby/apa/d/santa-rosa-178-hazelnut-lane/6855808959.html target='_blank'> $662.0 per room in a Santa rosa 4-bedroom. </a>"
      ],
      "text/plain": [
       "<IPython.core.display.HTML object>"
      ]
     },
     "metadata": {},
     "output_type": "display_data"
    },
    {
     "data": {
      "text/html": [
       "<a href=https://sfbay.craigslist.org/nby/apa/d/5bd-historic-home-downtown-santa-rosa/6864214902.html target='_blank'> $680.0 per room in a Santa rosa 5-bedroom. </a>"
      ],
      "text/plain": [
       "<IPython.core.display.HTML object>"
      ]
     },
     "metadata": {},
     "output_type": "display_data"
    },
    {
     "data": {
      "text/html": [
       "<a href=https://sfbay.craigslist.org/sby/apa/d/san-jose-north-valley-beautiful/6869475728.html target='_blank'> $690.0 per room in a San jose 5-bedroom. </a>"
      ],
      "text/plain": [
       "<IPython.core.display.HTML object>"
      ]
     },
     "metadata": {},
     "output_type": "display_data"
    },
    {
     "data": {
      "text/html": [
       "<a href=https://sfbay.craigslist.org/nby/apa/d/santa-rosa-3-bedroom-15-bathroom-condo/6869459281.html target='_blank'> $717.0 per room in a Santa rosa 3-bedroom. </a>"
      ],
      "text/plain": [
       "<IPython.core.display.HTML object>"
      ]
     },
     "metadata": {},
     "output_type": "display_data"
    },
    {
     "data": {
      "text/html": [
       "<a href=https://sfbay.craigslist.org/nby/apa/d/santa-rosa-beautiful-home-in-prime/6866114905.html target='_blank'> $800.0 per room in a Santa rosa 4-bedroom. </a>"
      ],
      "text/plain": [
       "<IPython.core.display.HTML object>"
      ]
     },
     "metadata": {},
     "output_type": "display_data"
    },
    {
     "data": {
      "text/html": [
       "<a href=https://sfbay.craigslist.org/eby/apa/d/union-city-4-bedroom-union-city-house/6869473103.html target='_blank'> $812.0 per room in a Fremont / union city / newark 4-bedroom. </a>"
      ],
      "text/plain": [
       "<IPython.core.display.HTML object>"
      ]
     },
     "metadata": {},
     "output_type": "display_data"
    },
    {
     "data": {
      "text/html": [
       "<a href=https://sfbay.craigslist.org/nby/apa/d/santa-rosa-updated-and-large-2nd-floor/6858204060.html target='_blank'> $833.0 per room in a Santa rosa 3-bedroom. </a>"
      ],
      "text/plain": [
       "<IPython.core.display.HTML object>"
      ]
     },
     "metadata": {},
     "output_type": "display_data"
    },
    {
     "data": {
      "text/html": [
       "<a href=https://sfbay.craigslist.org/eby/apa/d/concord-3-beds-2-bath-single-house/6866929060.html target='_blank'> $833.0 per room in a Concord / pleasant hill / martinez 3-bedroom. </a>"
      ],
      "text/plain": [
       "<IPython.core.display.HTML object>"
      ]
     },
     "metadata": {},
     "output_type": "display_data"
    },
    {
     "data": {
      "text/html": [
       "<a href=https://sfbay.craigslist.org/nby/apa/d/santa-rosa-light-bright-beautiful-view/6869372692.html target='_blank'> $850.0 per room in a Santa rosa 3-bedroom. </a>"
      ],
      "text/plain": [
       "<IPython.core.display.HTML object>"
      ]
     },
     "metadata": {},
     "output_type": "display_data"
    },
    {
     "data": {
      "text/html": [
       "<a href=https://sfbay.craigslist.org/sby/apa/d/san-jose-vacant-room-for-rent-move-in/6869516250.html target='_blank'> $850.0 per room in a San jose 1-bedroom. </a>"
      ],
      "text/plain": [
       "<IPython.core.display.HTML object>"
      ]
     },
     "metadata": {},
     "output_type": "display_data"
    },
    {
     "data": {
      "text/html": [
       "<a href=https://sfbay.craigslist.org/eby/apa/d/union-city-gorgeous-5b-3b-home-in-gated/6869439875.html target='_blank'> $860.0 per room in a Fremont / union city / newark 5-bedroom. </a>"
      ],
      "text/plain": [
       "<IPython.core.display.HTML object>"
      ]
     },
     "metadata": {},
     "output_type": "display_data"
    },
    {
     "data": {
      "text/html": [
       "<a href=https://sfbay.craigslist.org/nby/apa/d/santa-rosa-northwest-3-bedroom-25/6869454836.html target='_blank'> $867.0 per room in a Santa rosa 3-bedroom. </a>"
      ],
      "text/plain": [
       "<IPython.core.display.HTML object>"
      ]
     },
     "metadata": {},
     "output_type": "display_data"
    },
    {
     "data": {
      "text/html": [
       "<a href=https://sfbay.craigslist.org/eby/apa/d/concord-wont-last-99-special-2nd-flr/6869371579.html target='_blank'> $877.0 per room in a Concord / pleasant hill / martinez 3-bedroom. </a>"
      ],
      "text/plain": [
       "<IPython.core.display.HTML object>"
      ]
     },
     "metadata": {},
     "output_type": "display_data"
    },
    {
     "data": {
      "text/html": [
       "<a href=https://sfbay.craigslist.org/eby/apa/d/martinez-take-peek/6869430278.html target='_blank'> $890.0 per room in a Concord / pleasant hill / martinez 2-bedroom. </a>"
      ],
      "text/plain": [
       "<IPython.core.display.HTML object>"
      ]
     },
     "metadata": {},
     "output_type": "display_data"
    },
    {
     "data": {
      "text/html": [
       "<a href=https://sfbay.craigslist.org/sby/apa/d/san-jose-very-spacious-3-bedroom/6869452285.html target='_blank'> $898.0 per room in a San jose 3-bedroom. </a>"
      ],
      "text/plain": [
       "<IPython.core.display.HTML object>"
      ]
     },
     "metadata": {},
     "output_type": "display_data"
    },
    {
     "data": {
      "text/html": [
       "<a href=https://sfbay.craigslist.org/sby/apa/d/san-jose-bed-1-bath-home-in-north-san/6847719431.html target='_blank'> $898.0 per room in a San jose 3-bedroom. </a>"
      ],
      "text/plain": [
       "<IPython.core.display.HTML object>"
      ]
     },
     "metadata": {},
     "output_type": "display_data"
    },
    {
     "data": {
      "text/html": [
       "<a href=https://sfbay.craigslist.org/eby/apa/d/dublin-4-bed-2-bath-single-family-house/6865739395.html target='_blank'> $900.0 per room in a Danville / san ramon 4-bedroom. </a>"
      ],
      "text/plain": [
       "<IPython.core.display.HTML object>"
      ]
     },
     "metadata": {},
     "output_type": "display_data"
    },
    {
     "data": {
      "text/html": [
       "<a href=https://sfbay.craigslist.org/eby/apa/d/dublin-3600-moveindiscount-2100ft/6869512030.html target='_blank'> $900.0 per room in a Dublin / pleasanton / livermore 4-bedroom. </a>"
      ],
      "text/plain": [
       "<IPython.core.display.HTML object>"
      ]
     },
     "metadata": {},
     "output_type": "display_data"
    },
    {
     "data": {
      "text/html": [
       "<a href=https://sfbay.craigslist.org/eby/apa/d/union-city-3-bed-15-bath-conveniently/6869345710.html target='_blank'> $917.0 per room in a Fremont / union city / newark 3-bedroom. </a>"
      ],
      "text/plain": [
       "<IPython.core.display.HTML object>"
      ]
     },
     "metadata": {},
     "output_type": "display_data"
    },
    {
     "data": {
      "text/html": [
       "<a href=https://sfbay.craigslist.org/eby/apa/d/martinez-2-bed-1ba-remodeled-unit-hurry/6858778129.html target='_blank'> $925.0 per room in a Concord / pleasant hill / martinez 2-bedroom. </a>"
      ],
      "text/plain": [
       "<IPython.core.display.HTML object>"
      ]
     },
     "metadata": {},
     "output_type": "display_data"
    },
    {
     "data": {
      "text/html": [
       "<a href=https://sfbay.craigslist.org/eby/apa/d/union-city-3-bedrooms-1-bathroom-home/6869318347.html target='_blank'> $950.0 per room in a San jose 3-bedroom. </a>"
      ],
      "text/plain": [
       "<IPython.core.display.HTML object>"
      ]
     },
     "metadata": {},
     "output_type": "display_data"
    },
    {
     "data": {
      "text/html": [
       "<a href=https://sfbay.craigslist.org/sby/apa/d/san-jose-downstairs-spacious-3-bed-2/6869489464.html target='_blank'> $965.0 per room in a San jose 3-bedroom. </a>"
      ],
      "text/plain": [
       "<IPython.core.display.HTML object>"
      ]
     },
     "metadata": {},
     "output_type": "display_data"
    },
    {
     "data": {
      "text/html": [
       "<a href=https://sfbay.craigslist.org/eby/apa/d/martinez-25-baths-two-story-martinez/6863957191.html target='_blank'> $967.0 per room in a Concord / pleasant hill / martinez 3-bedroom. </a>"
      ],
      "text/plain": [
       "<IPython.core.display.HTML object>"
      ]
     },
     "metadata": {},
     "output_type": "display_data"
    },
    {
     "data": {
      "text/html": [
       "<a href=https://sfbay.craigslist.org/eby/apa/d/concord-99-special-2nd-flr-spacious-end/6869332285.html target='_blank'> $967.0 per room in a Concord / pleasant hill / martinez 2-bedroom. </a>"
      ],
      "text/plain": [
       "<IPython.core.display.HTML object>"
      ]
     },
     "metadata": {},
     "output_type": "display_data"
    },
    {
     "data": {
      "text/html": [
       "<a href=https://sfbay.craigslist.org/sby/apa/d/san-jose-4br-2ba-single-family-home/6869547905.html target='_blank'> $988.0 per room in a San jose 4-bedroom. </a>"
      ],
      "text/plain": [
       "<IPython.core.display.HTML object>"
      ]
     },
     "metadata": {},
     "output_type": "display_data"
    },
    {
     "data": {
      "text/html": [
       "<a href=https://sfbay.craigslist.org/sby/apa/d/san-jose-gorgeous-home-for-rent-near/6863218588.html target='_blank'> $988.0 per room in a San jose 4-bedroom. </a>"
      ],
      "text/plain": [
       "<IPython.core.display.HTML object>"
      ]
     },
     "metadata": {},
     "output_type": "display_data"
    },
    {
     "data": {
      "text/html": [
       "<a href=https://sfbay.craigslist.org/eby/apa/d/fremont-upgraded-gorgeous-5-yr-new/6863245375.html target='_blank'> $1000.0 per room in a Fremont / union city / newark 4-bedroom. </a>"
      ],
      "text/plain": [
       "<IPython.core.display.HTML object>"
      ]
     },
     "metadata": {},
     "output_type": "display_data"
    },
    {
     "data": {
      "text/html": [
       "<a href=https://sfbay.craigslist.org/eby/apa/d/san-ramon-nice-4-bedroom-3-bath-2car/6869449071.html target='_blank'> $1000.0 per room in a Danville / san ramon 4-bedroom. </a>"
      ],
      "text/plain": [
       "<IPython.core.display.HTML object>"
      ]
     },
     "metadata": {},
     "output_type": "display_data"
    },
    {
     "data": {
      "text/html": [
       "<a href=https://sfbay.craigslist.org/eby/apa/d/san-ramon-san-ramon-rose-garden-4-br-3/6864752882.html target='_blank'> $1000.0 per room in a Danville / san ramon 4-bedroom. </a>"
      ],
      "text/plain": [
       "<IPython.core.display.HTML object>"
      ]
     },
     "metadata": {},
     "output_type": "display_data"
    },
    {
     "data": {
      "text/html": [
       "<a href=https://sfbay.craigslist.org/sby/apa/d/santa-clara-4-bedroom-25-bath-house-for/6869388643.html target='_blank'> $1000.0 per room in a Sunnyvale 4-bedroom. </a>"
      ],
      "text/plain": [
       "<IPython.core.display.HTML object>"
      ]
     },
     "metadata": {},
     "output_type": "display_data"
    },
    {
     "data": {
      "text/html": [
       "<a href=https://sfbay.craigslist.org/eby/apa/d/vallejo-2br-2ba-apartment-for-rent-near/6869363318.html target='_blank'> $1000.0 per room in a Berkeley 2-bedroom. </a>"
      ],
      "text/plain": [
       "<IPython.core.display.HTML object>"
      ]
     },
     "metadata": {},
     "output_type": "display_data"
    },
    {
     "data": {
      "text/html": [
       "<a href=https://sfbay.craigslist.org/sby/apa/d/san-jose-perfect-location-3-bedroom-2/6856832650.html target='_blank'> $1000.0 per room in a Campbell 3-bedroom. </a>"
      ],
      "text/plain": [
       "<IPython.core.display.HTML object>"
      ]
     },
     "metadata": {},
     "output_type": "display_data"
    },
    {
     "data": {
      "text/html": [
       "<a href=https://sfbay.craigslist.org/eby/apa/d/san-ramon-looking-for-beautiful-3x2/6869353331.html target='_blank'> $1015.0 per room in a Danville / san ramon 3-bedroom. </a>"
      ],
      "text/plain": [
       "<IPython.core.display.HTML object>"
      ]
     },
     "metadata": {},
     "output_type": "display_data"
    },
    {
     "data": {
      "text/html": [
       "<a href=https://sfbay.craigslist.org/eby/apa/d/newark-beautiful-3-bedroom-2-bathroom/6869373421.html target='_blank'> $1016.0 per room in a Fremont / union city / newark 3-bedroom. </a>"
      ],
      "text/plain": [
       "<IPython.core.display.HTML object>"
      ]
     },
     "metadata": {},
     "output_type": "display_data"
    },
    {
     "data": {
      "text/html": [
       "<a href=https://sfbay.craigslist.org/sby/apa/d/san-jose-3bdm-2ba-front-master-unit-gnd/6869448600.html target='_blank'> $1017.0 per room in a San jose 3-bedroom. </a>"
      ],
      "text/plain": [
       "<IPython.core.display.HTML object>"
      ]
     },
     "metadata": {},
     "output_type": "display_data"
    },
    {
     "data": {
      "text/html": [
       "<a href=https://sfbay.craigslist.org/sby/apa/d/san-jose-come-home-and-take-deep/6864000446.html target='_blank'> $1040.0 per room in a San jose 5-bedroom. </a>"
      ],
      "text/plain": [
       "<IPython.core.display.HTML object>"
      ]
     },
     "metadata": {},
     "output_type": "display_data"
    },
    {
     "data": {
      "text/html": [
       "<a href=https://sfbay.craigslist.org/eby/apa/d/moraga-99-deposit-top-floor-3b-2b/6869473671.html target='_blank'> $1045.0 per room in a Danville / san ramon 3-bedroom. </a>"
      ],
      "text/plain": [
       "<IPython.core.display.HTML object>"
      ]
     },
     "metadata": {},
     "output_type": "display_data"
    },
    {
     "data": {
      "text/html": [
       "<a href=https://sfbay.craigslist.org/sby/apa/d/san-jose-2br-1ba-condo-lots-of-grass/6862373110.html target='_blank'> $1050.0 per room in a San jose 2-bedroom. </a>"
      ],
      "text/plain": [
       "<IPython.core.display.HTML object>"
      ]
     },
     "metadata": {},
     "output_type": "display_data"
    },
    {
     "data": {
      "text/html": [
       "<a href=https://sfbay.craigslist.org/sby/apa/d/san-jose-the-cleanest-property-in/6864715546.html target='_blank'> $1050.0 per room in a San jose 2-bedroom. </a>"
      ],
      "text/plain": [
       "<IPython.core.display.HTML object>"
      ]
     },
     "metadata": {},
     "output_type": "display_data"
    },
    {
     "data": {
      "text/html": [
       "<a href=https://sfbay.craigslist.org/sby/apa/d/san-jose-2br-1ba-condo-mirrored-doors/6864806325.html target='_blank'> $1050.0 per room in a San jose 2-bedroom. </a>"
      ],
      "text/plain": [
       "<IPython.core.display.HTML object>"
      ]
     },
     "metadata": {},
     "output_type": "display_data"
    },
    {
     "data": {
      "text/html": [
       "<a href=https://sfbay.craigslist.org/eby/apa/d/pleasanton-spacious-two-bedroom/6869567194.html target='_blank'> $1052.0 per room in a Dublin / pleasanton / livermore 2-bedroom. </a>"
      ],
      "text/plain": [
       "<IPython.core.display.HTML object>"
      ]
     },
     "metadata": {},
     "output_type": "display_data"
    },
    {
     "data": {
      "text/html": [
       "<a href=https://sfbay.craigslist.org/sby/apa/d/san-jose-3bedroom-2-baths-single-family/6858776820.html target='_blank'> $1065.0 per room in a San jose 3-bedroom. </a>"
      ],
      "text/plain": [
       "<IPython.core.display.HTML object>"
      ]
     },
     "metadata": {},
     "output_type": "display_data"
    },
    {
     "data": {
      "text/html": [
       "<a href=https://sfbay.craigslist.org/eby/apa/d/fremont-walking-distance-to-bart-15/6869372281.html target='_blank'> $1072.0 per room in a Fremont / union city / newark 3-bedroom. </a>"
      ],
      "text/plain": [
       "<IPython.core.display.HTML object>"
      ]
     },
     "metadata": {},
     "output_type": "display_data"
    },
    {
     "data": {
      "text/html": [
       "<a href=https://sfbay.craigslist.org/sby/apa/d/san-jose-coming-soon-beautiful-4/6864165257.html target='_blank'> $1074.0 per room in a San jose 4-bedroom. </a>"
      ],
      "text/plain": [
       "<IPython.core.display.HTML object>"
      ]
     },
     "metadata": {},
     "output_type": "display_data"
    },
    {
     "data": {
      "text/html": [
       "<a href=https://sfbay.craigslist.org/eby/apa/d/pleasanton-great-location-single-family/6869504748.html target='_blank'> $1075.0 per room in a Dublin / pleasanton / livermore 4-bedroom. </a>"
      ],
      "text/plain": [
       "<IPython.core.display.HTML object>"
      ]
     },
     "metadata": {},
     "output_type": "display_data"
    },
    {
     "data": {
      "text/html": [
       "<a href=https://sfbay.craigslist.org/sby/apa/d/san-jose-beautifully-remodeled-single/6869427819.html target='_blank'> $1083.0 per room in a San jose 3-bedroom. </a>"
      ],
      "text/plain": [
       "<IPython.core.display.HTML object>"
      ]
     },
     "metadata": {},
     "output_type": "display_data"
    },
    {
     "data": {
      "text/html": [
       "<a href=https://sfbay.craigslist.org/eby/apa/d/berkeley-beautiful-large-remodeled/6869515847.html target='_blank'> $1090.0 per room in a Berkeley 5-bedroom. </a>"
      ],
      "text/plain": [
       "<IPython.core.display.HTML object>"
      ]
     },
     "metadata": {},
     "output_type": "display_data"
    },
    {
     "data": {
      "text/html": [
       "<a href=https://sfbay.craigslist.org/eby/apa/d/fremont-premium-corner-lot-home-in/6869370035.html target='_blank'> $1099.0 per room in a Fremont / union city / newark 4-bedroom. </a>"
      ],
      "text/plain": [
       "<IPython.core.display.HTML object>"
      ]
     },
     "metadata": {},
     "output_type": "display_data"
    },
    {
     "data": {
      "text/html": [
       "<a href=https://sfbay.craigslist.org/eby/apa/d/fremont-amazing-pet-friendly-fall-in/6869471112.html target='_blank'> $1102.0 per room in a Fremont / union city / newark 3-bedroom. </a>"
      ],
      "text/plain": [
       "<IPython.core.display.HTML object>"
      ]
     },
     "metadata": {},
     "output_type": "display_data"
    },
    {
     "data": {
      "text/html": [
       "<a href=https://sfbay.craigslist.org/sby/apa/d/san-jose-spring-special-on-our/6869309682.html target='_blank'> $1112.0 per room in a San jose 2-bedroom. </a>"
      ],
      "text/plain": [
       "<IPython.core.display.HTML object>"
      ]
     },
     "metadata": {},
     "output_type": "display_data"
    },
    {
     "data": {
      "text/html": [
       "<a href=https://sfbay.craigslist.org/eby/apa/d/fremont-pet-friendly-community-2br-1ba/6869368918.html target='_blank'> $1124.0 per room in a Fremont / union city / newark 2-bedroom. </a>"
      ],
      "text/plain": [
       "<IPython.core.display.HTML object>"
      ]
     },
     "metadata": {},
     "output_type": "display_data"
    },
    {
     "data": {
      "text/html": [
       "<a href=https://sfbay.craigslist.org/sby/apa/d/san-jose-reserve-your-new-home-today/6869398201.html target='_blank'> $1140.0 per room in a San jose 3-bedroom. </a>"
      ],
      "text/plain": [
       "<IPython.core.display.HTML object>"
      ]
     },
     "metadata": {},
     "output_type": "display_data"
    },
    {
     "data": {
      "text/html": [
       "<a href=https://sfbay.craigslist.org/sfc/apa/d/san-francisco-5br-3bath2rooms7garagew/6869338496.html target='_blank'> $1143.0 per room in a San francisco 7-bedroom. </a>"
      ],
      "text/plain": [
       "<IPython.core.display.HTML object>"
      ]
     },
     "metadata": {},
     "output_type": "display_data"
    },
    {
     "data": {
      "text/html": [
       "<a href=https://sfbay.craigslist.org/eby/apa/d/fremont-top-floor-2-br-1-ba-apartment/6869403268.html target='_blank'> $1148.0 per room in a Fremont / union city / newark 2-bedroom. </a>"
      ],
      "text/plain": [
       "<IPython.core.display.HTML object>"
      ]
     },
     "metadata": {},
     "output_type": "display_data"
    },
    {
     "data": {
      "text/html": [
       "<a href=https://sfbay.craigslist.org/eby/apa/d/fremont-beautiful-view-extra-long/6869400474.html target='_blank'> $1148.0 per room in a Fremont / union city / newark 2-bedroom. </a>"
      ],
      "text/plain": [
       "<IPython.core.display.HTML object>"
      ]
     },
     "metadata": {},
     "output_type": "display_data"
    },
    {
     "data": {
      "text/html": [
       "<a href=https://sfbay.craigslist.org/eby/apa/d/berkeley-clean-comfortable-duplex-in/6853172043.html target='_blank'> $1148.0 per room in a Berkeley 2-bedroom. </a>"
      ],
      "text/plain": [
       "<IPython.core.display.HTML object>"
      ]
     },
     "metadata": {},
     "output_type": "display_data"
    },
    {
     "data": {
      "text/html": [
       "<a href=https://sfbay.craigslist.org/sby/apa/d/san-jose-spacious-2-bedroom-ready-now/6869315510.html target='_blank'> $1148.0 per room in a San jose 2-bedroom. </a>"
      ],
      "text/plain": [
       "<IPython.core.display.HTML object>"
      ]
     },
     "metadata": {},
     "output_type": "display_data"
    },
    {
     "data": {
      "text/html": [
       "<a href=https://sfbay.craigslist.org/sby/apa/d/san-jose-2x1-2nd-floor-utilities/6869433912.html target='_blank'> $1150.0 per room in a San jose 2-bedroom. </a>"
      ],
      "text/plain": [
       "<IPython.core.display.HTML object>"
      ]
     },
     "metadata": {},
     "output_type": "display_data"
    },
    {
     "data": {
      "text/html": [
       "<a href=https://sfbay.craigslist.org/sby/apa/d/san-jose-newly-renovated-2-bedroom-1/6869434255.html target='_blank'> $1150.0 per room in a San jose 2-bedroom. </a>"
      ],
      "text/plain": [
       "<IPython.core.display.HTML object>"
      ]
     },
     "metadata": {},
     "output_type": "display_data"
    },
    {
     "data": {
      "text/html": [
       "<a href=https://sfbay.craigslist.org/eby/apa/d/fremont-northgate-savoy-apartments/6869558487.html target='_blank'> $1150.0 per room in a Fremont / union city / newark 2-bedroom. </a>"
      ],
      "text/plain": [
       "<IPython.core.display.HTML object>"
      ]
     },
     "metadata": {},
     "output_type": "display_data"
    },
    {
     "data": {
      "text/html": [
       "<a href=https://sfbay.craigslist.org/sby/apa/d/san-jose-utilities-parking-included/6869330999.html target='_blank'> $1150.0 per room in a San jose 2-bedroom. </a>"
      ],
      "text/plain": [
       "<IPython.core.display.HTML object>"
      ]
     },
     "metadata": {},
     "output_type": "display_data"
    },
    {
     "data": {
      "text/html": [
       "<a href=https://sfbay.craigslist.org/eby/apa/d/fremont-spacious-design-last-townhome/6869348777.html target='_blank'> $1154.0 per room in a Fremont / union city / newark 2-bedroom. </a>"
      ],
      "text/plain": [
       "<IPython.core.display.HTML object>"
      ]
     },
     "metadata": {},
     "output_type": "display_data"
    },
    {
     "data": {
      "text/html": [
       "<a href=https://sfbay.craigslist.org/eby/apa/d/fremont-newly-renovated-unit-all-new/6869349263.html target='_blank'> $1154.0 per room in a Fremont / union city / newark 2-bedroom. </a>"
      ],
      "text/plain": [
       "<IPython.core.display.HTML object>"
      ]
     },
     "metadata": {},
     "output_type": "display_data"
    },
    {
     "data": {
      "text/html": [
       "<a href=https://sfbay.craigslist.org/eby/apa/d/fremont-fully-renovated-all-new/6869348182.html target='_blank'> $1154.0 per room in a Fremont / union city / newark 2-bedroom. </a>"
      ],
      "text/plain": [
       "<IPython.core.display.HTML object>"
      ]
     },
     "metadata": {},
     "output_type": "display_data"
    },
    {
     "data": {
      "text/html": [
       "<a href=https://sfbay.craigslist.org/sby/apa/d/campbell-bedroom-25-bath-two-story-home/6867315617.html target='_blank'> $1165.0 per room in a Campbell 3-bedroom. </a>"
      ],
      "text/plain": [
       "<IPython.core.display.HTML object>"
      ]
     },
     "metadata": {},
     "output_type": "display_data"
    },
    {
     "data": {
      "text/html": [
       "<a href=https://sfbay.craigslist.org/sby/apa/d/san-jose-perfectly-located-3-bed-25/6858079737.html target='_blank'> $1167.0 per room in a San jose 3-bedroom. </a>"
      ],
      "text/plain": [
       "<IPython.core.display.HTML object>"
      ]
     },
     "metadata": {},
     "output_type": "display_data"
    },
    {
     "data": {
      "text/html": [
       "<a href=https://sfbay.craigslist.org/sfc/apa/d/san-francisco-fantastic-bright-open-kit/6869316702.html target='_blank'> $1167.0 per room in a San francisco 3-bedroom. </a>"
      ],
      "text/plain": [
       "<IPython.core.display.HTML object>"
      ]
     },
     "metadata": {},
     "output_type": "display_data"
    },
    {
     "data": {
      "text/html": [
       "<a href=https://sfbay.craigslist.org/sby/apa/d/san-jose-spacious-3bed-2bath-unit/6869561184.html target='_blank'> $1167.0 per room in a San jose 3-bedroom. </a>"
      ],
      "text/plain": [
       "<IPython.core.display.HTML object>"
      ]
     },
     "metadata": {},
     "output_type": "display_data"
    },
    {
     "data": {
      "text/html": [
       "<a href=https://sfbay.craigslist.org/sby/apa/d/san-jose-all-new-remodeled-three-bedroom/6864567575.html target='_blank'> $1167.0 per room in a San jose 3-bedroom. </a>"
      ],
      "text/plain": [
       "<IPython.core.display.HTML object>"
      ]
     },
     "metadata": {},
     "output_type": "display_data"
    },
    {
     "data": {
      "text/html": [
       "<a href=https://sfbay.craigslist.org/sby/apa/d/campbell-3bd-2bath-home-in-campbell/6862919763.html target='_blank'> $1167.0 per room in a Campbell 3-bedroom. </a>"
      ],
      "text/plain": [
       "<IPython.core.display.HTML object>"
      ]
     },
     "metadata": {},
     "output_type": "display_data"
    },
    {
     "data": {
      "text/html": [
       "<a href=https://sfbay.craigslist.org/eby/apa/d/fremont-newly-renovated-3br2ba-in-niles/6869356858.html target='_blank'> $1167.0 per room in a Fremont / union city / newark 3-bedroom. </a>"
      ],
      "text/plain": [
       "<IPython.core.display.HTML object>"
      ]
     },
     "metadata": {},
     "output_type": "display_data"
    },
    {
     "data": {
      "text/html": [
       "<a href=https://sfbay.craigslist.org/sby/apa/d/san-jose-3bed-2bath-unit-detached/6869312768.html target='_blank'> $1167.0 per room in a San jose 3-bedroom. </a>"
      ],
      "text/plain": [
       "<IPython.core.display.HTML object>"
      ]
     },
     "metadata": {},
     "output_type": "display_data"
    },
    {
     "data": {
      "text/html": [
       "<a href=https://sfbay.craigslist.org/sby/apa/d/san-jose-blossom-valley-townhouse-like/6869422210.html target='_blank'> $1175.0 per room in a San jose 2-bedroom. </a>"
      ],
      "text/plain": [
       "<IPython.core.display.HTML object>"
      ]
     },
     "metadata": {},
     "output_type": "display_data"
    },
    {
     "data": {
      "text/html": [
       "<a href=https://sfbay.craigslist.org/sby/apa/d/san-jose-beautiful-home-in-prime/6867446900.html target='_blank'> $1183.0 per room in a San jose 3-bedroom. </a>"
      ],
      "text/plain": [
       "<IPython.core.display.HTML object>"
      ]
     },
     "metadata": {},
     "output_type": "display_data"
    },
    {
     "data": {
      "text/html": [
       "<a href=https://sfbay.craigslist.org/sby/apa/d/san-jose-lovely-2-bed-1-bath-downtown/6852570193.html target='_blank'> $1187.0 per room in a San jose 2-bedroom. </a>"
      ],
      "text/plain": [
       "<IPython.core.display.HTML object>"
      ]
     },
     "metadata": {},
     "output_type": "display_data"
    },
    {
     "data": {
      "text/html": [
       "<a href=https://sfbay.craigslist.org/sby/apa/d/san-jose-3-bed-2-bath-house-in-san-jose/6869569857.html target='_blank'> $1192.0 per room in a San jose 3-bedroom. </a>"
      ],
      "text/plain": [
       "<IPython.core.display.HTML object>"
      ]
     },
     "metadata": {},
     "output_type": "display_data"
    },
    {
     "data": {
      "text/html": [
       "<a href=https://sfbay.craigslist.org/sby/apa/d/san-jose-500-move-in-bonus-excellent/6869321101.html target='_blank'> $1195.0 per room in a San jose 2-bedroom. </a>"
      ],
      "text/plain": [
       "<IPython.core.display.HTML object>"
      ]
     },
     "metadata": {},
     "output_type": "display_data"
    },
    {
     "data": {
      "text/html": [
       "<a href=https://sfbay.craigslist.org/sby/apa/d/san-jose-500-bonus-dishwasher-pool/6869510658.html target='_blank'> $1195.0 per room in a San jose 2-bedroom. </a>"
      ],
      "text/plain": [
       "<IPython.core.display.HTML object>"
      ]
     },
     "metadata": {},
     "output_type": "display_data"
    },
    {
     "data": {
      "text/html": [
       "<a href=https://sfbay.craigslist.org/sby/apa/d/san-jose-2br-apt-plenty-storage-well/6864641751.html target='_blank'> $1198.0 per room in a San jose 2-bedroom. </a>"
      ],
      "text/plain": [
       "<IPython.core.display.HTML object>"
      ]
     },
     "metadata": {},
     "output_type": "display_data"
    },
    {
     "data": {
      "text/html": [
       "<a href=https://sfbay.craigslist.org/eby/apa/d/berkeley-berkeley-2-bedroom-victorian/6862278725.html target='_blank'> $1200.0 per room in a Berkeley 2-bedroom. </a>"
      ],
      "text/plain": [
       "<IPython.core.display.HTML object>"
      ]
     },
     "metadata": {},
     "output_type": "display_data"
    },
    {
     "data": {
      "text/html": [
       "<a href=https://sfbay.craigslist.org/sby/apa/d/san-jose-los-gatos-creek-park-vasona/6869486008.html target='_blank'> $1200.0 per room in a San jose 2-bedroom. </a>"
      ],
      "text/plain": [
       "<IPython.core.display.HTML object>"
      ]
     },
     "metadata": {},
     "output_type": "display_data"
    },
    {
     "data": {
      "text/html": [
       "<a href=https://sfbay.craigslist.org/sfc/apa/d/san-francisco-large-4-bedrooms-2-full/6861663235.html target='_blank'> $1200.0 per room in a San francisco 4-bedroom. </a>"
      ],
      "text/plain": [
       "<IPython.core.display.HTML object>"
      ]
     },
     "metadata": {},
     "output_type": "display_data"
    },
    {
     "data": {
      "text/html": [
       "<a href=https://sfbay.craigslist.org/sby/apa/d/sunnyvale-pets-welcome-very-quiet-no/6869511453.html target='_blank'> $1210.0 per room in a Sunnyvale 2-bedroom. </a>"
      ],
      "text/plain": [
       "<IPython.core.display.HTML object>"
      ]
     },
     "metadata": {},
     "output_type": "display_data"
    },
    {
     "data": {
      "text/html": [
       "<a href=https://sfbay.craigslist.org/sby/apa/d/sunnyvale-small-building-pets-ok-very/6869352738.html target='_blank'> $1210.0 per room in a Sunnyvale 2-bedroom. </a>"
      ],
      "text/plain": [
       "<IPython.core.display.HTML object>"
      ]
     },
     "metadata": {},
     "output_type": "display_data"
    },
    {
     "data": {
      "text/html": [
       "<a href=https://sfbay.craigslist.org/sfc/apa/d/san-francisco-beautiful-garden-level/6869457880.html target='_blank'> $1225.0 per room in a San francisco 2-bedroom. </a>"
      ],
      "text/plain": [
       "<IPython.core.display.HTML object>"
      ]
     },
     "metadata": {},
     "output_type": "display_data"
    },
    {
     "data": {
      "text/html": [
       "<a href=https://sfbay.craigslist.org/sby/apa/d/santa-clara-furnished-2-bedroom-1-bath/6869364531.html target='_blank'> $1225.0 per room in a San francisco 2-bedroom. </a>"
      ],
      "text/plain": [
       "<IPython.core.display.HTML object>"
      ]
     },
     "metadata": {},
     "output_type": "display_data"
    },
    {
     "data": {
      "text/html": [
       "<a href=https://sfbay.craigslist.org/sby/apa/d/santa-clara-2b-1b-full-renovation-near/6863107239.html target='_blank'> $1225.0 per room in a Santa clara 2-bedroom. </a>"
      ],
      "text/plain": [
       "<IPython.core.display.HTML object>"
      ]
     },
     "metadata": {},
     "output_type": "display_data"
    },
    {
     "data": {
      "text/html": [
       "<a href=https://sfbay.craigslist.org/sby/apa/d/san-jose-great-home-in-evergreen/6869512380.html target='_blank'> $1232.0 per room in a San jose 3-bedroom. </a>"
      ],
      "text/plain": [
       "<IPython.core.display.HTML object>"
      ]
     },
     "metadata": {},
     "output_type": "display_data"
    },
    {
     "data": {
      "text/html": [
       "<a href=https://sfbay.craigslist.org/sby/apa/d/campbell-3-bedroom-2-bathroom-house/6869508923.html target='_blank'> $1233.0 per room in a Campbell 3-bedroom. </a>"
      ],
      "text/plain": [
       "<IPython.core.display.HTML object>"
      ]
     },
     "metadata": {},
     "output_type": "display_data"
    },
    {
     "data": {
      "text/html": [
       "<a href=https://sfbay.craigslist.org/sby/apa/d/santa-clara-3-bed-2-bath-house-for-rent/6869568391.html target='_blank'> $1233.0 per room in a Santa clara 3-bedroom. </a>"
      ],
      "text/plain": [
       "<IPython.core.display.HTML object>"
      ]
     },
     "metadata": {},
     "output_type": "display_data"
    },
    {
     "data": {
      "text/html": [
       "<a href=https://sfbay.craigslist.org/sby/apa/d/mountain-view-spacious-2bed-1bath-avail/6869402199.html target='_blank'> $1248.0 per room in a Sunnyvale 2-bedroom. </a>"
      ],
      "text/plain": [
       "<IPython.core.display.HTML object>"
      ]
     },
     "metadata": {},
     "output_type": "display_data"
    },
    {
     "data": {
      "text/html": [
       "<a href=https://sfbay.craigslist.org/sfc/apa/d/beautiful-new-2-bedroom-1bath-apartment/6861669488.html target='_blank'> $1250.0 per room in a San francisco 2-bedroom. </a>"
      ],
      "text/plain": [
       "<IPython.core.display.HTML object>"
      ]
     },
     "metadata": {},
     "output_type": "display_data"
    },
    {
     "data": {
      "text/html": [
       "<a href=https://sfbay.craigslist.org/eby/apa/d/berkeley-price-drop-available-june-1st/6864012047.html target='_blank'> $1250.0 per room in a Berkeley 3-bedroom. </a>"
      ],
      "text/plain": [
       "<IPython.core.display.HTML object>"
      ]
     },
     "metadata": {},
     "output_type": "display_data"
    },
    {
     "data": {
      "text/html": [
       "<a href=https://sfbay.craigslist.org/sby/apa/d/spacious-2br-1ba-apt-with-central-ac/6869482570.html target='_blank'> $1256.0 per room in a San jose 2-bedroom. </a>"
      ],
      "text/plain": [
       "<IPython.core.display.HTML object>"
      ]
     },
     "metadata": {},
     "output_type": "display_data"
    },
    {
     "data": {
      "text/html": [
       "<a href=https://sfbay.craigslist.org/eby/apa/d/richmond-reserved-parking-all-electric/6869524132.html target='_blank'> $1260.0 per room in a Berkeley 2-bedroom. </a>"
      ],
      "text/plain": [
       "<IPython.core.display.HTML object>"
      ]
     },
     "metadata": {},
     "output_type": "display_data"
    },
    {
     "data": {
      "text/html": [
       "<a href=https://sfbay.craigslist.org/sby/apa/d/sunnyvale-small-building-pets-ok/6869507740.html target='_blank'> $1262.0 per room in a Sunnyvale 2-bedroom. </a>"
      ],
      "text/plain": [
       "<IPython.core.display.HTML object>"
      ]
     },
     "metadata": {},
     "output_type": "display_data"
    },
    {
     "data": {
      "text/html": [
       "<a href=https://sfbay.craigslist.org/sby/apa/d/sunnyvale-pets-welcome-large-private/6869321457.html target='_blank'> $1262.0 per room in a Sunnyvale 2-bedroom. </a>"
      ],
      "text/plain": [
       "<IPython.core.display.HTML object>"
      ]
     },
     "metadata": {},
     "output_type": "display_data"
    },
    {
     "data": {
      "text/html": [
       "<a href=https://sfbay.craigslist.org/sby/apa/d/sunnyvale-take-an-online-video-tour-of/6867417407.html target='_blank'> $1268.0 per room in a Sunnyvale 3-bedroom. </a>"
      ],
      "text/plain": [
       "<IPython.core.display.HTML object>"
      ]
     },
     "metadata": {},
     "output_type": "display_data"
    },
    {
     "data": {
      "text/html": [
       "<a href=https://sfbay.craigslist.org/sby/apa/d/campbell-wow-great-price-renovated-two/6869514809.html target='_blank'> $1279.0 per room in a Campbell 2-bedroom. </a>"
      ],
      "text/plain": [
       "<IPython.core.display.HTML object>"
      ]
     },
     "metadata": {},
     "output_type": "display_data"
    },
    {
     "data": {
      "text/html": [
       "<a href=https://sfbay.craigslist.org/sfc/apa/d/san-francisco-nice-bedroom-with-parking/6864499894.html target='_blank'> $1285.0 per room in a San francisco 1-bedroom. </a>"
      ],
      "text/plain": [
       "<IPython.core.display.HTML object>"
      ]
     },
     "metadata": {},
     "output_type": "display_data"
    },
    {
     "data": {
      "text/html": [
       "<a href=https://sfbay.craigslist.org/sby/apa/d/san-jose-dont-wait-this-two-bedroom/6863941224.html target='_blank'> $1298.0 per room in a Santa clara 2-bedroom. </a>"
      ],
      "text/plain": [
       "<IPython.core.display.HTML object>"
      ]
     },
     "metadata": {},
     "output_type": "display_data"
    },
    {
     "data": {
      "text/html": [
       "<a href=https://sfbay.craigslist.org/sby/apa/d/campbell-cozy-2-bedroom-1-bathroom/6869354223.html target='_blank'> $1300.0 per room in a Campbell 2-bedroom. </a>"
      ],
      "text/plain": [
       "<IPython.core.display.HTML object>"
      ]
     },
     "metadata": {},
     "output_type": "display_data"
    },
    {
     "data": {
      "text/html": [
       "<a href=https://sfbay.craigslist.org/sfc/apa/d/daly-city-close-to-muni-bart-94112/6869444726.html target='_blank'> $1300.0 per room in a San francisco 2-bedroom. </a>"
      ],
      "text/plain": [
       "<IPython.core.display.HTML object>"
      ]
     },
     "metadata": {},
     "output_type": "display_data"
    },
    {
     "data": {
      "text/html": [
       "<a href=https://sfbay.craigslist.org/pen/apa/d/palo-alto-many-long-term-residents-2/6869515967.html target='_blank'> $1325.0 per room in a Mountain view 3-bedroom. </a>"
      ],
      "text/plain": [
       "<IPython.core.display.HTML object>"
      ]
     },
     "metadata": {},
     "output_type": "display_data"
    },
    {
     "data": {
      "text/html": [
       "<a href=https://sfbay.craigslist.org/sfc/apa/d/san-francisco-spacious-3br-sundecks/6857213584.html target='_blank'> $1332.0 per room in a San francisco 3-bedroom. </a>"
      ],
      "text/plain": [
       "<IPython.core.display.HTML object>"
      ]
     },
     "metadata": {},
     "output_type": "display_data"
    },
    {
     "data": {
      "text/html": [
       "<a href=https://sfbay.craigslist.org/sby/apa/d/campbell-2-bed-1-bath-with-bonus/6869378731.html target='_blank'> $1346.0 per room in a Campbell 2-bedroom. </a>"
      ],
      "text/plain": [
       "<IPython.core.display.HTML object>"
      ]
     },
     "metadata": {},
     "output_type": "display_data"
    },
    {
     "data": {
      "text/html": [
       "<a href=https://sfbay.craigslist.org/sby/apa/d/sunnyvale-open-house-thurs-330-7pm/6867799336.html target='_blank'> $1348.0 per room in a Sunnyvale 2-bedroom. </a>"
      ],
      "text/plain": [
       "<IPython.core.display.HTML object>"
      ]
     },
     "metadata": {},
     "output_type": "display_data"
    },
    {
     "data": {
      "text/html": [
       "<a href=https://sfbay.craigslist.org/sby/apa/d/santa-clara-call-now-our-2brs-are-going/6869316381.html target='_blank'> $1348.0 per room in a Santa clara 2-bedroom. </a>"
      ],
      "text/plain": [
       "<IPython.core.display.HTML object>"
      ]
     },
     "metadata": {},
     "output_type": "display_data"
    },
    {
     "data": {
      "text/html": [
       "<a href=https://sfbay.craigslist.org/sby/apa/d/campbell-campbell-2-bed-1-bath-coming/6865743064.html target='_blank'> $1350.0 per room in a Campbell 2-bedroom. </a>"
      ],
      "text/plain": [
       "<IPython.core.display.HTML object>"
      ]
     },
     "metadata": {},
     "output_type": "display_data"
    },
    {
     "data": {
      "text/html": [
       "<a href=https://sfbay.craigslist.org/sfc/apa/d/san-francisco-newly-remodeled-flat-4/6867776243.html target='_blank'> $1375.0 per room in a San francisco 4-bedroom. </a>"
      ],
      "text/plain": [
       "<IPython.core.display.HTML object>"
      ]
     },
     "metadata": {},
     "output_type": "display_data"
    },
    {
     "data": {
      "text/html": [
       "<a href=https://sfbay.craigslist.org/pen/apa/d/los-altos-arbors-with-up-to-1200-off/6869360262.html target='_blank'> $1375.0 per room in a Mountain view 2-bedroom. </a>"
      ],
      "text/plain": [
       "<IPython.core.display.HTML object>"
      ]
     },
     "metadata": {},
     "output_type": "display_data"
    },
    {
     "data": {
      "text/html": [
       "<a href=https://sfbay.craigslist.org/pen/apa/d/los-altos-arbors-up-to-1200-off-call/6869364877.html target='_blank'> $1388.0 per room in a Mountain view 2-bedroom. </a>"
      ],
      "text/plain": [
       "<IPython.core.display.HTML object>"
      ]
     },
     "metadata": {},
     "output_type": "display_data"
    },
    {
     "data": {
      "text/html": [
       "<a href=https://sfbay.craigslist.org/sby/apa/d/santa-clara-remodeled-2br-2bath/6859038074.html target='_blank'> $1395.0 per room in a Santa clara 2-bedroom. </a>"
      ],
      "text/plain": [
       "<IPython.core.display.HTML object>"
      ]
     },
     "metadata": {},
     "output_type": "display_data"
    },
    {
     "data": {
      "text/html": [
       "<a href=https://sfbay.craigslist.org/sby/apa/d/santa-clara-everything-youll-ask-for-is/6869476939.html target='_blank'> $1399.0 per room in a Santa clara 2-bedroom. </a>"
      ],
      "text/plain": [
       "<IPython.core.display.HTML object>"
      ]
     },
     "metadata": {},
     "output_type": "display_data"
    },
    {
     "data": {
      "text/html": [
       "<a href=https://sfbay.craigslist.org/eby/apa/d/berkeley-farmhouse-in-award-winning/6859766208.html target='_blank'> $1400.0 per room in a Berkeley 5-bedroom. </a>"
      ],
      "text/plain": [
       "<IPython.core.display.HTML object>"
      ]
     },
     "metadata": {},
     "output_type": "display_data"
    },
    {
     "data": {
      "text/html": [
       "<a href=https://sfbay.craigslist.org/sby/apa/d/santa-clara-excellent-location-with/6857327771.html target='_blank'> $1400.0 per room in a Santa clara 2-bedroom. </a>"
      ],
      "text/plain": [
       "<IPython.core.display.HTML object>"
      ]
     },
     "metadata": {},
     "output_type": "display_data"
    },
    {
     "data": {
      "text/html": [
       "<a href=https://sfbay.craigslist.org/eby/apa/d/berkeley-townhouse-apartment-very-close/6850401699.html target='_blank'> $1400.0 per room in a Berkeley 4-bedroom. </a>"
      ],
      "text/plain": [
       "<IPython.core.display.HTML object>"
      ]
     },
     "metadata": {},
     "output_type": "display_data"
    },
    {
     "data": {
      "text/html": [
       "<a href=https://sfbay.craigslist.org/eby/apa/d/berkeley-townhouse-apartment-4-blocks/6850106127.html target='_blank'> $1400.0 per room in a Berkeley 4-bedroom. </a>"
      ],
      "text/plain": [
       "<IPython.core.display.HTML object>"
      ]
     },
     "metadata": {},
     "output_type": "display_data"
    },
    {
     "data": {
      "text/html": [
       "<a href=https://sfbay.craigslist.org/pen/apa/d/mountain-view-amazing-location-in-the/6869451400.html target='_blank'> $1430.0 per room in a Mountain view 3-bedroom. </a>"
      ],
      "text/plain": [
       "<IPython.core.display.HTML object>"
      ]
     },
     "metadata": {},
     "output_type": "display_data"
    },
    {
     "data": {
      "text/html": [
       "<a href=https://sfbay.craigslist.org/pen/apa/d/mountain-view-1000-off-move-in-special/6869377313.html target='_blank'> $1430.0 per room in a Mountain view 3-bedroom. </a>"
      ],
      "text/plain": [
       "<IPython.core.display.HTML object>"
      ]
     },
     "metadata": {},
     "output_type": "display_data"
    },
    {
     "data": {
      "text/html": [
       "<a href=https://sfbay.craigslist.org/sby/apa/d/sunnyvale-spacious-3-bedroom-home-in/6867756869.html target='_blank'> $1433.0 per room in a Sunnyvale 3-bedroom. </a>"
      ],
      "text/plain": [
       "<IPython.core.display.HTML object>"
      ]
     },
     "metadata": {},
     "output_type": "display_data"
    },
    {
     "data": {
      "text/html": [
       "<a href=https://sfbay.craigslist.org/sfc/apa/d/san-francisco-rvtd-miraloma-park-home/6867864179.html target='_blank'> $1438.0 per room in a San francisco 4-bedroom. </a>"
      ],
      "text/plain": [
       "<IPython.core.display.HTML object>"
      ]
     },
     "metadata": {},
     "output_type": "display_data"
    },
    {
     "data": {
      "text/html": [
       "<a href=https://sfbay.craigslist.org/sby/apa/d/sunnyvale-stylish-interiors-in/6848050649.html target='_blank'> $1446.0 per room in a Sunnyvale 2-bedroom. </a>"
      ],
      "text/plain": [
       "<IPython.core.display.HTML object>"
      ]
     },
     "metadata": {},
     "output_type": "display_data"
    },
    {
     "data": {
      "text/html": [
       "<a href=https://sfbay.craigslist.org/sby/apa/d/santa-clara-large-2-bed-20-bath-condo/6869404810.html target='_blank'> $1475.0 per room in a Santa clara 2-bedroom. </a>"
      ],
      "text/plain": [
       "<IPython.core.display.HTML object>"
      ]
     },
     "metadata": {},
     "output_type": "display_data"
    },
    {
     "data": {
      "text/html": [
       "<a href=https://sfbay.craigslist.org/sfc/apa/d/san-francisco-luxury-house-views-4-bed/6869466436.html target='_blank'> $1475.0 per room in a San francisco 4-bedroom. </a>"
      ],
      "text/plain": [
       "<IPython.core.display.HTML object>"
      ]
     },
     "metadata": {},
     "output_type": "display_data"
    },
    {
     "data": {
      "text/html": [
       "<a href=https://sfbay.craigslist.org/sfc/apa/d/san-francisco-luxury-house-water-views/6866098547.html target='_blank'> $1475.0 per room in a San francisco 4-bedroom. </a>"
      ],
      "text/plain": [
       "<IPython.core.display.HTML object>"
      ]
     },
     "metadata": {},
     "output_type": "display_data"
    },
    {
     "data": {
      "text/html": [
       "<a href=https://sfbay.craigslist.org/sby/apa/d/santa-clara-beautiful-townhome-ready-now/6869378800.html target='_blank'> $1494.0 per room in a Santa clara 2-bedroom. </a>"
      ],
      "text/plain": [
       "<IPython.core.display.HTML object>"
      ]
     },
     "metadata": {},
     "output_type": "display_data"
    },
    {
     "data": {
      "text/html": [
       "<a href=https://sfbay.craigslist.org/sby/apa/d/sunnyvale-quartz-countertops-carpeting/6869334573.html target='_blank'> $1498.0 per room in a Sunnyvale 2-bedroom. </a>"
      ],
      "text/plain": [
       "<IPython.core.display.HTML object>"
      ]
     },
     "metadata": {},
     "output_type": "display_data"
    },
    {
     "data": {
      "text/html": [
       "<a href=https://sfbay.craigslist.org/sby/apa/d/sunnyvale-patio-balcony-sundeck-extra/6869339862.html target='_blank'> $1498.0 per room in a Sunnyvale 2-bedroom. </a>"
      ],
      "text/plain": [
       "<IPython.core.display.HTML object>"
      ]
     },
     "metadata": {},
     "output_type": "display_data"
    },
    {
     "data": {
      "text/html": [
       "<a href=https://sfbay.craigslist.org/sby/apa/d/santa-clara-1-month-free-2-bedroom/6869386969.html target='_blank'> $1498.0 per room in a Santa clara 2-bedroom. </a>"
      ],
      "text/plain": [
       "<IPython.core.display.HTML object>"
      ]
     },
     "metadata": {},
     "output_type": "display_data"
    },
    {
     "data": {
      "text/html": [
       "<a href=https://sfbay.craigslist.org/sby/apa/d/beautiful-completely-remodeled-welcome/6869436697.html target='_blank'> $1498.0 per room in a Mountain view 2-bedroom. </a>"
      ],
      "text/plain": [
       "<IPython.core.display.HTML object>"
      ]
     },
     "metadata": {},
     "output_type": "display_data"
    },
    {
     "data": {
      "text/html": [
       "<a href=https://sfbay.craigslist.org/sby/apa/d/sunnyvale-quartz-countertops-covered/6869337891.html target='_blank'> $1498.0 per room in a Sunnyvale 2-bedroom. </a>"
      ],
      "text/plain": [
       "<IPython.core.display.HTML object>"
      ]
     },
     "metadata": {},
     "output_type": "display_data"
    },
    {
     "data": {
      "text/html": [
       "<a href=https://sfbay.craigslist.org/sfc/apa/d/oakland-3030-chapman-2-bed-2-bath-open/6867445561.html target='_blank'> $1500.0 per room in a San francisco 2-bedroom. </a>"
      ],
      "text/plain": [
       "<IPython.core.display.HTML object>"
      ]
     },
     "metadata": {},
     "output_type": "display_data"
    },
    {
     "data": {
      "text/html": [
       "<a href=https://sfbay.craigslist.org/sfc/apa/d/san-francisco-2bed-1bath-move-in-just/6869333097.html target='_blank'> $1500.0 per room in a San francisco 2-bedroom. </a>"
      ],
      "text/plain": [
       "<IPython.core.display.HTML object>"
      ]
     },
     "metadata": {},
     "output_type": "display_data"
    },
    {
     "data": {
      "text/html": [
       "<a href=https://sfbay.craigslist.org/sby/apa/d/santa-clara-beautiful-2x2-with-great/6869439530.html target='_blank'> $1500.0 per room in a Santa clara 2-bedroom. </a>"
      ],
      "text/plain": [
       "<IPython.core.display.HTML object>"
      ]
     },
     "metadata": {},
     "output_type": "display_data"
    },
    {
     "data": {
      "text/html": [
       "<a href=https://sfbay.craigslist.org/sby/apa/d/santa-clara-coming-soon-is-our-2/6869484629.html target='_blank'> $1514.0 per room in a Santa clara 2-bedroom. </a>"
      ],
      "text/plain": [
       "<IPython.core.display.HTML object>"
      ]
     },
     "metadata": {},
     "output_type": "display_data"
    },
    {
     "data": {
      "text/html": [
       "<a href=https://sfbay.craigslist.org/sfc/apa/d/san-francisco-3-bedroom-large-flat-in/6867322684.html target='_blank'> $1517.0 per room in a San francisco 3-bedroom. </a>"
      ],
      "text/plain": [
       "<IPython.core.display.HTML object>"
      ]
     },
     "metadata": {},
     "output_type": "display_data"
    },
    {
     "data": {
      "text/html": [
       "<a href=https://sfbay.craigslist.org/sby/apa/d/santa-clara-business-center-disposal-on/6869401736.html target='_blank'> $1520.0 per room in a Sunnyvale 2-bedroom. </a>"
      ],
      "text/plain": [
       "<IPython.core.display.HTML object>"
      ]
     },
     "metadata": {},
     "output_type": "display_data"
    },
    {
     "data": {
      "text/html": [
       "<a href=https://sfbay.craigslist.org/sby/apa/d/santa-clara-business-center-pet/6869374763.html target='_blank'> $1520.0 per room in a Sunnyvale 2-bedroom. </a>"
      ],
      "text/plain": [
       "<IPython.core.display.HTML object>"
      ]
     },
     "metadata": {},
     "output_type": "display_data"
    },
    {
     "data": {
      "text/html": [
       "<a href=https://sfbay.craigslist.org/sby/apa/d/santa-clara-air-conditioner-window/6869378144.html target='_blank'> $1520.0 per room in a Sunnyvale 2-bedroom. </a>"
      ],
      "text/plain": [
       "<IPython.core.display.HTML object>"
      ]
     },
     "metadata": {},
     "output_type": "display_data"
    },
    {
     "data": {
      "text/html": [
       "<a href=https://sfbay.craigslist.org/sby/apa/d/santa-clara-disposal-controlled-access/6869397779.html target='_blank'> $1520.0 per room in a Sunnyvale 2-bedroom. </a>"
      ],
      "text/plain": [
       "<IPython.core.display.HTML object>"
      ]
     },
     "metadata": {},
     "output_type": "display_data"
    },
    {
     "data": {
      "text/html": [
       "<a href=https://sfbay.craigslist.org/sby/apa/d/santa-clara-live-at-the-hidden-treasure/6869576490.html target='_blank'> $1522.0 per room in a Santa clara 2-bedroom. </a>"
      ],
      "text/plain": [
       "<IPython.core.display.HTML object>"
      ]
     },
     "metadata": {},
     "output_type": "display_data"
    },
    {
     "data": {
      "text/html": [
       "<a href=https://sfbay.craigslist.org/sby/apa/d/mountain-view-luxurious-3-bed-2-bath-in/6869360206.html target='_blank'> $1536.0 per room in a Sunnyvale 3-bedroom. </a>"
      ],
      "text/plain": [
       "<IPython.core.display.HTML object>"
      ]
     },
     "metadata": {},
     "output_type": "display_data"
    },
    {
     "data": {
      "text/html": [
       "<a href=https://sfbay.craigslist.org/sby/apa/d/san-jose-close-to-apple-granite/6869434871.html target='_blank'> $1548.0 per room in a Santa clara 2-bedroom. </a>"
      ],
      "text/plain": [
       "<IPython.core.display.HTML object>"
      ]
     },
     "metadata": {},
     "output_type": "display_data"
    },
    {
     "data": {
      "text/html": [
       "<a href=https://sfbay.craigslist.org/sby/apa/d/san-jose-nearby-parks-grocery-starbucks/6869311195.html target='_blank'> $1548.0 per room in a Santa clara 2-bedroom. </a>"
      ],
      "text/plain": [
       "<IPython.core.display.HTML object>"
      ]
     },
     "metadata": {},
     "output_type": "display_data"
    },
    {
     "data": {
      "text/html": [
       "<a href=https://sfbay.craigslist.org/sby/apa/d/santa-clara-come-live-at-alderwood/6869339110.html target='_blank'> $1574.0 per room in a Santa clara 2-bedroom. </a>"
      ],
      "text/plain": [
       "<IPython.core.display.HTML object>"
      ]
     },
     "metadata": {},
     "output_type": "display_data"
    },
    {
     "data": {
      "text/html": [
       "<a href=https://sfbay.craigslist.org/sby/apa/d/santa-clara-guest-parking-galore-large/6869495328.html target='_blank'> $1574.0 per room in a Santa clara 2-bedroom. </a>"
      ],
      "text/plain": [
       "<IPython.core.display.HTML object>"
      ]
     },
     "metadata": {},
     "output_type": "display_data"
    },
    {
     "data": {
      "text/html": [
       "<a href=https://sfbay.craigslist.org/sby/apa/d/santa-clara-walk-through-kitchen-with/6869470669.html target='_blank'> $1586.0 per room in a Santa clara 2-bedroom. </a>"
      ],
      "text/plain": [
       "<IPython.core.display.HTML object>"
      ]
     },
     "metadata": {},
     "output_type": "display_data"
    },
    {
     "data": {
      "text/html": [
       "<a href=https://sfbay.craigslist.org/sfc/apa/d/san-francisco-condo-in-awesome-location/6869523082.html target='_blank'> $1598.0 per room in a San francisco 2-bedroom. </a>"
      ],
      "text/plain": [
       "<IPython.core.display.HTML object>"
      ]
     },
     "metadata": {},
     "output_type": "display_data"
    },
    {
     "data": {
      "text/html": [
       "<a href=https://sfbay.craigslist.org/sfc/apa/d/san-francisco-outer-sunset-spacious-2/6869523149.html target='_blank'> $1600.0 per room in a San francisco 2-bedroom. </a>"
      ],
      "text/plain": [
       "<IPython.core.display.HTML object>"
      ]
     },
     "metadata": {},
     "output_type": "display_data"
    },
    {
     "data": {
      "text/html": [
       "<a href=https://sfbay.craigslist.org/sfc/apa/d/daly-city-house-for-rent/6869340093.html target='_blank'> $1600.0 per room in a San francisco 2-bedroom. </a>"
      ],
      "text/plain": [
       "<IPython.core.display.HTML object>"
      ]
     },
     "metadata": {},
     "output_type": "display_data"
    },
    {
     "data": {
      "text/html": [
       "<a href=https://sfbay.craigslist.org/sfc/apa/d/san-francisco-great-amenities-green/6869526687.html target='_blank'> $1620.0 per room in a San francisco 2-bedroom. </a>"
      ],
      "text/plain": [
       "<IPython.core.display.HTML object>"
      ]
     },
     "metadata": {},
     "output_type": "display_data"
    },
    {
     "data": {
      "text/html": [
       "<a href=https://sfbay.craigslist.org/sfc/apa/d/view-top-floor-new-kit-huge-2-bed-1/6858725194.html target='_blank'> $1625.0 per room in a San francisco 2-bedroom. </a>"
      ],
      "text/plain": [
       "<IPython.core.display.HTML object>"
      ]
     },
     "metadata": {},
     "output_type": "display_data"
    },
    {
     "data": {
      "text/html": [
       "<a href=https://sfbay.craigslist.org/sfc/apa/d/san-francisco-3-or-4-bed-2-bath-top/6869337067.html target='_blank'> $1625.0 per room in a San francisco 4-bedroom. </a>"
      ],
      "text/plain": [
       "<IPython.core.display.HTML object>"
      ]
     },
     "metadata": {},
     "output_type": "display_data"
    },
    {
     "data": {
      "text/html": [
       "<a href=https://sfbay.craigslist.org/sfc/apa/d/2-bedroom-flat-in-central-sunset/6869516208.html target='_blank'> $1650.0 per room in a San francisco 2-bedroom. </a>"
      ],
      "text/plain": [
       "<IPython.core.display.HTML object>"
      ]
     },
     "metadata": {},
     "output_type": "display_data"
    },
    {
     "data": {
      "text/html": [
       "<a href=https://sfbay.craigslist.org/sfc/apa/d/san-francisco-outer-sunset-in-law/6863969191.html target='_blank'> $1650.0 per room in a San francisco 1-bedroom. </a>"
      ],
      "text/plain": [
       "<IPython.core.display.HTML object>"
      ]
     },
     "metadata": {},
     "output_type": "display_data"
    },
    {
     "data": {
      "text/html": [
       "<a href=https://sfbay.craigslist.org/sfc/apa/d/san-francisco-condo-hw-floors-inside/6853106555.html target='_blank'> $1658.0 per room in a San francisco 3-bedroom. </a>"
      ],
      "text/plain": [
       "<IPython.core.display.HTML object>"
      ]
     },
     "metadata": {},
     "output_type": "display_data"
    },
    {
     "data": {
      "text/html": [
       "<a href=https://sfbay.craigslist.org/sfc/apa/d/san-francisco-epic-rea-just-reduced/6869487856.html target='_blank'> $1665.0 per room in a San francisco 4-bedroom. </a>"
      ],
      "text/plain": [
       "<IPython.core.display.HTML object>"
      ]
     },
     "metadata": {},
     "output_type": "display_data"
    },
    {
     "data": {
      "text/html": [
       "<a href=https://sfbay.craigslist.org/sfc/apa/d/san-francisco-gorgeous-completely/6860511524.html target='_blank'> $1665.0 per room in a San francisco 3-bedroom. </a>"
      ],
      "text/plain": [
       "<IPython.core.display.HTML object>"
      ]
     },
     "metadata": {},
     "output_type": "display_data"
    }
   ],
   "source": [
    "NH = 'Sunnyvale'\n",
    "NH = NH.lower().strip()\n",
    "\n",
    "\n",
    "from IPython.core.display import display, HTML\n",
    "\n",
    "#links= dfdeals.loc[dfdeals['neighborhood']==NH]['link'].values\n",
    "#X = np.array(dfdeals.loc[dfdeals['neighborhood']==NH][['rent per room','neighborhood','bedrooms']])\n",
    "links= dfdeals['link'].values\n",
    "X = np.array(dfdeals[['rent per room','neighborhood','bedrooms']])\n",
    "\n",
    "\n",
    "print('with links:')\n",
    "#count=0\n",
    "for i,x in enumerate(X):\n",
    "    rent=x[0];\n",
    "    nh=x[1];\n",
    "    bedrooms=x[2];\n",
    "    if isitadeal(rent,nh)==1:\n",
    "        #print(f\"A {x[1]} sq. foot {x[0]}-bedroom home for ${x[2]} is anomalous:\")\n",
    "        display(HTML(\"<a href=\"+links[i]+\" target='_blank'> $\"+str(np.round(rent))+\" per room in a \"+str(nh).capitalize()+\" \"+str(int(bedrooms))+\"-bedroom. </a>\"))\n",
    "#        count=count+1\n",
    "\n",
    "#print(count)\n"
   ]
  },
  {
   "cell_type": "markdown",
   "metadata": {},
   "source": [
    "## TO DO:"
   ]
  },
  {
   "cell_type": "markdown",
   "metadata": {},
   "source": [
    "Sometimes this misrepresents rent per room, e.g. if someone is renting out just 1 room in a 2-bedroom, and has listed rent for just the 1 room, but has posted the listing as a \"2-bedroom\". Can I find a way to correct this error by looking for particular words in the description/title?"
   ]
  },
  {
   "cell_type": "code",
   "execution_count": null,
   "metadata": {},
   "outputs": [],
   "source": []
  },
  {
   "cell_type": "code",
   "execution_count": null,
   "metadata": {},
   "outputs": [],
   "source": []
  },
  {
   "cell_type": "code",
   "execution_count": null,
   "metadata": {},
   "outputs": [],
   "source": []
  },
  {
   "cell_type": "code",
   "execution_count": null,
   "metadata": {},
   "outputs": [],
   "source": []
  },
  {
   "cell_type": "code",
   "execution_count": null,
   "metadata": {},
   "outputs": [],
   "source": []
  },
  {
   "cell_type": "code",
   "execution_count": null,
   "metadata": {},
   "outputs": [],
   "source": []
  },
  {
   "cell_type": "code",
   "execution_count": null,
   "metadata": {},
   "outputs": [],
   "source": []
  },
  {
   "cell_type": "code",
   "execution_count": null,
   "metadata": {},
   "outputs": [],
   "source": []
  },
  {
   "cell_type": "code",
   "execution_count": null,
   "metadata": {},
   "outputs": [],
   "source": []
  },
  {
   "cell_type": "code",
   "execution_count": null,
   "metadata": {},
   "outputs": [],
   "source": []
  },
  {
   "cell_type": "code",
   "execution_count": null,
   "metadata": {},
   "outputs": [],
   "source": []
  },
  {
   "cell_type": "code",
   "execution_count": null,
   "metadata": {},
   "outputs": [],
   "source": []
  },
  {
   "cell_type": "code",
   "execution_count": null,
   "metadata": {},
   "outputs": [],
   "source": []
  },
  {
   "cell_type": "code",
   "execution_count": null,
   "metadata": {},
   "outputs": [],
   "source": []
  },
  {
   "cell_type": "code",
   "execution_count": 190,
   "metadata": {},
   "outputs": [],
   "source": [
    "\n",
    "\n",
    "\n"
   ]
  },
  {
   "cell_type": "code",
   "execution_count": null,
   "metadata": {},
   "outputs": [],
   "source": []
  },
  {
   "cell_type": "code",
   "execution_count": null,
   "metadata": {},
   "outputs": [],
   "source": []
  },
  {
   "cell_type": "code",
   "execution_count": null,
   "metadata": {},
   "outputs": [],
   "source": []
  },
  {
   "cell_type": "code",
   "execution_count": null,
   "metadata": {},
   "outputs": [],
   "source": []
  },
  {
   "cell_type": "code",
   "execution_count": 35,
   "metadata": {},
   "outputs": [
    {
     "data": {
      "image/png": "[encoded data removed]",
      "text/plain": [
       "<Figure size 576x720 with 1 Axes>"
      ]
     },
     "metadata": {
      "needs_background": "light"
     },
     "output_type": "display_data"
    }
   ],
   "source": [
    "#plot the price distribution of 1-bedrooms from the training and test data\n",
    "\n",
    "fig,ax =plt.subplots(1,1, figsize=(8,10))\n",
    "ax.hist(dfclean.loc[dfclean['bedrooms']==1.0]['price']);\n",
    "ax.set_xlabel('Price ($)');\n",
    "ax.set_title('Price distribution for 1-bedrooms');\n",
    "\n"
   ]
  },
  {
   "cell_type": "code",
   "execution_count": null,
   "metadata": {},
   "outputs": [],
   "source": []
  },
  {
   "cell_type": "code",
   "execution_count": null,
   "metadata": {},
   "outputs": [],
   "source": []
  },
  {
   "cell_type": "code",
   "execution_count": null,
   "metadata": {},
   "outputs": [],
   "source": []
  },
  {
   "cell_type": "code",
   "execution_count": null,
   "metadata": {},
   "outputs": [],
   "source": []
  },
  {
   "cell_type": "code",
   "execution_count": null,
   "metadata": {},
   "outputs": [],
   "source": []
  },
  {
   "cell_type": "code",
   "execution_count": null,
   "metadata": {},
   "outputs": [],
   "source": []
  },
  {
   "cell_type": "code",
   "execution_count": null,
   "metadata": {},
   "outputs": [],
   "source": []
  },
  {
   "cell_type": "code",
   "execution_count": 37,
   "metadata": {},
   "outputs": [
    {
     "data": {
      "text/plain": [
       "<matplotlib.axes._subplots.AxesSubplot at 0x11d435240>"
      ]
     },
     "execution_count": 37,
     "metadata": {},
     "output_type": "execute_result"
    },
    {
     "data": {
      "image/png": "[encoded data removed]",
      "text/plain": [
       "<Figure size 432x288 with 1 Axes>"
      ]
     },
     "metadata": {
      "needs_background": "light"
     },
     "output_type": "display_data"
    }
   ],
   "source": [
    "dfclean.plot('bedrooms','sq. feet',kind = 'scatter')"
   ]
  },
  {
   "cell_type": "code",
   "execution_count": 38,
   "metadata": {},
   "outputs": [
    {
     "data": {
      "text/plain": [
       "Text(0,0.5,'mean area (ft$^2$)')"
      ]
     },
     "execution_count": 38,
     "metadata": {},
     "output_type": "execute_result"
    },
    {
     "data": {
      "image/png": "[encoded data removed]",
      "text/plain": [
       "<Figure size 432x288 with 1 Axes>"
      ]
     },
     "metadata": {
      "needs_background": "light"
     },
     "output_type": "display_data"
    }
   ],
   "source": [
    "groupedbybedrooms = dfclean.groupby(by='bedrooms').mean();\n",
    "plt.plot(groupedbybedrooms.index.values,groupedbybedrooms['sq. feet'],'o')\n",
    "plt.xlabel('number of bedrooms')\n",
    "plt.ylabel('mean area (ft$^2$)')"
   ]
  },
  {
   "cell_type": "code",
   "execution_count": null,
   "metadata": {},
   "outputs": [],
   "source": []
  },
  {
   "cell_type": "code",
   "execution_count": null,
   "metadata": {},
   "outputs": [],
   "source": []
  },
  {
   "cell_type": "code",
   "execution_count": null,
   "metadata": {},
   "outputs": [],
   "source": []
  },
  {
   "cell_type": "code",
   "execution_count": 361,
   "metadata": {},
   "outputs": [],
   "source": [
    "#train for anomaly detection and make predictions\n",
    "\n",
    "\n",
    "# #compute the mean\n",
    "# mu = train[['bedrooms','1000sqfeet', 'pricek']].mean().values\n",
    "# #mu = np.array(np.mean(train)[['bedrooms','1000sqfeet','pricek']])\n",
    "# xminusmu = np.array(train[['bedrooms','1000sqfeet', 'pricek']]-mu)\n",
    "\n",
    "# #compute covariance matrix\n",
    "# m=xminusmu.shape[0]\n",
    "# Sigi=0;\n",
    "# for i in range(0,m):\n",
    "#     Sigi=Sigi+np.outer(xminusmu[i], (xminusmu[i]).T)\n",
    "# Sig=(1/m)*Sigi\n",
    "# detSig = np.linalg.det(Sig)\n",
    "\n",
    "# Siginv = np.linalg.inv(Sig)\n",
    "# n=len(mu)\n",
    "# def p(x):\n",
    "#     #p takes x in [bedrooms, square feet, dollars]\n",
    "#     y=np.array([x[0],x[1]/1000,x[2]/1000]) #convert to 1000s of sq feet, 1000s of dollars\n",
    "#     exp=np.e**(-.5*np.dot(y-mu,np.dot(Siginv,y-mu)))\n",
    "#     return(exp/( (2*np.pi)**(n/2)*(detSig**(1/2)) ))\n",
    "\n",
    "\n",
    "def multigauss(X,mu,Sig):  #input X is m by n (must be in the form of a 2-d array). inputs (X, mu, Sig) should be in 1000sqfeet, 1000$.\n",
    "        #if mu[1]>X[0,1]*10 or mu[1]<X[0,1]/10:\n",
    "        #    print('Make sure mu and X are in the same units.')\n",
    "        n = X.shape[1];\n",
    "        m = X.shape[0];\n",
    "        Xminusmu = X-mu\n",
    "        pi = np.pi\n",
    "        det = np.linalg.det(Sig)\n",
    "        inv = np.linalg.inv(Sig)\n",
    "        exponent=-.5*np.reshape([np.dot( (X[i,:]-mu),  np.dot(inv,(X[i,:]-mu).T)) for i in range(0,m)],(m,1))\n",
    "        return np.reshape(((2*pi)**(-.5*n))*(det**-.5)*np.exp(exponent),(m,))\n",
    "    \n",
    "    \n",
    "#CHANGE FEATURES HERE \n",
    "featureset = ['bedrooms','pricek'];\n",
    "n = len(featureset)\n",
    "\n",
    "\n",
    "#fit mu, Sig for each neighborhood separately\n",
    "nhmu = np.zeros((len(maxhoods),n))\n",
    "nhSig = np.zeros((len(maxhoods),n,n))\n",
    "for i,nh in enumerate(maxhoods):\n",
    "    if type(nh)==str:\n",
    "        #print(nh)\n",
    "        dfnh = train.loc[train['neighborhood']==nh]\n",
    "        if len(dfnh) is not 0:\n",
    "            Xtrain = np.array(dfnh[featureset])\n",
    "            m = Xtrain.shape[0]\n",
    "            mu = np.mean(Xtrain,0)\n",
    "            Xminusmu=Xtrain-mu\n",
    "            Sig=(1/m)*np.dot(Xminusmu.T,Xminusmu)\n",
    "            nhmu[i] = mu\n",
    "            nhSig[i] = Sig\n",
    "        else:\n",
    "            nhmu[i]=np.nan\n",
    "            nhSig[i]=np.nan\n",
    "    else:\n",
    "        nhmu[i]=np.nan\n",
    "        nhSig[i]=np.nan\n",
    "    \n",
    "\n",
    "    \n",
    "    \n",
    "    \n"
   ]
  },
  {
   "cell_type": "code",
   "execution_count": null,
   "metadata": {},
   "outputs": [],
   "source": []
  },
  {
   "cell_type": "code",
   "execution_count": null,
   "metadata": {},
   "outputs": [],
   "source": []
  },
  {
   "cell_type": "code",
   "execution_count": 442,
   "metadata": {},
   "outputs": [
    {
     "data": {
      "text/html": [
       "<div>\n",
       "<style scoped>\n",
       "    .dataframe tbody tr th:only-of-type {\n",
       "        vertical-align: middle;\n",
       "    }\n",
       "\n",
       "    .dataframe tbody tr th {\n",
       "        vertical-align: top;\n",
       "    }\n",
       "\n",
       "    .dataframe thead th {\n",
       "        text-align: right;\n",
       "    }\n",
       "</style>\n",
       "<table border=\"1\" class=\"dataframe\">\n",
       "  <thead>\n",
       "    <tr style=\"text-align: right;\">\n",
       "      <th></th>\n",
       "      <th>description</th>\n",
       "      <th>bedrooms</th>\n",
       "      <th>pricek</th>\n",
       "      <th>probability</th>\n",
       "    </tr>\n",
       "  </thead>\n",
       "  <tbody>\n",
       "    <tr>\n",
       "      <th>592</th>\n",
       "      <td>Single home in Homestead High district</td>\n",
       "      <td>4.0</td>\n",
       "      <td>5.000</td>\n",
       "      <td>0.000156</td>\n",
       "    </tr>\n",
       "    <tr>\n",
       "      <th>670</th>\n",
       "      <td>Beautiful New Construction - Skip the commute</td>\n",
       "      <td>3.0</td>\n",
       "      <td>4.500</td>\n",
       "      <td>0.015356</td>\n",
       "    </tr>\n",
       "    <tr>\n",
       "      <th>474</th>\n",
       "      <td>Leasing Now, Near Shops and Dining, Business S...</td>\n",
       "      <td>2.0</td>\n",
       "      <td>4.500</td>\n",
       "      <td>0.016573</td>\n",
       "    </tr>\n",
       "    <tr>\n",
       "      <th>57</th>\n",
       "      <td>2-bedroom in convenient Sunnyvale location!</td>\n",
       "      <td>2.0</td>\n",
       "      <td>2.300</td>\n",
       "      <td>0.069692</td>\n",
       "    </tr>\n",
       "    <tr>\n",
       "      <th>1292</th>\n",
       "      <td>Apartment Floorplans, EV Chargers, Swegles Par...</td>\n",
       "      <td>2.0</td>\n",
       "      <td>4.175</td>\n",
       "      <td>0.070305</td>\n",
       "    </tr>\n",
       "    <tr>\n",
       "      <th>1359</th>\n",
       "      <td>Subterranean Parking, Comfort and Convenience,...</td>\n",
       "      <td>2.0</td>\n",
       "      <td>4.145</td>\n",
       "      <td>0.078625</td>\n",
       "    </tr>\n",
       "    <tr>\n",
       "      <th>2832</th>\n",
       "      <td>2 Bedroom/ 1 Bath Apartment- Nice Small Buildi...</td>\n",
       "      <td>2.0</td>\n",
       "      <td>2.420</td>\n",
       "      <td>0.106776</td>\n",
       "    </tr>\n",
       "    <tr>\n",
       "      <th>2021</th>\n",
       "      <td>Bright and spacious 2-bedroom, 1-bath</td>\n",
       "      <td>2.0</td>\n",
       "      <td>2.500</td>\n",
       "      <td>0.137386</td>\n",
       "    </tr>\n",
       "    <tr>\n",
       "      <th>2551</th>\n",
       "      <td>1 Bedroom with gorgeous layout and endless ame...</td>\n",
       "      <td>1.0</td>\n",
       "      <td>3.250</td>\n",
       "      <td>0.177891</td>\n",
       "    </tr>\n",
       "    <tr>\n",
       "      <th>467</th>\n",
       "      <td>Come Home to Comfort and Convenience!</td>\n",
       "      <td>1.0</td>\n",
       "      <td>3.023</td>\n",
       "      <td>0.263076</td>\n",
       "    </tr>\n",
       "    <tr>\n",
       "      <th>1352</th>\n",
       "      <td>Lease Today, Close to 280 and 101, Live West o...</td>\n",
       "      <td>1.0</td>\n",
       "      <td>2.545</td>\n",
       "      <td>0.303248</td>\n",
       "    </tr>\n",
       "    <tr>\n",
       "      <th>1474</th>\n",
       "      <td>Home office area (in select apartments), Relax...</td>\n",
       "      <td>1.0</td>\n",
       "      <td>2.870</td>\n",
       "      <td>0.304458</td>\n",
       "    </tr>\n",
       "    <tr>\n",
       "      <th>1769</th>\n",
       "      <td>People Love Us On Yelp! Close LinkedIn, Apple,...</td>\n",
       "      <td>2.0</td>\n",
       "      <td>3.620</td>\n",
       "      <td>0.308724</td>\n",
       "    </tr>\n",
       "    <tr>\n",
       "      <th>565</th>\n",
       "      <td>Beautiful New Construction - Skip the commute</td>\n",
       "      <td>2.0</td>\n",
       "      <td>3.600</td>\n",
       "      <td>0.318143</td>\n",
       "    </tr>\n",
       "    <tr>\n",
       "      <th>1610</th>\n",
       "      <td>Spacious 2X2 In Sunnyvale With W/D, SS Kitchen...</td>\n",
       "      <td>2.0</td>\n",
       "      <td>3.487</td>\n",
       "      <td>0.365728</td>\n",
       "    </tr>\n",
       "    <tr>\n",
       "      <th>2715</th>\n",
       "      <td>Remarkable Town Home w/ Washer &amp; Dryer Inside!...</td>\n",
       "      <td>2.0</td>\n",
       "      <td>3.067</td>\n",
       "      <td>0.390355</td>\n",
       "    </tr>\n",
       "    <tr>\n",
       "      <th>1431</th>\n",
       "      <td>Top Floor Pool View 2B2B :: Lots of Light, Vau...</td>\n",
       "      <td>2.0</td>\n",
       "      <td>3.345</td>\n",
       "      <td>0.404961</td>\n",
       "    </tr>\n",
       "    <tr>\n",
       "      <th>824</th>\n",
       "      <td>Room for two? 2x2 ready NOW</td>\n",
       "      <td>2.0</td>\n",
       "      <td>3.336</td>\n",
       "      <td>0.406465</td>\n",
       "    </tr>\n",
       "    <tr>\n",
       "      <th>2224</th>\n",
       "      <td>Trees outside your private balcony!  Top Floor...</td>\n",
       "      <td>2.0</td>\n",
       "      <td>3.253</td>\n",
       "      <td>0.414161</td>\n",
       "    </tr>\n",
       "  </tbody>\n",
       "</table>\n",
       "</div>"
      ],
      "text/plain": [
       "                                            description  bedrooms  pricek  \\\n",
       "592              Single home in Homestead High district       4.0   5.000   \n",
       "670       Beautiful New Construction - Skip the commute       3.0   4.500   \n",
       "474   Leasing Now, Near Shops and Dining, Business S...       2.0   4.500   \n",
       "57          2-bedroom in convenient Sunnyvale location!       2.0   2.300   \n",
       "1292  Apartment Floorplans, EV Chargers, Swegles Par...       2.0   4.175   \n",
       "1359  Subterranean Parking, Comfort and Convenience,...       2.0   4.145   \n",
       "2832  2 Bedroom/ 1 Bath Apartment- Nice Small Buildi...       2.0   2.420   \n",
       "2021              Bright and spacious 2-bedroom, 1-bath       2.0   2.500   \n",
       "2551  1 Bedroom with gorgeous layout and endless ame...       1.0   3.250   \n",
       "467               Come Home to Comfort and Convenience!       1.0   3.023   \n",
       "1352  Lease Today, Close to 280 and 101, Live West o...       1.0   2.545   \n",
       "1474  Home office area (in select apartments), Relax...       1.0   2.870   \n",
       "1769  People Love Us On Yelp! Close LinkedIn, Apple,...       2.0   3.620   \n",
       "565       Beautiful New Construction - Skip the commute       2.0   3.600   \n",
       "1610  Spacious 2X2 In Sunnyvale With W/D, SS Kitchen...       2.0   3.487   \n",
       "2715  Remarkable Town Home w/ Washer & Dryer Inside!...       2.0   3.067   \n",
       "1431  Top Floor Pool View 2B2B :: Lots of Light, Vau...       2.0   3.345   \n",
       "824                         Room for two? 2x2 ready NOW       2.0   3.336   \n",
       "2224  Trees outside your private balcony!  Top Floor...       2.0   3.253   \n",
       "\n",
       "      probability  \n",
       "592      0.000156  \n",
       "670      0.015356  \n",
       "474      0.016573  \n",
       "57       0.069692  \n",
       "1292     0.070305  \n",
       "1359     0.078625  \n",
       "2832     0.106776  \n",
       "2021     0.137386  \n",
       "2551     0.177891  \n",
       "467      0.263076  \n",
       "1352     0.303248  \n",
       "1474     0.304458  \n",
       "1769     0.308724  \n",
       "565      0.318143  \n",
       "1610     0.365728  \n",
       "2715     0.390355  \n",
       "1431     0.404961  \n",
       "824      0.406465  \n",
       "2224     0.414161  "
      ]
     },
     "execution_count": 442,
     "metadata": {},
     "output_type": "execute_result"
    }
   ],
   "source": [
    "#e.g. mu and sigma for sunnyvale:\n",
    "svmu=nhmu[maxhoods.index('sunnyvale')]\n",
    "svSig=nhSig[maxhoods.index('sunnyvale')]\n",
    "\n",
    "def svp(X):\n",
    "    return multigauss(X,svmu,svSig)\n",
    "\n",
    "svtest = test.loc[test['neighborhood']=='sunnyvale'][:]\n",
    "\n",
    "\n",
    "svXtest=svtest[featureset].values\n",
    "\n",
    "\n",
    "svtest['probability'] = svp(svXtest)\n",
    "svtest[['description']+featureset+['probability']].sort_values(by='probability')\n"
   ]
  },
  {
   "cell_type": "code",
   "execution_count": null,
   "metadata": {},
   "outputs": [],
   "source": [
    "\n",
    "\n"
   ]
  },
  {
   "cell_type": "code",
   "execution_count": null,
   "metadata": {},
   "outputs": [],
   "source": []
  },
  {
   "cell_type": "markdown",
   "metadata": {},
   "source": [
    "## dont' know why this is not normalized how I expect --- come back to this later"
   ]
  },
  {
   "cell_type": "code",
   "execution_count": 439,
   "metadata": {},
   "outputs": [
    {
     "data": {
      "text/plain": [
       "[<matplotlib.lines.Line2D at 0x121c6c1d0>]"
      ]
     },
     "execution_count": 439,
     "metadata": {},
     "output_type": "execute_result"
    },
    {
     "data": {
      "image/png": "[encoded data removed]",
      "text/plain": [
       "<Figure size 432x288 with 1 Axes>"
      ]
     },
     "metadata": {
      "needs_background": "light"
     },
     "output_type": "display_data"
    }
   ],
   "source": [
    "brrange = np.arange(min(dfsv['bedrooms']),max(dfsv['bedrooms']+1))\n",
    "pprange = np.arange(min(dfsv['pricek']),max(dfsv['pricek']+1),.1)\n",
    "\n",
    "plt.hist(dfsv['pricek'])\n",
    "plt.plot(pprange,[len(dfsv['pricek'])*np.sum([multigauss(np.array([[br,pp]]),svmu,svSig) for br in brrange]) for pp in pprange])\n"
   ]
  },
  {
   "cell_type": "code",
   "execution_count": 433,
   "metadata": {},
   "outputs": [
    {
     "data": {
      "text/plain": [
       "[<matplotlib.lines.Line2D at 0x122c5e390>]"
      ]
     },
     "execution_count": 433,
     "metadata": {},
     "output_type": "execute_result"
    },
    {
     "data": {
      "image/png": "[encoded data removed]",
      "text/plain": [
       "<Figure size 432x288 with 1 Axes>"
      ]
     },
     "metadata": {
      "needs_background": "light"
     },
     "output_type": "display_data"
    }
   ],
   "source": [
    "#this seems fine:\n",
    "\n",
    "plt.hist(dfsv.loc[dfsv['bedrooms']==1]['pricek'])\n",
    "plt.plot(pprange,[len(dfsv.loc[dfsv['bedrooms']==1])*multigauss(np.array([[1,pp]]),svmu,svSig) for pp in pprange])\n"
   ]
  },
  {
   "cell_type": "code",
   "execution_count": null,
   "metadata": {},
   "outputs": [],
   "source": []
  },
  {
   "cell_type": "code",
   "execution_count": null,
   "metadata": {},
   "outputs": [],
   "source": []
  },
  {
   "cell_type": "code",
   "execution_count": 329,
   "metadata": {},
   "outputs": [
    {
     "data": {
      "image/png": "[encoded data removed]",
      "text/plain": [
       "<Figure size 432x288 with 1 Axes>"
      ]
     },
     "metadata": {
      "needs_background": "light"
     },
     "output_type": "display_data"
    }
   ],
   "source": [
    "dfsv = train.loc[train['neighborhood']=='sunnyvale']\n",
    "\n",
    "pprange = np.arange(0,6,.1);\n",
    "plt.hist(dfsv['price'])\n",
    "plt.plot(1000*pprange,np.array([np.sum([svp(np.array([[br,pp]])) for br in range(1,4)]) for pp in pprange]))\n",
    "plt.xlabel('rent ($)')\n",
    "plt.title('price distribution for all homes in sunnyvale (training set)');\n",
    "\n",
    "\n"
   ]
  },
  {
   "cell_type": "markdown",
   "metadata": {},
   "source": [
    "Expected price given bedrooms and square footage: (want to use this to pick only anomalies where price is lower than expected)"
   ]
  },
  {
   "cell_type": "code",
   "execution_count": 385,
   "metadata": {},
   "outputs": [
    {
     "data": {
      "text/plain": [
       "array([0, 0, 0, 1, 1, 1, 1, 2, 3])"
      ]
     },
     "execution_count": 385,
     "metadata": {},
     "output_type": "execute_result"
    }
   ],
   "source": [
    "XY[:,0]"
   ]
  },
  {
   "cell_type": "code",
   "execution_count": 423,
   "metadata": {},
   "outputs": [
    {
     "data": {
      "text/plain": [
       "[<matplotlib.lines.Line2D at 0x1224a0438>]"
      ]
     },
     "execution_count": 423,
     "metadata": {},
     "output_type": "execute_result"
    },
    {
     "data": {
      "image/png": "[encoded data removed]",
      "text/plain": [
       "<Figure size 432x288 with 1 Axes>"
      ]
     },
     "metadata": {
      "needs_background": "light"
     },
     "output_type": "display_data"
    }
   ],
   "source": [
    "X = [0,0,0,1,1,1,1,2,3];\n",
    "Y = [0,1,1,0,2,2,2,3,10];\n",
    "\n",
    "XY = np.array([X,Y]).T\n",
    "\n",
    "\n",
    "\n",
    "def gauss(x):\n",
    "    xmu=np.mean(X);\n",
    "    xsig=np.std(X);\n",
    "    return((1/(((2*np.pi)**.5)*xsig))*np.exp(-(x-xmu)**2/(2*xsig**2)))\n",
    "\n",
    "muXY=np.mean(XY,axis=0)\n",
    "\n",
    "\n",
    "\n",
    "m=len(X);\n",
    "SigXY=(1/m)*np.dot((XY-muXY).T,XY-muXY)\n",
    "\n",
    "def multigaussXY(x,y):\n",
    "    return multigauss(np.array([[x,y]]),muXY,SigXY)\n",
    "\n",
    "xrange = np.arange(min(X),max(X)+1);\n",
    "yrange = np.arange(min(Y),max(Y)+1);\n",
    "\n",
    "plt.hist(Y)\n",
    "plt.plot(yrange, [len(XY)*np.sum([multigaussXY(x, y) for x in xrange]) for y in yrange] )"
   ]
  },
  {
   "cell_type": "code",
   "execution_count": null,
   "metadata": {},
   "outputs": [],
   "source": []
  },
  {
   "cell_type": "code",
   "execution_count": null,
   "metadata": {},
   "outputs": [],
   "source": []
  },
  {
   "cell_type": "code",
   "execution_count": null,
   "metadata": {},
   "outputs": [],
   "source": []
  },
  {
   "cell_type": "code",
   "execution_count": 292,
   "metadata": {},
   "outputs": [
    {
     "name": "stdout",
     "output_type": "stream",
     "text": [
      "[1.0, 2.0, 3.0]\n"
     ]
    },
    {
     "data": {
      "text/plain": [
       "0.9725048005531944"
      ]
     },
     "execution_count": 292,
     "metadata": {},
     "output_type": "execute_result"
    }
   ],
   "source": [
    "brrange=list(set(dfsv['bedrooms']));\n",
    "print(brrange)\n",
    ".1*np.sum([np.sum([svp(np.array([[br,pp]])) for br in brrange]) for pp in pprange])"
   ]
  },
  {
   "cell_type": "markdown",
   "metadata": {},
   "source": [
    "(or see below for the quick and dirty method of finding expected price)"
   ]
  },
  {
   "cell_type": "code",
   "execution_count": 1222,
   "metadata": {},
   "outputs": [
    {
     "data": {
      "text/plain": [
       "3300.0000000000005"
      ]
     },
     "execution_count": 1222,
     "metadata": {},
     "output_type": "execute_result"
    }
   ],
   "source": [
    "bdrs = 1;\n",
    "ksqfeet = 1;\n",
    "\n",
    "pricerange = np.arange(0,50,.1);\n",
    "probprice=[p(np.array([[bdrs, ksqfeet, kdollars]]), mu, Sig) for kdollars in pricerange]\n",
    "maxid = np.argmax(probprice)\n",
    "\n",
    "\n",
    "pricerange[maxid]*1000"
   ]
  },
  {
   "cell_type": "markdown",
   "metadata": {},
   "source": [
    "Now define function using this to say whether a given price is cheap:"
   ]
  },
  {
   "cell_type": "code",
   "execution_count": 1223,
   "metadata": {},
   "outputs": [],
   "source": [
    "def isitcheap(X,mu,Sig):\n",
    "    m=X.shape[0]\n",
    "    n=X.shape[1]\n",
    "    \n",
    "    br = X[:,0]\n",
    "    sqft = X[:,1]\n",
    "    price = X[:,2]\n",
    "    \n",
    "    dz = 1;\n",
    "    zmax = 100;\n",
    "    pricerange = np.arange(0,zmax,dz);\n",
    "    \n",
    "    norm = np.zeros(m)\n",
    "    exp_price = np.zeros(m)\n",
    "    \n",
    "    for i in range(0,m):\n",
    "        norm[i] = dz*np.sum([p(np.array([[br[i],sqft[i],z]]),mu,Sig) for z in pricerange]);\n",
    "        exp_price[i] = dz*np.sum([z*p(np.array([[br[i],sqft[i],z]]),mu,Sig) for z in pricerange])/norm[i];\n",
    "    \n",
    "    return price<exp_price\n",
    "#returns \"True\" if price is lower than expected given br and sqft"
   ]
  },
  {
   "cell_type": "code",
   "execution_count": 1224,
   "metadata": {},
   "outputs": [],
   "source": [
    "#define expected price seprately\n",
    "def exp_price(br,sqft,mu,Sig):\n",
    "    norm = dz*np.sum([p(np.array([[br,sqft,z]]),mu,Sig) for z in pricerange]);\n",
    "    exp_price = dz*np.sum([z*p(np.array([[br,sqft,z]]),mu,Sig) for z in pricerange])/norm;\n",
    "    return exp_price"
   ]
  },
  {
   "cell_type": "code",
   "execution_count": 1225,
   "metadata": {},
   "outputs": [
    {
     "data": {
      "text/plain": [
       "3325.39439869261"
      ]
     },
     "execution_count": 1225,
     "metadata": {},
     "output_type": "execute_result"
    }
   ],
   "source": [
    "exp_price(4,1.15,mu,Sig)*1000"
   ]
  },
  {
   "cell_type": "code",
   "execution_count": null,
   "metadata": {},
   "outputs": [],
   "source": []
  },
  {
   "cell_type": "code",
   "execution_count": null,
   "metadata": {},
   "outputs": [],
   "source": []
  },
  {
   "cell_type": "code",
   "execution_count": null,
   "metadata": {},
   "outputs": [],
   "source": []
  },
  {
   "cell_type": "markdown",
   "metadata": {},
   "source": [
    "### Define probability density for price, given fixed number of bedrooms and square footage."
   ]
  },
  {
   "cell_type": "code",
   "execution_count": 1095,
   "metadata": {},
   "outputs": [
    {
     "data": {
      "text/plain": [
       "Text(0.5,1,'(Normalized) distribution for price, for 1-bedroom, 1000 sq-foot homes')"
      ]
     },
     "execution_count": 1095,
     "metadata": {},
     "output_type": "execute_result"
    },
    {
     "data": {
      "image/png": "[encoded data removed]",
      "text/plain": [
       "<Figure size 432x288 with 1 Axes>"
      ]
     },
     "metadata": {
      "needs_background": "light"
     },
     "output_type": "display_data"
    }
   ],
   "source": [
    "br = 1;\n",
    "sqft = 1;\n",
    "\n",
    "dz=.1;\n",
    "zmax = 8;\n",
    "    \n",
    "def pz(x0,y0,z):\n",
    "\n",
    "    norm=dz*np.sum([p(np.array([[1,1,z]]),mu,Sig) for z in np.arange(0,zmax,dz)]);\n",
    "    return p(np.array([[x0,y0,z]]),mu,Sig)/norm\n",
    "\n",
    "#plt.plot(pricerange,[pz(1,1,z) for z in pricerange])\n",
    "\n",
    "pricerange=np.arange(0,zmax,dz)\n",
    "pzrange=np.reshape([pz(1,1,z) for z in pricerange],(len(pricerange),));\n",
    "\n",
    "plt.plot(pricerange*1000,pzrange)\n",
    "plt.xlabel('Price ($)')\n",
    "plt.title(f'(Normalized) distribution for price, for {br}-bedroom, {sqft*1000} sq-foot homes')"
   ]
  },
  {
   "cell_type": "code",
   "execution_count": 1100,
   "metadata": {},
   "outputs": [
    {
     "data": {
      "text/plain": [
       "0.04316282272338867"
      ]
     },
     "execution_count": 1100,
     "metadata": {},
     "output_type": "execute_result"
    }
   ],
   "source": [
    "start = time.time()\n",
    "dz*np.sum([pz(br,sqft,z)*z for z in pricerange])\n",
    "end = time.time()\n",
    "end-start"
   ]
  },
  {
   "cell_type": "markdown",
   "metadata": {},
   "source": [
    "This can the be used to get expected price given bedrooms and area."
   ]
  },
  {
   "cell_type": "code",
   "execution_count": 1109,
   "metadata": {},
   "outputs": [
    {
     "name": "stderr",
     "output_type": "stream",
     "text": [
      "/anaconda3/lib/python3.7/site-packages/ipykernel_launcher.py:7: UserWarning: Boolean Series key will be reindexed to match DataFrame index.\n",
      "  import sys\n"
     ]
    },
    {
     "data": {
      "text/html": [
       "<div>\n",
       "<style scoped>\n",
       "    .dataframe tbody tr th:only-of-type {\n",
       "        vertical-align: middle;\n",
       "    }\n",
       "\n",
       "    .dataframe tbody tr th {\n",
       "        vertical-align: top;\n",
       "    }\n",
       "\n",
       "    .dataframe thead th {\n",
       "        text-align: right;\n",
       "    }\n",
       "</style>\n",
       "<table border=\"1\" class=\"dataframe\">\n",
       "  <thead>\n",
       "    <tr style=\"text-align: right;\">\n",
       "      <th></th>\n",
       "      <th>description</th>\n",
       "      <th>link</th>\n",
       "      <th>bedrooms</th>\n",
       "      <th>sq. feet</th>\n",
       "      <th>price</th>\n",
       "      <th>1000sqfeet</th>\n",
       "      <th>pricek</th>\n",
       "      <th>probability</th>\n",
       "    </tr>\n",
       "  </thead>\n",
       "  <tbody>\n",
       "    <tr>\n",
       "      <th>607</th>\n",
       "      <td>Beautiful 3 Bed 2 Bath - huge deck and amazing...</td>\n",
       "      <td>https://sfbay.craigslist.org/nby/apa/d/beautif...</td>\n",
       "      <td>3.0</td>\n",
       "      <td>1500.0</td>\n",
       "      <td>1450.0</td>\n",
       "      <td>1.5</td>\n",
       "      <td>1.450</td>\n",
       "      <td>0.006959</td>\n",
       "    </tr>\n",
       "    <tr>\n",
       "      <th>336</th>\n",
       "      <td>Residence/ Restaurant Opportunity</td>\n",
       "      <td>https://sfbay.craigslist.org/eby/apa/d/benicia...</td>\n",
       "      <td>3.0</td>\n",
       "      <td>2000.0</td>\n",
       "      <td>1.0</td>\n",
       "      <td>2.0</td>\n",
       "      <td>0.001</td>\n",
       "      <td>0.000002</td>\n",
       "    </tr>\n",
       "    <tr>\n",
       "      <th>310</th>\n",
       "      <td>Clearlake 3 bd 2bth 1000 sq. ft. $1300</td>\n",
       "      <td>https://sfbay.craigslist.org/nby/apa/d/clearla...</td>\n",
       "      <td>3.0</td>\n",
       "      <td>1000.0</td>\n",
       "      <td>1300.0</td>\n",
       "      <td>1.0</td>\n",
       "      <td>1.300</td>\n",
       "      <td>0.004400</td>\n",
       "    </tr>\n",
       "    <tr>\n",
       "      <th>1192</th>\n",
       "      <td>4 BEDROOM 2 BATH EXTRA CLEAN HOME</td>\n",
       "      <td>https://sfbay.craigslist.org/eby/apa/d/fairfie...</td>\n",
       "      <td>4.0</td>\n",
       "      <td>1700.0</td>\n",
       "      <td>2395.0</td>\n",
       "      <td>1.7</td>\n",
       "      <td>2.395</td>\n",
       "      <td>0.001830</td>\n",
       "    </tr>\n",
       "    <tr>\n",
       "      <th>881</th>\n",
       "      <td>4x2 house across from campolindo high you oayv...</td>\n",
       "      <td>https://sfbay.craigslist.org/eby/apa/d/moraga-...</td>\n",
       "      <td>4.0</td>\n",
       "      <td>1400.0</td>\n",
       "      <td>3150.0</td>\n",
       "      <td>1.4</td>\n",
       "      <td>3.150</td>\n",
       "      <td>0.001715</td>\n",
       "    </tr>\n",
       "  </tbody>\n",
       "</table>\n",
       "</div>"
      ],
      "text/plain": [
       "                                            description  \\\n",
       "607   Beautiful 3 Bed 2 Bath - huge deck and amazing...   \n",
       "336                   Residence/ Restaurant Opportunity   \n",
       "310              Clearlake 3 bd 2bth 1000 sq. ft. $1300   \n",
       "1192                  4 BEDROOM 2 BATH EXTRA CLEAN HOME   \n",
       "881   4x2 house across from campolindo high you oayv...   \n",
       "\n",
       "                                                   link  bedrooms  sq. feet  \\\n",
       "607   https://sfbay.craigslist.org/nby/apa/d/beautif...       3.0    1500.0   \n",
       "336   https://sfbay.craigslist.org/eby/apa/d/benicia...       3.0    2000.0   \n",
       "310   https://sfbay.craigslist.org/nby/apa/d/clearla...       3.0    1000.0   \n",
       "1192  https://sfbay.craigslist.org/eby/apa/d/fairfie...       4.0    1700.0   \n",
       "881   https://sfbay.craigslist.org/eby/apa/d/moraga-...       4.0    1400.0   \n",
       "\n",
       "       price  1000sqfeet  pricek  probability  \n",
       "607   1450.0         1.5   1.450     0.006959  \n",
       "336      1.0         2.0   0.001     0.000002  \n",
       "310   1300.0         1.0   1.300     0.004400  \n",
       "1192  2395.0         1.7   2.395     0.001830  \n",
       "881   3150.0         1.4   3.150     0.001715  "
      ]
     },
     "execution_count": 1109,
     "metadata": {},
     "output_type": "execute_result"
    }
   ],
   "source": [
    "smallp=(p(Xval,mu,Sig)<.05)[:,0]\n",
    "\n",
    "Xvalsmallp=Xval[smallp]\n",
    "\n",
    "val['probability'] = p(Xval,mu,Sig)[:,0]\n",
    "\n",
    "val[ (val['probability']<0.01)][val['pricek']<mu[2] ]\n",
    "\n",
    "#need another filter, for /low/ price given other features.\n",
    "\n"
   ]
  },
  {
   "cell_type": "code",
   "execution_count": null,
   "metadata": {},
   "outputs": [],
   "source": []
  },
  {
   "cell_type": "code",
   "execution_count": null,
   "metadata": {},
   "outputs": [],
   "source": []
  },
  {
   "cell_type": "markdown",
   "metadata": {},
   "source": [
    "## predict"
   ]
  },
  {
   "cell_type": "code",
   "execution_count": 1240,
   "metadata": {},
   "outputs": [],
   "source": [
    "#first use validation to set epsilon\n",
    "eps = .02\n",
    "\n",
    "def predict(x,mu,Sig): #input x is m by n (must be in the form of a 2-d array)\n",
    "    m = x.shape[0]\n",
    "    prediction=np.ones(m)\n",
    "    prediction[p(x,mu,Sig)>eps] = 0\n",
    "    prediction[isitcheap(x,mu,Sig)==False]=0\n",
    "    return prediction\n",
    "\n",
    "#         if isitcheap(x,mu,Sig)==True:\n",
    "#             return True\n",
    "#         else:\n",
    "#             return False\n",
    "\n",
    "\n",
    "Xtest = np.array(test[['bedrooms','1000sqfeet','pricek']])\n",
    "testpred=predict(Xtest,mu,Sig)\n",
    "testpred = testpred.astype(bool)"
   ]
  },
  {
   "cell_type": "code",
   "execution_count": 1247,
   "metadata": {},
   "outputs": [],
   "source": [
    "test['probability']= p(Xtest,mu,Sig)"
   ]
  },
  {
   "cell_type": "code",
   "execution_count": 1249,
   "metadata": {},
   "outputs": [
    {
     "data": {
      "text/html": [
       "<div>\n",
       "<style scoped>\n",
       "    .dataframe tbody tr th:only-of-type {\n",
       "        vertical-align: middle;\n",
       "    }\n",
       "\n",
       "    .dataframe tbody tr th {\n",
       "        vertical-align: top;\n",
       "    }\n",
       "\n",
       "    .dataframe thead th {\n",
       "        text-align: right;\n",
       "    }\n",
       "</style>\n",
       "<table border=\"1\" class=\"dataframe\">\n",
       "  <thead>\n",
       "    <tr style=\"text-align: right;\">\n",
       "      <th></th>\n",
       "      <th>description</th>\n",
       "      <th>link</th>\n",
       "      <th>bedrooms</th>\n",
       "      <th>sq. feet</th>\n",
       "      <th>price</th>\n",
       "      <th>probability</th>\n",
       "    </tr>\n",
       "  </thead>\n",
       "  <tbody>\n",
       "    <tr>\n",
       "      <th>428</th>\n",
       "      <td>NEWER BIG HOME FOR 1-2 FAMILY AT NICE SAFE ARE...</td>\n",
       "      <td>https://sfbay.craigslist.org/nby/apa/d/santa-r...</td>\n",
       "      <td>6.0</td>\n",
       "      <td>5400.0</td>\n",
       "      <td>3999.0</td>\n",
       "      <td>1.870372e-38</td>\n",
       "    </tr>\n",
       "    <tr>\n",
       "      <th>275</th>\n",
       "      <td>NEWER BIG 1-2 FAMILY HOME 6-7 BR NICE SAFE ARE...</td>\n",
       "      <td>https://sfbay.craigslist.org/sfc/apa/d/santa-r...</td>\n",
       "      <td>7.0</td>\n",
       "      <td>5400.0</td>\n",
       "      <td>3995.0</td>\n",
       "      <td>7.687649e-35</td>\n",
       "    </tr>\n",
       "    <tr>\n",
       "      <th>284</th>\n",
       "      <td>EXTRA BIG NEWER HOME 7 BED. NICE SAFE AREA VER...</td>\n",
       "      <td>https://sfbay.craigslist.org/nby/apa/d/santa-r...</td>\n",
       "      <td>7.0</td>\n",
       "      <td>5400.0</td>\n",
       "      <td>3997.0</td>\n",
       "      <td>7.780431e-35</td>\n",
       "    </tr>\n",
       "    <tr>\n",
       "      <th>283</th>\n",
       "      <td>1-2 FAMILY NEWER BIG HOME AT BENNET VALLEY NIC...</td>\n",
       "      <td>https://sfbay.craigslist.org/nby/apa/d/santa-r...</td>\n",
       "      <td>7.0</td>\n",
       "      <td>5400.0</td>\n",
       "      <td>3997.0</td>\n",
       "      <td>7.780431e-35</td>\n",
       "    </tr>\n",
       "    <tr>\n",
       "      <th>2390</th>\n",
       "      <td>5BR/4.5BA Executive home in Windemere (San Ram...</td>\n",
       "      <td>https://sfbay.craigslist.org/eby/apa/d/san-ram...</td>\n",
       "      <td>5.0</td>\n",
       "      <td>4616.0</td>\n",
       "      <td>5495.0</td>\n",
       "      <td>3.147784e-24</td>\n",
       "    </tr>\n",
       "    <tr>\n",
       "      <th>703</th>\n",
       "      <td>Elegant Executive Pleasanton Laguna Oaks Estat...</td>\n",
       "      <td>https://sfbay.craigslist.org/eby/apa/d/fremont...</td>\n",
       "      <td>4.0</td>\n",
       "      <td>4000.0</td>\n",
       "      <td>6595.0</td>\n",
       "      <td>4.943503e-17</td>\n",
       "    </tr>\n",
       "    <tr>\n",
       "      <th>1196</th>\n",
       "      <td>Four bedroom in an accessible neighborhood</td>\n",
       "      <td>https://sfbay.craigslist.org/nby/apa/d/sausali...</td>\n",
       "      <td>4.0</td>\n",
       "      <td>4000.0</td>\n",
       "      <td>7999.0</td>\n",
       "      <td>5.511744e-16</td>\n",
       "    </tr>\n",
       "    <tr>\n",
       "      <th>577</th>\n",
       "      <td>Spectacular Hillside Home with Stunning Views ...</td>\n",
       "      <td>https://sfbay.craigslist.org/eby/apa/d/el-sobr...</td>\n",
       "      <td>4.0</td>\n",
       "      <td>3500.0</td>\n",
       "      <td>3900.0</td>\n",
       "      <td>1.841812e-13</td>\n",
       "    </tr>\n",
       "    <tr>\n",
       "      <th>2320</th>\n",
       "      <td>Generously Sized Single Family Home</td>\n",
       "      <td>https://sfbay.craigslist.org/sfc/apa/d/san-fra...</td>\n",
       "      <td>4.0</td>\n",
       "      <td>3630.0</td>\n",
       "      <td>7995.0</td>\n",
       "      <td>1.766716e-11</td>\n",
       "    </tr>\n",
       "    <tr>\n",
       "      <th>410</th>\n",
       "      <td>House for Rent (6 bedroom/2 bathroom) in San J...</td>\n",
       "      <td>https://sfbay.craigslist.org/sby/apa/d/san-jos...</td>\n",
       "      <td>6.0</td>\n",
       "      <td>2000.0</td>\n",
       "      <td>5000.0</td>\n",
       "      <td>1.330967e-08</td>\n",
       "    </tr>\n",
       "    <tr>\n",
       "      <th>2602</th>\n",
       "      <td>Walnut Creek Home with Mt Diablo Views</td>\n",
       "      <td>https://sfbay.craigslist.org/eby/apa/d/walnut-...</td>\n",
       "      <td>5.0</td>\n",
       "      <td>3318.0</td>\n",
       "      <td>5700.0</td>\n",
       "      <td>5.423093e-08</td>\n",
       "    </tr>\n",
       "    <tr>\n",
       "      <th>2844</th>\n",
       "      <td>Piedmont Prairie-Style Family Home Walkable to...</td>\n",
       "      <td>https://sfbay.craigslist.org/eby/apa/d/oakland...</td>\n",
       "      <td>4.0</td>\n",
       "      <td>3250.0</td>\n",
       "      <td>7785.0</td>\n",
       "      <td>6.088349e-08</td>\n",
       "    </tr>\n",
       "    <tr>\n",
       "      <th>1589</th>\n",
       "      <td>Executive house for rent in Mission Fremont wi...</td>\n",
       "      <td>https://sfbay.craigslist.org/eby/apa/d/fremont...</td>\n",
       "      <td>5.0</td>\n",
       "      <td>3150.0</td>\n",
       "      <td>5495.0</td>\n",
       "      <td>5.311618e-07</td>\n",
       "    </tr>\n",
       "    <tr>\n",
       "      <th>336</th>\n",
       "      <td>Residence/ Restaurant Opportunity</td>\n",
       "      <td>https://sfbay.craigslist.org/eby/apa/d/benicia...</td>\n",
       "      <td>3.0</td>\n",
       "      <td>2000.0</td>\n",
       "      <td>1.0</td>\n",
       "      <td>8.746160e-07</td>\n",
       "    </tr>\n",
       "    <tr>\n",
       "      <th>1234</th>\n",
       "      <td>LARGE MODERN 3 OVER SIZED BEDROOM HOME</td>\n",
       "      <td>https://sfbay.craigslist.org/nby/apa/d/santa-r...</td>\n",
       "      <td>3.0</td>\n",
       "      <td>2400.0</td>\n",
       "      <td>3350.0</td>\n",
       "      <td>2.118440e-05</td>\n",
       "    </tr>\n",
       "    <tr>\n",
       "      <th>149</th>\n",
       "      <td>Almaden Valley House Rental</td>\n",
       "      <td>https://sfbay.craigslist.org/sby/apa/d/san-jos...</td>\n",
       "      <td>4.0</td>\n",
       "      <td>2700.0</td>\n",
       "      <td>4800.0</td>\n",
       "      <td>3.780143e-05</td>\n",
       "    </tr>\n",
       "    <tr>\n",
       "      <th>2125</th>\n",
       "      <td>Executive Union City Ponderosa home close to D...</td>\n",
       "      <td>https://sfbay.craigslist.org/eby/apa/d/executi...</td>\n",
       "      <td>4.0</td>\n",
       "      <td>2551.0</td>\n",
       "      <td>4100.0</td>\n",
       "      <td>8.781196e-05</td>\n",
       "    </tr>\n",
       "    <tr>\n",
       "      <th>41</th>\n",
       "      <td>ENTIRE TOWNHOUSE-CLOSE UCSC-WALK DOWNTOWN-SUNN...</td>\n",
       "      <td>https://sfbay.craigslist.org/scz/apa/d/santa-c...</td>\n",
       "      <td>1.0</td>\n",
       "      <td>1550.0</td>\n",
       "      <td>2500.0</td>\n",
       "      <td>1.676171e-04</td>\n",
       "    </tr>\n",
       "    <tr>\n",
       "      <th>1248</th>\n",
       "      <td>AWARD WINNING SCHOOLS - Dilworth, Miller &amp; Lyn...</td>\n",
       "      <td>https://sfbay.craigslist.org/sby/apa/d/san-jos...</td>\n",
       "      <td>5.0</td>\n",
       "      <td>2302.0</td>\n",
       "      <td>5600.0</td>\n",
       "      <td>1.816338e-04</td>\n",
       "    </tr>\n",
       "    <tr>\n",
       "      <th>615</th>\n",
       "      <td>*Large House in Antioch,Huge yard*Next to vine...</td>\n",
       "      <td>https://sfbay.craigslist.org/eby/apa/d/antioch...</td>\n",
       "      <td>4.0</td>\n",
       "      <td>1850.0</td>\n",
       "      <td>2200.0</td>\n",
       "      <td>5.775310e-04</td>\n",
       "    </tr>\n",
       "    <tr>\n",
       "      <th>200</th>\n",
       "      <td>4br / 2.5ba - House - 9268 Piccadilly Circle</td>\n",
       "      <td>https://sfbay.craigslist.org/nby/apa/d/windsor...</td>\n",
       "      <td>4.0</td>\n",
       "      <td>2200.0</td>\n",
       "      <td>3300.0</td>\n",
       "      <td>6.919187e-04</td>\n",
       "    </tr>\n",
       "    <tr>\n",
       "      <th>881</th>\n",
       "      <td>4x2 house across from campolindo high you oayv...</td>\n",
       "      <td>https://sfbay.craigslist.org/eby/apa/d/moraga-...</td>\n",
       "      <td>4.0</td>\n",
       "      <td>1400.0</td>\n",
       "      <td>3150.0</td>\n",
       "      <td>7.806233e-04</td>\n",
       "    </tr>\n",
       "    <tr>\n",
       "      <th>1192</th>\n",
       "      <td>4 BEDROOM 2 BATH EXTRA CLEAN HOME</td>\n",
       "      <td>https://sfbay.craigslist.org/eby/apa/d/fairfie...</td>\n",
       "      <td>4.0</td>\n",
       "      <td>1700.0</td>\n",
       "      <td>2395.0</td>\n",
       "      <td>9.854641e-04</td>\n",
       "    </tr>\n",
       "    <tr>\n",
       "      <th>1208</th>\n",
       "      <td>420 Canyon Ct. Benicia Home for rent</td>\n",
       "      <td>https://sfbay.craigslist.org/eby/apa/d/benicia...</td>\n",
       "      <td>4.0</td>\n",
       "      <td>1515.0</td>\n",
       "      <td>2800.0</td>\n",
       "      <td>1.108440e-03</td>\n",
       "    </tr>\n",
       "    <tr>\n",
       "      <th>126</th>\n",
       "      <td>Skyhawk 4/3 Home near Austin Creek Elementary ...</td>\n",
       "      <td>https://sfbay.craigslist.org/nby/apa/d/santa-r...</td>\n",
       "      <td>4.0</td>\n",
       "      <td>2458.0</td>\n",
       "      <td>5600.0</td>\n",
       "      <td>1.108489e-03</td>\n",
       "    </tr>\n",
       "    <tr>\n",
       "      <th>1950</th>\n",
       "      <td>Furnished luxury condo in Mt. View</td>\n",
       "      <td>https://sfbay.craigslist.org/pen/apa/d/mountai...</td>\n",
       "      <td>1.0</td>\n",
       "      <td>1365.0</td>\n",
       "      <td>2000.0</td>\n",
       "      <td>1.145163e-03</td>\n",
       "    </tr>\n",
       "    <tr>\n",
       "      <th>404</th>\n",
       "      <td>Small pet ok, no extra fee! Beautiful 4 bedroo...</td>\n",
       "      <td>https://sfbay.craigslist.org/sby/apa/d/sunnyva...</td>\n",
       "      <td>4.0</td>\n",
       "      <td>2400.0</td>\n",
       "      <td>5500.0</td>\n",
       "      <td>1.653425e-03</td>\n",
       "    </tr>\n",
       "    <tr>\n",
       "      <th>740</th>\n",
       "      <td>House for Rent $3200 in hercules</td>\n",
       "      <td>https://sfbay.craigslist.org/eby/apa/d/pinole-...</td>\n",
       "      <td>4.0</td>\n",
       "      <td>2006.0</td>\n",
       "      <td>3200.0</td>\n",
       "      <td>1.759545e-03</td>\n",
       "    </tr>\n",
       "    <tr>\n",
       "      <th>463</th>\n",
       "      <td>Gorgeous Newer Home at Avenue One w/club house...</td>\n",
       "      <td>https://sfbay.craigslist.org/sby/apa/d/san-jos...</td>\n",
       "      <td>4.0</td>\n",
       "      <td>2205.0</td>\n",
       "      <td>4100.0</td>\n",
       "      <td>2.027581e-03</td>\n",
       "    </tr>\n",
       "    <tr>\n",
       "      <th>1870</th>\n",
       "      <td>Need to Lease a Home Chk St_ubs</td>\n",
       "      <td>https://sfbay.craigslist.org/sfc/apa/d/sunnyva...</td>\n",
       "      <td>3.0</td>\n",
       "      <td>1300.0</td>\n",
       "      <td>700.0</td>\n",
       "      <td>2.294944e-03</td>\n",
       "    </tr>\n",
       "    <tr>\n",
       "      <th>2369</th>\n",
       "      <td>Fully furnished townhouse lease</td>\n",
       "      <td>https://sfbay.craigslist.org/eby/apa/d/walnut-...</td>\n",
       "      <td>2.0</td>\n",
       "      <td>1800.0</td>\n",
       "      <td>3200.0</td>\n",
       "      <td>2.306206e-03</td>\n",
       "    </tr>\n",
       "    <tr>\n",
       "      <th>564</th>\n",
       "      <td>Lovely 2 Bedroom, 2 Full-Bath Townhome - Peace...</td>\n",
       "      <td>https://sfbay.craigslist.org/nby/apa/d/corte-m...</td>\n",
       "      <td>2.0</td>\n",
       "      <td>1800.0</td>\n",
       "      <td>3300.0</td>\n",
       "      <td>2.599561e-03</td>\n",
       "    </tr>\n",
       "    <tr>\n",
       "      <th>560</th>\n",
       "      <td>Penngrove* Mt Sonoma Estate*Views*Furnished</td>\n",
       "      <td>https://sfbay.craigslist.org/nby/apa/d/penngro...</td>\n",
       "      <td>2.0</td>\n",
       "      <td>1700.0</td>\n",
       "      <td>2450.0</td>\n",
       "      <td>2.739664e-03</td>\n",
       "    </tr>\n",
       "    <tr>\n",
       "      <th>2951</th>\n",
       "      <td>Single Family Home in North San Jose Available...</td>\n",
       "      <td>https://sfbay.craigslist.org/sby/apa/d/san-jos...</td>\n",
       "      <td>4.0</td>\n",
       "      <td>1650.0</td>\n",
       "      <td>3750.0</td>\n",
       "      <td>3.489842e-03</td>\n",
       "    </tr>\n",
       "    <tr>\n",
       "      <th>369</th>\n",
       "      <td>Welcome Home!</td>\n",
       "      <td>https://sfbay.craigslist.org/sfc/apa/d/welcome...</td>\n",
       "      <td>1.0</td>\n",
       "      <td>1200.0</td>\n",
       "      <td>1433.0</td>\n",
       "      <td>3.518949e-03</td>\n",
       "    </tr>\n",
       "    <tr>\n",
       "      <th>1064</th>\n",
       "      <td>Spacious 1x1.5 over 1,000 square feet. come le...</td>\n",
       "      <td>https://sfbay.craigslist.org/sby/apa/d/san-jos...</td>\n",
       "      <td>1.0</td>\n",
       "      <td>1376.0</td>\n",
       "      <td>3475.0</td>\n",
       "      <td>4.042630e-03</td>\n",
       "    </tr>\n",
       "    <tr>\n",
       "      <th>310</th>\n",
       "      <td>Clearlake 3 bd 2bth 1000 sq. ft. $1300</td>\n",
       "      <td>https://sfbay.craigslist.org/nby/apa/d/clearla...</td>\n",
       "      <td>3.0</td>\n",
       "      <td>1000.0</td>\n",
       "      <td>1300.0</td>\n",
       "      <td>4.101413e-03</td>\n",
       "    </tr>\n",
       "    <tr>\n",
       "      <th>2361</th>\n",
       "      <td>Beautiful 4 Bed / 4 Bath Townhouse in Lovely M...</td>\n",
       "      <td>https://sfbay.craigslist.org/sby/apa/d/milpita...</td>\n",
       "      <td>4.0</td>\n",
       "      <td>1947.0</td>\n",
       "      <td>3950.0</td>\n",
       "      <td>4.822744e-03</td>\n",
       "    </tr>\n",
       "    <tr>\n",
       "      <th>394</th>\n",
       "      <td>New Executive Single House Next to Las Positas...</td>\n",
       "      <td>https://sfbay.craigslist.org/eby/apa/d/pleasan...</td>\n",
       "      <td>3.0</td>\n",
       "      <td>2012.0</td>\n",
       "      <td>3600.0</td>\n",
       "      <td>5.223508e-03</td>\n",
       "    </tr>\n",
       "    <tr>\n",
       "      <th>2126</th>\n",
       "      <td>Mediterranean style. 3 Bedrooms, 2 1/2 Bath</td>\n",
       "      <td>https://sfbay.craigslist.org/nby/apa/d/novato-...</td>\n",
       "      <td>3.0</td>\n",
       "      <td>2133.0</td>\n",
       "      <td>5000.0</td>\n",
       "      <td>5.288792e-03</td>\n",
       "    </tr>\n",
       "    <tr>\n",
       "      <th>2010</th>\n",
       "      <td>Single family, modern 4BR/4BA - Nearby parks+d...</td>\n",
       "      <td>https://sfbay.craigslist.org/eby/apa/d/hayward...</td>\n",
       "      <td>4.0</td>\n",
       "      <td>2000.0</td>\n",
       "      <td>4250.0</td>\n",
       "      <td>5.428378e-03</td>\n",
       "    </tr>\n",
       "    <tr>\n",
       "      <th>466</th>\n",
       "      <td>Clean 1 bedroom to share</td>\n",
       "      <td>https://sfbay.craigslist.org/eby/apa/d/clean-1...</td>\n",
       "      <td>1.0</td>\n",
       "      <td>1000.0</td>\n",
       "      <td>750.0</td>\n",
       "      <td>8.040231e-03</td>\n",
       "    </tr>\n",
       "    <tr>\n",
       "      <th>82</th>\n",
       "      <td>Castro Valley House For Rent!!!</td>\n",
       "      <td>https://sfbay.craigslist.org/eby/apa/d/castro-...</td>\n",
       "      <td>3.0</td>\n",
       "      <td>1864.0</td>\n",
       "      <td>3000.0</td>\n",
       "      <td>8.674625e-03</td>\n",
       "    </tr>\n",
       "    <tr>\n",
       "      <th>1981</th>\n",
       "      <td>Great 3BR 1BA home - Close to Richmond to SF F...</td>\n",
       "      <td>https://sfbay.craigslist.org/eby/apa/d/richmon...</td>\n",
       "      <td>3.0</td>\n",
       "      <td>977.0</td>\n",
       "      <td>2850.0</td>\n",
       "      <td>1.012877e-02</td>\n",
       "    </tr>\n",
       "    <tr>\n",
       "      <th>1190</th>\n",
       "      <td>Country living close to town... NW Santa Rosa ...</td>\n",
       "      <td>https://sfbay.craigslist.org/nby/apa/d/graton-...</td>\n",
       "      <td>3.0</td>\n",
       "      <td>1800.0</td>\n",
       "      <td>2800.0</td>\n",
       "      <td>1.056412e-02</td>\n",
       "    </tr>\n",
       "    <tr>\n",
       "      <th>119</th>\n",
       "      <td>inlaw 雅房出租二房一浴獨</td>\n",
       "      <td>https://sfbay.craigslist.org/eby/apa/d/fremont...</td>\n",
       "      <td>2.0</td>\n",
       "      <td>437.0</td>\n",
       "      <td>1700.0</td>\n",
       "      <td>1.076880e-02</td>\n",
       "    </tr>\n",
       "    <tr>\n",
       "      <th>1191</th>\n",
       "      <td>TOP FLOOR! CORNER LOCATION! COURTYARD VIEW! NE...</td>\n",
       "      <td>https://sfbay.craigslist.org/eby/apa/d/alameda...</td>\n",
       "      <td>3.0</td>\n",
       "      <td>1000.0</td>\n",
       "      <td>2999.0</td>\n",
       "      <td>1.211326e-02</td>\n",
       "    </tr>\n",
       "    <tr>\n",
       "      <th>1517</th>\n",
       "      <td>Huge Penthouse with $750 off? Yes, Please!</td>\n",
       "      <td>https://sfbay.craigslist.org/sby/apa/d/san-jos...</td>\n",
       "      <td>2.0</td>\n",
       "      <td>1732.0</td>\n",
       "      <td>4680.0</td>\n",
       "      <td>1.293965e-02</td>\n",
       "    </tr>\n",
       "    <tr>\n",
       "      <th>217</th>\n",
       "      <td>Summer's coming - We've got brand new A/C!</td>\n",
       "      <td>https://sfbay.craigslist.org/nby/apa/d/deer-pa...</td>\n",
       "      <td>3.0</td>\n",
       "      <td>1975.0</td>\n",
       "      <td>4250.0</td>\n",
       "      <td>1.354136e-02</td>\n",
       "    </tr>\n",
       "    <tr>\n",
       "      <th>826</th>\n",
       "      <td>3bdr Berdina Rd</td>\n",
       "      <td>https://sfbay.craigslist.org/eby/apa/d/castro-...</td>\n",
       "      <td>3.0</td>\n",
       "      <td>1025.0</td>\n",
       "      <td>2850.0</td>\n",
       "      <td>1.410825e-02</td>\n",
       "    </tr>\n",
       "    <tr>\n",
       "      <th>2623</th>\n",
       "      <td>La Selva Beach 3bdr/2ba House</td>\n",
       "      <td>https://sfbay.craigslist.org/scz/apa/d/aptos-l...</td>\n",
       "      <td>3.0</td>\n",
       "      <td>1900.0</td>\n",
       "      <td>3750.0</td>\n",
       "      <td>1.587764e-02</td>\n",
       "    </tr>\n",
       "    <tr>\n",
       "      <th>613</th>\n",
       "      <td>Pleasant Pittsburg House Near school, freeway,...</td>\n",
       "      <td>https://sfbay.craigslist.org/eby/apa/d/pittsbu...</td>\n",
       "      <td>3.0</td>\n",
       "      <td>1200.0</td>\n",
       "      <td>1950.0</td>\n",
       "      <td>1.667798e-02</td>\n",
       "    </tr>\n",
       "  </tbody>\n",
       "</table>\n",
       "</div>"
      ],
      "text/plain": [
       "                                            description  \\\n",
       "428   NEWER BIG HOME FOR 1-2 FAMILY AT NICE SAFE ARE...   \n",
       "275   NEWER BIG 1-2 FAMILY HOME 6-7 BR NICE SAFE ARE...   \n",
       "284   EXTRA BIG NEWER HOME 7 BED. NICE SAFE AREA VER...   \n",
       "283   1-2 FAMILY NEWER BIG HOME AT BENNET VALLEY NIC...   \n",
       "2390  5BR/4.5BA Executive home in Windemere (San Ram...   \n",
       "703   Elegant Executive Pleasanton Laguna Oaks Estat...   \n",
       "1196         Four bedroom in an accessible neighborhood   \n",
       "577   Spectacular Hillside Home with Stunning Views ...   \n",
       "2320                Generously Sized Single Family Home   \n",
       "410   House for Rent (6 bedroom/2 bathroom) in San J...   \n",
       "2602             Walnut Creek Home with Mt Diablo Views   \n",
       "2844  Piedmont Prairie-Style Family Home Walkable to...   \n",
       "1589  Executive house for rent in Mission Fremont wi...   \n",
       "336                   Residence/ Restaurant Opportunity   \n",
       "1234             LARGE MODERN 3 OVER SIZED BEDROOM HOME   \n",
       "149                         Almaden Valley House Rental   \n",
       "2125  Executive Union City Ponderosa home close to D...   \n",
       "41    ENTIRE TOWNHOUSE-CLOSE UCSC-WALK DOWNTOWN-SUNN...   \n",
       "1248  AWARD WINNING SCHOOLS - Dilworth, Miller & Lyn...   \n",
       "615   *Large House in Antioch,Huge yard*Next to vine...   \n",
       "200        4br / 2.5ba - House - 9268 Piccadilly Circle   \n",
       "881   4x2 house across from campolindo high you oayv...   \n",
       "1192                  4 BEDROOM 2 BATH EXTRA CLEAN HOME   \n",
       "1208               420 Canyon Ct. Benicia Home for rent   \n",
       "126   Skyhawk 4/3 Home near Austin Creek Elementary ...   \n",
       "1950                 Furnished luxury condo in Mt. View   \n",
       "404   Small pet ok, no extra fee! Beautiful 4 bedroo...   \n",
       "740                    House for Rent $3200 in hercules   \n",
       "463   Gorgeous Newer Home at Avenue One w/club house...   \n",
       "1870                    Need to Lease a Home Chk St_ubs   \n",
       "2369                    Fully furnished townhouse lease   \n",
       "564   Lovely 2 Bedroom, 2 Full-Bath Townhome - Peace...   \n",
       "560         Penngrove* Mt Sonoma Estate*Views*Furnished   \n",
       "2951  Single Family Home in North San Jose Available...   \n",
       "369                                       Welcome Home!   \n",
       "1064  Spacious 1x1.5 over 1,000 square feet. come le...   \n",
       "310              Clearlake 3 bd 2bth 1000 sq. ft. $1300   \n",
       "2361  Beautiful 4 Bed / 4 Bath Townhouse in Lovely M...   \n",
       "394   New Executive Single House Next to Las Positas...   \n",
       "2126        Mediterranean style. 3 Bedrooms, 2 1/2 Bath   \n",
       "2010  Single family, modern 4BR/4BA - Nearby parks+d...   \n",
       "466                            Clean 1 bedroom to share   \n",
       "82                      Castro Valley House For Rent!!!   \n",
       "1981  Great 3BR 1BA home - Close to Richmond to SF F...   \n",
       "1190  Country living close to town... NW Santa Rosa ...   \n",
       "119                                     inlaw 雅房出租二房一浴獨   \n",
       "1191  TOP FLOOR! CORNER LOCATION! COURTYARD VIEW! NE...   \n",
       "1517         Huge Penthouse with $750 off? Yes, Please!   \n",
       "217          Summer's coming - We've got brand new A/C!   \n",
       "826                                     3bdr Berdina Rd   \n",
       "2623                      La Selva Beach 3bdr/2ba House   \n",
       "613   Pleasant Pittsburg House Near school, freeway,...   \n",
       "\n",
       "                                                   link  bedrooms  sq. feet  \\\n",
       "428   https://sfbay.craigslist.org/nby/apa/d/santa-r...       6.0    5400.0   \n",
       "275   https://sfbay.craigslist.org/sfc/apa/d/santa-r...       7.0    5400.0   \n",
       "284   https://sfbay.craigslist.org/nby/apa/d/santa-r...       7.0    5400.0   \n",
       "283   https://sfbay.craigslist.org/nby/apa/d/santa-r...       7.0    5400.0   \n",
       "2390  https://sfbay.craigslist.org/eby/apa/d/san-ram...       5.0    4616.0   \n",
       "703   https://sfbay.craigslist.org/eby/apa/d/fremont...       4.0    4000.0   \n",
       "1196  https://sfbay.craigslist.org/nby/apa/d/sausali...       4.0    4000.0   \n",
       "577   https://sfbay.craigslist.org/eby/apa/d/el-sobr...       4.0    3500.0   \n",
       "2320  https://sfbay.craigslist.org/sfc/apa/d/san-fra...       4.0    3630.0   \n",
       "410   https://sfbay.craigslist.org/sby/apa/d/san-jos...       6.0    2000.0   \n",
       "2602  https://sfbay.craigslist.org/eby/apa/d/walnut-...       5.0    3318.0   \n",
       "2844  https://sfbay.craigslist.org/eby/apa/d/oakland...       4.0    3250.0   \n",
       "1589  https://sfbay.craigslist.org/eby/apa/d/fremont...       5.0    3150.0   \n",
       "336   https://sfbay.craigslist.org/eby/apa/d/benicia...       3.0    2000.0   \n",
       "1234  https://sfbay.craigslist.org/nby/apa/d/santa-r...       3.0    2400.0   \n",
       "149   https://sfbay.craigslist.org/sby/apa/d/san-jos...       4.0    2700.0   \n",
       "2125  https://sfbay.craigslist.org/eby/apa/d/executi...       4.0    2551.0   \n",
       "41    https://sfbay.craigslist.org/scz/apa/d/santa-c...       1.0    1550.0   \n",
       "1248  https://sfbay.craigslist.org/sby/apa/d/san-jos...       5.0    2302.0   \n",
       "615   https://sfbay.craigslist.org/eby/apa/d/antioch...       4.0    1850.0   \n",
       "200   https://sfbay.craigslist.org/nby/apa/d/windsor...       4.0    2200.0   \n",
       "881   https://sfbay.craigslist.org/eby/apa/d/moraga-...       4.0    1400.0   \n",
       "1192  https://sfbay.craigslist.org/eby/apa/d/fairfie...       4.0    1700.0   \n",
       "1208  https://sfbay.craigslist.org/eby/apa/d/benicia...       4.0    1515.0   \n",
       "126   https://sfbay.craigslist.org/nby/apa/d/santa-r...       4.0    2458.0   \n",
       "1950  https://sfbay.craigslist.org/pen/apa/d/mountai...       1.0    1365.0   \n",
       "404   https://sfbay.craigslist.org/sby/apa/d/sunnyva...       4.0    2400.0   \n",
       "740   https://sfbay.craigslist.org/eby/apa/d/pinole-...       4.0    2006.0   \n",
       "463   https://sfbay.craigslist.org/sby/apa/d/san-jos...       4.0    2205.0   \n",
       "1870  https://sfbay.craigslist.org/sfc/apa/d/sunnyva...       3.0    1300.0   \n",
       "2369  https://sfbay.craigslist.org/eby/apa/d/walnut-...       2.0    1800.0   \n",
       "564   https://sfbay.craigslist.org/nby/apa/d/corte-m...       2.0    1800.0   \n",
       "560   https://sfbay.craigslist.org/nby/apa/d/penngro...       2.0    1700.0   \n",
       "2951  https://sfbay.craigslist.org/sby/apa/d/san-jos...       4.0    1650.0   \n",
       "369   https://sfbay.craigslist.org/sfc/apa/d/welcome...       1.0    1200.0   \n",
       "1064  https://sfbay.craigslist.org/sby/apa/d/san-jos...       1.0    1376.0   \n",
       "310   https://sfbay.craigslist.org/nby/apa/d/clearla...       3.0    1000.0   \n",
       "2361  https://sfbay.craigslist.org/sby/apa/d/milpita...       4.0    1947.0   \n",
       "394   https://sfbay.craigslist.org/eby/apa/d/pleasan...       3.0    2012.0   \n",
       "2126  https://sfbay.craigslist.org/nby/apa/d/novato-...       3.0    2133.0   \n",
       "2010  https://sfbay.craigslist.org/eby/apa/d/hayward...       4.0    2000.0   \n",
       "466   https://sfbay.craigslist.org/eby/apa/d/clean-1...       1.0    1000.0   \n",
       "82    https://sfbay.craigslist.org/eby/apa/d/castro-...       3.0    1864.0   \n",
       "1981  https://sfbay.craigslist.org/eby/apa/d/richmon...       3.0     977.0   \n",
       "1190  https://sfbay.craigslist.org/nby/apa/d/graton-...       3.0    1800.0   \n",
       "119   https://sfbay.craigslist.org/eby/apa/d/fremont...       2.0     437.0   \n",
       "1191  https://sfbay.craigslist.org/eby/apa/d/alameda...       3.0    1000.0   \n",
       "1517  https://sfbay.craigslist.org/sby/apa/d/san-jos...       2.0    1732.0   \n",
       "217   https://sfbay.craigslist.org/nby/apa/d/deer-pa...       3.0    1975.0   \n",
       "826   https://sfbay.craigslist.org/eby/apa/d/castro-...       3.0    1025.0   \n",
       "2623  https://sfbay.craigslist.org/scz/apa/d/aptos-l...       3.0    1900.0   \n",
       "613   https://sfbay.craigslist.org/eby/apa/d/pittsbu...       3.0    1200.0   \n",
       "\n",
       "       price   probability  \n",
       "428   3999.0  1.870372e-38  \n",
       "275   3995.0  7.687649e-35  \n",
       "284   3997.0  7.780431e-35  \n",
       "283   3997.0  7.780431e-35  \n",
       "2390  5495.0  3.147784e-24  \n",
       "703   6595.0  4.943503e-17  \n",
       "1196  7999.0  5.511744e-16  \n",
       "577   3900.0  1.841812e-13  \n",
       "2320  7995.0  1.766716e-11  \n",
       "410   5000.0  1.330967e-08  \n",
       "2602  5700.0  5.423093e-08  \n",
       "2844  7785.0  6.088349e-08  \n",
       "1589  5495.0  5.311618e-07  \n",
       "336      1.0  8.746160e-07  \n",
       "1234  3350.0  2.118440e-05  \n",
       "149   4800.0  3.780143e-05  \n",
       "2125  4100.0  8.781196e-05  \n",
       "41    2500.0  1.676171e-04  \n",
       "1248  5600.0  1.816338e-04  \n",
       "615   2200.0  5.775310e-04  \n",
       "200   3300.0  6.919187e-04  \n",
       "881   3150.0  7.806233e-04  \n",
       "1192  2395.0  9.854641e-04  \n",
       "1208  2800.0  1.108440e-03  \n",
       "126   5600.0  1.108489e-03  \n",
       "1950  2000.0  1.145163e-03  \n",
       "404   5500.0  1.653425e-03  \n",
       "740   3200.0  1.759545e-03  \n",
       "463   4100.0  2.027581e-03  \n",
       "1870   700.0  2.294944e-03  \n",
       "2369  3200.0  2.306206e-03  \n",
       "564   3300.0  2.599561e-03  \n",
       "560   2450.0  2.739664e-03  \n",
       "2951  3750.0  3.489842e-03  \n",
       "369   1433.0  3.518949e-03  \n",
       "1064  3475.0  4.042630e-03  \n",
       "310   1300.0  4.101413e-03  \n",
       "2361  3950.0  4.822744e-03  \n",
       "394   3600.0  5.223508e-03  \n",
       "2126  5000.0  5.288792e-03  \n",
       "2010  4250.0  5.428378e-03  \n",
       "466    750.0  8.040231e-03  \n",
       "82    3000.0  8.674625e-03  \n",
       "1981  2850.0  1.012877e-02  \n",
       "1190  2800.0  1.056412e-02  \n",
       "119   1700.0  1.076880e-02  \n",
       "1191  2999.0  1.211326e-02  \n",
       "1517  4680.0  1.293965e-02  \n",
       "217   4250.0  1.354136e-02  \n",
       "826   2850.0  1.410825e-02  \n",
       "2623  3750.0  1.587764e-02  \n",
       "613   1950.0  1.667798e-02  "
      ]
     },
     "execution_count": 1249,
     "metadata": {},
     "output_type": "execute_result"
    }
   ],
   "source": [
    "test[testpred].sort_values(by='probability')[['description','link','bedrooms','sq. feet', 'price', 'probability']]"
   ]
  },
  {
   "cell_type": "code",
   "execution_count": 1167,
   "metadata": {},
   "outputs": [
    {
     "data": {
      "text/plain": [
       "array([[0.36787944],\n",
       "       [0.36787944],\n",
       "       [0.36787944]])"
      ]
     },
     "execution_count": 1167,
     "metadata": {},
     "output_type": "execute_result"
    }
   ],
   "source": [
    "x = np.array([[1,0],[1,1],[3,2]]);\n",
    "m=x.shape[0]\n",
    "n = x.shape[1]\n",
    "mu = np.reshape(np.mean(x,0),(1,n))\n",
    "\n",
    "xminusmu = x-mu\n",
    "\n",
    "Sig = (1/m)*np.dot(xminusmu.T,xminusmu) \n",
    "inv = np.linalg.inv(Sig)\n",
    "\n",
    "x0 = x[0,:]\n",
    "\n",
    "#np.exp(-.5*([np.dot( (x[i,:]-mu),  np.dot(inv,(x[i,:]-mu).T)) for i in range(0,m)]))\n",
    "\n",
    "exponent=-.5*np.reshape([np.dot( (x[i,:]-mu),  np.dot(inv,(x[i,:]-mu).T)) for i in range(0,m)],(m,1))\n",
    "np.exp(exponent)"
   ]
  },
  {
   "cell_type": "code",
   "execution_count": null,
   "metadata": {},
   "outputs": [],
   "source": []
  },
  {
   "cell_type": "code",
   "execution_count": null,
   "metadata": {},
   "outputs": [],
   "source": []
  },
  {
   "cell_type": "code",
   "execution_count": 1206,
   "metadata": {},
   "outputs": [
    {
     "ename": "IndexError",
     "evalue": "tuple index out of range",
     "output_type": "error",
     "traceback": [
      "\u001b[0;31m---------------------------------------------------------------------------\u001b[0m",
      "\u001b[0;31mIndexError\u001b[0m                                Traceback (most recent call last)",
      "\u001b[0;32m<ipython-input-1206-7b54efa883da>\u001b[0m in \u001b[0;36m<module>\u001b[0;34m()\u001b[0m\n\u001b[1;32m      9\u001b[0m \u001b[0my\u001b[0m\u001b[0;34m=\u001b[0m\u001b[0mnp\u001b[0m\u001b[0;34m.\u001b[0m\u001b[0mzeros\u001b[0m\u001b[0;34m(\u001b[0m\u001b[0mlen\u001b[0m\u001b[0;34m(\u001b[0m\u001b[0mtestarray\u001b[0m\u001b[0;34m)\u001b[0m\u001b[0;34m)\u001b[0m\u001b[0;34m\u001b[0m\u001b[0m\n\u001b[1;32m     10\u001b[0m \u001b[0;32mfor\u001b[0m \u001b[0mi\u001b[0m\u001b[0;34m,\u001b[0m\u001b[0mx\u001b[0m \u001b[0;32min\u001b[0m \u001b[0menumerate\u001b[0m\u001b[0;34m(\u001b[0m\u001b[0mtestarray\u001b[0m\u001b[0;34m)\u001b[0m\u001b[0;34m:\u001b[0m\u001b[0;34m\u001b[0m\u001b[0m\n\u001b[0;32m---> 11\u001b[0;31m     \u001b[0my\u001b[0m\u001b[0;34m[\u001b[0m\u001b[0mi\u001b[0m\u001b[0;34m]\u001b[0m \u001b[0;34m=\u001b[0m \u001b[0mpredict\u001b[0m\u001b[0;34m(\u001b[0m\u001b[0mx\u001b[0m\u001b[0;34m,\u001b[0m\u001b[0mmu\u001b[0m\u001b[0;34m,\u001b[0m\u001b[0mSig\u001b[0m\u001b[0;34m)\u001b[0m\u001b[0;34m\u001b[0m\u001b[0m\n\u001b[0m\u001b[1;32m     12\u001b[0m     \u001b[0;32mif\u001b[0m \u001b[0mpredict\u001b[0m\u001b[0;34m(\u001b[0m\u001b[0mx\u001b[0m\u001b[0;34m)\u001b[0m\u001b[0;34m==\u001b[0m\u001b[0;36m1\u001b[0m\u001b[0;34m:\u001b[0m\u001b[0;34m\u001b[0m\u001b[0m\n\u001b[1;32m     13\u001b[0m         \u001b[0mprint\u001b[0m\u001b[0;34m(\u001b[0m\u001b[0;34mf\"A {x[1]} sq. foot {x[0]}-bedroom home for ${x[2]} is anomalous:\"\u001b[0m\u001b[0;34m)\u001b[0m\u001b[0;34m\u001b[0m\u001b[0m\n",
      "\u001b[0;32m<ipython-input-1203-7ca01835d823>\u001b[0m in \u001b[0;36mpredict\u001b[0;34m(x, mu, Sig)\u001b[0m\n\u001b[1;32m      5\u001b[0m     \u001b[0mm\u001b[0m \u001b[0;34m=\u001b[0m \u001b[0mx\u001b[0m\u001b[0;34m.\u001b[0m\u001b[0mshape\u001b[0m\u001b[0;34m[\u001b[0m\u001b[0;36m0\u001b[0m\u001b[0;34m]\u001b[0m\u001b[0;34m\u001b[0m\u001b[0m\n\u001b[1;32m      6\u001b[0m     \u001b[0mprediction\u001b[0m\u001b[0;34m=\u001b[0m\u001b[0mnp\u001b[0m\u001b[0;34m.\u001b[0m\u001b[0mones\u001b[0m\u001b[0;34m(\u001b[0m\u001b[0mm\u001b[0m\u001b[0;34m)\u001b[0m\u001b[0;34m\u001b[0m\u001b[0m\n\u001b[0;32m----> 7\u001b[0;31m     \u001b[0mprediction\u001b[0m\u001b[0;34m[\u001b[0m\u001b[0mp\u001b[0m\u001b[0;34m(\u001b[0m\u001b[0mx\u001b[0m\u001b[0;34m,\u001b[0m\u001b[0mmu\u001b[0m\u001b[0;34m,\u001b[0m\u001b[0mSig\u001b[0m\u001b[0;34m)\u001b[0m\u001b[0;34m>\u001b[0m\u001b[0meps\u001b[0m\u001b[0;34m]\u001b[0m \u001b[0;34m=\u001b[0m \u001b[0;36m0\u001b[0m\u001b[0;34m\u001b[0m\u001b[0m\n\u001b[0m\u001b[1;32m      8\u001b[0m     \u001b[0mprediction\u001b[0m\u001b[0;34m[\u001b[0m\u001b[0misitcheap\u001b[0m\u001b[0;34m(\u001b[0m\u001b[0mx\u001b[0m\u001b[0;34m,\u001b[0m\u001b[0mmu\u001b[0m\u001b[0;34m,\u001b[0m\u001b[0mSig\u001b[0m\u001b[0;34m)\u001b[0m\u001b[0;34m==\u001b[0m\u001b[0;32mFalse\u001b[0m\u001b[0;34m]\u001b[0m\u001b[0;34m=\u001b[0m\u001b[0;36m0\u001b[0m\u001b[0;34m\u001b[0m\u001b[0m\n\u001b[1;32m      9\u001b[0m     \u001b[0;32mreturn\u001b[0m \u001b[0mprediction\u001b[0m\u001b[0;34m\u001b[0m\u001b[0m\n",
      "\u001b[0;32m<ipython-input-1171-a7d05222acff>\u001b[0m in \u001b[0;36mp\u001b[0;34m(X, mu, Sig)\u001b[0m\n\u001b[1;32m     33\u001b[0m     \u001b[0;31m#if mu[1]>X[0,1]*10 or mu[1]<X[0,1]/10:\u001b[0m\u001b[0;34m\u001b[0m\u001b[0;34m\u001b[0m\u001b[0m\n\u001b[1;32m     34\u001b[0m     \u001b[0;31m#    print('Make sure mu and X are in the same units.')\u001b[0m\u001b[0;34m\u001b[0m\u001b[0;34m\u001b[0m\u001b[0m\n\u001b[0;32m---> 35\u001b[0;31m     \u001b[0mn\u001b[0m \u001b[0;34m=\u001b[0m \u001b[0mX\u001b[0m\u001b[0;34m.\u001b[0m\u001b[0mshape\u001b[0m\u001b[0;34m[\u001b[0m\u001b[0;36m1\u001b[0m\u001b[0;34m]\u001b[0m\u001b[0;34m;\u001b[0m\u001b[0;34m\u001b[0m\u001b[0m\n\u001b[0m\u001b[1;32m     36\u001b[0m     \u001b[0mm\u001b[0m \u001b[0;34m=\u001b[0m \u001b[0mX\u001b[0m\u001b[0;34m.\u001b[0m\u001b[0mshape\u001b[0m\u001b[0;34m[\u001b[0m\u001b[0;36m0\u001b[0m\u001b[0;34m]\u001b[0m\u001b[0;34m;\u001b[0m\u001b[0;34m\u001b[0m\u001b[0m\n\u001b[1;32m     37\u001b[0m     \u001b[0mXminusmu\u001b[0m \u001b[0;34m=\u001b[0m \u001b[0mX\u001b[0m\u001b[0;34m-\u001b[0m\u001b[0mmu\u001b[0m\u001b[0;34m\u001b[0m\u001b[0m\n",
      "\u001b[0;31mIndexError\u001b[0m: tuple index out of range"
     ]
    }
   ],
   "source": [
    "#time to look for anomalies in the test data\n",
    "\n",
    "test.head()\n",
    "\n",
    "#put the test data into an array of x's:\n",
    "testarray_links= np.array(test['link'])\n",
    "testarray = np.array(test[['bedrooms','sq. feet', 'price']])\n",
    "\n",
    "y=np.zeros(len(testarray))\n",
    "for i,x in enumerate(testarray):\n",
    "    y[i] = predict(x,mu,Sig)\n",
    "    if predict(x)==1:\n",
    "        print(f\"A {x[1]} sq. foot {x[0]}-bedroom home for ${x[2]} is anomalous:\")\n",
    "        display(HTML(\"<a href=\"+testarray_links[i]+\" target='_blank'>see link</a>\"))\n",
    "        \n",
    "#at this stage, i think too many things are being flagged as anomalous, e.g. many-roomed homes, even if not particularly expensive per room."
   ]
  },
  {
   "cell_type": "code",
   "execution_count": 502,
   "metadata": {},
   "outputs": [
    {
     "data": {
      "text/plain": [
       "pandas.core.frame.DataFrame"
      ]
     },
     "execution_count": 502,
     "metadata": {},
     "output_type": "execute_result"
    }
   ],
   "source": [
    "testnotforsale=test.drop(test[test['price']>50000].index)\n",
    "type(testnotforsale)"
   ]
  },
  {
   "cell_type": "code",
   "execution_count": 504,
   "metadata": {},
   "outputs": [
    {
     "data": {
      "text/plain": [
       "<matplotlib.axes._subplots.AxesSubplot at 0x12cbaacc0>"
      ]
     },
     "execution_count": 504,
     "metadata": {},
     "output_type": "execute_result"
    },
    {
     "data": {
      "image/png": "[encoded data removed]",
      "text/plain": [
       "<Figure size 432x288 with 1 Axes>"
      ]
     },
     "metadata": {
      "needs_background": "light"
     },
     "output_type": "display_data"
    },
    {
     "data": {
      "image/png": "[encoded data removed]",
      "text/plain": [
       "<Figure size 432x288 with 1 Axes>"
      ]
     },
     "metadata": {
      "needs_background": "light"
     },
     "output_type": "display_data"
    }
   ],
   "source": [
    "test[y==1].plot('sq. feet', 'price',kind='scatter',color='r')\n",
    "test[y==0].plot('sq. feet', 'price',kind='scatter',color='b')"
   ]
  },
  {
   "cell_type": "code",
   "execution_count": null,
   "metadata": {},
   "outputs": [],
   "source": []
  },
  {
   "cell_type": "code",
   "execution_count": null,
   "metadata": {},
   "outputs": [],
   "source": [
    "\n",
    "\n"
   ]
  },
  {
   "cell_type": "code",
   "execution_count": 417,
   "metadata": {},
   "outputs": [],
   "source": [
    "#complex p?"
   ]
  },
  {
   "cell_type": "code",
   "execution_count": 1060,
   "metadata": {},
   "outputs": [
    {
     "ename": "IndexError",
     "evalue": "too many indices for array",
     "output_type": "error",
     "traceback": [
      "\u001b[0;31m---------------------------------------------------------------------------\u001b[0m",
      "\u001b[0;31mIndexError\u001b[0m                                Traceback (most recent call last)",
      "\u001b[0;32m<ipython-input-1060-cae3cc597bec>\u001b[0m in \u001b[0;36m<module>\u001b[0;34m()\u001b[0m\n\u001b[1;32m      7\u001b[0m \u001b[0mX\u001b[0m\u001b[0;34m,\u001b[0m \u001b[0mY\u001b[0m \u001b[0;34m=\u001b[0m \u001b[0mnp\u001b[0m\u001b[0;34m.\u001b[0m\u001b[0mmeshgrid\u001b[0m\u001b[0;34m(\u001b[0m \u001b[0msqfeetrange\u001b[0m\u001b[0;34m,\u001b[0m \u001b[0mpricerange\u001b[0m\u001b[0;34m)\u001b[0m\u001b[0;34m;\u001b[0m\u001b[0;34m\u001b[0m\u001b[0m\n\u001b[1;32m      8\u001b[0m \u001b[0;34m\u001b[0m\u001b[0m\n\u001b[0;32m----> 9\u001b[0;31m \u001b[0mZ\u001b[0m \u001b[0;34m=\u001b[0m \u001b[0mnp\u001b[0m\u001b[0;34m.\u001b[0m\u001b[0marray\u001b[0m\u001b[0;34m(\u001b[0m\u001b[0;34m[\u001b[0m\u001b[0;34m[\u001b[0m\u001b[0mp\u001b[0m\u001b[0;34m(\u001b[0m\u001b[0mnp\u001b[0m\u001b[0;34m.\u001b[0m\u001b[0marray\u001b[0m\u001b[0;34m(\u001b[0m\u001b[0;34m[\u001b[0m\u001b[0;36m1\u001b[0m\u001b[0;34m,\u001b[0m\u001b[0mx\u001b[0m\u001b[0;34m,\u001b[0m\u001b[0my\u001b[0m\u001b[0;34m]\u001b[0m\u001b[0;34m)\u001b[0m\u001b[0;34m,\u001b[0m\u001b[0mmu\u001b[0m\u001b[0;34m,\u001b[0m\u001b[0mSig\u001b[0m\u001b[0;34m)\u001b[0m \u001b[0;32mfor\u001b[0m \u001b[0mx\u001b[0m \u001b[0;32min\u001b[0m \u001b[0msqfeetrange\u001b[0m\u001b[0;34m]\u001b[0m \u001b[0;32mfor\u001b[0m \u001b[0my\u001b[0m \u001b[0;32min\u001b[0m \u001b[0mpricerange\u001b[0m\u001b[0;34m]\u001b[0m\u001b[0;34m)\u001b[0m\u001b[0;34m\u001b[0m\u001b[0m\n\u001b[0m\u001b[1;32m     10\u001b[0m \u001b[0;34m\u001b[0m\u001b[0m\n\u001b[1;32m     11\u001b[0m \u001b[0;34m\u001b[0m\u001b[0m\n",
      "\u001b[0;32m<ipython-input-1060-cae3cc597bec>\u001b[0m in \u001b[0;36m<listcomp>\u001b[0;34m(.0)\u001b[0m\n\u001b[1;32m      7\u001b[0m \u001b[0mX\u001b[0m\u001b[0;34m,\u001b[0m \u001b[0mY\u001b[0m \u001b[0;34m=\u001b[0m \u001b[0mnp\u001b[0m\u001b[0;34m.\u001b[0m\u001b[0mmeshgrid\u001b[0m\u001b[0;34m(\u001b[0m \u001b[0msqfeetrange\u001b[0m\u001b[0;34m,\u001b[0m \u001b[0mpricerange\u001b[0m\u001b[0;34m)\u001b[0m\u001b[0;34m;\u001b[0m\u001b[0;34m\u001b[0m\u001b[0m\n\u001b[1;32m      8\u001b[0m \u001b[0;34m\u001b[0m\u001b[0m\n\u001b[0;32m----> 9\u001b[0;31m \u001b[0mZ\u001b[0m \u001b[0;34m=\u001b[0m \u001b[0mnp\u001b[0m\u001b[0;34m.\u001b[0m\u001b[0marray\u001b[0m\u001b[0;34m(\u001b[0m\u001b[0;34m[\u001b[0m\u001b[0;34m[\u001b[0m\u001b[0mp\u001b[0m\u001b[0;34m(\u001b[0m\u001b[0mnp\u001b[0m\u001b[0;34m.\u001b[0m\u001b[0marray\u001b[0m\u001b[0;34m(\u001b[0m\u001b[0;34m[\u001b[0m\u001b[0;36m1\u001b[0m\u001b[0;34m,\u001b[0m\u001b[0mx\u001b[0m\u001b[0;34m,\u001b[0m\u001b[0my\u001b[0m\u001b[0;34m]\u001b[0m\u001b[0;34m)\u001b[0m\u001b[0;34m,\u001b[0m\u001b[0mmu\u001b[0m\u001b[0;34m,\u001b[0m\u001b[0mSig\u001b[0m\u001b[0;34m)\u001b[0m \u001b[0;32mfor\u001b[0m \u001b[0mx\u001b[0m \u001b[0;32min\u001b[0m \u001b[0msqfeetrange\u001b[0m\u001b[0;34m]\u001b[0m \u001b[0;32mfor\u001b[0m \u001b[0my\u001b[0m \u001b[0;32min\u001b[0m \u001b[0mpricerange\u001b[0m\u001b[0;34m]\u001b[0m\u001b[0;34m)\u001b[0m\u001b[0;34m\u001b[0m\u001b[0m\n\u001b[0m\u001b[1;32m     10\u001b[0m \u001b[0;34m\u001b[0m\u001b[0m\n\u001b[1;32m     11\u001b[0m \u001b[0;34m\u001b[0m\u001b[0m\n",
      "\u001b[0;32m<ipython-input-1060-cae3cc597bec>\u001b[0m in \u001b[0;36m<listcomp>\u001b[0;34m(.0)\u001b[0m\n\u001b[1;32m      7\u001b[0m \u001b[0mX\u001b[0m\u001b[0;34m,\u001b[0m \u001b[0mY\u001b[0m \u001b[0;34m=\u001b[0m \u001b[0mnp\u001b[0m\u001b[0;34m.\u001b[0m\u001b[0mmeshgrid\u001b[0m\u001b[0;34m(\u001b[0m \u001b[0msqfeetrange\u001b[0m\u001b[0;34m,\u001b[0m \u001b[0mpricerange\u001b[0m\u001b[0;34m)\u001b[0m\u001b[0;34m;\u001b[0m\u001b[0;34m\u001b[0m\u001b[0m\n\u001b[1;32m      8\u001b[0m \u001b[0;34m\u001b[0m\u001b[0m\n\u001b[0;32m----> 9\u001b[0;31m \u001b[0mZ\u001b[0m \u001b[0;34m=\u001b[0m \u001b[0mnp\u001b[0m\u001b[0;34m.\u001b[0m\u001b[0marray\u001b[0m\u001b[0;34m(\u001b[0m\u001b[0;34m[\u001b[0m\u001b[0;34m[\u001b[0m\u001b[0mp\u001b[0m\u001b[0;34m(\u001b[0m\u001b[0mnp\u001b[0m\u001b[0;34m.\u001b[0m\u001b[0marray\u001b[0m\u001b[0;34m(\u001b[0m\u001b[0;34m[\u001b[0m\u001b[0;36m1\u001b[0m\u001b[0;34m,\u001b[0m\u001b[0mx\u001b[0m\u001b[0;34m,\u001b[0m\u001b[0my\u001b[0m\u001b[0;34m]\u001b[0m\u001b[0;34m)\u001b[0m\u001b[0;34m,\u001b[0m\u001b[0mmu\u001b[0m\u001b[0;34m,\u001b[0m\u001b[0mSig\u001b[0m\u001b[0;34m)\u001b[0m \u001b[0;32mfor\u001b[0m \u001b[0mx\u001b[0m \u001b[0;32min\u001b[0m \u001b[0msqfeetrange\u001b[0m\u001b[0;34m]\u001b[0m \u001b[0;32mfor\u001b[0m \u001b[0my\u001b[0m \u001b[0;32min\u001b[0m \u001b[0mpricerange\u001b[0m\u001b[0;34m]\u001b[0m\u001b[0;34m)\u001b[0m\u001b[0;34m\u001b[0m\u001b[0m\n\u001b[0m\u001b[1;32m     10\u001b[0m \u001b[0;34m\u001b[0m\u001b[0m\n\u001b[1;32m     11\u001b[0m \u001b[0;34m\u001b[0m\u001b[0m\n",
      "\u001b[0;32m<ipython-input-866-8cad1558bce9>\u001b[0m in \u001b[0;36mp\u001b[0;34m(X, mu, Sig)\u001b[0m\n\u001b[1;32m     31\u001b[0m \u001b[0;34m\u001b[0m\u001b[0m\n\u001b[1;32m     32\u001b[0m \u001b[0;32mdef\u001b[0m \u001b[0mp\u001b[0m\u001b[0;34m(\u001b[0m\u001b[0mX\u001b[0m\u001b[0;34m,\u001b[0m\u001b[0mmu\u001b[0m\u001b[0;34m,\u001b[0m\u001b[0mSig\u001b[0m\u001b[0;34m)\u001b[0m\u001b[0;34m:\u001b[0m  \u001b[0;31m#input X is m by n (must be in the form of a 2-d array). inputs (X, mu, Sig) should be in 1000sqfeet, 1000$.\u001b[0m\u001b[0;34m\u001b[0m\u001b[0m\n\u001b[0;32m---> 33\u001b[0;31m     \u001b[0;32mif\u001b[0m \u001b[0mmu\u001b[0m\u001b[0;34m[\u001b[0m\u001b[0;36m1\u001b[0m\u001b[0;34m]\u001b[0m\u001b[0;34m>\u001b[0m\u001b[0mX\u001b[0m\u001b[0;34m[\u001b[0m\u001b[0;36m0\u001b[0m\u001b[0;34m,\u001b[0m\u001b[0;36m1\u001b[0m\u001b[0;34m]\u001b[0m\u001b[0;34m*\u001b[0m\u001b[0;36m10\u001b[0m \u001b[0;32mor\u001b[0m \u001b[0mmu\u001b[0m\u001b[0;34m[\u001b[0m\u001b[0;36m1\u001b[0m\u001b[0;34m]\u001b[0m\u001b[0;34m<\u001b[0m\u001b[0mX\u001b[0m\u001b[0;34m[\u001b[0m\u001b[0;36m0\u001b[0m\u001b[0;34m,\u001b[0m\u001b[0;36m1\u001b[0m\u001b[0;34m]\u001b[0m\u001b[0;34m/\u001b[0m\u001b[0;36m10\u001b[0m\u001b[0;34m:\u001b[0m\u001b[0;34m\u001b[0m\u001b[0m\n\u001b[0m\u001b[1;32m     34\u001b[0m         \u001b[0mprint\u001b[0m\u001b[0;34m(\u001b[0m\u001b[0;34m'Make sure mu and X are in the same units.'\u001b[0m\u001b[0;34m)\u001b[0m\u001b[0;34m\u001b[0m\u001b[0m\n\u001b[1;32m     35\u001b[0m     \u001b[0mn\u001b[0m \u001b[0;34m=\u001b[0m \u001b[0mX\u001b[0m\u001b[0;34m.\u001b[0m\u001b[0mshape\u001b[0m\u001b[0;34m[\u001b[0m\u001b[0;36m1\u001b[0m\u001b[0;34m]\u001b[0m\u001b[0;34m;\u001b[0m\u001b[0;34m\u001b[0m\u001b[0m\n",
      "\u001b[0;31mIndexError\u001b[0m: too many indices for array"
     ]
    }
   ],
   "source": [
    "\n",
    "\n",
    "\n",
    "#fix to 1 bedrooms and look at probability distribution in the two dimensions of square footage and price\n",
    "sqfeetrange = np.arange(0,5000,100);\n",
    "pricerange = np.arange(0,10000,100);\n",
    "X, Y = np.meshgrid( sqfeetrange, pricerange);\n",
    "\n",
    "Z = np.array([[p(np.array([1,x,y]),mu,Sig) for x in sqfeetrange] for y in pricerange])\n",
    "\n",
    "\n",
    "\n",
    "\n",
    "from mpl_toolkits.mplot3d import Axes3D\n",
    "from matplotlib import cm\n",
    "from matplotlib.ticker import LinearLocator, FormatStrFormatter\n",
    "\n",
    "\n",
    "fig = plt.figure()\n",
    "\n",
    "\n",
    "\n",
    "ax = fig.gca(projection='3d')\n",
    "\n",
    "ax.scatter([1000],[4000],p(np.array([1,1000,4000]),mu,Sig),color='k',marker = 'o')\n",
    "\n",
    "surf = ax.plot_surface(X, Y, Z)#, cmap=cm.coolwarm)#,\n",
    "                       #linewidth=0, antialiased=False)\n",
    "ax.set_xlabel('sq. feet')\n",
    "ax.set_ylabel('price')\n",
    "\n"
   ]
  },
  {
   "cell_type": "code",
   "execution_count": 449,
   "metadata": {},
   "outputs": [
    {
     "data": {
      "text/plain": [
       "0.26390435668938306"
      ]
     },
     "execution_count": 449,
     "metadata": {},
     "output_type": "execute_result"
    }
   ],
   "source": [
    "np.sqrt(detSig)"
   ]
  },
  {
   "cell_type": "code",
   "execution_count": 970,
   "metadata": {},
   "outputs": [],
   "source": [
    "#average price per room for 1 br, 2br, 3br\n",
    "#[np.mean(df.loc[df['bedrooms']==i]['price'])/i for i in range(1,6)]"
   ]
  },
  {
   "cell_type": "code",
   "execution_count": 971,
   "metadata": {},
   "outputs": [],
   "source": [
    "#df.loc[df['price']>5000]"
   ]
  },
  {
   "cell_type": "code",
   "execution_count": 365,
   "metadata": {},
   "outputs": [],
   "source": [
    "# old train and predict\n",
    "\n",
    "#remove rows with missing data\n",
    "# dfclean=df_no_duplicates.dropna()[:]\n",
    "\n",
    "# dfclean['1000sqfeet']=dfclean['sq. feet']/1000  #normalize so all features are order 1 (no area is in 1000s of square feet)\n",
    "# dfclean['pricek']=dfclean['price']/1000 #normalize so all features are order 1 (price is in thousands of dollars)\n",
    "\n",
    "# #compute the mean\n",
    "# mu = np.array(np.mean(dfclean)[['bedrooms','1000sqfeet','pricek']])\n",
    "# xminusmu = np.array(dfclean[['bedrooms','1000sqfeet', 'pricek']]-mu)\n",
    "\n",
    "# #compute covariance matrix\n",
    "# m=xminusmu.shape[0]\n",
    "# Sigi=0;\n",
    "# for i in range(0,m):\n",
    "#     Sigi=Sigi+np.outer(xminusmu[i], (xminusmu[i]).T)\n",
    "# Sig=(1/m)*Sigi\n",
    "# detSig = np.linalg.det(Sig)\n",
    "\n",
    "# Siginv = np.linalg.inv(Sig)\n",
    "# n=len(mu)\n",
    "# def p(x):\n",
    "#     #p takes x in [bedrooms, 1000s of square feet, 1000s of dollars]\n",
    "#     exp=np.e**(-.5*np.dot(x-mu,np.dot(Siginv,x-mu)))\n",
    "#     return(exp/( (2*np.pi)**(n/2)*(detSig**(1/2)) ))\n",
    "    \n",
    "# #set a 1-sigma cut-off?\n",
    "# def predict(x):\n",
    "#     #x = [bedrooms, square feet, price (in dollars)]\n",
    "#     eps = p(mu-[Sig[0,0],(Sig[1,1]),Sig[2,2]  ]);\n",
    "#     y = np.array([x[0], x[1]/1000, x[2]/1000])\n",
    "#     if p(y)>=eps:  #p takes x in [bedrooms, 1000s of square feet, 1000s of dollars]\n",
    "#         print(f\"A {np.round(x[1])} sq. foot {int(x[0])}-bedroom home for ${np.round(x[2],2)} is not anomalous.\")\n",
    "#     else:\n",
    "#         print(f\"A {x[1]} sq. foot {x[0]}-bedroom home for ${x[2]} is anomalous.\")    \n",
    "    "
   ]
  },
  {
   "cell_type": "code",
   "execution_count": null,
   "metadata": {},
   "outputs": [],
   "source": []
  },
  {
   "cell_type": "code",
   "execution_count": null,
   "metadata": {},
   "outputs": [],
   "source": []
  },
  {
   "cell_type": "code",
   "execution_count": null,
   "metadata": {},
   "outputs": [],
   "source": []
  },
  {
   "cell_type": "code",
   "execution_count": null,
   "metadata": {},
   "outputs": [],
   "source": []
  },
  {
   "cell_type": "code",
   "execution_count": 973,
   "metadata": {},
   "outputs": [
    {
     "data": {
      "text/plain": [
       "Text(0.5,1,'Probability distribution for average bedrooms and area, as a functin of price')"
      ]
     },
     "execution_count": 973,
     "metadata": {},
     "output_type": "execute_result"
    },
    {
     "data": {
      "image/png": "[encoded data removed]",
      "text/plain": [
       "<Figure size 432x288 with 1 Axes>"
      ]
     },
     "metadata": {
      "needs_background": "light"
     },
     "output_type": "display_data"
    }
   ],
   "source": [
    "pricerange = np.arange(0,int(max(dfclean['pricek'])),.1);\n",
    "xs = [[1,.8,price] for price in pricerange]\n",
    "plt.plot([price for price in pricerange], [p(xs[i]) for i in range(0,len(xs))])\n",
    "plt.xlabel('Price (k$)')\n",
    "plt.title('Probability distribution for average bedrooms and area, as a functin of price')\n"
   ]
  },
  {
   "cell_type": "code",
   "execution_count": null,
   "metadata": {},
   "outputs": [],
   "source": []
  },
  {
   "cell_type": "code",
   "execution_count": 974,
   "metadata": {},
   "outputs": [
    {
     "name": "stdout",
     "output_type": "stream",
     "text": [
      "Check probability of feature vector [1.         0.72616667 0.5       ]\n",
      "There's a 2.19% chance that a 1-bedroom of average size \n",
      "would cost $500.0. This is somewhat anomalous.\n"
     ]
    }
   ],
   "source": [
    "x=np.zeros(3);\n",
    "x[0]=1\n",
    "x[1]=np.mean(dfclean.loc[dfclean['bedrooms']==x[0]]['1000sqfeet'])\n",
    "x[2] = .5\n",
    "x=np.array(x)\n",
    "print(f\"Check probability of feature vector {x}\")\n",
    "print(f\"There's a {np.round(p(x)*100,2)}% chance that a {int(x[0])}-bedroom of average size \\nwould cost ${x[2]*1000}. This is somewhat anomalous.\")"
   ]
  },
  {
   "cell_type": "code",
   "execution_count": null,
   "metadata": {},
   "outputs": [],
   "source": []
  },
  {
   "cell_type": "code",
   "execution_count": 975,
   "metadata": {},
   "outputs": [
    {
     "name": "stdout",
     "output_type": "stream",
     "text": [
      "A 1000 sq. foot 3-bedroom home for $3500 is anomalous.\n"
     ]
    }
   ],
   "source": [
    "predict(np.array([3,1000,3500]))"
   ]
  },
  {
   "cell_type": "raw",
   "metadata": {},
   "source": []
  },
  {
   "cell_type": "code",
   "execution_count": 976,
   "metadata": {},
   "outputs": [],
   "source": [
    "#now i need to get more data by scraping other pages,\n",
    "# and properly split my data into training/testing (don't think i need CV for anything?)"
   ]
  },
  {
   "cell_type": "code",
   "execution_count": null,
   "metadata": {},
   "outputs": [],
   "source": []
  },
  {
   "cell_type": "code",
   "execution_count": 548,
   "metadata": {},
   "outputs": [
    {
     "data": {
      "text/plain": [
       "'lower pac hts'"
      ]
     },
     "execution_count": 548,
     "metadata": {},
     "output_type": "execute_result"
    }
   ],
   "source": [
    "re.compile('[a-z ]+').search(resultrow.find(class_=\"result-hood\").text.strip()).group() for resultrow in resultrows\n"
   ]
  },
  {
   "cell_type": "code",
   "execution_count": 546,
   "metadata": {},
   "outputs": [
    {
     "data": {
      "text/plain": [
       "['lower pac hts']"
      ]
     },
     "execution_count": 546,
     "metadata": {},
     "output_type": "execute_result"
    }
   ],
   "source": [
    "lowerpachts=resultrows[3].find(class_=\"result-hood\").text.strip()\n",
    "\n",
    "re.compile('[a-z ]+').findall(lowerpachts)"
   ]
  },
  {
   "cell_type": "code",
   "execution_count": 520,
   "metadata": {},
   "outputs": [
    {
     "ename": "AttributeError",
     "evalue": "ResultSet object has no attribute 'find_all'. You're probably treating a list of items like a single item. Did you call find_all() when you meant to call find()?",
     "output_type": "error",
     "traceback": [
      "\u001b[0;31m---------------------------------------------------------------------------\u001b[0m",
      "\u001b[0;31mAttributeError\u001b[0m                            Traceback (most recent call last)",
      "\u001b[0;32m<ipython-input-520-7e98c1c74b57>\u001b[0m in \u001b[0;36m<module>\u001b[0;34m()\u001b[0m\n\u001b[0;32m----> 1\u001b[0;31m \u001b[0mresultrows\u001b[0m\u001b[0;34m.\u001b[0m\u001b[0mfind_all\u001b[0m\u001b[0;34m(\u001b[0m\u001b[0mclass_\u001b[0m\u001b[0;34m=\u001b[0m\u001b[0;34m\"result-hood\"\u001b[0m\u001b[0;34m)\u001b[0m\u001b[0;34m\u001b[0m\u001b[0m\n\u001b[0m",
      "\u001b[0;32m/anaconda3/lib/python3.7/site-packages/bs4/element.py\u001b[0m in \u001b[0;36m__getattr__\u001b[0;34m(self, key)\u001b[0m\n\u001b[1;32m   1882\u001b[0m     \u001b[0;32mdef\u001b[0m \u001b[0m__getattr__\u001b[0m\u001b[0;34m(\u001b[0m\u001b[0mself\u001b[0m\u001b[0;34m,\u001b[0m \u001b[0mkey\u001b[0m\u001b[0;34m)\u001b[0m\u001b[0;34m:\u001b[0m\u001b[0;34m\u001b[0m\u001b[0m\n\u001b[1;32m   1883\u001b[0m         raise AttributeError(\n\u001b[0;32m-> 1884\u001b[0;31m             \u001b[0;34m\"ResultSet object has no attribute '%s'. You're probably treating a list of items like a single item. Did you call find_all() when you meant to call find()?\"\u001b[0m \u001b[0;34m%\u001b[0m \u001b[0mkey\u001b[0m\u001b[0;34m\u001b[0m\u001b[0m\n\u001b[0m\u001b[1;32m   1885\u001b[0m         )\n",
      "\u001b[0;31mAttributeError\u001b[0m: ResultSet object has no attribute 'find_all'. You're probably treating a list of items like a single item. Did you call find_all() when you meant to call find()?"
     ]
    }
   ],
   "source": [
    "resultrows.find_all(class_=\"result-hood\")"
   ]
  },
  {
   "cell_type": "markdown",
   "metadata": {},
   "source": [
    "# other cleaning considerations"
   ]
  },
  {
   "cell_type": "code",
   "execution_count": 239,
   "metadata": {},
   "outputs": [
    {
     "data": {
      "text/html": [
       "<div>\n",
       "<style scoped>\n",
       "    .dataframe tbody tr th:only-of-type {\n",
       "        vertical-align: middle;\n",
       "    }\n",
       "\n",
       "    .dataframe tbody tr th {\n",
       "        vertical-align: top;\n",
       "    }\n",
       "\n",
       "    .dataframe thead th {\n",
       "        text-align: right;\n",
       "    }\n",
       "</style>\n",
       "<table border=\"1\" class=\"dataframe\">\n",
       "  <thead>\n",
       "    <tr style=\"text-align: right;\">\n",
       "      <th></th>\n",
       "      <th>neighborhood</th>\n",
       "      <th>average price</th>\n",
       "    </tr>\n",
       "  </thead>\n",
       "  <tbody>\n",
       "    <tr>\n",
       "      <th>8</th>\n",
       "      <td>clarendon heights -</td>\n",
       "      <td>25000.000000</td>\n",
       "    </tr>\n",
       "    <tr>\n",
       "      <th>130</th>\n",
       "      <td>hillsborough, ca</td>\n",
       "      <td>16000.000000</td>\n",
       "    </tr>\n",
       "    <tr>\n",
       "      <th>111</th>\n",
       "      <td>kentfield / ross</td>\n",
       "      <td>10650.000000</td>\n",
       "    </tr>\n",
       "    <tr>\n",
       "      <th>109</th>\n",
       "      <td>laurel hts / presidio</td>\n",
       "      <td>9300.000000</td>\n",
       "    </tr>\n",
       "    <tr>\n",
       "      <th>65</th>\n",
       "      <td>soma</td>\n",
       "      <td>6190.000000</td>\n",
       "    </tr>\n",
       "    <tr>\n",
       "      <th>28</th>\n",
       "      <td>financial district</td>\n",
       "      <td>5903.461538</td>\n",
       "    </tr>\n",
       "    <tr>\n",
       "      <th>141</th>\n",
       "      <td>tiburon / belvedere</td>\n",
       "      <td>5901.666667</td>\n",
       "    </tr>\n",
       "    <tr>\n",
       "      <th>36</th>\n",
       "      <td>rincon hill</td>\n",
       "      <td>5790.000000</td>\n",
       "    </tr>\n",
       "    <tr>\n",
       "      <th>53</th>\n",
       "      <td>cole valley / ashbury hts</td>\n",
       "      <td>5373.750000</td>\n",
       "    </tr>\n",
       "    <tr>\n",
       "      <th>23</th>\n",
       "      <td>saratoga</td>\n",
       "      <td>5100.000000</td>\n",
       "    </tr>\n",
       "    <tr>\n",
       "      <th>38</th>\n",
       "      <td>usf / panhandle</td>\n",
       "      <td>4964.250000</td>\n",
       "    </tr>\n",
       "    <tr>\n",
       "      <th>20</th>\n",
       "      <td>noe valley</td>\n",
       "      <td>4949.230769</td>\n",
       "    </tr>\n",
       "    <tr>\n",
       "      <th>114</th>\n",
       "      <td>castro / upper market</td>\n",
       "      <td>4911.083333</td>\n",
       "    </tr>\n",
       "    <tr>\n",
       "      <th>67</th>\n",
       "      <td>pacific heights</td>\n",
       "      <td>4904.804878</td>\n",
       "    </tr>\n",
       "    <tr>\n",
       "      <th>122</th>\n",
       "      <td>san carlos</td>\n",
       "      <td>4866.666667</td>\n",
       "    </tr>\n",
       "    <tr>\n",
       "      <th>154</th>\n",
       "      <td>dogpatch</td>\n",
       "      <td>4850.000000</td>\n",
       "    </tr>\n",
       "    <tr>\n",
       "      <th>73</th>\n",
       "      <td>lower pac hts</td>\n",
       "      <td>4615.937500</td>\n",
       "    </tr>\n",
       "    <tr>\n",
       "      <th>42</th>\n",
       "      <td>soma / south beach</td>\n",
       "      <td>4606.021978</td>\n",
       "    </tr>\n",
       "    <tr>\n",
       "      <th>63</th>\n",
       "      <td>west portal / forest hill</td>\n",
       "      <td>4568.000000</td>\n",
       "    </tr>\n",
       "    <tr>\n",
       "      <th>92</th>\n",
       "      <td>sausalito</td>\n",
       "      <td>4450.000000</td>\n",
       "    </tr>\n",
       "    <tr>\n",
       "      <th>48</th>\n",
       "      <td>marina / cow hollow</td>\n",
       "      <td>4384.523810</td>\n",
       "    </tr>\n",
       "    <tr>\n",
       "      <th>153</th>\n",
       "      <td>russian hill</td>\n",
       "      <td>4304.545455</td>\n",
       "    </tr>\n",
       "    <tr>\n",
       "      <th>70</th>\n",
       "      <td>pacific height</td>\n",
       "      <td>4290.000000</td>\n",
       "    </tr>\n",
       "    <tr>\n",
       "      <th>100</th>\n",
       "      <td>inner sunset / ucsf</td>\n",
       "      <td>4281.833333</td>\n",
       "    </tr>\n",
       "    <tr>\n",
       "      <th>127</th>\n",
       "      <td>palo alto</td>\n",
       "      <td>4156.217391</td>\n",
       "    </tr>\n",
       "    <tr>\n",
       "      <th>126</th>\n",
       "      <td>hayes valley</td>\n",
       "      <td>4093.350000</td>\n",
       "    </tr>\n",
       "    <tr>\n",
       "      <th>56</th>\n",
       "      <td>telegraph hill</td>\n",
       "      <td>4090.000000</td>\n",
       "    </tr>\n",
       "    <tr>\n",
       "      <th>145</th>\n",
       "      <td>ingleside / sfsu / ccsf</td>\n",
       "      <td>4061.590909</td>\n",
       "    </tr>\n",
       "    <tr>\n",
       "      <th>80</th>\n",
       "      <td>larkspur</td>\n",
       "      <td>4010.000000</td>\n",
       "    </tr>\n",
       "    <tr>\n",
       "      <th>105</th>\n",
       "      <td>south park</td>\n",
       "      <td>3990.000000</td>\n",
       "    </tr>\n",
       "    <tr>\n",
       "      <th>...</th>\n",
       "      <td>...</td>\n",
       "      <td>...</td>\n",
       "    </tr>\n",
       "    <tr>\n",
       "      <th>24</th>\n",
       "      <td>watsonville</td>\n",
       "      <td>2150.000000</td>\n",
       "    </tr>\n",
       "    <tr>\n",
       "      <th>99</th>\n",
       "      <td>albany / el cerrito</td>\n",
       "      <td>2111.666667</td>\n",
       "    </tr>\n",
       "    <tr>\n",
       "      <th>34</th>\n",
       "      <td>505 pierce road, unit 3</td>\n",
       "      <td>2100.000000</td>\n",
       "    </tr>\n",
       "    <tr>\n",
       "      <th>112</th>\n",
       "      <td>concord / pleasant hill / martinez</td>\n",
       "      <td>2082.938462</td>\n",
       "    </tr>\n",
       "    <tr>\n",
       "      <th>43</th>\n",
       "      <td>gilroy</td>\n",
       "      <td>2074.000000</td>\n",
       "    </tr>\n",
       "    <tr>\n",
       "      <th>58</th>\n",
       "      <td>sonoma</td>\n",
       "      <td>2069.000000</td>\n",
       "    </tr>\n",
       "    <tr>\n",
       "      <th>81</th>\n",
       "      <td>excelsior / outer mission</td>\n",
       "      <td>2052.200000</td>\n",
       "    </tr>\n",
       "    <tr>\n",
       "      <th>79</th>\n",
       "      <td>berkeley north / hills</td>\n",
       "      <td>2037.777778</td>\n",
       "    </tr>\n",
       "    <tr>\n",
       "      <th>151</th>\n",
       "      <td>bear creek exit</td>\n",
       "      <td>2016.666667</td>\n",
       "    </tr>\n",
       "    <tr>\n",
       "      <th>41</th>\n",
       "      <td>scotts valley</td>\n",
       "      <td>2000.000000</td>\n",
       "    </tr>\n",
       "    <tr>\n",
       "      <th>134</th>\n",
       "      <td>1520 branham lane</td>\n",
       "      <td>1975.000000</td>\n",
       "    </tr>\n",
       "    <tr>\n",
       "      <th>30</th>\n",
       "      <td>california</td>\n",
       "      <td>1975.000000</td>\n",
       "    </tr>\n",
       "    <tr>\n",
       "      <th>29</th>\n",
       "      <td>rohnert pk / cotati</td>\n",
       "      <td>1972.214286</td>\n",
       "    </tr>\n",
       "    <tr>\n",
       "      <th>75</th>\n",
       "      <td>vallejo / benicia</td>\n",
       "      <td>1958.473684</td>\n",
       "    </tr>\n",
       "    <tr>\n",
       "      <th>125</th>\n",
       "      <td>fairfax</td>\n",
       "      <td>1950.000000</td>\n",
       "    </tr>\n",
       "    <tr>\n",
       "      <th>68</th>\n",
       "      <td>fairfield / vacaville</td>\n",
       "      <td>1916.078431</td>\n",
       "    </tr>\n",
       "    <tr>\n",
       "      <th>27</th>\n",
       "      <td>pittsburg / antioch</td>\n",
       "      <td>1903.468750</td>\n",
       "    </tr>\n",
       "    <tr>\n",
       "      <th>139</th>\n",
       "      <td>tracy,ca</td>\n",
       "      <td>1877.000000</td>\n",
       "    </tr>\n",
       "    <tr>\n",
       "      <th>146</th>\n",
       "      <td>east palo alto</td>\n",
       "      <td>1870.833333</td>\n",
       "    </tr>\n",
       "    <tr>\n",
       "      <th>0</th>\n",
       "      <td>tenderloin</td>\n",
       "      <td>1702.500000</td>\n",
       "    </tr>\n",
       "    <tr>\n",
       "      <th>144</th>\n",
       "      <td>vallejo</td>\n",
       "      <td>1600.000000</td>\n",
       "    </tr>\n",
       "    <tr>\n",
       "      <th>110</th>\n",
       "      <td>sebastopol</td>\n",
       "      <td>1565.000000</td>\n",
       "    </tr>\n",
       "    <tr>\n",
       "      <th>74</th>\n",
       "      <td>russian river</td>\n",
       "      <td>1430.000000</td>\n",
       "    </tr>\n",
       "    <tr>\n",
       "      <th>93</th>\n",
       "      <td>modesto,ca</td>\n",
       "      <td>1425.000000</td>\n",
       "    </tr>\n",
       "    <tr>\n",
       "      <th>120</th>\n",
       "      <td>hollister</td>\n",
       "      <td>1373.333333</td>\n",
       "    </tr>\n",
       "    <tr>\n",
       "      <th>71</th>\n",
       "      <td>potrero 1010</td>\n",
       "      <td>1290.000000</td>\n",
       "    </tr>\n",
       "    <tr>\n",
       "      <th>117</th>\n",
       "      <td>potrero</td>\n",
       "      <td>1290.000000</td>\n",
       "    </tr>\n",
       "    <tr>\n",
       "      <th>128</th>\n",
       "      <td>easy commute</td>\n",
       "      <td>1035.000000</td>\n",
       "    </tr>\n",
       "    <tr>\n",
       "      <th>155</th>\n",
       "      <td>lake county</td>\n",
       "      <td>1000.000000</td>\n",
       "    </tr>\n",
       "    <tr>\n",
       "      <th>91</th>\n",
       "      <td>downtown san jose</td>\n",
       "      <td>950.000000</td>\n",
       "    </tr>\n",
       "  </tbody>\n",
       "</table>\n",
       "<p>162 rows × 2 columns</p>\n",
       "</div>"
      ],
      "text/plain": [
       "                           neighborhood  average price\n",
       "8                   clarendon heights -   25000.000000\n",
       "130                    hillsborough, ca   16000.000000\n",
       "111                    kentfield / ross   10650.000000\n",
       "109               laurel hts / presidio    9300.000000\n",
       "65                                 soma    6190.000000\n",
       "28                   financial district    5903.461538\n",
       "141                 tiburon / belvedere    5901.666667\n",
       "36                          rincon hill    5790.000000\n",
       "53            cole valley / ashbury hts    5373.750000\n",
       "23                             saratoga    5100.000000\n",
       "38                      usf / panhandle    4964.250000\n",
       "20                           noe valley    4949.230769\n",
       "114               castro / upper market    4911.083333\n",
       "67                      pacific heights    4904.804878\n",
       "122                          san carlos    4866.666667\n",
       "154                            dogpatch    4850.000000\n",
       "73                        lower pac hts    4615.937500\n",
       "42                   soma / south beach    4606.021978\n",
       "63            west portal / forest hill    4568.000000\n",
       "92                            sausalito    4450.000000\n",
       "48                  marina / cow hollow    4384.523810\n",
       "153                        russian hill    4304.545455\n",
       "70                       pacific height    4290.000000\n",
       "100                 inner sunset / ucsf    4281.833333\n",
       "127                           palo alto    4156.217391\n",
       "126                        hayes valley    4093.350000\n",
       "56                       telegraph hill    4090.000000\n",
       "145             ingleside / sfsu / ccsf    4061.590909\n",
       "80                             larkspur    4010.000000\n",
       "105                          south park    3990.000000\n",
       "..                                  ...            ...\n",
       "24                          watsonville    2150.000000\n",
       "99                  albany / el cerrito    2111.666667\n",
       "34              505 pierce road, unit 3    2100.000000\n",
       "112  concord / pleasant hill / martinez    2082.938462\n",
       "43                               gilroy    2074.000000\n",
       "58                               sonoma    2069.000000\n",
       "81            excelsior / outer mission    2052.200000\n",
       "79               berkeley north / hills    2037.777778\n",
       "151                     bear creek exit    2016.666667\n",
       "41                        scotts valley    2000.000000\n",
       "134                   1520 branham lane    1975.000000\n",
       "30                           california    1975.000000\n",
       "29                  rohnert pk / cotati    1972.214286\n",
       "75                    vallejo / benicia    1958.473684\n",
       "125                             fairfax    1950.000000\n",
       "68                fairfield / vacaville    1916.078431\n",
       "27                  pittsburg / antioch    1903.468750\n",
       "139                            tracy,ca    1877.000000\n",
       "146                      east palo alto    1870.833333\n",
       "0                            tenderloin    1702.500000\n",
       "144                             vallejo    1600.000000\n",
       "110                          sebastopol    1565.000000\n",
       "74                        russian river    1430.000000\n",
       "93                           modesto,ca    1425.000000\n",
       "120                           hollister    1373.333333\n",
       "71                         potrero 1010    1290.000000\n",
       "117                             potrero    1290.000000\n",
       "128                        easy commute    1035.000000\n",
       "155                         lake county    1000.000000\n",
       "91                    downtown san jose     950.000000\n",
       "\n",
       "[162 rows x 2 columns]"
      ]
     },
     "execution_count": 239,
     "metadata": {},
     "output_type": "execute_result"
    }
   ],
   "source": [
    "\n",
    "#plenty list price zero. obviously this is false.\n",
    "df[df['price']==0]\n",
    "\n",
    "#extract the most expensive neighborhoods?\n",
    "\n",
    "nhp=[];\n",
    "for nh in hoods:\n",
    "    nhp.append([nh, np.mean(df[df['neighborhood']==nh]['price'])])\n",
    "    \n",
    "    \n",
    "pd.DataFrame(nhp,columns=['neighborhood','average price']).sort_values(by='average price',ascending=False)\n"
   ]
  },
  {
   "cell_type": "code",
   "execution_count": null,
   "metadata": {},
   "outputs": [],
   "source": []
  }
 ],
 "metadata": {
  "kernelspec": {
   "display_name": "Python 3",
   "language": "python",
   "name": "python3"
  },
  "language_info": {
   "codemirror_mode": {
    "name": "ipython",
    "version": 3
   },
   "file_extension": ".py",
   "mimetype": "text/x-python",
   "name": "python",
   "nbconvert_exporter": "python",
   "pygments_lexer": "ipython3",
   "version": "3.7.3"
  },
  "toc": {
   "base_numbering": 1,
   "nav_menu": {},
   "number_sections": true,
   "sideBar": true,
   "skip_h1_title": false,
   "title_cell": "Table of Contents",
   "title_sidebar": "Contents",
   "toc_cell": false,
   "toc_position": {},
   "toc_section_display": true,
   "toc_window_display": false
  }
 },
 "nbformat": 4,
 "nbformat_minor": 2
}
