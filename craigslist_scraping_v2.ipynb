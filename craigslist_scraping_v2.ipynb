{
 "cells": [
  {
   "cell_type": "markdown",
   "metadata": {},
   "source": [
    "# import"
   ]
  },
  {
   "cell_type": "code",
   "execution_count": 1,
   "metadata": {},
   "outputs": [],
   "source": [
    "# import numpy as np\n",
    "import pandas as pd\n",
    "import matplotlib.pyplot as plt\n",
    "# import re\n",
    "# import time\n",
    "from datetime import datetime\n",
    "# from urllib.request import urlopen\n",
    "\n",
    "\n",
    "# from bs4 import BeautifulSoup\n",
    "# from requests import get\n"
   ]
  },
  {
   "cell_type": "code",
   "execution_count": 2,
   "metadata": {},
   "outputs": [],
   "source": [
    "import helpers"
   ]
  },
  {
   "cell_type": "markdown",
   "metadata": {},
   "source": [
    "# scrape all pages"
   ]
  },
  {
   "cell_type": "code",
   "execution_count": 3,
   "metadata": {},
   "outputs": [],
   "source": [
    "# def scrape_housing_data(url = \"https://sfbay.craigslist.org/search/apa?availabilityMode=0\", studiobedrooms = 1.0):\n",
    "    \n",
    "#     \"\"\"\n",
    "#     Args:\n",
    "#         url: url of the webpage to scrape. Defaults to bay area craigslist.\n",
    "        \n",
    "#     Returns:\n",
    "#         dataframe with (almost) raw scraped data (with minor cleaning)\n",
    "    \n",
    "#     \"\"\"\n",
    "    \n",
    "#     html = urlopen(url)\n",
    "#     soup = BeautifulSoup(html,'html')\n",
    "    \n",
    "\n",
    "#     # define ranges\n",
    "#     rangefrom=int(soup.find(class_=\"rangeFrom\").text)  # starting index for listings\n",
    "#     rangeto=int(soup.find(class_=\"rangeTo\").text)  # ending index for listings\n",
    "#     perpage = rangeto-rangefrom+1  # listings per page\n",
    "#     totalcount = int(soup.find(class_=\"totalcount\").text)  # total number of listings\n",
    "    \n",
    "    \n",
    "    \n",
    "#     #initialize lists of info:\n",
    "#     links=[]  # url links for each listing\n",
    "#     descs=[]  # description for each listing\n",
    "#     prices=[]  # price for each listing\n",
    "#     sqfeets=[]  # square feet for each listing\n",
    "#     bedrooms = []  # number of bedrooms for each listing\n",
    "#     hood=[]  # neighborhood for each listing\n",
    "\n",
    "    \n",
    "#     #for each page, make a soup, and for each listing in that soup, append to each info list. \n",
    "#     for i in range(0,totalcount,perpage):\n",
    "#         url = \"https://sfbay.craigslist.org/search/apa?availabilityMode=0&s=\"+str(i)\n",
    "\n",
    "\n",
    "#         response = get(url)\n",
    "#         soup = BeautifulSoup(response.text,'html')\n",
    "#         resultrows = soup.find_all(class_=\"result-row\");\n",
    "\n",
    "#         ###\n",
    "#         for row in resultrows:\n",
    "\n",
    "#             #hyperlink:\n",
    "#             linki = row.find(class_='result-title hdrlnk')['href']\n",
    "#             links.append(linki)\n",
    "\n",
    "#             #description (or title) of listing:\n",
    "#             description = row.find(class_='result-title').text\n",
    "#             descs.append(description)\n",
    "\n",
    "#             #price:\n",
    "#             try:\n",
    "#                 price=float(  re.compile('[\\d]+').search( row.find(class_='result-price').text   ).group()   )\n",
    "#                 prices.append(price)\n",
    "#             except:\n",
    "#                 prices.append(np.NaN)\n",
    "\n",
    "#             #number of bedrooms and square footage:\n",
    "#             try:\n",
    "#                 housinginfo = row.find(class_='housing').text\n",
    "#                 #bedrooms:\n",
    "#                 try: #check whether # of bedrooms is given in the \"housing\" class:\n",
    "#                     br = float(re.compile('\\d').search(  re.compile('\\dbr').search(housinginfo).group()  ).group()  ) #this mess pulls out number of bedrooms\n",
    "#                 except AttributeError: #if not, try to find bedroom number in description:\n",
    "#                     try: \n",
    "#                         br=re.compile('\\d').search(re.compile('(\\dbr|\\d-br|\\d\\sbr|\\dbdr|\\d-bdr|\\d\\sbedroom|\\d-bedroom)').search(description.lower()).group()).group()\n",
    "\n",
    "#                     except: #or maybe the description says it's a studio:\n",
    "#                         stud=re.compile('studio').search(description.lower())\n",
    "#                         if stud is not None:\n",
    "#                             br = studiobedrooms\n",
    "#                         else:\n",
    "#                             br=np.NaN\n",
    "#                 #square footage:\n",
    "#                 try: #check whether square footage is given in \"housing\" class:\n",
    "#                     sqfeet = float(re.compile('[\\d]+').search( re.compile('[\\d]+ft2').search(housinginfo).group() ).group()   )\n",
    "#                     sqfeets.append(sqfeet)\n",
    "#                 except AttributeError: #if not, mark \"nan\" and move on.\n",
    "#                     sqfeets.append(np.NaN)\n",
    "#             except AttributeError: #in case 'housing' class doesn't exist for the listing:\n",
    "#                 sqfeets.append(np.NaN) #give up on square footage\n",
    "#                 #\n",
    "#                 try: #try to find number of bedrooms in description:\n",
    "#                     br=re.compile('\\d').search(re.compile('(\\dbr|\\d-br|\\d\\sbr|\\dbdr|\\d-bdr|\\d\\sbedroom|\\d-bedroom)').search(description.lower()).group()).group()\n",
    "#                 except: #if no appearance of \"br\" in description, look for \"studio\":\n",
    "#                     stud=re.compile('studio').search(description.lower())\n",
    "#                     if stud is not None:\n",
    "#                         br = studiobedrooms\n",
    "#                     else:\n",
    "#                         br=np.NaN\n",
    "#             finally: #br has now been defined, even if as \"nan\"\n",
    "#                 bedrooms.append(float(br))\n",
    "\n",
    "\n",
    "#             #neighborhood\n",
    "#             try:\n",
    "#                 nh = re.compile('[^)^(]+').search(  row.find(class_='result-hood').text.strip().lower()  ).group()        \n",
    "#                 hood.append(nh)\n",
    "#             except:\n",
    "#                 hood.append(np.NaN)\n",
    "\n",
    "\n",
    "\n",
    "#         time.sleep(3) #take a break before scraping the next page\n",
    "        \n",
    "#     raw_scraped_data = pd.DataFrame({'url': links, 'description': descs, 'price': prices, 'square_feet': sqfeets, 'bedrooms': bedrooms, 'neighborhood': hood})\n",
    "#     return raw_scraped_data\n"
   ]
  },
  {
   "cell_type": "markdown",
   "metadata": {},
   "source": [
    "## To scrape fresh data"
   ]
  },
  {
   "cell_type": "code",
   "execution_count": 4,
   "metadata": {},
   "outputs": [],
   "source": [
    "# raw_scraped_data = helpers.scrape_housing_data()"
   ]
  },
  {
   "cell_type": "code",
   "execution_count": 5,
   "metadata": {},
   "outputs": [],
   "source": [
    "# raw_scraped_data.head()"
   ]
  },
  {
   "cell_type": "code",
   "execution_count": 6,
   "metadata": {},
   "outputs": [],
   "source": [
    "# raw_scraped_data.to_csv('raw_scraped_data.csv', index=0)"
   ]
  },
  {
   "cell_type": "markdown",
   "metadata": {},
   "source": [
    "## To import already scraped data:"
   ]
  },
  {
   "cell_type": "code",
   "execution_count": 7,
   "metadata": {},
   "outputs": [
    {
     "data": {
      "text/html": [
       "<div>\n",
       "<style scoped>\n",
       "    .dataframe tbody tr th:only-of-type {\n",
       "        vertical-align: middle;\n",
       "    }\n",
       "\n",
       "    .dataframe tbody tr th {\n",
       "        vertical-align: top;\n",
       "    }\n",
       "\n",
       "    .dataframe thead th {\n",
       "        text-align: right;\n",
       "    }\n",
       "</style>\n",
       "<table border=\"1\" class=\"dataframe\">\n",
       "  <thead>\n",
       "    <tr style=\"text-align: right;\">\n",
       "      <th></th>\n",
       "      <th>url</th>\n",
       "      <th>description</th>\n",
       "      <th>price</th>\n",
       "      <th>square_feet</th>\n",
       "      <th>bedrooms</th>\n",
       "      <th>neighborhood</th>\n",
       "    </tr>\n",
       "  </thead>\n",
       "  <tbody>\n",
       "    <tr>\n",
       "      <th>0</th>\n",
       "      <td>https://sfbay.craigslist.org/sfc/apa/d/san-fra...</td>\n",
       "      <td>QUIET NORTH BEACH STUDIO W/ PRIVATE DECK &amp; GARDEN</td>\n",
       "      <td>2200.0</td>\n",
       "      <td>NaN</td>\n",
       "      <td>1.0</td>\n",
       "      <td>north beach / telegraph hill</td>\n",
       "    </tr>\n",
       "    <tr>\n",
       "      <th>1</th>\n",
       "      <td>https://sfbay.craigslist.org/nby/apa/d/petalum...</td>\n",
       "      <td>Closed to all YOur Need @ WoodCreek Apartments!!</td>\n",
       "      <td>2199.0</td>\n",
       "      <td>700.0</td>\n",
       "      <td>2.0</td>\n",
       "      <td>petaluma</td>\n",
       "    </tr>\n",
       "    <tr>\n",
       "      <th>2</th>\n",
       "      <td>https://sfbay.craigslist.org/sby/apa/d/cuperti...</td>\n",
       "      <td>Private Balconies, Call for Details, Stylish F...</td>\n",
       "      <td>4762.0</td>\n",
       "      <td>1291.0</td>\n",
       "      <td>2.0</td>\n",
       "      <td>cupertino</td>\n",
       "    </tr>\n",
       "    <tr>\n",
       "      <th>3</th>\n",
       "      <td>https://sfbay.craigslist.org/sfc/apa/d/san-fra...</td>\n",
       "      <td>When Minutes Matter, Live Where You Work and Play</td>\n",
       "      <td>3790.0</td>\n",
       "      <td>728.0</td>\n",
       "      <td>1.0</td>\n",
       "      <td>soma / south beach</td>\n",
       "    </tr>\n",
       "    <tr>\n",
       "      <th>4</th>\n",
       "      <td>https://sfbay.craigslist.org/sby/apa/d/milpita...</td>\n",
       "      <td>3 Bed - 3 Bath, Pickle Ball, Mountain view-Up ...</td>\n",
       "      <td>5810.0</td>\n",
       "      <td>1753.0</td>\n",
       "      <td>3.0</td>\n",
       "      <td>milpitas</td>\n",
       "    </tr>\n",
       "  </tbody>\n",
       "</table>\n",
       "</div>"
      ],
      "text/plain": [
       "                                                 url  \\\n",
       "0  https://sfbay.craigslist.org/sfc/apa/d/san-fra...   \n",
       "1  https://sfbay.craigslist.org/nby/apa/d/petalum...   \n",
       "2  https://sfbay.craigslist.org/sby/apa/d/cuperti...   \n",
       "3  https://sfbay.craigslist.org/sfc/apa/d/san-fra...   \n",
       "4  https://sfbay.craigslist.org/sby/apa/d/milpita...   \n",
       "\n",
       "                                         description   price  square_feet  \\\n",
       "0  QUIET NORTH BEACH STUDIO W/ PRIVATE DECK & GARDEN  2200.0          NaN   \n",
       "1   Closed to all YOur Need @ WoodCreek Apartments!!  2199.0        700.0   \n",
       "2  Private Balconies, Call for Details, Stylish F...  4762.0       1291.0   \n",
       "3  When Minutes Matter, Live Where You Work and Play  3790.0        728.0   \n",
       "4  3 Bed - 3 Bath, Pickle Ball, Mountain view-Up ...  5810.0       1753.0   \n",
       "\n",
       "   bedrooms                  neighborhood  \n",
       "0       1.0  north beach / telegraph hill  \n",
       "1       2.0                      petaluma  \n",
       "2       2.0                     cupertino  \n",
       "3       1.0            soma / south beach  \n",
       "4       3.0                      milpitas  "
      ]
     },
     "execution_count": 7,
     "metadata": {},
     "output_type": "execute_result"
    }
   ],
   "source": [
    "raw_scraped_data = pd.read_csv('raw_scraped_data.csv')\n",
    "raw_scraped_data.head()"
   ]
  },
  {
   "cell_type": "markdown",
   "metadata": {},
   "source": [
    "# cleaning"
   ]
  },
  {
   "cell_type": "code",
   "execution_count": null,
   "metadata": {},
   "outputs": [],
   "source": []
  },
  {
   "cell_type": "markdown",
   "metadata": {},
   "source": [
    "## given the dataframe, produce a cleaned list of the represented neighborhoods "
   ]
  },
  {
   "cell_type": "code",
   "execution_count": 8,
   "metadata": {},
   "outputs": [],
   "source": [
    "# def get_cleaned_neighborhoods(scraped_data):\n",
    "    \n",
    "#     \"\"\"\n",
    "#     Produce a list from scraped_data['neighborhood'] with no null values, no street addresses, and no slashes, e.g. separate \"richmond/antioch\" to \"richmond\", \"antioch\"\n",
    "    \n",
    "#     Args:\n",
    "#         scraped_data: dataframe with a column 'neighborhood' containing strings and np.nan\n",
    "        \n",
    "#     Returns:\n",
    "#         list of strings\n",
    "    \n",
    "#     \"\"\"\n",
    "    \n",
    "#     raw_nh_list = [nh for nh in list(set(scraped_data['neighborhood'].dropna())) if re.compile('[\\d]').search(nh) is None]\n",
    "    \n",
    "#     nested_nh_list = [nh.split('/') for nh in raw_nh_list]  # split on '/'\n",
    "#     ## also split on ',' ?\n",
    "#     nh_list = [x.strip().lower() for nh in nested_nh_list for x in nh]  # flatten the list\n",
    "#     nh_list = [x for x in nh_list if re.compile('[\\d]').search(x) is None]  # lose the elements containing digits\n",
    "#     nh_list = [x for x in nh_list if x != 'downtown'] # remove 'downtown'\n",
    "#     return nh_list\n",
    "    \n",
    "    \n",
    "\n",
    "# def extract_neighborhood(description, neighborhoods_list):\n",
    "    \n",
    "#     \"\"\"\n",
    "#     Search for any of the elements of neighborhoods_list in description.\n",
    "    \n",
    "#     Args:\n",
    "#         description: text string\n",
    "#         neighborhoods_list: list of strings\n",
    "        \n",
    "#     Returns:\n",
    "#         the first element of neighborhoods_list that appears in desctription.\n",
    "    \n",
    "#     \"\"\"\n",
    "    \n",
    "#     description = description.lower()\n",
    "#     neighborhoods_list = [x.lower() for x in neighborhoods_list]\n",
    "    \n",
    "#     orhoods = r'(\\b'+(r'\\b|\\b'.join(neighborhoods_list))+r'\\b)'\n",
    "    \n",
    "#     nh_in_description = re.compile(orhoods).search(description)\n",
    "    \n",
    "#     if nh_in_description is not None:\n",
    "#         nh = nh_in_description.group()\n",
    "# #         print(f\"found {nh} in description {description}\")\n",
    "#     else:\n",
    "#         nh = np.nan\n",
    "        \n",
    "#     return nh\n",
    "    \n",
    "\n",
    "# def fill_neighborhood_from_description(scraped_data):\n",
    "    \n",
    "#     \"\"\"\n",
    "#     Operates on the full dataframe.\n",
    "#     If missing data in 'neighborhood' column of scraped_data, check for 'neighborhood' from any row in 'description' column.\n",
    "    \n",
    "#     Args:\n",
    "#         scraped_data: dataframe, must have columns ['description', 'neighborhood']\n",
    "        \n",
    "#     Returns:\n",
    "#         copy of scraped_data with missing 'neighborhood' values filled using description, when possible.\n",
    "    \n",
    "#     functional dependencies:\n",
    "#         get_cleaned_neighborhoods\n",
    "#         extract_neighborhood\n",
    "#     \"\"\"\n",
    "    \n",
    "#     df = scraped_data.copy()\n",
    "    \n",
    "#     neighborhoods_list = get_cleaned_neighborhoods(scraped_data)\n",
    "# #     neighborhoods_list = list(set(scraped_data['neighborhood'].dropna()))\n",
    "\n",
    "    \n",
    "#     df['neighborhood'] = df.apply(lambda row: extract_neighborhood(row['description'], neighborhoods_list) if str(row['neighborhood'])=='nan' else row['neighborhood'], axis = 1)\n",
    "\n",
    "        \n",
    "#     return df"
   ]
  },
  {
   "cell_type": "code",
   "execution_count": 9,
   "metadata": {},
   "outputs": [],
   "source": [
    "# def street_address_to_neighborhood(possible_street_address, neighborhoods_list):\n",
    "#     \"\"\"\n",
    "#     If possible_street_address is not contained in neighborhoods_list, return whichever part of it is (if any).\n",
    "#     Args:\n",
    "#         possble_street_address: string, possibly containing digits\n",
    "#         neighborhoods_list\n",
    "#     Returns:\n",
    "#         string\n",
    "        \n",
    "#     \"\"\"\n",
    "# #     possible_street_address = possible_street_address.lower()\n",
    "#     neighborhoods_list = [x.lower() for x in neighborhoods_list]\n",
    "    \n",
    "#     orhoods = r'(\\b'+(r'\\b|\\b'.join(neighborhoods_list))+r'\\b)'\n",
    "\n",
    "    \n",
    "#     if (possible_street_address not in neighborhoods_list) and (str(possible_street_address) != 'nan'):\n",
    "        \n",
    "#         neighborhood_within_address = re.compile(orhoods).findall(possible_street_address.lower())\n",
    "#         if neighborhood_within_address != []:\n",
    "            \n",
    "#             return('/'.join(neighborhood_within_address))\n",
    "        \n",
    "#         else:\n",
    "#             return np.nan\n",
    "        \n",
    "#     else:\n",
    "#         return possible_street_address\n",
    "        \n"
   ]
  },
  {
   "cell_type": "code",
   "execution_count": 10,
   "metadata": {},
   "outputs": [],
   "source": [
    "# def convert_street_addresses(scraped_data):\n",
    "    \n",
    "#     \"\"\"\n",
    "#     Operates on the full dataframe.\n",
    "    \n",
    "#     If scraped_data['neighborhood'] is not in the cleaned list of neighborhoods (e.g. because it has digits in it),\n",
    "#     check whether it contains any of the cleaned neighborhoods. If so, replace with that. If not, replace with np.nan.\n",
    "    \n",
    "#     Args:\n",
    "#         scraped_data: dataframe with column ['neighborhood']\n",
    "        \n",
    "#     Returns:\n",
    "#         copy of scraped_data with 'neighborhood' replaced by np.nan if it contained digits\n",
    "    \n",
    "#     \"\"\"\n",
    "#     clean_nh_list = get_cleaned_neighborhoods(scraped_data)\n",
    "    \n",
    "#     df = scraped_data.copy()\n",
    "    \n",
    "#     df['neighborhood'] = df['neighborhood'].apply(lambda nh: street_address_to_neighborhood(nh, clean_nh_list))\n",
    "    \n",
    "#     return df"
   ]
  },
  {
   "cell_type": "code",
   "execution_count": null,
   "metadata": {},
   "outputs": [],
   "source": []
  },
  {
   "cell_type": "code",
   "execution_count": null,
   "metadata": {},
   "outputs": [],
   "source": []
  },
  {
   "cell_type": "code",
   "execution_count": null,
   "metadata": {},
   "outputs": [],
   "source": []
  },
  {
   "cell_type": "code",
   "execution_count": null,
   "metadata": {},
   "outputs": [],
   "source": []
  },
  {
   "cell_type": "markdown",
   "metadata": {},
   "source": [
    "# use scraped info about sf and oakland neighborhoods to lump:"
   ]
  },
  {
   "cell_type": "code",
   "execution_count": null,
   "metadata": {},
   "outputs": [],
   "source": []
  },
  {
   "cell_type": "markdown",
   "metadata": {},
   "source": [
    "As pulled from Craigslist, \"San Francisco\" is broken down into many neighborhoods. I would like to lump these all into \"san francisco\", so I can have enough samples per neighborhood to do statistics.\n",
    "\n",
    "I'll try scraping neighborhood names from Wikipedia:"
   ]
  },
  {
   "cell_type": "code",
   "execution_count": null,
   "metadata": {},
   "outputs": [],
   "source": []
  },
  {
   "cell_type": "code",
   "execution_count": 11,
   "metadata": {},
   "outputs": [],
   "source": [
    "\n",
    "\n",
    "\n",
    "# from bs4 import BeautifulSoup\n",
    "# from urllib.request import urlopen\n",
    "# import re\n",
    "\n",
    "# def scrape_neighborhoods_from_wikipedia(city):\n",
    "    \n",
    "#     \"\"\"\n",
    "#     Args:\n",
    "#         city: name of the city\n",
    "#     Returns:\n",
    "#         list of neighborhoods in the given city\n",
    "#     \"\"\"\n",
    "    \n",
    "#     url = \"https://en.wikipedia.org/wiki/List_of_neighborhoods_in_\" + '_'.join([x.capitalize() for x in city.split(' ')])\n",
    "\n",
    "#     html = urlopen(url)\n",
    "\n",
    "#     soup = BeautifulSoup(html,'html')\n",
    "\n",
    "#     allsections=soup.select('.toclevel-1')\n",
    "\n",
    "#     hoods=[];\n",
    "#     for sec in allsections:\n",
    "#         hoods.append(re.compile(\"[a-z\\s/'-]+\").search(sec.text.lower()).group().strip())\n",
    "    \n",
    "#     hoods = [nh for nh in hoods if nh.lower() not in ['see also','references', 'external links']]\n",
    "    \n",
    "#     return hoods"
   ]
  },
  {
   "cell_type": "code",
   "execution_count": 12,
   "metadata": {},
   "outputs": [],
   "source": [
    "# scrape_neighborhoods_from_wikipedia('san francisco')"
   ]
  },
  {
   "cell_type": "code",
   "execution_count": 13,
   "metadata": {},
   "outputs": [],
   "source": [
    "# urlsfnh=\"https://en.wikipedia.org/wiki/List_of_neighborhoods_in_San_Francisco\"\n",
    "\n",
    "# htmlsfnh=urlopen(urlsfnh)\n",
    "\n",
    "# soupsfnh = BeautifulSoup(htmlsfnh,'html')\n",
    "\n",
    "# allsections=soupsfnh.select('.toclevel-1')\n",
    "\n",
    "# sfhoods=[];\n",
    "# for sec in allsections:\n",
    "#     sfhoods.append(re.compile(\"[a-z\\s/'-]+\").search(sec.text.lower()).group().strip())\n",
    "    \n",
    "# sfhoods = [nh for nh in sfhoods if nh.lower() not in ['see also','references', 'external links']]"
   ]
  },
  {
   "cell_type": "code",
   "execution_count": 14,
   "metadata": {},
   "outputs": [],
   "source": [
    "# urloak=\"https://en.wikipedia.org/wiki/List_of_neighborhoods_in_Oakland,_California\"\n",
    "\n",
    "# htmloak=urlopen(urloak)\n",
    "\n",
    "# soupoak = BeautifulSoup(htmloak,'html')\n",
    "\n",
    "# allsections=soupoak.select('.toclevel-1')\n",
    "\n",
    "# oakhoods=[];\n",
    "# for sec in allsections:\n",
    "#     oakhoods.append(re.compile(\"[a-z\\s/'-]+\").search(sec.text.lower()).group().strip())\n",
    "    \n",
    "# oakhoods=[nh for nh in oakhoods if nh.lower() not in ['see also','references', 'external links']]"
   ]
  },
  {
   "cell_type": "code",
   "execution_count": 15,
   "metadata": {},
   "outputs": [],
   "source": [
    "# sfhoods"
   ]
  },
  {
   "cell_type": "code",
   "execution_count": 16,
   "metadata": {},
   "outputs": [],
   "source": [
    "# oakhoods"
   ]
  },
  {
   "cell_type": "code",
   "execution_count": null,
   "metadata": {},
   "outputs": [],
   "source": []
  },
  {
   "cell_type": "code",
   "execution_count": 17,
   "metadata": {},
   "outputs": [],
   "source": [
    "## loop through dataframe neighborhoods, and check whether "
   ]
  },
  {
   "cell_type": "code",
   "execution_count": 18,
   "metadata": {},
   "outputs": [],
   "source": [
    "# def lump_neighborhoods_function(nh):\n",
    "    \n",
    "#     \"\"\"\n",
    "#     Args:\n",
    "#         nh: string or np.nan representing the name of a neighborhood.\n",
    "#     Returns: 'san francisco' or 'oakland' as appropriate if \n",
    "    \n",
    "#     sfhoods and oakhoods must be externally defined.\n",
    "    \n",
    "#     \"\"\"\n",
    "#     if nh in sfhoods:\n",
    "#         new_nh = 'san francisco'\n",
    "    \n",
    "#     elif nh in oakhoods:\n",
    "#         new_nh = 'oakland'\n",
    "    \n",
    "#     elif str(nh)!='nan':\n",
    "#         if re.compile('san jose').search(nh) is not None:\n",
    "#             new_nh = 'san jose'\n",
    "#         else:\n",
    "#             new_nh = nh\n",
    "    \n",
    "#     else:\n",
    "#         new_nh = nh\n",
    "        \n",
    "#     return new_nh\n",
    "    \n",
    "    \n",
    "# ## other cleaning? e.g. remove \", ca\" from ends of neighborhoods\n",
    "\n",
    "\n",
    "# def chop_endings_function(thestring, list_of_endings):\n",
    "#     \"\"\"\n",
    "#     Args:\n",
    "#         thestring: string to chop\n",
    "#         list_of_endings: list of endings to chop off of thestring\n",
    "#     Returns:\n",
    "#         thestring with ending chopped off, if it was there to begin with.\n",
    "#     \"\"\"\n",
    "#     if type(thestring)==str:\n",
    "#         for ending in list_of_endings[::-1]:\n",
    "#             if thestring.endswith(ending):\n",
    "#                 thestring = thestring[:-len(ending)].strip()\n",
    "\n",
    "#     return thestring"
   ]
  },
  {
   "cell_type": "code",
   "execution_count": 19,
   "metadata": {},
   "outputs": [],
   "source": [
    "# def lump_and_chop_neighborhoods(data):\n",
    "#     \"\"\"\n",
    "#     Args:\n",
    "#         data: dataframe with columns \n",
    "#     Returns:\n",
    "        \n",
    "#     \"\"\"\n",
    "    \n",
    "#     data_copy = data.copy()\n",
    "    \n",
    "#     data_copy['neighborhood'] = data_copy['neighborhood'].apply(lump_neighborhoods_function)\n",
    "#     data_copy['neighborhood'] = data_copy['neighborhood'].apply(lambda nh: chop_endings_function(nh, ['ca', ', ca', ',ca']))\n",
    "    \n",
    "#     return data_copy"
   ]
  },
  {
   "cell_type": "code",
   "execution_count": null,
   "metadata": {},
   "outputs": [],
   "source": []
  },
  {
   "cell_type": "code",
   "execution_count": null,
   "metadata": {},
   "outputs": [],
   "source": []
  },
  {
   "cell_type": "code",
   "execution_count": null,
   "metadata": {},
   "outputs": [],
   "source": []
  },
  {
   "cell_type": "code",
   "execution_count": null,
   "metadata": {},
   "outputs": [],
   "source": []
  },
  {
   "cell_type": "markdown",
   "metadata": {},
   "source": [
    "# put it together to clean the data"
   ]
  },
  {
   "cell_type": "code",
   "execution_count": 20,
   "metadata": {},
   "outputs": [],
   "source": [
    "# def all_cleaning(raw_data):\n",
    "    \n",
    "#     \"\"\"\n",
    "#     Args:\n",
    "#         raw_data: includes columns ['description', 'price', 'neighborhood']\n",
    "#     Returns:\n",
    "#         dataframe with cleaned neighborhood information, no duplicates, and no rows with missing data.\n",
    "#     \"\"\"\n",
    "    \n",
    "#     out_df = raw_data.pipe(convert_street_addresses).pipe(fill_neighborhood_from_description).pipe(lump_and_chop_neighborhoods)\n",
    "#     out_df = out_df.drop_duplicates(subset = ['description', 'price'])\n",
    "#     out_df = out_df[['url', 'description', 'neighborhood', 'price', 'bedrooms']]\n",
    "#     out_df = out_df.dropna()\n",
    "    \n",
    "#     #discard listings with truly enormous rent (probably actually for sale)\n",
    "#     out_df = out_df.loc[out_df['price']<1e4]\n",
    "    \n",
    "#     #not using area as a feature now\n",
    "#     #dfclean['1000sqfeet']=dfclean['sq. feet']/1000  #normalize so all features are order 1 (no area is in 1000s of square feet)\n",
    "#     #no need to rescale price when only using one feature per neighborhood\n",
    "#     #dfclean['pricek']=dfclean['price']/1000 #normalize so all features are order 1 (price is in thousands of dollars)\n",
    "\n",
    "    \n",
    "#     return out_df\n",
    "    \n",
    "# def filter_to_popular_neighborhoods(df, min_count = 50):\n",
    "    \n",
    "#     \"\"\"\n",
    "#     narrow down neighborhoods considered. there are too many, with not enough samples for most.\n",
    "#     Args:\n",
    "#         df: cleaned dataframe with columns ['description', 'neighborhood']\n",
    "#         min_count: minimum number of listings a neighborhood must have to be counted. defaults to 50.\n",
    "#     Returns:\n",
    "#         rows of the input dataframe df where neighborhood is one with at least min_count listings.\n",
    "#     \"\"\"\n",
    "    \n",
    "    \n",
    "#     byhood=df.groupby(by='neighborhood').count()['description'].sort_values(ascending=False)\n",
    "#     maxhoods=list(byhood[byhood >= 50].index) #pick off only neighborhoods with >50 listings\n",
    "    \n",
    "#     df_maxhoods = df.copy()\n",
    "#     df_maxhoods['maxhood'] = df_maxhoods['neighborhood'].apply(lambda x: 1 if x in maxhoods else 0)\n",
    "#     df_maxhoods = df_maxhoods.loc[df_maxhoods['maxhood'] == 1]\n",
    "    \n",
    "#     return df_maxhoods.drop(columns=['maxhood'])\n",
    "    \n",
    "\n",
    "    "
   ]
  },
  {
   "cell_type": "code",
   "execution_count": null,
   "metadata": {},
   "outputs": [],
   "source": []
  },
  {
   "cell_type": "code",
   "execution_count": 23,
   "metadata": {},
   "outputs": [],
   "source": [
    "cleaned_data = raw_scraped_data.pipe(helpers.all_cleaning).pipe(helpers.filter_to_popular_neighborhoods)\n"
   ]
  },
  {
   "cell_type": "code",
   "execution_count": 24,
   "metadata": {},
   "outputs": [
    {
     "data": {
      "text/plain": [
       "1265"
      ]
     },
     "execution_count": 24,
     "metadata": {},
     "output_type": "execute_result"
    }
   ],
   "source": [
    "len(cleaned_data)"
   ]
  },
  {
   "cell_type": "code",
   "execution_count": 25,
   "metadata": {},
   "outputs": [],
   "source": [
    "# save cleaned data to .csv\n",
    "cleaned_data.to_csv('craigslist_bay_area_rentals.csv')"
   ]
  },
  {
   "cell_type": "code",
   "execution_count": null,
   "metadata": {},
   "outputs": [],
   "source": []
  },
  {
   "cell_type": "markdown",
   "metadata": {},
   "source": [
    "# transform feaures"
   ]
  },
  {
   "cell_type": "markdown",
   "metadata": {},
   "source": [
    "Very simple: just engineer one feature, price per room."
   ]
  },
  {
   "cell_type": "code",
   "execution_count": 552,
   "metadata": {},
   "outputs": [],
   "source": [
    "def transform_features(cleaned_data):\n",
    "    \n",
    "    \"\"\"\n",
    "    Args:\n",
    "        cleaned_data: dataframe with columns ['price', 'bedrooms']\n",
    "    Returns:\n",
    "        input dataframe with an additional column, price per bedroom\n",
    "    \"\"\"\n",
    "    \n",
    "    transformed_data = cleaned_data.copy()\n",
    "    transformed_data['price_per_room'] = transformed_data['price']/transformed_data['bedrooms']\n",
    "    \n",
    "    return transformed_data"
   ]
  },
  {
   "cell_type": "code",
   "execution_count": 553,
   "metadata": {},
   "outputs": [
    {
     "data": {
      "text/html": [
       "<div>\n",
       "<style scoped>\n",
       "    .dataframe tbody tr th:only-of-type {\n",
       "        vertical-align: middle;\n",
       "    }\n",
       "\n",
       "    .dataframe tbody tr th {\n",
       "        vertical-align: top;\n",
       "    }\n",
       "\n",
       "    .dataframe thead th {\n",
       "        text-align: right;\n",
       "    }\n",
       "</style>\n",
       "<table border=\"1\" class=\"dataframe\">\n",
       "  <thead>\n",
       "    <tr style=\"text-align: right;\">\n",
       "      <th></th>\n",
       "      <th>url</th>\n",
       "      <th>description</th>\n",
       "      <th>neighborhood</th>\n",
       "      <th>price</th>\n",
       "      <th>bedrooms</th>\n",
       "      <th>price_per_room</th>\n",
       "    </tr>\n",
       "  </thead>\n",
       "  <tbody>\n",
       "    <tr>\n",
       "      <th>0</th>\n",
       "      <td>https://sfbay.craigslist.org/sby/apa/d/san-jos...</td>\n",
       "      <td>1 Bedroom Upstairs</td>\n",
       "      <td>san jose</td>\n",
       "      <td>1650.0</td>\n",
       "      <td>1.0</td>\n",
       "      <td>1650.0</td>\n",
       "    </tr>\n",
       "    <tr>\n",
       "      <th>2</th>\n",
       "      <td>https://sfbay.craigslist.org/sfc/apa/d/san-fra...</td>\n",
       "      <td>2BR Sunnyside Home in Great Location!</td>\n",
       "      <td>san francisco</td>\n",
       "      <td>3950.0</td>\n",
       "      <td>2.0</td>\n",
       "      <td>1975.0</td>\n",
       "    </tr>\n",
       "    <tr>\n",
       "      <th>3</th>\n",
       "      <td>https://sfbay.craigslist.org/sby/apa/d/san-jos...</td>\n",
       "      <td>WOW kitchen, Open concept 1BR  apt, Very spaci...</td>\n",
       "      <td>san jose</td>\n",
       "      <td>2600.0</td>\n",
       "      <td>1.0</td>\n",
       "      <td>2600.0</td>\n",
       "    </tr>\n",
       "    <tr>\n",
       "      <th>7</th>\n",
       "      <td>https://sfbay.craigslist.org/eby/apa/d/fremont...</td>\n",
       "      <td>Beautiful Home in Fremont Mission San Jose Dis...</td>\n",
       "      <td>fremont/union city/newark</td>\n",
       "      <td>4500.0</td>\n",
       "      <td>5.0</td>\n",
       "      <td>900.0</td>\n",
       "    </tr>\n",
       "    <tr>\n",
       "      <th>9</th>\n",
       "      <td>https://sfbay.craigslist.org/eby/apa/d/concord...</td>\n",
       "      <td>Cozy Studio Apartment next to Downtown Concord...</td>\n",
       "      <td>concord/pleasant hill/martinez</td>\n",
       "      <td>1595.0</td>\n",
       "      <td>1.0</td>\n",
       "      <td>1595.0</td>\n",
       "    </tr>\n",
       "  </tbody>\n",
       "</table>\n",
       "</div>"
      ],
      "text/plain": [
       "                                                 url  \\\n",
       "0  https://sfbay.craigslist.org/sby/apa/d/san-jos...   \n",
       "2  https://sfbay.craigslist.org/sfc/apa/d/san-fra...   \n",
       "3  https://sfbay.craigslist.org/sby/apa/d/san-jos...   \n",
       "7  https://sfbay.craigslist.org/eby/apa/d/fremont...   \n",
       "9  https://sfbay.craigslist.org/eby/apa/d/concord...   \n",
       "\n",
       "                                         description  \\\n",
       "0                                 1 Bedroom Upstairs   \n",
       "2              2BR Sunnyside Home in Great Location!   \n",
       "3  WOW kitchen, Open concept 1BR  apt, Very spaci...   \n",
       "7  Beautiful Home in Fremont Mission San Jose Dis...   \n",
       "9  Cozy Studio Apartment next to Downtown Concord...   \n",
       "\n",
       "                     neighborhood   price  bedrooms  price_per_room  \n",
       "0                        san jose  1650.0       1.0          1650.0  \n",
       "2                   san francisco  3950.0       2.0          1975.0  \n",
       "3                        san jose  2600.0       1.0          2600.0  \n",
       "7       fremont/union city/newark  4500.0       5.0           900.0  \n",
       "9  concord/pleasant hill/martinez  1595.0       1.0          1595.0  "
      ]
     },
     "execution_count": 553,
     "metadata": {},
     "output_type": "execute_result"
    }
   ],
   "source": [
    "transformed_data = transform_features(cleaned_data)\n",
    "\n",
    "transformed_data.head()"
   ]
  },
  {
   "cell_type": "code",
   "execution_count": 555,
   "metadata": {},
   "outputs": [
    {
     "name": "stdout",
     "output_type": "stream",
     "text": [
      "<class 'pandas.core.frame.DataFrame'>\n",
      "Int64Index: 1218 entries, 0 to 2998\n",
      "Data columns (total 6 columns):\n",
      "url               1218 non-null object\n",
      "description       1218 non-null object\n",
      "neighborhood      1218 non-null object\n",
      "price             1218 non-null float64\n",
      "bedrooms          1218 non-null float64\n",
      "price_per_room    1218 non-null float64\n",
      "dtypes: float64(3), object(3)\n",
      "memory usage: 66.6+ KB\n"
     ]
    }
   ],
   "source": [
    "transformed_data.info()"
   ]
  },
  {
   "cell_type": "markdown",
   "metadata": {},
   "source": [
    "# visualize"
   ]
  },
  {
   "cell_type": "code",
   "execution_count": 557,
   "metadata": {},
   "outputs": [
    {
     "data": {
      "text/plain": [
       "['fremont/union city/newark',\n",
       " 'san francisco',\n",
       " 'mountain view',\n",
       " 'cupertino',\n",
       " 'soma/south beach',\n",
       " 'san jose',\n",
       " 'santa clara',\n",
       " 'dublin/pleasanton/livermore',\n",
       " 'santa rosa',\n",
       " 'concord/pleasant hill/martinez',\n",
       " 'sunnyvale']"
      ]
     },
     "execution_count": 557,
     "metadata": {},
     "output_type": "execute_result"
    }
   ],
   "source": [
    "max_neighborhoods_set = list(set(cleaned_data['neighborhood']))\n",
    "max_neighborhoods_set"
   ]
  },
  {
   "cell_type": "code",
   "execution_count": 709,
   "metadata": {},
   "outputs": [
    {
     "data": {
      "image/png": "[encoded data removed]",
      "text/plain": [
       "<Figure size 432x288 with 1 Axes>"
      ]
     },
     "metadata": {
      "needs_background": "light"
     },
     "output_type": "display_data"
    },
    {
     "data": {
      "image/png": "[encoded data removed]",
      "text/plain": [
       "<Figure size 432x288 with 1 Axes>"
      ]
     },
     "metadata": {
      "needs_background": "light"
     },
     "output_type": "display_data"
    }
   ],
   "source": [
    "ax = plt.subplots()[1];\n",
    "fig = plt.subplots()[0]"
   ]
  },
  {
   "cell_type": "code",
   "execution_count": 710,
   "metadata": {},
   "outputs": [
    {
     "data": {
      "text/plain": [
       "matplotlib.axes._subplots.AxesSubplot"
      ]
     },
     "execution_count": 710,
     "metadata": {},
     "output_type": "execute_result"
    }
   ],
   "source": [
    "type(ax)"
   ]
  },
  {
   "cell_type": "code",
   "execution_count": 711,
   "metadata": {},
   "outputs": [
    {
     "data": {
      "text/plain": [
       "(array([2., 0., 1., 0., 1., 0., 3., 0., 1., 3.]),\n",
       " array([1. , 1.5, 2. , 2.5, 3. , 3.5, 4. , 4.5, 5. , 5.5, 6. ]),\n",
       " <a list of 10 Patch objects>)"
      ]
     },
     "execution_count": 711,
     "metadata": {},
     "output_type": "execute_result"
    }
   ],
   "source": [
    "ax.hist([1,1,2,3,4,4,4,5,6,6,6])"
   ]
  },
  {
   "cell_type": "code",
   "execution_count": 712,
   "metadata": {},
   "outputs": [
    {
     "data": {
      "image/png": "[encoded data removed]",
      "text/plain": [
       "<Figure size 432x288 with 1 Axes>"
      ]
     },
     "execution_count": 712,
     "metadata": {},
     "output_type": "execute_result"
    }
   ],
   "source": [
    "fig"
   ]
  },
  {
   "cell_type": "code",
   "execution_count": 864,
   "metadata": {},
   "outputs": [],
   "source": [
    "def plot_price_distr(transformed_data, neighborhoods = list(set(transformed_data['neighborhood']))):\n",
    "    \"\"\"\n",
    "    Produce a histogram of the prices for the given neighborhood, along with the log normal of the same mean and standard deviation.\n",
    "    Args:\n",
    "        transformed_data: dataframe with columns ['neighborhood', 'price_per_room']\n",
    "        neighborhoods: a list containing any of the values in the 'neighborhood' column of transformed_data\n",
    "    Returns: a figure\n",
    "    \"\"\"\n",
    "    \n",
    "    fig, axes = plt.subplots(len(neighborhoods), figsize=(10,50), sharex=True)\n",
    "    plt.subplots_adjust(hspace = 1)\n",
    "\n",
    "    \n",
    "    for i, neighborhood in enumerate(neighborhoods):\n",
    "        \n",
    "        if type(axes) == np.ndarray:\n",
    "            axi = axes[i]\n",
    "        else:\n",
    "            axi = axes\n",
    "        \n",
    "        # check neighborhood is represented in transformed_data:\n",
    "        if neighborhood not in list(set(transformed_data['neighborhood'])):\n",
    "            print(f\"{neighborhood} not found as a value in the 'neighborhood' column of the given dataframe.\")\n",
    "            return None\n",
    "\n",
    "        else:\n",
    "\n",
    "            nh_df = transformed_data.loc[transformed_data['neighborhood'] == neighborhood]\n",
    "\n",
    "            nh_prices = nh_df['price_per_room'].values\n",
    "\n",
    "            nh_prices_ln = np.log([p for p in nh_prices if p > 0])  # exclude prices of 0\n",
    "            mu_ln = np.mean(nh_prices_ln)\n",
    "            std_ln = np.std(nh_prices_ln)\n",
    "\n",
    "\n",
    "            axi.hist(nh_prices, bins = 10, density = True);\n",
    "            Y = np.exp(np.arange(0, np.log(transformed_data['price_per_room'].max()), .01))\n",
    "            Ydistr = (1/((2*np.pi)**.5*std_ln*Y))*np.array( np.exp(-(np.log(Y) - mu_ln)**2/(2*std_ln**2)) ) \n",
    "            axi.plot( Y, Ydistr  );\n",
    "            \n",
    "            axi.set_title(neighborhood);\n",
    "            \n",
    "#     return fig\n"
   ]
  },
  {
   "cell_type": "code",
   "execution_count": 865,
   "metadata": {},
   "outputs": [
    {
     "data": {
      "image/png": "[encoded data removed]",
      "text/plain": [
       "<Figure size 720x3600 with 11 Axes>"
      ]
     },
     "metadata": {
      "needs_background": "light"
     },
     "output_type": "display_data"
    }
   ],
   "source": [
    "plot_price_distr(transformed_data)#, neighborhoods = ['santa rosa'])"
   ]
  },
  {
   "cell_type": "code",
   "execution_count": null,
   "metadata": {},
   "outputs": [],
   "source": []
  },
  {
   "cell_type": "code",
   "execution_count": null,
   "metadata": {},
   "outputs": [],
   "source": []
  },
  {
   "cell_type": "markdown",
   "metadata": {},
   "source": [
    "# detect outliers using log normal distribution"
   ]
  },
  {
   "cell_type": "code",
   "execution_count": 804,
   "metadata": {},
   "outputs": [],
   "source": [
    "def get_outliers(transformed_data, neighborhoods = list(set(transformed_data['neighborhood'])), z = 2.5):\n",
    "    \"\"\"\n",
    "    Detect listings in the dataframe transformed_data with anomologously low price per room.\n",
    "    Args:\n",
    "        transformed_data: dataframe with columns ['neighborhood', 'price_per_room']\n",
    "        neighborhoods: a list containing any of the values in the 'neighborhood' column of transformed_data\n",
    "        z: largest allowed z-score of a non-outlier. Defaults to 2.5.\n",
    "        \n",
    "    Returns: rows of transformed_data for the given neighborhoods with anomalously low prices per room.\n",
    "    \"\"\"\n",
    "    \n",
    "#     fig, axes = plt.subplots(len(neighborhoods))\n",
    "#     plt.subplots_adjust(hspace = 1)\n",
    "\n",
    "    low_outliers_df_all_neighborhoods = pd.DataFrame(columns = transformed_data.columns)\n",
    "    \n",
    "    for i, neighborhood in enumerate(neighborhoods):\n",
    "        \n",
    "#         if type(axes) == np.ndarray:\n",
    "#             axi = axes[i]\n",
    "#         else:\n",
    "#             axi = axes\n",
    "        \n",
    "        # check neighborhood is represented in transformed_data:\n",
    "        if neighborhood not in list(set(transformed_data['neighborhood'])):\n",
    "            print(f\"{neighborhood} not found as a value in the 'neighborhood' column of the given dataframe.\")\n",
    "            low_outliers_df = None\n",
    "\n",
    "        else:\n",
    "\n",
    "            nh_df = transformed_data.loc[transformed_data['neighborhood'] == neighborhood]\n",
    "\n",
    "            nh_prices = nh_df['price_per_room'].values\n",
    "\n",
    "            nh_prices_ln = np.log([p for p in nh_prices if p > 0])  # exclude prices of 0\n",
    "            mu_ln = np.mean(nh_prices_ln)\n",
    "            std_ln = np.std(nh_prices_ln)\n",
    "            \n",
    "            # Filter dataframe\n",
    "            lowest_non_outlier_price = np.exp(mu_ln - z*std_ln)\n",
    "            low_outliers_df = nh_df.loc[nh_df['price_per_room'] < lowest_non_outlier_price]\n",
    "\n",
    "\n",
    "#             # Plotting\n",
    "#             axi.hist(nh_prices, bins = 10, density = True);\n",
    "#             Y = np.exp(np.arange(0,10,.01))\n",
    "#             Ydistr = (1/((2*np.pi)**.5*std_ln*Y))*np.array( np.exp(-(np.log(Y) - mu_ln)**2/(2*std_ln**2)) ) \n",
    "#             axi.plot( Y, Ydistr  );\n",
    "#             axi.set_title(neighborhood);\n",
    "\n",
    "        low_outliers_df_all_neighborhoods = pd.concat([low_outliers_df_all_neighborhoods, low_outliers_df], axis = 0)\n",
    "            \n",
    "            \n",
    "    return low_outliers_df_all_neighborhoods\n",
    "            \n",
    "            \n",
    "            \n"
   ]
  },
  {
   "cell_type": "code",
   "execution_count": 810,
   "metadata": {},
   "outputs": [],
   "source": [
    "low_outliers_df = get_outliers(transformed_data)"
   ]
  },
  {
   "cell_type": "code",
   "execution_count": 840,
   "metadata": {},
   "outputs": [
    {
     "data": {
      "text/html": [
       "<a href=https://sfbay.craigslist.org/sfc/apa/d/santa-clara-located-at-lincoln-st/7076785099.html target='_blank'> $450.0 per room in a San francisco 2.0-bedroom. </a>"
      ],
      "text/plain": [
       "<IPython.core.display.HTML object>"
      ]
     },
     "metadata": {},
     "output_type": "display_data"
    },
    {
     "data": {
      "text/html": [
       "<a href=https://sfbay.craigslist.org/sby/apa/d/san-francisco-furnished-room-available/7076719896.html target='_blank'> $232.0 per room in a San francisco 6.0-bedroom. </a>"
      ],
      "text/plain": [
       "<IPython.core.display.HTML object>"
      ]
     },
     "metadata": {},
     "output_type": "display_data"
    },
    {
     "data": {
      "text/html": [
       "<a href=https://sfbay.craigslist.org/sfc/apa/d/san-francisco-room-available-in-5-br-25/7076624040.html target='_blank'> $240.0 per room in a San francisco 5.0-bedroom. </a>"
      ],
      "text/plain": [
       "<IPython.core.display.HTML object>"
      ]
     },
     "metadata": {},
     "output_type": "display_data"
    },
    {
     "data": {
      "text/html": [
       "<a href=https://sfbay.craigslist.org/sfc/apa/d/san-francisco-2-beds-2-baths-nice-condo/7076438579.html target='_blank'> $415.0 per room in a San francisco 2.0-bedroom. </a>"
      ],
      "text/plain": [
       "<IPython.core.display.HTML object>"
      ]
     },
     "metadata": {},
     "output_type": "display_data"
    },
    {
     "data": {
      "text/html": [
       "<a href=https://sfbay.craigslist.org/sfc/apa/d/san-francisco-3-beds-3-baths-separate/7076436976.html target='_blank'> $400.0 per room in a San francisco 3.0-bedroom. </a>"
      ],
      "text/plain": [
       "<IPython.core.display.HTML object>"
      ]
     },
     "metadata": {},
     "output_type": "display_data"
    },
    {
     "data": {
      "text/html": [
       "<a href=https://sfbay.craigslist.org/sfc/apa/d/san-francisco-available-now-condo-2beds/7076583066.html target='_blank'> $1700.0 per room in a Soma/south beach 2.0-bedroom. </a>"
      ],
      "text/plain": [
       "<IPython.core.display.HTML object>"
      ]
     },
     "metadata": {},
     "output_type": "display_data"
    },
    {
     "data": {
      "text/html": [
       "<a href=https://sfbay.craigslist.org/sby/apa/d/san-jose-spacious-2br-apartment-at-low/7059120748.html target='_blank'> $400.0 per room in a San jose 2.0-bedroom. </a>"
      ],
      "text/plain": [
       "<IPython.core.display.HTML object>"
      ]
     },
     "metadata": {},
     "output_type": "display_data"
    },
    {
     "data": {
      "text/html": [
       "<a href=https://sfbay.craigslist.org/sby/apa/d/san-jose-charming-and-very-bright-3bedr/7076594438.html target='_blank'> $517.0 per room in a San jose 3.0-bedroom. </a>"
      ],
      "text/plain": [
       "<IPython.core.display.HTML object>"
      ]
     },
     "metadata": {},
     "output_type": "display_data"
    },
    {
     "data": {
      "text/html": [
       "<a href=https://sfbay.craigslist.org/sby/apa/d/santa-clara-brand-new-1-1-furnished-apt/7076634164.html target='_blank'> $120.0 per room in a Santa clara 1.0-bedroom. </a>"
      ],
      "text/plain": [
       "<IPython.core.display.HTML object>"
      ]
     },
     "metadata": {},
     "output_type": "display_data"
    },
    {
     "data": {
      "text/html": [
       "<a href=https://sfbay.craigslist.org/eby/apa/d/tracy-beautiful-5-bed-bath-home/7076640675.html target='_blank'> $620.0 per room in a Dublin/pleasanton/livermore 5.0-bedroom. </a>"
      ],
      "text/plain": [
       "<IPython.core.display.HTML object>"
      ]
     },
     "metadata": {},
     "output_type": "display_data"
    },
    {
     "data": {
      "text/html": [
       "<a href=https://sfbay.craigslist.org/nby/apa/d/santa-rosa-views-gameroom-master-suite/7065093039.html target='_blank'> $0.0 per room in a Santa rosa 3.0-bedroom. </a>"
      ],
      "text/plain": [
       "<IPython.core.display.HTML object>"
      ]
     },
     "metadata": {},
     "output_type": "display_data"
    },
    {
     "data": {
      "text/html": [
       "<a href=https://sfbay.craigslist.org/sby/apa/d/mountain-view-find-your-perfect/7076604233.html target='_blank'> $500.0 per room in a Sunnyvale 2.0-bedroom. </a>"
      ],
      "text/plain": [
       "<IPython.core.display.HTML object>"
      ]
     },
     "metadata": {},
     "output_type": "display_data"
    },
    {
     "data": {
      "text/html": [
       "<a href=https://sfbay.craigslist.org/sby/apa/d/sunnyvale-2-bd-garages-available/7061379694.html target='_blank'> $550.0 per room in a Sunnyvale 2.0-bedroom. </a>"
      ],
      "text/plain": [
       "<IPython.core.display.HTML object>"
      ]
     },
     "metadata": {},
     "output_type": "display_data"
    }
   ],
   "source": [
    "from IPython.core.display import display, HTML\n",
    "\n",
    "# display a useful link to the listings marked as low-price outliers:\n",
    "def display_link(row):\n",
    "    \n",
    "    link = display(HTML(f\"<a href={row['url']} target='_blank'> ${np.round(row['price_per_room'])} per room in a {row['neighborhood'].capitalize()} {row['bedrooms']}-bedroom. </a>\"))\n",
    "    \n",
    "    return link\n",
    "    \n",
    "for row in [low_outliers_df.iloc[i] for i in range(len(low_outliers_df))]:\n",
    "    display_link(row)\n",
    "\n"
   ]
  },
  {
   "cell_type": "markdown",
   "metadata": {},
   "source": [
    "# TO DO:"
   ]
  },
  {
   "cell_type": "markdown",
   "metadata": {},
   "source": [
    "1. Sometimes this misrepresents rent per room, e.g. if someone is renting out just 1 room in a 2-bedroom, and has listed rent for just the 1 room, but has posted the listing as a \"2-bedroom\". Can I find a way to correct this error by looking for particular words in the description/title?\n",
    "e.g. try to clean \"bedrooms\" data by checking description for \"room available in\". if it's there, probably should set \"becrooms\" = 1.0.\n",
    "2. Many of the price distributions look kinda bimodal. Should explore this and consider using a different distribution with which to define outliers."
   ]
  },
  {
   "cell_type": "code",
   "execution_count": null,
   "metadata": {},
   "outputs": [],
   "source": []
  },
  {
   "cell_type": "code",
   "execution_count": null,
   "metadata": {},
   "outputs": [],
   "source": []
  },
  {
   "cell_type": "code",
   "execution_count": null,
   "metadata": {},
   "outputs": [],
   "source": []
  },
  {
   "cell_type": "code",
   "execution_count": null,
   "metadata": {},
   "outputs": [],
   "source": []
  },
  {
   "cell_type": "code",
   "execution_count": null,
   "metadata": {},
   "outputs": [],
   "source": []
  },
  {
   "cell_type": "code",
   "execution_count": null,
   "metadata": {},
   "outputs": [],
   "source": []
  },
  {
   "cell_type": "code",
   "execution_count": null,
   "metadata": {},
   "outputs": [],
   "source": []
  },
  {
   "cell_type": "code",
   "execution_count": null,
   "metadata": {},
   "outputs": [],
   "source": []
  },
  {
   "cell_type": "code",
   "execution_count": null,
   "metadata": {},
   "outputs": [],
   "source": []
  },
  {
   "cell_type": "code",
   "execution_count": null,
   "metadata": {},
   "outputs": [],
   "source": []
  },
  {
   "cell_type": "code",
   "execution_count": null,
   "metadata": {},
   "outputs": [],
   "source": []
  },
  {
   "cell_type": "code",
   "execution_count": null,
   "metadata": {},
   "outputs": [],
   "source": []
  },
  {
   "cell_type": "code",
   "execution_count": null,
   "metadata": {},
   "outputs": [],
   "source": []
  },
  {
   "cell_type": "code",
   "execution_count": null,
   "metadata": {},
   "outputs": [],
   "source": [
    "\n",
    "\n",
    "\n"
   ]
  },
  {
   "cell_type": "code",
   "execution_count": null,
   "metadata": {},
   "outputs": [],
   "source": []
  },
  {
   "cell_type": "code",
   "execution_count": null,
   "metadata": {},
   "outputs": [],
   "source": []
  },
  {
   "cell_type": "code",
   "execution_count": null,
   "metadata": {},
   "outputs": [],
   "source": []
  },
  {
   "cell_type": "code",
   "execution_count": null,
   "metadata": {},
   "outputs": [],
   "source": []
  },
  {
   "cell_type": "code",
   "execution_count": null,
   "metadata": {},
   "outputs": [],
   "source": []
  },
  {
   "cell_type": "markdown",
   "metadata": {},
   "source": [
    "# predictions"
   ]
  },
  {
   "cell_type": "code",
   "execution_count": null,
   "metadata": {},
   "outputs": [],
   "source": [
    "#train for anomaly detection and make predictions\n",
    "\n",
    "\n",
    "# #compute the mean\n",
    "# mu = train[['bedrooms','1000sqfeet', 'pricek']].mean().values\n",
    "# #mu = np.array(np.mean(train)[['bedrooms','1000sqfeet','pricek']])\n",
    "# xminusmu = np.array(train[['bedrooms','1000sqfeet', 'pricek']]-mu)\n",
    "\n",
    "# #compute covariance matrix\n",
    "# m=xminusmu.shape[0]\n",
    "# Sigi=0;\n",
    "# for i in range(0,m):\n",
    "#     Sigi=Sigi+np.outer(xminusmu[i], (xminusmu[i]).T)\n",
    "# Sig=(1/m)*Sigi\n",
    "# detSig = np.linalg.det(Sig)\n",
    "\n",
    "# Siginv = np.linalg.inv(Sig)\n",
    "# n=len(mu)\n",
    "# def p(x):\n",
    "#     #p takes x in [bedrooms, square feet, dollars]\n",
    "#     y=np.array([x[0],x[1]/1000,x[2]/1000]) #convert to 1000s of sq feet, 1000s of dollars\n",
    "#     exp=np.e**(-.5*np.dot(y-mu,np.dot(Siginv,y-mu)))\n",
    "#     return(exp/( (2*np.pi)**(n/2)*(detSig**(1/2)) ))\n",
    "\n",
    "\n",
    "def multigauss(X,mu,Sig):  #input X is m by n (must be in the form of a 2-d array). inputs (X, mu, Sig) should be in 1000sqfeet, 1000$.\n",
    "        #if mu[1]>X[0,1]*10 or mu[1]<X[0,1]/10:\n",
    "        #    print('Make sure mu and X are in the same units.')\n",
    "        n = X.shape[1];\n",
    "        m = X.shape[0];\n",
    "        Xminusmu = X-mu\n",
    "        pi = np.pi\n",
    "        det = np.linalg.det(Sig)\n",
    "        inv = np.linalg.inv(Sig)\n",
    "        exponent=-.5*np.reshape([np.dot( (X[i,:]-mu),  np.dot(inv,(X[i,:]-mu).T)) for i in range(0,m)],(m,1))\n",
    "        return np.reshape(((2*pi)**(-.5*n))*(det**-.5)*np.exp(exponent),(m,))\n",
    "    \n",
    "    \n",
    "#CHANGE FEATURES HERE \n",
    "featureset = ['bedrooms','pricek'];\n",
    "n = len(featureset)\n",
    "\n",
    "\n",
    "#fit mu, Sig for each neighborhood separately\n",
    "nhmu = np.zeros((len(maxhoods),n))\n",
    "nhSig = np.zeros((len(maxhoods),n,n))\n",
    "for i,nh in enumerate(maxhoods):\n",
    "    if type(nh)==str:\n",
    "        #print(nh)\n",
    "        dfnh = train.loc[train['neighborhood']==nh]\n",
    "        if len(dfnh) is not 0:\n",
    "            Xtrain = np.array(dfnh[featureset])\n",
    "            m = Xtrain.shape[0]\n",
    "            mu = np.mean(Xtrain,0)\n",
    "            Xminusmu=Xtrain-mu\n",
    "            Sig=(1/m)*np.dot(Xminusmu.T,Xminusmu)\n",
    "            nhmu[i] = mu\n",
    "            nhSig[i] = Sig\n",
    "        else:\n",
    "            nhmu[i]=np.nan\n",
    "            nhSig[i]=np.nan\n",
    "    else:\n",
    "        nhmu[i]=np.nan\n",
    "        nhSig[i]=np.nan\n",
    "    \n",
    "\n",
    "    \n",
    "    \n",
    "    \n"
   ]
  },
  {
   "cell_type": "code",
   "execution_count": null,
   "metadata": {},
   "outputs": [],
   "source": []
  },
  {
   "cell_type": "code",
   "execution_count": null,
   "metadata": {},
   "outputs": [],
   "source": []
  },
  {
   "cell_type": "code",
   "execution_count": null,
   "metadata": {},
   "outputs": [],
   "source": [
    "#e.g. mu and sigma for sunnyvale:\n",
    "svmu=nhmu[maxhoods.index('sunnyvale')]\n",
    "svSig=nhSig[maxhoods.index('sunnyvale')]\n",
    "\n",
    "def svp(X):\n",
    "    return multigauss(X,svmu,svSig)\n",
    "\n",
    "svtest = test.loc[test['neighborhood']=='sunnyvale'][:]\n",
    "\n",
    "\n",
    "svXtest=svtest[featureset].values\n",
    "\n",
    "\n",
    "svtest['probability'] = svp(svXtest)\n",
    "svtest[['description']+featureset+['probability']].sort_values(by='probability')\n"
   ]
  },
  {
   "cell_type": "code",
   "execution_count": null,
   "metadata": {},
   "outputs": [],
   "source": [
    "\n",
    "\n"
   ]
  },
  {
   "cell_type": "code",
   "execution_count": null,
   "metadata": {},
   "outputs": [],
   "source": []
  },
  {
   "cell_type": "markdown",
   "metadata": {},
   "source": [
    "## dont' know why this is not normalized how I expect --- come back to this later"
   ]
  },
  {
   "cell_type": "code",
   "execution_count": null,
   "metadata": {},
   "outputs": [],
   "source": [
    "brrange = np.arange(min(dfsv['bedrooms']),max(dfsv['bedrooms']+1))\n",
    "pprange = np.arange(min(dfsv['pricek']),max(dfsv['pricek']+1),.1)\n",
    "\n",
    "plt.hist(dfsv['pricek'])\n",
    "plt.plot(pprange,[len(dfsv['pricek'])*np.sum([multigauss(np.array([[br,pp]]),svmu,svSig) for br in brrange]) for pp in pprange])\n"
   ]
  },
  {
   "cell_type": "code",
   "execution_count": null,
   "metadata": {},
   "outputs": [],
   "source": [
    "#this seems fine:\n",
    "\n",
    "plt.hist(dfsv.loc[dfsv['bedrooms']==1]['pricek'])\n",
    "plt.plot(pprange,[len(dfsv.loc[dfsv['bedrooms']==1])*multigauss(np.array([[1,pp]]),svmu,svSig) for pp in pprange])\n"
   ]
  },
  {
   "cell_type": "code",
   "execution_count": null,
   "metadata": {},
   "outputs": [],
   "source": []
  },
  {
   "cell_type": "code",
   "execution_count": null,
   "metadata": {},
   "outputs": [],
   "source": []
  },
  {
   "cell_type": "code",
   "execution_count": null,
   "metadata": {},
   "outputs": [],
   "source": [
    "dfsv = train.loc[train['neighborhood']=='sunnyvale']\n",
    "\n",
    "pprange = np.arange(0,6,.1);\n",
    "plt.hist(dfsv['price'])\n",
    "plt.plot(1000*pprange,np.array([np.sum([svp(np.array([[br,pp]])) for br in range(1,4)]) for pp in pprange]))\n",
    "plt.xlabel('rent ($)')\n",
    "plt.title('price distribution for all homes in sunnyvale (training set)');\n",
    "\n",
    "\n"
   ]
  },
  {
   "cell_type": "markdown",
   "metadata": {},
   "source": [
    "Expected price given bedrooms and square footage: (want to use this to pick only anomalies where price is lower than expected)"
   ]
  },
  {
   "cell_type": "code",
   "execution_count": null,
   "metadata": {},
   "outputs": [],
   "source": [
    "XY[:,0]"
   ]
  },
  {
   "cell_type": "code",
   "execution_count": null,
   "metadata": {},
   "outputs": [],
   "source": [
    "X = [0,0,0,1,1,1,1,2,3];\n",
    "Y = [0,1,1,0,2,2,2,3,10];\n",
    "\n",
    "XY = np.array([X,Y]).T\n",
    "\n",
    "\n",
    "\n",
    "def gauss(x):\n",
    "    xmu=np.mean(X);\n",
    "    xsig=np.std(X);\n",
    "    return((1/(((2*np.pi)**.5)*xsig))*np.exp(-(x-xmu)**2/(2*xsig**2)))\n",
    "\n",
    "muXY=np.mean(XY,axis=0)\n",
    "\n",
    "\n",
    "\n",
    "m=len(X);\n",
    "SigXY=(1/m)*np.dot((XY-muXY).T,XY-muXY)\n",
    "\n",
    "def multigaussXY(x,y):\n",
    "    return multigauss(np.array([[x,y]]),muXY,SigXY)\n",
    "\n",
    "xrange = np.arange(min(X),max(X)+1);\n",
    "yrange = np.arange(min(Y),max(Y)+1);\n",
    "\n",
    "plt.hist(Y)\n",
    "plt.plot(yrange, [len(XY)*np.sum([multigaussXY(x, y) for x in xrange]) for y in yrange] )"
   ]
  },
  {
   "cell_type": "code",
   "execution_count": null,
   "metadata": {},
   "outputs": [],
   "source": []
  },
  {
   "cell_type": "code",
   "execution_count": null,
   "metadata": {},
   "outputs": [],
   "source": []
  },
  {
   "cell_type": "code",
   "execution_count": null,
   "metadata": {},
   "outputs": [],
   "source": []
  },
  {
   "cell_type": "code",
   "execution_count": null,
   "metadata": {},
   "outputs": [],
   "source": [
    "brrange=list(set(dfsv['bedrooms']));\n",
    "print(brrange)\n",
    ".1*np.sum([np.sum([svp(np.array([[br,pp]])) for br in brrange]) for pp in pprange])"
   ]
  },
  {
   "cell_type": "markdown",
   "metadata": {},
   "source": [
    "(or see below for the quick and dirty method of finding expected price)"
   ]
  },
  {
   "cell_type": "code",
   "execution_count": null,
   "metadata": {},
   "outputs": [],
   "source": [
    "bdrs = 1;\n",
    "ksqfeet = 1;\n",
    "\n",
    "pricerange = np.arange(0,50,.1);\n",
    "probprice=[p(np.array([[bdrs, ksqfeet, kdollars]]), mu, Sig) for kdollars in pricerange]\n",
    "maxid = np.argmax(probprice)\n",
    "\n",
    "\n",
    "pricerange[maxid]*1000"
   ]
  },
  {
   "cell_type": "markdown",
   "metadata": {},
   "source": [
    "Now define function using this to say whether a given price is cheap:"
   ]
  },
  {
   "cell_type": "code",
   "execution_count": null,
   "metadata": {},
   "outputs": [],
   "source": [
    "def isitcheap(X,mu,Sig):\n",
    "    m=X.shape[0]\n",
    "    n=X.shape[1]\n",
    "    \n",
    "    br = X[:,0]\n",
    "    sqft = X[:,1]\n",
    "    price = X[:,2]\n",
    "    \n",
    "    dz = 1;\n",
    "    zmax = 100;\n",
    "    pricerange = np.arange(0,zmax,dz);\n",
    "    \n",
    "    norm = np.zeros(m)\n",
    "    exp_price = np.zeros(m)\n",
    "    \n",
    "    for i in range(0,m):\n",
    "        norm[i] = dz*np.sum([p(np.array([[br[i],sqft[i],z]]),mu,Sig) for z in pricerange]);\n",
    "        exp_price[i] = dz*np.sum([z*p(np.array([[br[i],sqft[i],z]]),mu,Sig) for z in pricerange])/norm[i];\n",
    "    \n",
    "    return price<exp_price\n",
    "#returns \"True\" if price is lower than expected given br and sqft"
   ]
  },
  {
   "cell_type": "code",
   "execution_count": null,
   "metadata": {},
   "outputs": [],
   "source": [
    "#define expected price seprately\n",
    "def exp_price(br,sqft,mu,Sig):\n",
    "    norm = dz*np.sum([p(np.array([[br,sqft,z]]),mu,Sig) for z in pricerange]);\n",
    "    exp_price = dz*np.sum([z*p(np.array([[br,sqft,z]]),mu,Sig) for z in pricerange])/norm;\n",
    "    return exp_price"
   ]
  },
  {
   "cell_type": "code",
   "execution_count": null,
   "metadata": {},
   "outputs": [],
   "source": [
    "exp_price(4,1.15,mu,Sig)*1000"
   ]
  },
  {
   "cell_type": "code",
   "execution_count": null,
   "metadata": {},
   "outputs": [],
   "source": []
  },
  {
   "cell_type": "code",
   "execution_count": null,
   "metadata": {},
   "outputs": [],
   "source": []
  },
  {
   "cell_type": "code",
   "execution_count": null,
   "metadata": {},
   "outputs": [],
   "source": []
  },
  {
   "cell_type": "markdown",
   "metadata": {},
   "source": [
    "### Define probability density for price, given fixed number of bedrooms and square footage."
   ]
  },
  {
   "cell_type": "code",
   "execution_count": null,
   "metadata": {},
   "outputs": [],
   "source": [
    "br = 1;\n",
    "sqft = 1;\n",
    "\n",
    "dz=.1;\n",
    "zmax = 8;\n",
    "    \n",
    "def pz(x0,y0,z):\n",
    "\n",
    "    norm=dz*np.sum([p(np.array([[1,1,z]]),mu,Sig) for z in np.arange(0,zmax,dz)]);\n",
    "    return p(np.array([[x0,y0,z]]),mu,Sig)/norm\n",
    "\n",
    "#plt.plot(pricerange,[pz(1,1,z) for z in pricerange])\n",
    "\n",
    "pricerange=np.arange(0,zmax,dz)\n",
    "pzrange=np.reshape([pz(1,1,z) for z in pricerange],(len(pricerange),));\n",
    "\n",
    "plt.plot(pricerange*1000,pzrange)\n",
    "plt.xlabel('Price ($)')\n",
    "plt.title(f'(Normalized) distribution for price, for {br}-bedroom, {sqft*1000} sq-foot homes')"
   ]
  },
  {
   "cell_type": "code",
   "execution_count": null,
   "metadata": {},
   "outputs": [],
   "source": [
    "start = time.time()\n",
    "dz*np.sum([pz(br,sqft,z)*z for z in pricerange])\n",
    "end = time.time()\n",
    "end-start"
   ]
  },
  {
   "cell_type": "markdown",
   "metadata": {},
   "source": [
    "This can the be used to get expected price given bedrooms and area."
   ]
  },
  {
   "cell_type": "code",
   "execution_count": null,
   "metadata": {},
   "outputs": [],
   "source": [
    "smallp=(p(Xval,mu,Sig)<.05)[:,0]\n",
    "\n",
    "Xvalsmallp=Xval[smallp]\n",
    "\n",
    "val['probability'] = p(Xval,mu,Sig)[:,0]\n",
    "\n",
    "val[ (val['probability']<0.01)][val['pricek']<mu[2] ]\n",
    "\n",
    "#need another filter, for /low/ price given other features.\n",
    "\n"
   ]
  },
  {
   "cell_type": "code",
   "execution_count": null,
   "metadata": {},
   "outputs": [],
   "source": []
  },
  {
   "cell_type": "code",
   "execution_count": null,
   "metadata": {},
   "outputs": [],
   "source": []
  },
  {
   "cell_type": "markdown",
   "metadata": {},
   "source": [
    "## predict"
   ]
  },
  {
   "cell_type": "code",
   "execution_count": null,
   "metadata": {},
   "outputs": [],
   "source": [
    "#first use validation to set epsilon\n",
    "eps = .02\n",
    "\n",
    "def predict(x,mu,Sig): #input x is m by n (must be in the form of a 2-d array)\n",
    "    m = x.shape[0]\n",
    "    prediction=np.ones(m)\n",
    "    prediction[p(x,mu,Sig)>eps] = 0\n",
    "    prediction[isitcheap(x,mu,Sig)==False]=0\n",
    "    return prediction\n",
    "\n",
    "#         if isitcheap(x,mu,Sig)==True:\n",
    "#             return True\n",
    "#         else:\n",
    "#             return False\n",
    "\n",
    "\n",
    "Xtest = np.array(test[['bedrooms','1000sqfeet','pricek']])\n",
    "testpred=predict(Xtest,mu,Sig)\n",
    "testpred = testpred.astype(bool)"
   ]
  },
  {
   "cell_type": "code",
   "execution_count": null,
   "metadata": {},
   "outputs": [],
   "source": [
    "test['probability']= p(Xtest,mu,Sig)"
   ]
  },
  {
   "cell_type": "code",
   "execution_count": null,
   "metadata": {},
   "outputs": [],
   "source": [
    "test[testpred].sort_values(by='probability')[['description','link','bedrooms','sq. feet', 'price', 'probability']]"
   ]
  },
  {
   "cell_type": "code",
   "execution_count": null,
   "metadata": {},
   "outputs": [],
   "source": [
    "x = np.array([[1,0],[1,1],[3,2]]);\n",
    "m=x.shape[0]\n",
    "n = x.shape[1]\n",
    "mu = np.reshape(np.mean(x,0),(1,n))\n",
    "\n",
    "xminusmu = x-mu\n",
    "\n",
    "Sig = (1/m)*np.dot(xminusmu.T,xminusmu) \n",
    "inv = np.linalg.inv(Sig)\n",
    "\n",
    "x0 = x[0,:]\n",
    "\n",
    "#np.exp(-.5*([np.dot( (x[i,:]-mu),  np.dot(inv,(x[i,:]-mu).T)) for i in range(0,m)]))\n",
    "\n",
    "exponent=-.5*np.reshape([np.dot( (x[i,:]-mu),  np.dot(inv,(x[i,:]-mu).T)) for i in range(0,m)],(m,1))\n",
    "np.exp(exponent)"
   ]
  },
  {
   "cell_type": "code",
   "execution_count": null,
   "metadata": {},
   "outputs": [],
   "source": []
  },
  {
   "cell_type": "code",
   "execution_count": null,
   "metadata": {},
   "outputs": [],
   "source": []
  },
  {
   "cell_type": "code",
   "execution_count": null,
   "metadata": {},
   "outputs": [],
   "source": [
    "#time to look for anomalies in the test data\n",
    "\n",
    "test.head()\n",
    "\n",
    "#put the test data into an array of x's:\n",
    "testarray_links= np.array(test['link'])\n",
    "testarray = np.array(test[['bedrooms','sq. feet', 'price']])\n",
    "\n",
    "y=np.zeros(len(testarray))\n",
    "for i,x in enumerate(testarray):\n",
    "    y[i] = predict(x,mu,Sig)\n",
    "    if predict(x)==1:\n",
    "        print(f\"A {x[1]} sq. foot {x[0]}-bedroom home for ${x[2]} is anomalous:\")\n",
    "        display(HTML(\"<a href=\"+testarray_links[i]+\" target='_blank'>see link</a>\"))\n",
    "        \n",
    "#at this stage, i think too many things are being flagged as anomalous, e.g. many-roomed homes, even if not particularly expensive per room."
   ]
  },
  {
   "cell_type": "code",
   "execution_count": null,
   "metadata": {},
   "outputs": [],
   "source": [
    "testnotforsale=test.drop(test[test['price']>50000].index)\n",
    "type(testnotforsale)"
   ]
  },
  {
   "cell_type": "code",
   "execution_count": null,
   "metadata": {},
   "outputs": [],
   "source": [
    "test[y==1].plot('sq. feet', 'price',kind='scatter',color='r')\n",
    "test[y==0].plot('sq. feet', 'price',kind='scatter',color='b')"
   ]
  },
  {
   "cell_type": "code",
   "execution_count": null,
   "metadata": {},
   "outputs": [],
   "source": []
  },
  {
   "cell_type": "code",
   "execution_count": null,
   "metadata": {},
   "outputs": [],
   "source": [
    "\n",
    "\n"
   ]
  },
  {
   "cell_type": "code",
   "execution_count": null,
   "metadata": {},
   "outputs": [],
   "source": [
    "#complex p?"
   ]
  },
  {
   "cell_type": "code",
   "execution_count": null,
   "metadata": {},
   "outputs": [],
   "source": [
    "\n",
    "\n",
    "\n",
    "#fix to 1 bedrooms and look at probability distribution in the two dimensions of square footage and price\n",
    "sqfeetrange = np.arange(0,5000,100);\n",
    "pricerange = np.arange(0,10000,100);\n",
    "X, Y = np.meshgrid( sqfeetrange, pricerange);\n",
    "\n",
    "Z = np.array([[p(np.array([1,x,y]),mu,Sig) for x in sqfeetrange] for y in pricerange])\n",
    "\n",
    "\n",
    "\n",
    "\n",
    "from mpl_toolkits.mplot3d import Axes3D\n",
    "from matplotlib import cm\n",
    "from matplotlib.ticker import LinearLocator, FormatStrFormatter\n",
    "\n",
    "\n",
    "fig = plt.figure()\n",
    "\n",
    "\n",
    "\n",
    "ax = fig.gca(projection='3d')\n",
    "\n",
    "ax.scatter([1000],[4000],p(np.array([1,1000,4000]),mu,Sig),color='k',marker = 'o')\n",
    "\n",
    "surf = ax.plot_surface(X, Y, Z)#, cmap=cm.coolwarm)#,\n",
    "                       #linewidth=0, antialiased=False)\n",
    "ax.set_xlabel('sq. feet')\n",
    "ax.set_ylabel('price')\n",
    "\n"
   ]
  },
  {
   "cell_type": "code",
   "execution_count": null,
   "metadata": {},
   "outputs": [],
   "source": [
    "np.sqrt(detSig)"
   ]
  },
  {
   "cell_type": "code",
   "execution_count": null,
   "metadata": {},
   "outputs": [],
   "source": [
    "#average price per room for 1 br, 2br, 3br\n",
    "#[np.mean(df.loc[df['bedrooms']==i]['price'])/i for i in range(1,6)]"
   ]
  },
  {
   "cell_type": "code",
   "execution_count": null,
   "metadata": {},
   "outputs": [],
   "source": [
    "#df.loc[df['price']>5000]"
   ]
  },
  {
   "cell_type": "code",
   "execution_count": null,
   "metadata": {},
   "outputs": [],
   "source": [
    "# old train and predict\n",
    "\n",
    "#remove rows with missing data\n",
    "# dfclean=df_no_duplicates.dropna()[:]\n",
    "\n",
    "# dfclean['1000sqfeet']=dfclean['sq. feet']/1000  #normalize so all features are order 1 (no area is in 1000s of square feet)\n",
    "# dfclean['pricek']=dfclean['price']/1000 #normalize so all features are order 1 (price is in thousands of dollars)\n",
    "\n",
    "# #compute the mean\n",
    "# mu = np.array(np.mean(dfclean)[['bedrooms','1000sqfeet','pricek']])\n",
    "# xminusmu = np.array(dfclean[['bedrooms','1000sqfeet', 'pricek']]-mu)\n",
    "\n",
    "# #compute covariance matrix\n",
    "# m=xminusmu.shape[0]\n",
    "# Sigi=0;\n",
    "# for i in range(0,m):\n",
    "#     Sigi=Sigi+np.outer(xminusmu[i], (xminusmu[i]).T)\n",
    "# Sig=(1/m)*Sigi\n",
    "# detSig = np.linalg.det(Sig)\n",
    "\n",
    "# Siginv = np.linalg.inv(Sig)\n",
    "# n=len(mu)\n",
    "# def p(x):\n",
    "#     #p takes x in [bedrooms, 1000s of square feet, 1000s of dollars]\n",
    "#     exp=np.e**(-.5*np.dot(x-mu,np.dot(Siginv,x-mu)))\n",
    "#     return(exp/( (2*np.pi)**(n/2)*(detSig**(1/2)) ))\n",
    "    \n",
    "# #set a 1-sigma cut-off?\n",
    "# def predict(x):\n",
    "#     #x = [bedrooms, square feet, price (in dollars)]\n",
    "#     eps = p(mu-[Sig[0,0],(Sig[1,1]),Sig[2,2]  ]);\n",
    "#     y = np.array([x[0], x[1]/1000, x[2]/1000])\n",
    "#     if p(y)>=eps:  #p takes x in [bedrooms, 1000s of square feet, 1000s of dollars]\n",
    "#         print(f\"A {np.round(x[1])} sq. foot {int(x[0])}-bedroom home for ${np.round(x[2],2)} is not anomalous.\")\n",
    "#     else:\n",
    "#         print(f\"A {x[1]} sq. foot {x[0]}-bedroom home for ${x[2]} is anomalous.\")    \n",
    "    "
   ]
  },
  {
   "cell_type": "code",
   "execution_count": null,
   "metadata": {},
   "outputs": [],
   "source": []
  },
  {
   "cell_type": "code",
   "execution_count": null,
   "metadata": {},
   "outputs": [],
   "source": []
  },
  {
   "cell_type": "code",
   "execution_count": null,
   "metadata": {},
   "outputs": [],
   "source": []
  },
  {
   "cell_type": "code",
   "execution_count": null,
   "metadata": {},
   "outputs": [],
   "source": []
  },
  {
   "cell_type": "code",
   "execution_count": null,
   "metadata": {},
   "outputs": [],
   "source": [
    "pricerange = np.arange(0,int(max(dfclean['pricek'])),.1);\n",
    "xs = [[1,.8,price] for price in pricerange]\n",
    "plt.plot([price for price in pricerange], [p(xs[i]) for i in range(0,len(xs))])\n",
    "plt.xlabel('Price (k$)')\n",
    "plt.title('Probability distribution for average bedrooms and area, as a functin of price')\n"
   ]
  },
  {
   "cell_type": "code",
   "execution_count": null,
   "metadata": {},
   "outputs": [],
   "source": []
  },
  {
   "cell_type": "code",
   "execution_count": null,
   "metadata": {},
   "outputs": [],
   "source": [
    "x=np.zeros(3);\n",
    "x[0]=1\n",
    "x[1]=np.mean(dfclean.loc[dfclean['bedrooms']==x[0]]['1000sqfeet'])\n",
    "x[2] = .5\n",
    "x=np.array(x)\n",
    "print(f\"Check probability of feature vector {x}\")\n",
    "print(f\"There's a {np.round(p(x)*100,2)}% chance that a {int(x[0])}-bedroom of average size \\nwould cost ${x[2]*1000}. This is somewhat anomalous.\")"
   ]
  },
  {
   "cell_type": "code",
   "execution_count": null,
   "metadata": {},
   "outputs": [],
   "source": []
  },
  {
   "cell_type": "code",
   "execution_count": null,
   "metadata": {},
   "outputs": [],
   "source": [
    "predict(np.array([3,1000,3500]))"
   ]
  },
  {
   "cell_type": "raw",
   "metadata": {},
   "source": []
  },
  {
   "cell_type": "code",
   "execution_count": null,
   "metadata": {},
   "outputs": [],
   "source": [
    "#now i need to get more data by scraping other pages,\n",
    "# and properly split my data into training/testing (don't think i need CV for anything?)"
   ]
  },
  {
   "cell_type": "code",
   "execution_count": null,
   "metadata": {},
   "outputs": [],
   "source": []
  },
  {
   "cell_type": "code",
   "execution_count": null,
   "metadata": {},
   "outputs": [],
   "source": [
    "re.compile('[a-z ]+').search(resultrow.find(class_=\"result-hood\").text.strip()).group() for resultrow in resultrows\n"
   ]
  },
  {
   "cell_type": "code",
   "execution_count": null,
   "metadata": {},
   "outputs": [],
   "source": [
    "lowerpachts=resultrows[3].find(class_=\"result-hood\").text.strip()\n",
    "\n",
    "re.compile('[a-z ]+').findall(lowerpachts)"
   ]
  },
  {
   "cell_type": "code",
   "execution_count": null,
   "metadata": {},
   "outputs": [],
   "source": [
    "resultrows.find_all(class_=\"result-hood\")"
   ]
  },
  {
   "cell_type": "markdown",
   "metadata": {},
   "source": [
    "# other cleaning considerations"
   ]
  },
  {
   "cell_type": "code",
   "execution_count": null,
   "metadata": {},
   "outputs": [],
   "source": [
    "\n",
    "#plenty list price zero. obviously this is false.\n",
    "df[df['price']==0]\n",
    "\n",
    "#extract the most expensive neighborhoods?\n",
    "\n",
    "nhp=[];\n",
    "for nh in hoods:\n",
    "    nhp.append([nh, np.mean(df[df['neighborhood']==nh]['price'])])\n",
    "    \n",
    "    \n",
    "pd.DataFrame(nhp,columns=['neighborhood','average price']).sort_values(by='average price',ascending=False)\n"
   ]
  },
  {
   "cell_type": "code",
   "execution_count": null,
   "metadata": {},
   "outputs": [],
   "source": []
  }
 ],
 "metadata": {
  "kernelspec": {
   "display_name": "Python 3",
   "language": "python",
   "name": "python3"
  },
  "language_info": {
   "codemirror_mode": {
    "name": "ipython",
    "version": 3
   },
   "file_extension": ".py",
   "mimetype": "text/x-python",
   "name": "python",
   "nbconvert_exporter": "python",
   "pygments_lexer": "ipython3",
   "version": "3.7.0"
  },
  "toc": {
   "base_numbering": 1,
   "nav_menu": {},
   "number_sections": true,
   "sideBar": true,
   "skip_h1_title": false,
   "title_cell": "Table of Contents",
   "title_sidebar": "Contents",
   "toc_cell": false,
   "toc_position": {},
   "toc_section_display": true,
   "toc_window_display": true
  }
 },
 "nbformat": 4,
 "nbformat_minor": 2
}
